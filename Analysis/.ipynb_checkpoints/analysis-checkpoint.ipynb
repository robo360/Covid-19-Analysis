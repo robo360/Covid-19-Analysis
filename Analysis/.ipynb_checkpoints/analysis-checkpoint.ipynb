{
 "cells": [
  {
   "cell_type": "markdown",
   "metadata": {},
   "source": [
    "#### Author : Roberto Berwa, MIT \n",
    "#### Topic : Covid-19 Analysis\n",
    "#### Lang : Julia\n",
    "#### Date : 04/08/2021\n",
    "\n",
    "# I. Setup"
   ]
  },
  {
   "cell_type": "code",
   "execution_count": 1,
   "metadata": {},
   "outputs": [
    {
     "data": {
      "text/html": [
       "<script>\n",
       "// Immediately-invoked-function-expression to avoid global variables.\n",
       "(function() {\n",
       "    var warning_div = document.getElementById(\"webio-warning-15512804835800103455\");\n",
       "    var hide = function () {\n",
       "        var script = document.getElementById(\"webio-setup-8091753133189449126\");\n",
       "        var parent = script && script.parentElement;\n",
       "        var grandparent = parent && parent.parentElement;\n",
       "        if (grandparent) {\n",
       "            grandparent.style.display = \"none\";\n",
       "        }\n",
       "        warning_div.style.display = \"none\";\n",
       "    };\n",
       "    if (typeof Jupyter !== \"undefined\") {\n",
       "        console.log(\"WebIO detected Jupyter notebook environment.\");\n",
       "        // Jupyter notebook.\n",
       "        var extensions = (\n",
       "            Jupyter\n",
       "            && Jupyter.notebook.config.data\n",
       "            && Jupyter.notebook.config.data.load_extensions\n",
       "        );\n",
       "        if (extensions && extensions[\"webio-jupyter-notebook\"]) {\n",
       "            // Extension already loaded.\n",
       "            console.log(\"Jupyter WebIO nbextension detected; not loading ad-hoc.\");\n",
       "            hide();\n",
       "            return;\n",
       "        }\n",
       "    } else if (window.location.pathname.includes(\"/lab\")) {\n",
       "        // Guessing JupyterLa\n",
       "        console.log(\"Jupyter Lab detected; make sure the @webio/jupyter-lab-provider labextension is installed.\");\n",
       "        hide();\n",
       "        return;\n",
       "    }\n",
       "})();\n",
       "\n",
       "</script>\n",
       "<p\n",
       "    id=\"webio-warning-15512804835800103455\"\n",
       "    class=\"output_text output_stderr\"\n",
       "    style=\"padding: 1em; font-weight: bold;\"\n",
       ">\n",
       "    Unable to load WebIO. Please make sure WebIO works for your Jupyter client.\n",
       "    For troubleshooting, please see <a href=\"https://juliagizmos.github.io/WebIO.jl/latest/providers/ijulia/\">\n",
       "    the WebIO/IJulia documentation</a>.\n",
       "    <!-- TODO: link to installation docs. -->\n",
       "</p>\n"
      ],
      "text/plain": [
       "HTML{String}(\"<script>\\n// Immediately-invoked-function-expression to avoid global variables.\\n(function() {\\n    var warning_div = document.getElementById(\\\"webio-warning-15512804835800103455\\\");\\n    var hide = function () {\\n        var script = document.getElementById(\\\"webio-setup-8091753133189449126\\\");\\n        var parent = script && script.parentElement;\\n        var grandparent = parent && parent.parentElement;\\n        if (grandparent) {\\n            grandparent.style.display = \\\"none\\\";\\n        }\\n        warning_div.style.display = \\\"none\\\";\\n    };\\n    if (typeof Jupyter !== \\\"undefined\\\") {\\n        console.log(\\\"WebIO detected Jupyter notebook environment.\\\");\\n        // Jupyter notebook.\\n        var extensions = (\\n            Jupyter\\n            && Jupyter.notebook.config.data\\n            && Jupyter.notebook.config.data.load_extensions\\n        );\\n        if (extensions && extensions[\\\"webio-jupyter-notebook\\\"]) {\\n            // Extension already loaded.\\n            console.log(\\\"Jupyter WebIO nbextension detected; not loading ad-hoc.\\\");\\n            hide();\\n            return;\\n        }\\n    } else if (window.location.pathname.includes(\\\"/lab\\\")) {\\n        // Guessing JupyterLa\\n        console.log(\\\"Jupyter Lab detected; make sure the @webio/jupyter-lab-provider labextension is installed.\\\");\\n        hide();\\n        return;\\n    }\\n})();\\n\\n</script>\\n<p\\n    id=\\\"webio-warning-15512804835800103455\\\"\\n    class=\\\"output_text output_stderr\\\"\\n    style=\\\"padding: 1em; font-weight: bold;\\\"\\n>\\n    Unable to load WebIO. Please make sure WebIO works for your Jupyter client.\\n    For troubleshooting, please see <a href=\\\"https://juliagizmos.github.io/WebIO.jl/latest/providers/ijulia/\\\">\\n    the WebIO/IJulia documentation</a>.\\n    <!-- TODO: link to installation docs. -->\\n</p>\\n\")"
      ]
     },
     "metadata": {},
     "output_type": "display_data"
    }
   ],
   "source": [
    "using Plots\n",
    "using Dates \n",
    "using DataFrames\n",
    "using Interact\n",
    "using CSV"
   ]
  },
  {
   "cell_type": "code",
   "execution_count": 2,
   "metadata": {},
   "outputs": [],
   "source": [
    "url = \"https://raw.githubusercontent.com/CSSEGISandData/COVID-19/master/csse_covid_19_data/csse_covid_19_time_series/time_series_covid19_confirmed_global.csv\";"
   ]
  },
  {
   "cell_type": "code",
   "execution_count": 3,
   "metadata": {},
   "outputs": [
    {
     "data": {
      "text/plain": [
       "\"covid_data.csv\""
      ]
     },
     "execution_count": 3,
     "metadata": {},
     "output_type": "execute_result"
    }
   ],
   "source": [
    "download(url,\"covid_data.csv\")"
   ]
  },
  {
   "cell_type": "code",
   "execution_count": 4,
   "metadata": {},
   "outputs": [],
   "source": [
    "data = CSV.read(\"covid_data.csv\");"
   ]
  },
  {
   "cell_type": "markdown",
   "metadata": {},
   "source": [
    "# II. Data manipulation"
   ]
  },
  {
   "cell_type": "code",
   "execution_count": 5,
   "metadata": {},
   "outputs": [
    {
     "data": {
      "text/html": [
       "<table class=\"data-frame\"><thead><tr><th></th><th>Province</th><th>Country</th><th>Lat</th><th>Long</th><th>1/22/20</th></tr><tr><th></th><th>String⍰</th><th>String</th><th>Float64</th><th>Float64</th><th>Int64</th></tr></thead><tbody><p>263 rows × 83 columns (omitted printing of 78 columns)</p><tr><th>1</th><td>missing</td><td>Afghanistan</td><td>33.0</td><td>65.0</td><td>0</td></tr><tr><th>2</th><td>missing</td><td>Albania</td><td>41.1533</td><td>20.1683</td><td>0</td></tr><tr><th>3</th><td>missing</td><td>Algeria</td><td>28.0339</td><td>1.6596</td><td>0</td></tr><tr><th>4</th><td>missing</td><td>Andorra</td><td>42.5063</td><td>1.5218</td><td>0</td></tr><tr><th>5</th><td>missing</td><td>Angola</td><td>-11.2027</td><td>17.8739</td><td>0</td></tr><tr><th>6</th><td>missing</td><td>Antigua and Barbuda</td><td>17.0608</td><td>-61.7964</td><td>0</td></tr><tr><th>7</th><td>missing</td><td>Argentina</td><td>-38.4161</td><td>-63.6167</td><td>0</td></tr><tr><th>8</th><td>missing</td><td>Armenia</td><td>40.0691</td><td>45.0382</td><td>0</td></tr><tr><th>9</th><td>Australian Capital Territory</td><td>Australia</td><td>-35.4735</td><td>149.012</td><td>0</td></tr><tr><th>10</th><td>New South Wales</td><td>Australia</td><td>-33.8688</td><td>151.209</td><td>0</td></tr><tr><th>11</th><td>Northern Territory</td><td>Australia</td><td>-12.4634</td><td>130.846</td><td>0</td></tr><tr><th>12</th><td>Queensland</td><td>Australia</td><td>-28.0167</td><td>153.4</td><td>0</td></tr><tr><th>13</th><td>South Australia</td><td>Australia</td><td>-34.9285</td><td>138.601</td><td>0</td></tr><tr><th>14</th><td>Tasmania</td><td>Australia</td><td>-41.4545</td><td>145.971</td><td>0</td></tr><tr><th>15</th><td>Victoria</td><td>Australia</td><td>-37.8136</td><td>144.963</td><td>0</td></tr><tr><th>16</th><td>Western Australia</td><td>Australia</td><td>-31.9505</td><td>115.861</td><td>0</td></tr><tr><th>17</th><td>missing</td><td>Austria</td><td>47.5162</td><td>14.5501</td><td>0</td></tr><tr><th>18</th><td>missing</td><td>Azerbaijan</td><td>40.1431</td><td>47.5769</td><td>0</td></tr><tr><th>19</th><td>missing</td><td>Bahamas</td><td>25.0343</td><td>-77.3963</td><td>0</td></tr><tr><th>20</th><td>missing</td><td>Bahrain</td><td>26.0275</td><td>50.55</td><td>0</td></tr><tr><th>21</th><td>missing</td><td>Bangladesh</td><td>23.685</td><td>90.3563</td><td>0</td></tr><tr><th>22</th><td>missing</td><td>Barbados</td><td>13.1939</td><td>-59.5432</td><td>0</td></tr><tr><th>23</th><td>missing</td><td>Belarus</td><td>53.7098</td><td>27.9534</td><td>0</td></tr><tr><th>24</th><td>missing</td><td>Belgium</td><td>50.8333</td><td>4.0</td><td>0</td></tr><tr><th>25</th><td>missing</td><td>Benin</td><td>9.3077</td><td>2.3158</td><td>0</td></tr><tr><th>26</th><td>missing</td><td>Bhutan</td><td>27.5142</td><td>90.4336</td><td>0</td></tr><tr><th>27</th><td>missing</td><td>Bolivia</td><td>-16.2902</td><td>-63.5887</td><td>0</td></tr><tr><th>28</th><td>missing</td><td>Bosnia and Herzegovina</td><td>43.9159</td><td>17.6791</td><td>0</td></tr><tr><th>29</th><td>missing</td><td>Brazil</td><td>-14.235</td><td>-51.9253</td><td>0</td></tr><tr><th>30</th><td>missing</td><td>Brunei</td><td>4.5353</td><td>114.728</td><td>0</td></tr><tr><th>&vellip;</th><td>&vellip;</td><td>&vellip;</td><td>&vellip;</td><td>&vellip;</td><td>&vellip;</td></tr></tbody></table>"
      ],
      "text/latex": [
       "\\begin{tabular}{r|cccccc}\n",
       "\t& Province & Country & Lat & Long & 1/22/20 & \\\\\n",
       "\t\\hline\n",
       "\t& String⍰ & String & Float64 & Float64 & Int64 & \\\\\n",
       "\t\\hline\n",
       "\t1 &  & Afghanistan & 33.0 & 65.0 & 0 & $\\dots$ \\\\\n",
       "\t2 &  & Albania & 41.1533 & 20.1683 & 0 & $\\dots$ \\\\\n",
       "\t3 &  & Algeria & 28.0339 & 1.6596 & 0 & $\\dots$ \\\\\n",
       "\t4 &  & Andorra & 42.5063 & 1.5218 & 0 & $\\dots$ \\\\\n",
       "\t5 &  & Angola & -11.2027 & 17.8739 & 0 & $\\dots$ \\\\\n",
       "\t6 &  & Antigua and Barbuda & 17.0608 & -61.7964 & 0 & $\\dots$ \\\\\n",
       "\t7 &  & Argentina & -38.4161 & -63.6167 & 0 & $\\dots$ \\\\\n",
       "\t8 &  & Armenia & 40.0691 & 45.0382 & 0 & $\\dots$ \\\\\n",
       "\t9 & Australian Capital Territory & Australia & -35.4735 & 149.012 & 0 & $\\dots$ \\\\\n",
       "\t10 & New South Wales & Australia & -33.8688 & 151.209 & 0 & $\\dots$ \\\\\n",
       "\t11 & Northern Territory & Australia & -12.4634 & 130.846 & 0 & $\\dots$ \\\\\n",
       "\t12 & Queensland & Australia & -28.0167 & 153.4 & 0 & $\\dots$ \\\\\n",
       "\t13 & South Australia & Australia & -34.9285 & 138.601 & 0 & $\\dots$ \\\\\n",
       "\t14 & Tasmania & Australia & -41.4545 & 145.971 & 0 & $\\dots$ \\\\\n",
       "\t15 & Victoria & Australia & -37.8136 & 144.963 & 0 & $\\dots$ \\\\\n",
       "\t16 & Western Australia & Australia & -31.9505 & 115.861 & 0 & $\\dots$ \\\\\n",
       "\t17 &  & Austria & 47.5162 & 14.5501 & 0 & $\\dots$ \\\\\n",
       "\t18 &  & Azerbaijan & 40.1431 & 47.5769 & 0 & $\\dots$ \\\\\n",
       "\t19 &  & Bahamas & 25.0343 & -77.3963 & 0 & $\\dots$ \\\\\n",
       "\t20 &  & Bahrain & 26.0275 & 50.55 & 0 & $\\dots$ \\\\\n",
       "\t21 &  & Bangladesh & 23.685 & 90.3563 & 0 & $\\dots$ \\\\\n",
       "\t22 &  & Barbados & 13.1939 & -59.5432 & 0 & $\\dots$ \\\\\n",
       "\t23 &  & Belarus & 53.7098 & 27.9534 & 0 & $\\dots$ \\\\\n",
       "\t24 &  & Belgium & 50.8333 & 4.0 & 0 & $\\dots$ \\\\\n",
       "\t25 &  & Benin & 9.3077 & 2.3158 & 0 & $\\dots$ \\\\\n",
       "\t26 &  & Bhutan & 27.5142 & 90.4336 & 0 & $\\dots$ \\\\\n",
       "\t27 &  & Bolivia & -16.2902 & -63.5887 & 0 & $\\dots$ \\\\\n",
       "\t28 &  & Bosnia and Herzegovina & 43.9159 & 17.6791 & 0 & $\\dots$ \\\\\n",
       "\t29 &  & Brazil & -14.235 & -51.9253 & 0 & $\\dots$ \\\\\n",
       "\t30 &  & Brunei & 4.5353 & 114.728 & 0 & $\\dots$ \\\\\n",
       "\t$\\dots$ & $\\dots$ & $\\dots$ & $\\dots$ & $\\dots$ & $\\dots$ &  \\\\\n",
       "\\end{tabular}\n"
      ],
      "text/plain": [
       "263×83 DataFrame. Omitted printing of 80 columns\n",
       "│ Row │ Province                         │ Country               │ Lat      │\n",
       "│     │ \u001b[90mUnion{Missing, String}\u001b[39m           │ \u001b[90mString\u001b[39m                │ \u001b[90mFloat64\u001b[39m  │\n",
       "├─────┼──────────────────────────────────┼───────────────────────┼──────────┤\n",
       "│ 1   │ \u001b[90mmissing\u001b[39m                          │ Afghanistan           │ 33.0     │\n",
       "│ 2   │ \u001b[90mmissing\u001b[39m                          │ Albania               │ 41.1533  │\n",
       "│ 3   │ \u001b[90mmissing\u001b[39m                          │ Algeria               │ 28.0339  │\n",
       "│ 4   │ \u001b[90mmissing\u001b[39m                          │ Andorra               │ 42.5063  │\n",
       "│ 5   │ \u001b[90mmissing\u001b[39m                          │ Angola                │ -11.2027 │\n",
       "│ 6   │ \u001b[90mmissing\u001b[39m                          │ Antigua and Barbuda   │ 17.0608  │\n",
       "│ 7   │ \u001b[90mmissing\u001b[39m                          │ Argentina             │ -38.4161 │\n",
       "│ 8   │ \u001b[90mmissing\u001b[39m                          │ Armenia               │ 40.0691  │\n",
       "│ 9   │ Australian Capital Territory     │ Australia             │ -35.4735 │\n",
       "│ 10  │ New South Wales                  │ Australia             │ -33.8688 │\n",
       "⋮\n",
       "│ 253 │ \u001b[90mmissing\u001b[39m                          │ MS Zaandam            │ 0.0      │\n",
       "│ 254 │ \u001b[90mmissing\u001b[39m                          │ Botswana              │ -22.3285 │\n",
       "│ 255 │ \u001b[90mmissing\u001b[39m                          │ Burundi               │ -3.3731  │\n",
       "│ 256 │ \u001b[90mmissing\u001b[39m                          │ Sierra Leone          │ 8.46056  │\n",
       "│ 257 │ Bonaire, Sint Eustatius and Saba │ Netherlands           │ 12.1784  │\n",
       "│ 258 │ \u001b[90mmissing\u001b[39m                          │ Malawi                │ -13.2543 │\n",
       "│ 259 │ Falkland Islands (Malvinas)      │ United Kingdom        │ -51.7963 │\n",
       "│ 260 │ Saint Pierre and Miquelon        │ France                │ 46.8852  │\n",
       "│ 261 │ \u001b[90mmissing\u001b[39m                          │ South Sudan           │ 6.877    │\n",
       "│ 262 │ \u001b[90mmissing\u001b[39m                          │ Western Sahara        │ 24.2155  │\n",
       "│ 263 │ \u001b[90mmissing\u001b[39m                          │ Sao Tome and Principe │ 0.18636  │"
      ]
     },
     "execution_count": 5,
     "metadata": {},
     "output_type": "execute_result"
    }
   ],
   "source": [
    "data = rename(data, 1 =>\"Province\", 2 => \"Country\") # Renaming columns"
   ]
  },
  {
   "cell_type": "code",
   "execution_count": 6,
   "metadata": {},
   "outputs": [
    {
     "data": {
      "text/plain": [
       "184-element Array{String,1}:\n",
       " \"Afghanistan\"          \n",
       " \"Albania\"              \n",
       " \"Algeria\"              \n",
       " \"Andorra\"              \n",
       " \"Angola\"               \n",
       " \"Antigua and Barbuda\"  \n",
       " \"Argentina\"            \n",
       " \"Armenia\"              \n",
       " \"Australia\"            \n",
       " \"Austria\"              \n",
       " \"Azerbaijan\"           \n",
       " \"Bahamas\"              \n",
       " \"Bahrain\"              \n",
       " ⋮                      \n",
       " \"Mali\"                 \n",
       " \"Saint Kitts and Nevis\"\n",
       " \"Kosovo\"               \n",
       " \"Burma\"                \n",
       " \"MS Zaandam\"           \n",
       " \"Botswana\"             \n",
       " \"Burundi\"              \n",
       " \"Sierra Leone\"         \n",
       " \"Malawi\"               \n",
       " \"South Sudan\"          \n",
       " \"Western Sahara\"       \n",
       " \"Sao Tome and Principe\""
      ]
     },
     "execution_count": 6,
     "metadata": {},
     "output_type": "execute_result"
    }
   ],
   "source": [
    "all_countries = unique(data[1:end, 2])"
   ]
  },
  {
   "cell_type": "code",
   "execution_count": 7,
   "metadata": {},
   "outputs": [
    {
     "data": {
      "text/plain": [
       "7-element Array{String,1}:\n",
       " \"US\"            \n",
       " \"China\"         \n",
       " \"Japan\"         \n",
       " \"Korea, South\"  \n",
       " \"United Kingdom\"\n",
       " \"France\"        \n",
       " \"Germany\"       "
      ]
     },
     "execution_count": 7,
     "metadata": {},
     "output_type": "execute_result"
    }
   ],
   "source": [
    "countries = [\"US\", \"China\", \"Japan\", \"Korea, South\", \"United Kingdom\", \"France\", \"Germany\"] #country study focus"
   ]
  },
  {
   "cell_type": "code",
   "execution_count": 8,
   "metadata": {},
   "outputs": [
    {
     "data": {
      "text/plain": [
       "79"
      ]
     },
     "execution_count": 8,
     "metadata": {},
     "output_type": "execute_result"
    }
   ],
   "source": [
    "num_days = length(data[1, 5:end])"
   ]
  },
  {
   "cell_type": "code",
   "execution_count": 9,
   "metadata": {},
   "outputs": [],
   "source": [
    "data_country_dict = Dict()\n",
    "for i in 1:length(countries)\n",
    "    d = aggregate(data[data.Country .== countries[i], 5: end], sum)[1,:]\n",
    "    data_country_dict[countries[i]] = convert(Vector, d)\n",
    "end"
   ]
  },
  {
   "cell_type": "markdown",
   "metadata": {},
   "source": [
    "# III. Data Visualization "
   ]
  },
  {
   "cell_type": "markdown",
   "metadata": {},
   "source": [
    "#### Fig 1: Confirmed Cases around the world per day "
   ]
  },
  {
   "cell_type": "code",
   "execution_count": 10,
   "metadata": {},
   "outputs": [
    {
     "data": {
      "application/vnd.webio.node+json": {
       "children": [
        {
         "children": [
          {
           "children": [
            {
             "children": [
              {
               "children": [
                {
                 "children": [
                  ""
                 ],
                 "instanceArgs": {
                  "namespace": "html",
                  "tag": "label"
                 },
                 "nodeType": "DOM",
                 "props": {
                  "className": "interact ",
                  "style": {
                   "padding": "5px 10px 0px 10px"
                  }
                 },
                 "type": "node"
                }
               ],
               "instanceArgs": {
                "namespace": "html",
                "tag": "div"
               },
               "nodeType": "DOM",
               "props": {
                "className": "interact-flex-row-left"
               },
               "type": "node"
              },
              {
               "children": [
                {
                 "children": [],
                 "instanceArgs": {
                  "namespace": "html",
                  "tag": "input"
                 },
                 "nodeType": "DOM",
                 "props": {
                  "attributes": {
                   "data-bind": "numericValue: index, valueUpdate: 'input', event: {change: function (){this.changes(this.changes()+1)}}",
                   "orient": "horizontal",
                   "type": "range"
                  },
                  "className": "slider slider is-fullwidth",
                  "max": 79,
                  "min": 1,
                  "step": 1,
                  "style": {}
                 },
                 "type": "node"
                }
               ],
               "instanceArgs": {
                "namespace": "html",
                "tag": "div"
               },
               "nodeType": "DOM",
               "props": {
                "className": "interact-flex-row-center"
               },
               "type": "node"
              },
              {
               "children": [
                {
                 "children": [],
                 "instanceArgs": {
                  "namespace": "html",
                  "tag": "p"
                 },
                 "nodeType": "DOM",
                 "props": {
                  "attributes": {
                   "data-bind": "text: formatted_val"
                  }
                 },
                 "type": "node"
                }
               ],
               "instanceArgs": {
                "namespace": "html",
                "tag": "div"
               },
               "nodeType": "DOM",
               "props": {
                "className": "interact-flex-row-right"
               },
               "type": "node"
              }
             ],
             "instanceArgs": {
              "namespace": "html",
              "tag": "div"
             },
             "nodeType": "DOM",
             "props": {
              "className": "interact-flex-row interact-widget"
             },
             "type": "node"
            }
           ],
           "instanceArgs": {
            "handlers": {
             "changes": [
              "(function (val){return (val!=this.model[\"changes\"]()) ? (this.valueFromJulia[\"changes\"]=true, this.model[\"changes\"](val)) : undefined})"
             ],
             "index": [
              "(function (val){return (val!=this.model[\"index\"]()) ? (this.valueFromJulia[\"index\"]=true, this.model[\"index\"](val)) : undefined})"
             ]
            },
            "id": "18111164080246979917",
            "imports": {
             "data": [
              {
               "name": "knockout",
               "type": "js",
               "url": "/assetserver/d8946d3abf581e5a833c85994d32d9051d9a2190-knockout.js"
              },
              {
               "name": "knockout_punches",
               "type": "js",
               "url": "/assetserver/f0105926ca82098bf0cc43c9f630d668299c2cd7-knockout_punches.js"
              },
              {
               "name": null,
               "type": "js",
               "url": "/assetserver/704e5d0cf77e2817714de26245cbbd0ed37344f1-all.js"
              },
              {
               "name": null,
               "type": "css",
               "url": "/assetserver/c20438aea7cddd6cb9a01e595cfcda275fddbf2a-style.css"
              },
              {
               "name": null,
               "type": "css",
               "url": "/assetserver/4980a02882c8523aafa0b412f0f004c9f340422a-bulma_confined.min.css"
              }
             ],
             "type": "async_block"
            },
            "mount_callbacks": [
             "function () {\n    var handler = (function (ko, koPunches) {\n    ko.punches.enableAll();\n    ko.bindingHandlers.numericValue = {\n        init: function(element, valueAccessor, allBindings, data, context) {\n            var stringified = ko.observable(ko.unwrap(valueAccessor()));\n            stringified.subscribe(function(value) {\n                var val = parseFloat(value);\n                if (!isNaN(val)) {\n                    valueAccessor()(val);\n                }\n            });\n            valueAccessor().subscribe(function(value) {\n                var str = JSON.stringify(value);\n                if ((str == \"0\") && ([\"-0\", \"-0.\"].indexOf(stringified()) >= 0))\n                     return;\n                 if ([\"null\", \"\"].indexOf(str) >= 0)\n                     return;\n                stringified(str);\n            });\n            ko.applyBindingsToNode(\n                element,\n                {\n                    value: stringified,\n                    valueUpdate: allBindings.get('valueUpdate'),\n                },\n                context,\n            );\n        }\n    };\n    var json_data = {\"formatted_vals\":[\"1\",\"2\",\"3\",\"4\",\"5\",\"6\",\"7\",\"8\",\"9\",\"10\",\"11\",\"12\",\"13\",\"14\",\"15\",\"16\",\"17\",\"18\",\"19\",\"20\",\"21\",\"22\",\"23\",\"24\",\"25\",\"26\",\"27\",\"28\",\"29\",\"30\",\"31\",\"32\",\"33\",\"34\",\"35\",\"36\",\"37\",\"38\",\"39\",\"40\",\"41\",\"42\",\"43\",\"44\",\"45\",\"46\",\"47\",\"48\",\"49\",\"50\",\"51\",\"52\",\"53\",\"54\",\"55\",\"56\",\"57\",\"58\",\"59\",\"60\",\"61\",\"62\",\"63\",\"64\",\"65\",\"66\",\"67\",\"68\",\"69\",\"70\",\"71\",\"72\",\"73\",\"74\",\"75\",\"76\",\"77\",\"78\",\"79\"],\"changes\":WebIO.getval({\"name\":\"changes\",\"scope\":\"18111164080246979917\",\"id\":\"ob_02\",\"type\":\"observable\"}),\"index\":WebIO.getval({\"name\":\"index\",\"scope\":\"18111164080246979917\",\"id\":\"ob_01\",\"type\":\"observable\"})};\n    var self = this;\n    function AppViewModel() {\n        for (var key in json_data) {\n            var el = json_data[key];\n            this[key] = Array.isArray(el) ? ko.observableArray(el) : ko.observable(el);\n        }\n        \n        [this[\"formatted_val\"]=ko.computed(    function(){\n        return this.formatted_vals()[parseInt(this.index())-(1)];\n    }\n,this)]\n        [this[\"changes\"].subscribe((function (val){!(this.valueFromJulia[\"changes\"]) ? (WebIO.setval({\"name\":\"changes\",\"scope\":\"18111164080246979917\",\"id\":\"ob_02\",\"type\":\"observable\"},val)) : undefined; return this.valueFromJulia[\"changes\"]=false}),self),this[\"index\"].subscribe((function (val){!(this.valueFromJulia[\"index\"]) ? (WebIO.setval({\"name\":\"index\",\"scope\":\"18111164080246979917\",\"id\":\"ob_01\",\"type\":\"observable\"},val)) : undefined; return this.valueFromJulia[\"index\"]=false}),self)]\n        \n    }\n    self.model = new AppViewModel();\n    self.valueFromJulia = {};\n    for (var key in json_data) {\n        self.valueFromJulia[key] = false;\n    }\n    ko.applyBindings(self.model, self.dom);\n}\n);\n    (WebIO.importBlock({\"data\":[{\"name\":\"knockout\",\"type\":\"js\",\"url\":\"/assetserver/d8946d3abf581e5a833c85994d32d9051d9a2190-knockout.js\"},{\"name\":\"knockout_punches\",\"type\":\"js\",\"url\":\"/assetserver/f0105926ca82098bf0cc43c9f630d668299c2cd7-knockout_punches.js\"}],\"type\":\"async_block\"})).then((imports) => handler.apply(this, imports));\n}\n"
            ],
            "observables": {
             "changes": {
              "id": "ob_02",
              "sync": false,
              "value": 0
             },
             "index": {
              "id": "ob_01",
              "sync": true,
              "value": 1
             }
            },
            "systemjs_options": null
           },
           "nodeType": "Scope",
           "props": {},
           "type": "node"
          }
         ],
         "instanceArgs": {
          "namespace": "html",
          "tag": "div"
         },
         "nodeType": "DOM",
         "props": {
          "className": "field interact-widget"
         },
         "type": "node"
        },
        {
         "children": [
          {
           "children": [],
           "instanceArgs": {
            "id": "ob_08",
            "name": "obs-node"
           },
           "nodeType": "ObservableNode",
           "props": {},
           "type": "node"
          }
         ],
         "instanceArgs": {
          "handlers": {},
          "id": "4737069511665571747",
          "imports": {
           "data": [],
           "type": "async_block"
          },
          "mount_callbacks": [],
          "observables": {
           "obs-node": {
            "id": "ob_08",
            "sync": false,
            "value": {
             "children": [
              {
               "children": [],
               "instanceArgs": {
                "namespace": "html",
                "tag": "div"
               },
               "nodeType": "DOM",
               "props": {
                "setInnerHtml": "<?xml version=\"1.0\" encoding=\"utf-8\"?>\n<svg xmlns=\"http://www.w3.org/2000/svg\" xmlns:xlink=\"http://www.w3.org/1999/xlink\" width=\"600\" height=\"400\" viewBox=\"0 0 2400 1600\">\n<defs>\n  <clipPath id=\"clip0800\">\n    <rect x=\"0\" y=\"0\" width=\"2400\" height=\"1600\"/>\n  </clipPath>\n</defs>\n<path clip-path=\"url(#clip0800)\" d=\"\nM0 1600 L2400 1600 L2400 0 L0 0  Z\n  \" fill=\"#ffffff\" fill-rule=\"evenodd\" fill-opacity=\"1\"/>\n<defs>\n  <clipPath id=\"clip0801\">\n    <rect x=\"480\" y=\"0\" width=\"1681\" height=\"1600\"/>\n  </clipPath>\n</defs>\n<path clip-path=\"url(#clip0800)\" d=\"\nM323.044 1425.62 L2352.76 1425.62 L2352.76 121.675 L323.044 121.675  Z\n  \" fill=\"#ffffff\" fill-rule=\"evenodd\" fill-opacity=\"1\"/>\n<defs>\n  <clipPath id=\"clip0802\">\n    <rect x=\"323\" y=\"121\" width=\"2031\" height=\"1305\"/>\n  </clipPath>\n</defs>\n<polyline clip-path=\"url(#clip0802)\" style=\"stroke:#000000; stroke-width:2; stroke-opacity:0.1; fill:none\" points=\"\n  323.044,1425.62 323.044,121.675 \n  \"/>\n<polyline clip-path=\"url(#clip0802)\" style=\"stroke:#000000; stroke-width:2; stroke-opacity:0.1; fill:none\" points=\"\n  806.309,1425.62 806.309,121.675 \n  \"/>\n<polyline clip-path=\"url(#clip0802)\" style=\"stroke:#000000; stroke-width:2; stroke-opacity:0.1; fill:none\" points=\"\n  1289.57,1425.62 1289.57,121.675 \n  \"/>\n<polyline clip-path=\"url(#clip0802)\" style=\"stroke:#000000; stroke-width:2; stroke-opacity:0.1; fill:none\" points=\"\n  1772.84,1425.62 1772.84,121.675 \n  \"/>\n<polyline clip-path=\"url(#clip0802)\" style=\"stroke:#000000; stroke-width:2; stroke-opacity:0.1; fill:none\" points=\"\n  2256.1,1425.62 2256.1,121.675 \n  \"/>\n<polyline clip-path=\"url(#clip0802)\" style=\"stroke:#000000; stroke-width:2; stroke-opacity:0.1; fill:none\" points=\"\n  323.044,1425.62 2352.76,1425.62 \n  \"/>\n<polyline clip-path=\"url(#clip0802)\" style=\"stroke:#000000; stroke-width:2; stroke-opacity:0.1; fill:none\" points=\"\n  323.044,1099.63 2352.76,1099.63 \n  \"/>\n<polyline clip-path=\"url(#clip0802)\" style=\"stroke:#000000; stroke-width:2; stroke-opacity:0.1; fill:none\" points=\"\n  323.044,773.647 2352.76,773.647 \n  \"/>\n<polyline clip-path=\"url(#clip0802)\" style=\"stroke:#000000; stroke-width:2; stroke-opacity:0.1; fill:none\" points=\"\n  323.044,447.661 2352.76,447.661 \n  \"/>\n<polyline clip-path=\"url(#clip0802)\" style=\"stroke:#000000; stroke-width:2; stroke-opacity:0.1; fill:none\" points=\"\n  323.044,121.675 2352.76,121.675 \n  \"/>\n<polyline clip-path=\"url(#clip0800)\" style=\"stroke:#000000; stroke-width:4; stroke-opacity:1; fill:none\" points=\"\n  323.044,1425.62 2352.76,1425.62 \n  \"/>\n<polyline clip-path=\"url(#clip0800)\" style=\"stroke:#000000; stroke-width:4; stroke-opacity:1; fill:none\" points=\"\n  323.044,1425.62 323.044,121.675 \n  \"/>\n<polyline clip-path=\"url(#clip0800)\" style=\"stroke:#000000; stroke-width:4; stroke-opacity:1; fill:none\" points=\"\n  323.044,1425.62 323.044,1409.97 \n  \"/>\n<polyline clip-path=\"url(#clip0800)\" style=\"stroke:#000000; stroke-width:4; stroke-opacity:1; fill:none\" points=\"\n  806.309,1425.62 806.309,1409.97 \n  \"/>\n<polyline clip-path=\"url(#clip0800)\" style=\"stroke:#000000; stroke-width:4; stroke-opacity:1; fill:none\" points=\"\n  1289.57,1425.62 1289.57,1409.97 \n  \"/>\n<polyline clip-path=\"url(#clip0800)\" style=\"stroke:#000000; stroke-width:4; stroke-opacity:1; fill:none\" points=\"\n  1772.84,1425.62 1772.84,1409.97 \n  \"/>\n<polyline clip-path=\"url(#clip0800)\" style=\"stroke:#000000; stroke-width:4; stroke-opacity:1; fill:none\" points=\"\n  2256.1,1425.62 2256.1,1409.97 \n  \"/>\n<polyline clip-path=\"url(#clip0800)\" style=\"stroke:#000000; stroke-width:4; stroke-opacity:1; fill:none\" points=\"\n  323.044,1425.62 347.401,1425.62 \n  \"/>\n<polyline clip-path=\"url(#clip0800)\" style=\"stroke:#000000; stroke-width:4; stroke-opacity:1; fill:none\" points=\"\n  323.044,1099.63 347.401,1099.63 \n  \"/>\n<polyline clip-path=\"url(#clip0800)\" style=\"stroke:#000000; stroke-width:4; stroke-opacity:1; fill:none\" points=\"\n  323.044,773.647 347.401,773.647 \n  \"/>\n<polyline clip-path=\"url(#clip0800)\" style=\"stroke:#000000; stroke-width:4; stroke-opacity:1; fill:none\" points=\"\n  323.044,447.661 347.401,447.661 \n  \"/>\n<polyline clip-path=\"url(#clip0800)\" style=\"stroke:#000000; stroke-width:4; stroke-opacity:1; fill:none\" points=\"\n  323.044,121.675 347.401,121.675 \n  \"/>\n<g clip-path=\"url(#clip0800)\">\n<text style=\"fill:#000000; fill-opacity:1; font-family:Arial,Helvetica Neue,Helvetica,sans-serif; font-size:48px; text-anchor:middle;\" transform=\"rotate(0, 323.044, 1479.62)\" x=\"323.044\" y=\"1479.62\">0</text>\n</g>\n<g clip-path=\"url(#clip0800)\">\n<text style=\"fill:#000000; fill-opacity:1; font-family:Arial,Helvetica Neue,Helvetica,sans-serif; font-size:48px; text-anchor:middle;\" transform=\"rotate(0, 806.309, 1479.62)\" x=\"806.309\" y=\"1479.62\">20</text>\n</g>\n<g clip-path=\"url(#clip0800)\">\n<text style=\"fill:#000000; fill-opacity:1; font-family:Arial,Helvetica Neue,Helvetica,sans-serif; font-size:48px; text-anchor:middle;\" transform=\"rotate(0, 1289.57, 1479.62)\" x=\"1289.57\" y=\"1479.62\">40</text>\n</g>\n<g clip-path=\"url(#clip0800)\">\n<text style=\"fill:#000000; fill-opacity:1; font-family:Arial,Helvetica Neue,Helvetica,sans-serif; font-size:48px; text-anchor:middle;\" transform=\"rotate(0, 1772.84, 1479.62)\" x=\"1772.84\" y=\"1479.62\">60</text>\n</g>\n<g clip-path=\"url(#clip0800)\">\n<text style=\"fill:#000000; fill-opacity:1; font-family:Arial,Helvetica Neue,Helvetica,sans-serif; font-size:48px; text-anchor:middle;\" transform=\"rotate(0, 2256.1, 1479.62)\" x=\"2256.1\" y=\"1479.62\">80</text>\n</g>\n<g clip-path=\"url(#clip0800)\">\n<text style=\"fill:#000000; fill-opacity:1; font-family:Arial,Helvetica Neue,Helvetica,sans-serif; font-size:48px; text-anchor:end;\" transform=\"rotate(0, 299.044, 1443.12)\" x=\"299.044\" y=\"1443.12\">0</text>\n</g>\n<g clip-path=\"url(#clip0800)\">\n<text style=\"fill:#000000; fill-opacity:1; font-family:Arial,Helvetica Neue,Helvetica,sans-serif; font-size:48px; text-anchor:start;\" transform=\"rotate(0, 168.903, 1123.36)\" x=\"168.903\" y=\"1123.36\">1×10</text>\n</g>\n<g clip-path=\"url(#clip0800)\">\n<text style=\"fill:#000000; fill-opacity:1; font-family:Arial,Helvetica Neue,Helvetica,sans-serif; font-size:38px; text-anchor:start;\" transform=\"rotate(0, 277.3, 1095.95)\" x=\"277.3\" y=\"1095.95\">5</text>\n</g>\n<g clip-path=\"url(#clip0800)\">\n<text style=\"fill:#000000; fill-opacity:1; font-family:Arial,Helvetica Neue,Helvetica,sans-serif; font-size:48px; text-anchor:start;\" transform=\"rotate(0, 168.903, 797.374)\" x=\"168.903\" y=\"797.374\">2×10</text>\n</g>\n<g clip-path=\"url(#clip0800)\">\n<text style=\"fill:#000000; fill-opacity:1; font-family:Arial,Helvetica Neue,Helvetica,sans-serif; font-size:38px; text-anchor:start;\" transform=\"rotate(0, 277.3, 769.964)\" x=\"277.3\" y=\"769.964\">5</text>\n</g>\n<g clip-path=\"url(#clip0800)\">\n<text style=\"fill:#000000; fill-opacity:1; font-family:Arial,Helvetica Neue,Helvetica,sans-serif; font-size:48px; text-anchor:start;\" transform=\"rotate(0, 168.903, 471.389)\" x=\"168.903\" y=\"471.389\">3×10</text>\n</g>\n<g clip-path=\"url(#clip0800)\">\n<text style=\"fill:#000000; fill-opacity:1; font-family:Arial,Helvetica Neue,Helvetica,sans-serif; font-size:38px; text-anchor:start;\" transform=\"rotate(0, 277.3, 443.978)\" x=\"277.3\" y=\"443.978\">5</text>\n</g>\n<g clip-path=\"url(#clip0800)\">\n<text style=\"fill:#000000; fill-opacity:1; font-family:Arial,Helvetica Neue,Helvetica,sans-serif; font-size:48px; text-anchor:start;\" transform=\"rotate(0, 168.903, 145.403)\" x=\"168.903\" y=\"145.403\">4×10</text>\n</g>\n<g clip-path=\"url(#clip0800)\">\n<text style=\"fill:#000000; fill-opacity:1; font-family:Arial,Helvetica Neue,Helvetica,sans-serif; font-size:38px; text-anchor:start;\" transform=\"rotate(0, 277.3, 117.992)\" x=\"277.3\" y=\"117.992\">5</text>\n</g>\n<g clip-path=\"url(#clip0800)\">\n<text style=\"fill:#000000; fill-opacity:1; font-family:Arial,Helvetica Neue,Helvetica,sans-serif; font-size:84px; text-anchor:middle;\" transform=\"rotate(0, 1337.9, 73.2)\" x=\"1337.9\" y=\"73.2\">Confirmed Cases around the world</text>\n</g>\n<g clip-path=\"url(#clip0800)\">\n<text style=\"fill:#000000; fill-opacity:1; font-family:Arial,Helvetica Neue,Helvetica,sans-serif; font-size:66px; text-anchor:middle;\" transform=\"rotate(0, 1337.9, 1559.48)\" x=\"1337.9\" y=\"1559.48\">days</text>\n</g>\n<g clip-path=\"url(#clip0800)\">\n<text style=\"fill:#000000; fill-opacity:1; font-family:Arial,Helvetica Neue,Helvetica,sans-serif; font-size:66px; text-anchor:middle;\" transform=\"rotate(-90, 89.2861, 773.647)\" x=\"89.2861\" y=\"773.647\">Confirmed Cases</text>\n</g>\n<path clip-path=\"url(#clip0802)\" d=\"M347.207 1441.62 L335.895 1436.93 L331.207 1425.62 L335.895 1414.31 L347.207 1409.62 L358.519 1414.31 L363.207 1425.62 L358.519 1436.93 Z\" fill=\"#009af9\" fill-rule=\"evenodd\" fill-opacity=\"1\" stroke=\"#000000\" stroke-opacity=\"1\" stroke-width=\"3.2\"/>\n<path clip-path=\"url(#clip0802)\" d=\"M347.207 1441.62 L335.895 1436.93 L331.207 1425.62 L335.895 1414.31 L347.207 1409.62 L358.519 1414.31 L363.207 1425.62 L358.519 1436.93 Z\" fill=\"#e26f46\" fill-rule=\"evenodd\" fill-opacity=\"1\" stroke=\"#000000\" stroke-opacity=\"1\" stroke-width=\"3.2\"/>\n<path clip-path=\"url(#clip0802)\" d=\"M347.207 1439.83 L335.895 1435.14 L331.207 1423.83 L335.895 1412.52 L347.207 1407.83 L358.519 1412.52 L363.207 1423.83 L358.519 1435.14 Z\" fill=\"#3da44d\" fill-rule=\"evenodd\" fill-opacity=\"1\" stroke=\"#000000\" stroke-opacity=\"1\" stroke-width=\"3.2\"/>\n<path clip-path=\"url(#clip0802)\" d=\"M347.207 1441.62 L335.895 1436.93 L331.207 1425.62 L335.895 1414.3 L347.207 1409.62 L358.519 1414.3 L363.207 1425.62 L358.519 1436.93 Z\" fill=\"#c271d2\" fill-rule=\"evenodd\" fill-opacity=\"1\" stroke=\"#000000\" stroke-opacity=\"1\" stroke-width=\"3.2\"/>\n<path clip-path=\"url(#clip0802)\" d=\"M347.207 1441.61 L335.895 1436.92 L331.207 1425.61 L335.895 1414.3 L347.207 1409.61 L358.519 1414.3 L363.207 1425.61 L358.519 1436.92 Z\" fill=\"#ac8d18\" fill-rule=\"evenodd\" fill-opacity=\"1\" stroke=\"#000000\" stroke-opacity=\"1\" stroke-width=\"3.2\"/>\n<path clip-path=\"url(#clip0802)\" d=\"M347.207 1441.62 L335.895 1436.93 L331.207 1425.62 L335.895 1414.31 L347.207 1409.62 L358.519 1414.31 L363.207 1425.62 L358.519 1436.93 Z\" fill=\"#00a9ad\" fill-rule=\"evenodd\" fill-opacity=\"1\" stroke=\"#000000\" stroke-opacity=\"1\" stroke-width=\"3.2\"/>\n<path clip-path=\"url(#clip0802)\" d=\"M347.207 1441.62 L335.895 1436.93 L331.207 1425.62 L335.895 1414.3 L347.207 1409.62 L358.519 1414.3 L363.207 1425.62 L358.519 1436.93 Z\" fill=\"#ed5d92\" fill-rule=\"evenodd\" fill-opacity=\"1\" stroke=\"#000000\" stroke-opacity=\"1\" stroke-width=\"3.2\"/>\n<path clip-path=\"url(#clip0800)\" d=\"\nM395.044 689.035 L977.467 689.035 L977.467 205.195 L395.044 205.195  Z\n  \" fill=\"#ffffff\" fill-rule=\"evenodd\" fill-opacity=\"1\"/>\n<polyline clip-path=\"url(#clip0800)\" style=\"stroke:#000000; stroke-width:4; stroke-opacity:1; fill:none\" points=\"\n  395.044,689.035 977.467,689.035 977.467,205.195 395.044,205.195 395.044,689.035 \n  \"/>\n<polyline clip-path=\"url(#clip0800)\" style=\"stroke:#009af9; stroke-width:4; stroke-opacity:1; fill:none\" points=\"\n  419.044,265.675 563.044,265.675 \n  \"/>\n<path clip-path=\"url(#clip0800)\" d=\"M503.044 289.675 L486.076 282.643 L479.044 265.675 L486.076 248.707 L503.044 241.675 L520.012 248.707 L527.044 265.675 L520.012 282.643 Z\" fill=\"#009af9\" fill-rule=\"evenodd\" fill-opacity=\"1\" stroke=\"#000000\" stroke-opacity=\"1\" stroke-width=\"3.2\"/>\n<g clip-path=\"url(#clip0800)\">\n<text style=\"fill:#000000; fill-opacity:1; font-family:Arial,Helvetica Neue,Helvetica,sans-serif; font-size:48px; text-anchor:start;\" transform=\"rotate(0, 587.044, 283.175)\" x=\"587.044\" y=\"283.175\">Germany</text>\n</g>\n<polyline clip-path=\"url(#clip0800)\" style=\"stroke:#e26f46; stroke-width:4; stroke-opacity:1; fill:none\" points=\"\n  419.044,326.155 563.044,326.155 \n  \"/>\n<path clip-path=\"url(#clip0800)\" d=\"M503.044 350.155 L486.076 343.123 L479.044 326.155 L486.076 309.187 L503.044 302.155 L520.012 309.187 L527.044 326.155 L520.012 343.123 Z\" fill=\"#e26f46\" fill-rule=\"evenodd\" fill-opacity=\"1\" stroke=\"#000000\" stroke-opacity=\"1\" stroke-width=\"3.2\"/>\n<g clip-path=\"url(#clip0800)\">\n<text style=\"fill:#000000; fill-opacity:1; font-family:Arial,Helvetica Neue,Helvetica,sans-serif; font-size:48px; text-anchor:start;\" transform=\"rotate(0, 587.044, 343.655)\" x=\"587.044\" y=\"343.655\">United Kingdom</text>\n</g>\n<polyline clip-path=\"url(#clip0800)\" style=\"stroke:#3da44d; stroke-width:4; stroke-opacity:1; fill:none\" points=\"\n  419.044,386.635 563.044,386.635 \n  \"/>\n<path clip-path=\"url(#clip0800)\" d=\"M503.044 410.635 L486.076 403.603 L479.044 386.635 L486.076 369.667 L503.044 362.635 L520.012 369.667 L527.044 386.635 L520.012 403.603 Z\" fill=\"#3da44d\" fill-rule=\"evenodd\" fill-opacity=\"1\" stroke=\"#000000\" stroke-opacity=\"1\" stroke-width=\"3.2\"/>\n<g clip-path=\"url(#clip0800)\">\n<text style=\"fill:#000000; fill-opacity:1; font-family:Arial,Helvetica Neue,Helvetica,sans-serif; font-size:48px; text-anchor:start;\" transform=\"rotate(0, 587.044, 404.135)\" x=\"587.044\" y=\"404.135\">China</text>\n</g>\n<polyline clip-path=\"url(#clip0800)\" style=\"stroke:#c271d2; stroke-width:4; stroke-opacity:1; fill:none\" points=\"\n  419.044,447.115 563.044,447.115 \n  \"/>\n<path clip-path=\"url(#clip0800)\" d=\"M503.044 471.115 L486.076 464.083 L479.044 447.115 L486.076 430.147 L503.044 423.115 L520.012 430.147 L527.044 447.115 L520.012 464.083 Z\" fill=\"#c271d2\" fill-rule=\"evenodd\" fill-opacity=\"1\" stroke=\"#000000\" stroke-opacity=\"1\" stroke-width=\"3.2\"/>\n<g clip-path=\"url(#clip0800)\">\n<text style=\"fill:#000000; fill-opacity:1; font-family:Arial,Helvetica Neue,Helvetica,sans-serif; font-size:48px; text-anchor:start;\" transform=\"rotate(0, 587.044, 464.615)\" x=\"587.044\" y=\"464.615\">Korea, South</text>\n</g>\n<polyline clip-path=\"url(#clip0800)\" style=\"stroke:#ac8d18; stroke-width:4; stroke-opacity:1; fill:none\" points=\"\n  419.044,507.595 563.044,507.595 \n  \"/>\n<path clip-path=\"url(#clip0800)\" d=\"M503.044 531.595 L486.076 524.563 L479.044 507.595 L486.076 490.627 L503.044 483.595 L520.012 490.627 L527.044 507.595 L520.012 524.563 Z\" fill=\"#ac8d18\" fill-rule=\"evenodd\" fill-opacity=\"1\" stroke=\"#000000\" stroke-opacity=\"1\" stroke-width=\"3.2\"/>\n<g clip-path=\"url(#clip0800)\">\n<text style=\"fill:#000000; fill-opacity:1; font-family:Arial,Helvetica Neue,Helvetica,sans-serif; font-size:48px; text-anchor:start;\" transform=\"rotate(0, 587.044, 525.095)\" x=\"587.044\" y=\"525.095\">Japan</text>\n</g>\n<polyline clip-path=\"url(#clip0800)\" style=\"stroke:#00a9ad; stroke-width:4; stroke-opacity:1; fill:none\" points=\"\n  419.044,568.075 563.044,568.075 \n  \"/>\n<path clip-path=\"url(#clip0800)\" d=\"M503.044 592.075 L486.076 585.043 L479.044 568.075 L486.076 551.107 L503.044 544.075 L520.012 551.107 L527.044 568.075 L520.012 585.043 Z\" fill=\"#00a9ad\" fill-rule=\"evenodd\" fill-opacity=\"1\" stroke=\"#000000\" stroke-opacity=\"1\" stroke-width=\"3.2\"/>\n<g clip-path=\"url(#clip0800)\">\n<text style=\"fill:#000000; fill-opacity:1; font-family:Arial,Helvetica Neue,Helvetica,sans-serif; font-size:48px; text-anchor:start;\" transform=\"rotate(0, 587.044, 585.575)\" x=\"587.044\" y=\"585.575\">France</text>\n</g>\n<polyline clip-path=\"url(#clip0800)\" style=\"stroke:#ed5d92; stroke-width:4; stroke-opacity:1; fill:none\" points=\"\n  419.044,628.555 563.044,628.555 \n  \"/>\n<path clip-path=\"url(#clip0800)\" d=\"M503.044 652.555 L486.076 645.523 L479.044 628.555 L486.076 611.587 L503.044 604.555 L520.012 611.587 L527.044 628.555 L520.012 645.523 Z\" fill=\"#ed5d92\" fill-rule=\"evenodd\" fill-opacity=\"1\" stroke=\"#000000\" stroke-opacity=\"1\" stroke-width=\"3.2\"/>\n<g clip-path=\"url(#clip0800)\">\n<text style=\"fill:#000000; fill-opacity:1; font-family:Arial,Helvetica Neue,Helvetica,sans-serif; font-size:48px; text-anchor:start;\" transform=\"rotate(0, 587.044, 646.055)\" x=\"587.044\" y=\"646.055\">US</text>\n</g>\n</svg>\n"
               },
               "type": "node"
              }
             ],
             "instanceArgs": {
              "namespace": "html",
              "tag": "div"
             },
             "nodeType": "DOM",
             "props": {
              "className": "interact-flex-row interact-widget"
             },
             "type": "node"
            }
           }
          },
          "systemjs_options": null
         },
         "nodeType": "Scope",
         "props": {},
         "type": "node"
        }
       ],
       "instanceArgs": {
        "namespace": "html",
        "tag": "div"
       },
       "nodeType": "DOM",
       "props": {},
       "type": "node"
      },
      "text/html": [
       "<div\n",
       "    class=\"webio-mountpoint\"\n",
       "    data-webio-mountpoint=\"12913398597194751403\"\n",
       ">\n",
       "    <script>\n",
       "    if (window.require && require.defined && require.defined(\"nbextensions/webio-jupyter-notebook\")) {\n",
       "        console.log(\"Jupyter WebIO extension detected, not mounting.\");\n",
       "    } else if (window.WebIO) {\n",
       "        WebIO.mount(\n",
       "            document.querySelector('[data-webio-mountpoint=\"12913398597194751403\"]'),\n",
       "            {\"props\":{},\"nodeType\":\"DOM\",\"type\":\"node\",\"instanceArgs\":{\"namespace\":\"html\",\"tag\":\"div\"},\"children\":[{\"props\":{\"className\":\"field interact-widget\"},\"nodeType\":\"DOM\",\"type\":\"node\",\"instanceArgs\":{\"namespace\":\"html\",\"tag\":\"div\"},\"children\":[{\"props\":{},\"nodeType\":\"Scope\",\"type\":\"node\",\"instanceArgs\":{\"imports\":{\"data\":[{\"name\":\"knockout\",\"type\":\"js\",\"url\":\"\\/assetserver\\/d8946d3abf581e5a833c85994d32d9051d9a2190-knockout.js\"},{\"name\":\"knockout_punches\",\"type\":\"js\",\"url\":\"\\/assetserver\\/f0105926ca82098bf0cc43c9f630d668299c2cd7-knockout_punches.js\"},{\"name\":null,\"type\":\"js\",\"url\":\"\\/assetserver\\/704e5d0cf77e2817714de26245cbbd0ed37344f1-all.js\"},{\"name\":null,\"type\":\"css\",\"url\":\"\\/assetserver\\/c20438aea7cddd6cb9a01e595cfcda275fddbf2a-style.css\"},{\"name\":null,\"type\":\"css\",\"url\":\"\\/assetserver\\/4980a02882c8523aafa0b412f0f004c9f340422a-bulma_confined.min.css\"}],\"type\":\"async_block\"},\"id\":\"18111164080246979917\",\"handlers\":{\"changes\":[\"(function (val){return (val!=this.model[\\\"changes\\\"]()) ? (this.valueFromJulia[\\\"changes\\\"]=true, this.model[\\\"changes\\\"](val)) : undefined})\"],\"index\":[\"(function (val){return (val!=this.model[\\\"index\\\"]()) ? (this.valueFromJulia[\\\"index\\\"]=true, this.model[\\\"index\\\"](val)) : undefined})\"]},\"systemjs_options\":null,\"mount_callbacks\":[\"function () {\\n    var handler = (function (ko, koPunches) {\\n    ko.punches.enableAll();\\n    ko.bindingHandlers.numericValue = {\\n        init: function(element, valueAccessor, allBindings, data, context) {\\n            var stringified = ko.observable(ko.unwrap(valueAccessor()));\\n            stringified.subscribe(function(value) {\\n                var val = parseFloat(value);\\n                if (!isNaN(val)) {\\n                    valueAccessor()(val);\\n                }\\n            });\\n            valueAccessor().subscribe(function(value) {\\n                var str = JSON.stringify(value);\\n                if ((str == \\\"0\\\") && ([\\\"-0\\\", \\\"-0.\\\"].indexOf(stringified()) >= 0))\\n                     return;\\n                 if ([\\\"null\\\", \\\"\\\"].indexOf(str) >= 0)\\n                     return;\\n                stringified(str);\\n            });\\n            ko.applyBindingsToNode(\\n                element,\\n                {\\n                    value: stringified,\\n                    valueUpdate: allBindings.get('valueUpdate'),\\n                },\\n                context,\\n            );\\n        }\\n    };\\n    var json_data = {\\\"formatted_vals\\\":[\\\"1\\\",\\\"2\\\",\\\"3\\\",\\\"4\\\",\\\"5\\\",\\\"6\\\",\\\"7\\\",\\\"8\\\",\\\"9\\\",\\\"10\\\",\\\"11\\\",\\\"12\\\",\\\"13\\\",\\\"14\\\",\\\"15\\\",\\\"16\\\",\\\"17\\\",\\\"18\\\",\\\"19\\\",\\\"20\\\",\\\"21\\\",\\\"22\\\",\\\"23\\\",\\\"24\\\",\\\"25\\\",\\\"26\\\",\\\"27\\\",\\\"28\\\",\\\"29\\\",\\\"30\\\",\\\"31\\\",\\\"32\\\",\\\"33\\\",\\\"34\\\",\\\"35\\\",\\\"36\\\",\\\"37\\\",\\\"38\\\",\\\"39\\\",\\\"40\\\",\\\"41\\\",\\\"42\\\",\\\"43\\\",\\\"44\\\",\\\"45\\\",\\\"46\\\",\\\"47\\\",\\\"48\\\",\\\"49\\\",\\\"50\\\",\\\"51\\\",\\\"52\\\",\\\"53\\\",\\\"54\\\",\\\"55\\\",\\\"56\\\",\\\"57\\\",\\\"58\\\",\\\"59\\\",\\\"60\\\",\\\"61\\\",\\\"62\\\",\\\"63\\\",\\\"64\\\",\\\"65\\\",\\\"66\\\",\\\"67\\\",\\\"68\\\",\\\"69\\\",\\\"70\\\",\\\"71\\\",\\\"72\\\",\\\"73\\\",\\\"74\\\",\\\"75\\\",\\\"76\\\",\\\"77\\\",\\\"78\\\",\\\"79\\\"],\\\"changes\\\":WebIO.getval({\\\"name\\\":\\\"changes\\\",\\\"scope\\\":\\\"18111164080246979917\\\",\\\"id\\\":\\\"ob_02\\\",\\\"type\\\":\\\"observable\\\"}),\\\"index\\\":WebIO.getval({\\\"name\\\":\\\"index\\\",\\\"scope\\\":\\\"18111164080246979917\\\",\\\"id\\\":\\\"ob_01\\\",\\\"type\\\":\\\"observable\\\"})};\\n    var self = this;\\n    function AppViewModel() {\\n        for (var key in json_data) {\\n            var el = json_data[key];\\n            this[key] = Array.isArray(el) ? ko.observableArray(el) : ko.observable(el);\\n        }\\n        \\n        [this[\\\"formatted_val\\\"]=ko.computed(    function(){\\n        return this.formatted_vals()[parseInt(this.index())-(1)];\\n    }\\n,this)]\\n        [this[\\\"changes\\\"].subscribe((function (val){!(this.valueFromJulia[\\\"changes\\\"]) ? (WebIO.setval({\\\"name\\\":\\\"changes\\\",\\\"scope\\\":\\\"18111164080246979917\\\",\\\"id\\\":\\\"ob_02\\\",\\\"type\\\":\\\"observable\\\"},val)) : undefined; return this.valueFromJulia[\\\"changes\\\"]=false}),self),this[\\\"index\\\"].subscribe((function (val){!(this.valueFromJulia[\\\"index\\\"]) ? (WebIO.setval({\\\"name\\\":\\\"index\\\",\\\"scope\\\":\\\"18111164080246979917\\\",\\\"id\\\":\\\"ob_01\\\",\\\"type\\\":\\\"observable\\\"},val)) : undefined; return this.valueFromJulia[\\\"index\\\"]=false}),self)]\\n        \\n    }\\n    self.model = new AppViewModel();\\n    self.valueFromJulia = {};\\n    for (var key in json_data) {\\n        self.valueFromJulia[key] = false;\\n    }\\n    ko.applyBindings(self.model, self.dom);\\n}\\n);\\n    (WebIO.importBlock({\\\"data\\\":[{\\\"name\\\":\\\"knockout\\\",\\\"type\\\":\\\"js\\\",\\\"url\\\":\\\"\\/assetserver\\/d8946d3abf581e5a833c85994d32d9051d9a2190-knockout.js\\\"},{\\\"name\\\":\\\"knockout_punches\\\",\\\"type\\\":\\\"js\\\",\\\"url\\\":\\\"\\/assetserver\\/f0105926ca82098bf0cc43c9f630d668299c2cd7-knockout_punches.js\\\"}],\\\"type\\\":\\\"async_block\\\"})).then((imports) => handler.apply(this, imports));\\n}\\n\"],\"observables\":{\"changes\":{\"sync\":false,\"id\":\"ob_02\",\"value\":0},\"index\":{\"sync\":true,\"id\":\"ob_01\",\"value\":1}}},\"children\":[{\"props\":{\"className\":\"interact-flex-row interact-widget\"},\"nodeType\":\"DOM\",\"type\":\"node\",\"instanceArgs\":{\"namespace\":\"html\",\"tag\":\"div\"},\"children\":[{\"props\":{\"className\":\"interact-flex-row-left\"},\"nodeType\":\"DOM\",\"type\":\"node\",\"instanceArgs\":{\"namespace\":\"html\",\"tag\":\"div\"},\"children\":[{\"props\":{\"className\":\"interact \",\"style\":{\"padding\":\"5px 10px 0px 10px\"}},\"nodeType\":\"DOM\",\"type\":\"node\",\"instanceArgs\":{\"namespace\":\"html\",\"tag\":\"label\"},\"children\":[\"\"]}]},{\"props\":{\"className\":\"interact-flex-row-center\"},\"nodeType\":\"DOM\",\"type\":\"node\",\"instanceArgs\":{\"namespace\":\"html\",\"tag\":\"div\"},\"children\":[{\"props\":{\"max\":79,\"min\":1,\"attributes\":{\"type\":\"range\",\"data-bind\":\"numericValue: index, valueUpdate: 'input', event: {change: function (){this.changes(this.changes()+1)}}\",\"orient\":\"horizontal\"},\"step\":1,\"className\":\"slider slider is-fullwidth\",\"style\":{}},\"nodeType\":\"DOM\",\"type\":\"node\",\"instanceArgs\":{\"namespace\":\"html\",\"tag\":\"input\"},\"children\":[]}]},{\"props\":{\"className\":\"interact-flex-row-right\"},\"nodeType\":\"DOM\",\"type\":\"node\",\"instanceArgs\":{\"namespace\":\"html\",\"tag\":\"div\"},\"children\":[{\"props\":{\"attributes\":{\"data-bind\":\"text: formatted_val\"}},\"nodeType\":\"DOM\",\"type\":\"node\",\"instanceArgs\":{\"namespace\":\"html\",\"tag\":\"p\"},\"children\":[]}]}]}]}]},{\"props\":{},\"nodeType\":\"Scope\",\"type\":\"node\",\"instanceArgs\":{\"imports\":{\"data\":[],\"type\":\"async_block\"},\"id\":\"17823267532428456488\",\"handlers\":{},\"systemjs_options\":null,\"mount_callbacks\":[],\"observables\":{\"obs-node\":{\"sync\":false,\"id\":\"ob_06\",\"value\":{\"props\":{\"className\":\"interact-flex-row interact-widget\"},\"nodeType\":\"DOM\",\"type\":\"node\",\"instanceArgs\":{\"namespace\":\"html\",\"tag\":\"div\"},\"children\":[{\"props\":{\"setInnerHtml\":\"<?xml version=\\\"1.0\\\" encoding=\\\"utf-8\\\"?>\\n<svg xmlns=\\\"http:\\/\\/www.w3.org\\/2000\\/svg\\\" xmlns:xlink=\\\"http:\\/\\/www.w3.org\\/1999\\/xlink\\\" width=\\\"600\\\" height=\\\"400\\\" viewBox=\\\"0 0 2400 1600\\\">\\n<defs>\\n  <clipPath id=\\\"clip0400\\\">\\n    <rect x=\\\"0\\\" y=\\\"0\\\" width=\\\"2400\\\" height=\\\"1600\\\"\\/>\\n  <\\/clipPath>\\n<\\/defs>\\n<path clip-path=\\\"url(#clip0400)\\\" d=\\\"\\nM0 1600 L2400 1600 L2400 0 L0 0  Z\\n  \\\" fill=\\\"#ffffff\\\" fill-rule=\\\"evenodd\\\" fill-opacity=\\\"1\\\"\\/>\\n<defs>\\n  <clipPath id=\\\"clip0401\\\">\\n    <rect x=\\\"480\\\" y=\\\"0\\\" width=\\\"1681\\\" height=\\\"1600\\\"\\/>\\n  <\\/clipPath>\\n<\\/defs>\\n<path clip-path=\\\"url(#clip0400)\\\" d=\\\"\\nM323.044 1425.62 L2352.76 1425.62 L2352.76 121.675 L323.044 121.675  Z\\n  \\\" fill=\\\"#ffffff\\\" fill-rule=\\\"evenodd\\\" fill-opacity=\\\"1\\\"\\/>\\n<defs>\\n  <clipPath id=\\\"clip0402\\\">\\n    <rect x=\\\"323\\\" y=\\\"121\\\" width=\\\"2031\\\" height=\\\"1305\\\"\\/>\\n  <\\/clipPath>\\n<\\/defs>\\n<polyline clip-path=\\\"url(#clip0402)\\\" style=\\\"stroke:#000000; stroke-width:2; stroke-opacity:0.1; fill:none\\\" points=\\\"\\n  323.044,1425.62 323.044,121.675 \\n  \\\"\\/>\\n<polyline clip-path=\\\"url(#clip0402)\\\" style=\\\"stroke:#000000; stroke-width:2; stroke-opacity:0.1; fill:none\\\" points=\\\"\\n  806.309,1425.62 806.309,121.675 \\n  \\\"\\/>\\n<polyline clip-path=\\\"url(#clip0402)\\\" style=\\\"stroke:#000000; stroke-width:2; stroke-opacity:0.1; fill:none\\\" points=\\\"\\n  1289.57,1425.62 1289.57,121.675 \\n  \\\"\\/>\\n<polyline clip-path=\\\"url(#clip0402)\\\" style=\\\"stroke:#000000; stroke-width:2; stroke-opacity:0.1; fill:none\\\" points=\\\"\\n  1772.84,1425.62 1772.84,121.675 \\n  \\\"\\/>\\n<polyline clip-path=\\\"url(#clip0402)\\\" style=\\\"stroke:#000000; stroke-width:2; stroke-opacity:0.1; fill:none\\\" points=\\\"\\n  2256.1,1425.62 2256.1,121.675 \\n  \\\"\\/>\\n<polyline clip-path=\\\"url(#clip0402)\\\" style=\\\"stroke:#000000; stroke-width:2; stroke-opacity:0.1; fill:none\\\" points=\\\"\\n  323.044,1425.62 2352.76,1425.62 \\n  \\\"\\/>\\n<polyline clip-path=\\\"url(#clip0402)\\\" style=\\\"stroke:#000000; stroke-width:2; stroke-opacity:0.1; fill:none\\\" points=\\\"\\n  323.044,1099.63 2352.76,1099.63 \\n  \\\"\\/>\\n<polyline clip-path=\\\"url(#clip0402)\\\" style=\\\"stroke:#000000; stroke-width:2; stroke-opacity:0.1; fill:none\\\" points=\\\"\\n  323.044,773.647 2352.76,773.647 \\n  \\\"\\/>\\n<polyline clip-path=\\\"url(#clip0402)\\\" style=\\\"stroke:#000000; stroke-width:2; stroke-opacity:0.1; fill:none\\\" points=\\\"\\n  323.044,447.661 2352.76,447.661 \\n  \\\"\\/>\\n<polyline clip-path=\\\"url(#clip0402)\\\" style=\\\"stroke:#000000; stroke-width:2; stroke-opacity:0.1; fill:none\\\" points=\\\"\\n  323.044,121.675 2352.76,121.675 \\n  \\\"\\/>\\n<polyline clip-path=\\\"url(#clip0400)\\\" style=\\\"stroke:#000000; stroke-width:4; stroke-opacity:1; fill:none\\\" points=\\\"\\n  323.044,1425.62 2352.76,1425.62 \\n  \\\"\\/>\\n<polyline clip-path=\\\"url(#clip0400)\\\" style=\\\"stroke:#000000; stroke-width:4; stroke-opacity:1; fill:none\\\" points=\\\"\\n  323.044,1425.62 323.044,121.675 \\n  \\\"\\/>\\n<polyline clip-path=\\\"url(#clip0400)\\\" style=\\\"stroke:#000000; stroke-width:4; stroke-opacity:1; fill:none\\\" points=\\\"\\n  323.044,1425.62 323.044,1409.97 \\n  \\\"\\/>\\n<polyline clip-path=\\\"url(#clip0400)\\\" style=\\\"stroke:#000000; stroke-width:4; stroke-opacity:1; fill:none\\\" points=\\\"\\n  806.309,1425.62 806.309,1409.97 \\n  \\\"\\/>\\n<polyline clip-path=\\\"url(#clip0400)\\\" style=\\\"stroke:#000000; stroke-width:4; stroke-opacity:1; fill:none\\\" points=\\\"\\n  1289.57,1425.62 1289.57,1409.97 \\n  \\\"\\/>\\n<polyline clip-path=\\\"url(#clip0400)\\\" style=\\\"stroke:#000000; stroke-width:4; stroke-opacity:1; fill:none\\\" points=\\\"\\n  1772.84,1425.62 1772.84,1409.97 \\n  \\\"\\/>\\n<polyline clip-path=\\\"url(#clip0400)\\\" style=\\\"stroke:#000000; stroke-width:4; stroke-opacity:1; fill:none\\\" points=\\\"\\n  2256.1,1425.62 2256.1,1409.97 \\n  \\\"\\/>\\n<polyline clip-path=\\\"url(#clip0400)\\\" style=\\\"stroke:#000000; stroke-width:4; stroke-opacity:1; fill:none\\\" points=\\\"\\n  323.044,1425.62 347.401,1425.62 \\n  \\\"\\/>\\n<polyline clip-path=\\\"url(#clip0400)\\\" style=\\\"stroke:#000000; stroke-width:4; stroke-opacity:1; fill:none\\\" points=\\\"\\n  323.044,1099.63 347.401,1099.63 \\n  \\\"\\/>\\n<polyline clip-path=\\\"url(#clip0400)\\\" style=\\\"stroke:#000000; stroke-width:4; stroke-opacity:1; fill:none\\\" points=\\\"\\n  323.044,773.647 347.401,773.647 \\n  \\\"\\/>\\n<polyline clip-path=\\\"url(#clip0400)\\\" style=\\\"stroke:#000000; stroke-width:4; stroke-opacity:1; fill:none\\\" points=\\\"\\n  323.044,447.661 347.401,447.661 \\n  \\\"\\/>\\n<polyline clip-path=\\\"url(#clip0400)\\\" style=\\\"stroke:#000000; stroke-width:4; stroke-opacity:1; fill:none\\\" points=\\\"\\n  323.044,121.675 347.401,121.675 \\n  \\\"\\/>\\n<g clip-path=\\\"url(#clip0400)\\\">\\n<text style=\\\"fill:#000000; fill-opacity:1; font-family:Arial,Helvetica Neue,Helvetica,sans-serif; font-size:48px; text-anchor:middle;\\\" transform=\\\"rotate(0, 323.044, 1479.62)\\\" x=\\\"323.044\\\" y=\\\"1479.62\\\">0<\\/text>\\n<\\/g>\\n<g clip-path=\\\"url(#clip0400)\\\">\\n<text style=\\\"fill:#000000; fill-opacity:1; font-family:Arial,Helvetica Neue,Helvetica,sans-serif; font-size:48px; text-anchor:middle;\\\" transform=\\\"rotate(0, 806.309, 1479.62)\\\" x=\\\"806.309\\\" y=\\\"1479.62\\\">20<\\/text>\\n<\\/g>\\n<g clip-path=\\\"url(#clip0400)\\\">\\n<text style=\\\"fill:#000000; fill-opacity:1; font-family:Arial,Helvetica Neue,Helvetica,sans-serif; font-size:48px; text-anchor:middle;\\\" transform=\\\"rotate(0, 1289.57, 1479.62)\\\" x=\\\"1289.57\\\" y=\\\"1479.62\\\">40<\\/text>\\n<\\/g>\\n<g clip-path=\\\"url(#clip0400)\\\">\\n<text style=\\\"fill:#000000; fill-opacity:1; font-family:Arial,Helvetica Neue,Helvetica,sans-serif; font-size:48px; text-anchor:middle;\\\" transform=\\\"rotate(0, 1772.84, 1479.62)\\\" x=\\\"1772.84\\\" y=\\\"1479.62\\\">60<\\/text>\\n<\\/g>\\n<g clip-path=\\\"url(#clip0400)\\\">\\n<text style=\\\"fill:#000000; fill-opacity:1; font-family:Arial,Helvetica Neue,Helvetica,sans-serif; font-size:48px; text-anchor:middle;\\\" transform=\\\"rotate(0, 2256.1, 1479.62)\\\" x=\\\"2256.1\\\" y=\\\"1479.62\\\">80<\\/text>\\n<\\/g>\\n<g clip-path=\\\"url(#clip0400)\\\">\\n<text style=\\\"fill:#000000; fill-opacity:1; font-family:Arial,Helvetica Neue,Helvetica,sans-serif; font-size:48px; text-anchor:end;\\\" transform=\\\"rotate(0, 299.044, 1443.12)\\\" x=\\\"299.044\\\" y=\\\"1443.12\\\">0<\\/text>\\n<\\/g>\\n<g clip-path=\\\"url(#clip0400)\\\">\\n<text style=\\\"fill:#000000; fill-opacity:1; font-family:Arial,Helvetica Neue,Helvetica,sans-serif; font-size:48px; text-anchor:start;\\\" transform=\\\"rotate(0, 168.903, 1123.36)\\\" x=\\\"168.903\\\" y=\\\"1123.36\\\">1×10<\\/text>\\n<\\/g>\\n<g clip-path=\\\"url(#clip0400)\\\">\\n<text style=\\\"fill:#000000; fill-opacity:1; font-family:Arial,Helvetica Neue,Helvetica,sans-serif; font-size:38px; text-anchor:start;\\\" transform=\\\"rotate(0, 277.3, 1095.95)\\\" x=\\\"277.3\\\" y=\\\"1095.95\\\">5<\\/text>\\n<\\/g>\\n<g clip-path=\\\"url(#clip0400)\\\">\\n<text style=\\\"fill:#000000; fill-opacity:1; font-family:Arial,Helvetica Neue,Helvetica,sans-serif; font-size:48px; text-anchor:start;\\\" transform=\\\"rotate(0, 168.903, 797.374)\\\" x=\\\"168.903\\\" y=\\\"797.374\\\">2×10<\\/text>\\n<\\/g>\\n<g clip-path=\\\"url(#clip0400)\\\">\\n<text style=\\\"fill:#000000; fill-opacity:1; font-family:Arial,Helvetica Neue,Helvetica,sans-serif; font-size:38px; text-anchor:start;\\\" transform=\\\"rotate(0, 277.3, 769.964)\\\" x=\\\"277.3\\\" y=\\\"769.964\\\">5<\\/text>\\n<\\/g>\\n<g clip-path=\\\"url(#clip0400)\\\">\\n<text style=\\\"fill:#000000; fill-opacity:1; font-family:Arial,Helvetica Neue,Helvetica,sans-serif; font-size:48px; text-anchor:start;\\\" transform=\\\"rotate(0, 168.903, 471.389)\\\" x=\\\"168.903\\\" y=\\\"471.389\\\">3×10<\\/text>\\n<\\/g>\\n<g clip-path=\\\"url(#clip0400)\\\">\\n<text style=\\\"fill:#000000; fill-opacity:1; font-family:Arial,Helvetica Neue,Helvetica,sans-serif; font-size:38px; text-anchor:start;\\\" transform=\\\"rotate(0, 277.3, 443.978)\\\" x=\\\"277.3\\\" y=\\\"443.978\\\">5<\\/text>\\n<\\/g>\\n<g clip-path=\\\"url(#clip0400)\\\">\\n<text style=\\\"fill:#000000; fill-opacity:1; font-family:Arial,Helvetica Neue,Helvetica,sans-serif; font-size:48px; text-anchor:start;\\\" transform=\\\"rotate(0, 168.903, 145.403)\\\" x=\\\"168.903\\\" y=\\\"145.403\\\">4×10<\\/text>\\n<\\/g>\\n<g clip-path=\\\"url(#clip0400)\\\">\\n<text style=\\\"fill:#000000; fill-opacity:1; font-family:Arial,Helvetica Neue,Helvetica,sans-serif; font-size:38px; text-anchor:start;\\\" transform=\\\"rotate(0, 277.3, 117.992)\\\" x=\\\"277.3\\\" y=\\\"117.992\\\">5<\\/text>\\n<\\/g>\\n<g clip-path=\\\"url(#clip0400)\\\">\\n<text style=\\\"fill:#000000; fill-opacity:1; font-family:Arial,Helvetica Neue,Helvetica,sans-serif; font-size:84px; text-anchor:middle;\\\" transform=\\\"rotate(0, 1337.9, 73.2)\\\" x=\\\"1337.9\\\" y=\\\"73.2\\\">Confirmed Cases around the world<\\/text>\\n<\\/g>\\n<g clip-path=\\\"url(#clip0400)\\\">\\n<text style=\\\"fill:#000000; fill-opacity:1; font-family:Arial,Helvetica Neue,Helvetica,sans-serif; font-size:66px; text-anchor:middle;\\\" transform=\\\"rotate(0, 1337.9, 1559.48)\\\" x=\\\"1337.9\\\" y=\\\"1559.48\\\">days<\\/text>\\n<\\/g>\\n<g clip-path=\\\"url(#clip0400)\\\">\\n<text style=\\\"fill:#000000; fill-opacity:1; font-family:Arial,Helvetica Neue,Helvetica,sans-serif; font-size:66px; text-anchor:middle;\\\" transform=\\\"rotate(-90, 89.2861, 773.647)\\\" x=\\\"89.2861\\\" y=\\\"773.647\\\">Confirmed Cases<\\/text>\\n<\\/g>\\n<path clip-path=\\\"url(#clip0402)\\\" d=\\\"M347.207 1441.62 L335.895 1436.93 L331.207 1425.62 L335.895 1414.31 L347.207 1409.62 L358.519 1414.31 L363.207 1425.62 L358.519 1436.93 Z\\\" fill=\\\"#009af9\\\" fill-rule=\\\"evenodd\\\" fill-opacity=\\\"1\\\" stroke=\\\"#000000\\\" stroke-opacity=\\\"1\\\" stroke-width=\\\"3.2\\\"\\/>\\n<path clip-path=\\\"url(#clip0402)\\\" d=\\\"M347.207 1441.62 L335.895 1436.93 L331.207 1425.62 L335.895 1414.31 L347.207 1409.62 L358.519 1414.31 L363.207 1425.62 L358.519 1436.93 Z\\\" fill=\\\"#e26f46\\\" fill-rule=\\\"evenodd\\\" fill-opacity=\\\"1\\\" stroke=\\\"#000000\\\" stroke-opacity=\\\"1\\\" stroke-width=\\\"3.2\\\"\\/>\\n<path clip-path=\\\"url(#clip0402)\\\" d=\\\"M347.207 1439.83 L335.895 1435.14 L331.207 1423.83 L335.895 1412.52 L347.207 1407.83 L358.519 1412.52 L363.207 1423.83 L358.519 1435.14 Z\\\" fill=\\\"#3da44d\\\" fill-rule=\\\"evenodd\\\" fill-opacity=\\\"1\\\" stroke=\\\"#000000\\\" stroke-opacity=\\\"1\\\" stroke-width=\\\"3.2\\\"\\/>\\n<path clip-path=\\\"url(#clip0402)\\\" d=\\\"M347.207 1441.62 L335.895 1436.93 L331.207 1425.62 L335.895 1414.3 L347.207 1409.62 L358.519 1414.3 L363.207 1425.62 L358.519 1436.93 Z\\\" fill=\\\"#c271d2\\\" fill-rule=\\\"evenodd\\\" fill-opacity=\\\"1\\\" stroke=\\\"#000000\\\" stroke-opacity=\\\"1\\\" stroke-width=\\\"3.2\\\"\\/>\\n<path clip-path=\\\"url(#clip0402)\\\" d=\\\"M347.207 1441.61 L335.895 1436.92 L331.207 1425.61 L335.895 1414.3 L347.207 1409.61 L358.519 1414.3 L363.207 1425.61 L358.519 1436.92 Z\\\" fill=\\\"#ac8d18\\\" fill-rule=\\\"evenodd\\\" fill-opacity=\\\"1\\\" stroke=\\\"#000000\\\" stroke-opacity=\\\"1\\\" stroke-width=\\\"3.2\\\"\\/>\\n<path clip-path=\\\"url(#clip0402)\\\" d=\\\"M347.207 1441.62 L335.895 1436.93 L331.207 1425.62 L335.895 1414.31 L347.207 1409.62 L358.519 1414.31 L363.207 1425.62 L358.519 1436.93 Z\\\" fill=\\\"#00a9ad\\\" fill-rule=\\\"evenodd\\\" fill-opacity=\\\"1\\\" stroke=\\\"#000000\\\" stroke-opacity=\\\"1\\\" stroke-width=\\\"3.2\\\"\\/>\\n<path clip-path=\\\"url(#clip0402)\\\" d=\\\"M347.207 1441.62 L335.895 1436.93 L331.207 1425.62 L335.895 1414.3 L347.207 1409.62 L358.519 1414.3 L363.207 1425.62 L358.519 1436.93 Z\\\" fill=\\\"#ed5d92\\\" fill-rule=\\\"evenodd\\\" fill-opacity=\\\"1\\\" stroke=\\\"#000000\\\" stroke-opacity=\\\"1\\\" stroke-width=\\\"3.2\\\"\\/>\\n<path clip-path=\\\"url(#clip0400)\\\" d=\\\"\\nM395.044 689.035 L977.467 689.035 L977.467 205.195 L395.044 205.195  Z\\n  \\\" fill=\\\"#ffffff\\\" fill-rule=\\\"evenodd\\\" fill-opacity=\\\"1\\\"\\/>\\n<polyline clip-path=\\\"url(#clip0400)\\\" style=\\\"stroke:#000000; stroke-width:4; stroke-opacity:1; fill:none\\\" points=\\\"\\n  395.044,689.035 977.467,689.035 977.467,205.195 395.044,205.195 395.044,689.035 \\n  \\\"\\/>\\n<polyline clip-path=\\\"url(#clip0400)\\\" style=\\\"stroke:#009af9; stroke-width:4; stroke-opacity:1; fill:none\\\" points=\\\"\\n  419.044,265.675 563.044,265.675 \\n  \\\"\\/>\\n<path clip-path=\\\"url(#clip0400)\\\" d=\\\"M503.044 289.675 L486.076 282.643 L479.044 265.675 L486.076 248.707 L503.044 241.675 L520.012 248.707 L527.044 265.675 L520.012 282.643 Z\\\" fill=\\\"#009af9\\\" fill-rule=\\\"evenodd\\\" fill-opacity=\\\"1\\\" stroke=\\\"#000000\\\" stroke-opacity=\\\"1\\\" stroke-width=\\\"3.2\\\"\\/>\\n<g clip-path=\\\"url(#clip0400)\\\">\\n<text style=\\\"fill:#000000; fill-opacity:1; font-family:Arial,Helvetica Neue,Helvetica,sans-serif; font-size:48px; text-anchor:start;\\\" transform=\\\"rotate(0, 587.044, 283.175)\\\" x=\\\"587.044\\\" y=\\\"283.175\\\">Germany<\\/text>\\n<\\/g>\\n<polyline clip-path=\\\"url(#clip0400)\\\" style=\\\"stroke:#e26f46; stroke-width:4; stroke-opacity:1; fill:none\\\" points=\\\"\\n  419.044,326.155 563.044,326.155 \\n  \\\"\\/>\\n<path clip-path=\\\"url(#clip0400)\\\" d=\\\"M503.044 350.155 L486.076 343.123 L479.044 326.155 L486.076 309.187 L503.044 302.155 L520.012 309.187 L527.044 326.155 L520.012 343.123 Z\\\" fill=\\\"#e26f46\\\" fill-rule=\\\"evenodd\\\" fill-opacity=\\\"1\\\" stroke=\\\"#000000\\\" stroke-opacity=\\\"1\\\" stroke-width=\\\"3.2\\\"\\/>\\n<g clip-path=\\\"url(#clip0400)\\\">\\n<text style=\\\"fill:#000000; fill-opacity:1; font-family:Arial,Helvetica Neue,Helvetica,sans-serif; font-size:48px; text-anchor:start;\\\" transform=\\\"rotate(0, 587.044, 343.655)\\\" x=\\\"587.044\\\" y=\\\"343.655\\\">United Kingdom<\\/text>\\n<\\/g>\\n<polyline clip-path=\\\"url(#clip0400)\\\" style=\\\"stroke:#3da44d; stroke-width:4; stroke-opacity:1; fill:none\\\" points=\\\"\\n  419.044,386.635 563.044,386.635 \\n  \\\"\\/>\\n<path clip-path=\\\"url(#clip0400)\\\" d=\\\"M503.044 410.635 L486.076 403.603 L479.044 386.635 L486.076 369.667 L503.044 362.635 L520.012 369.667 L527.044 386.635 L520.012 403.603 Z\\\" fill=\\\"#3da44d\\\" fill-rule=\\\"evenodd\\\" fill-opacity=\\\"1\\\" stroke=\\\"#000000\\\" stroke-opacity=\\\"1\\\" stroke-width=\\\"3.2\\\"\\/>\\n<g clip-path=\\\"url(#clip0400)\\\">\\n<text style=\\\"fill:#000000; fill-opacity:1; font-family:Arial,Helvetica Neue,Helvetica,sans-serif; font-size:48px; text-anchor:start;\\\" transform=\\\"rotate(0, 587.044, 404.135)\\\" x=\\\"587.044\\\" y=\\\"404.135\\\">China<\\/text>\\n<\\/g>\\n<polyline clip-path=\\\"url(#clip0400)\\\" style=\\\"stroke:#c271d2; stroke-width:4; stroke-opacity:1; fill:none\\\" points=\\\"\\n  419.044,447.115 563.044,447.115 \\n  \\\"\\/>\\n<path clip-path=\\\"url(#clip0400)\\\" d=\\\"M503.044 471.115 L486.076 464.083 L479.044 447.115 L486.076 430.147 L503.044 423.115 L520.012 430.147 L527.044 447.115 L520.012 464.083 Z\\\" fill=\\\"#c271d2\\\" fill-rule=\\\"evenodd\\\" fill-opacity=\\\"1\\\" stroke=\\\"#000000\\\" stroke-opacity=\\\"1\\\" stroke-width=\\\"3.2\\\"\\/>\\n<g clip-path=\\\"url(#clip0400)\\\">\\n<text style=\\\"fill:#000000; fill-opacity:1; font-family:Arial,Helvetica Neue,Helvetica,sans-serif; font-size:48px; text-anchor:start;\\\" transform=\\\"rotate(0, 587.044, 464.615)\\\" x=\\\"587.044\\\" y=\\\"464.615\\\">Korea, South<\\/text>\\n<\\/g>\\n<polyline clip-path=\\\"url(#clip0400)\\\" style=\\\"stroke:#ac8d18; stroke-width:4; stroke-opacity:1; fill:none\\\" points=\\\"\\n  419.044,507.595 563.044,507.595 \\n  \\\"\\/>\\n<path clip-path=\\\"url(#clip0400)\\\" d=\\\"M503.044 531.595 L486.076 524.563 L479.044 507.595 L486.076 490.627 L503.044 483.595 L520.012 490.627 L527.044 507.595 L520.012 524.563 Z\\\" fill=\\\"#ac8d18\\\" fill-rule=\\\"evenodd\\\" fill-opacity=\\\"1\\\" stroke=\\\"#000000\\\" stroke-opacity=\\\"1\\\" stroke-width=\\\"3.2\\\"\\/>\\n<g clip-path=\\\"url(#clip0400)\\\">\\n<text style=\\\"fill:#000000; fill-opacity:1; font-family:Arial,Helvetica Neue,Helvetica,sans-serif; font-size:48px; text-anchor:start;\\\" transform=\\\"rotate(0, 587.044, 525.095)\\\" x=\\\"587.044\\\" y=\\\"525.095\\\">Japan<\\/text>\\n<\\/g>\\n<polyline clip-path=\\\"url(#clip0400)\\\" style=\\\"stroke:#00a9ad; stroke-width:4; stroke-opacity:1; fill:none\\\" points=\\\"\\n  419.044,568.075 563.044,568.075 \\n  \\\"\\/>\\n<path clip-path=\\\"url(#clip0400)\\\" d=\\\"M503.044 592.075 L486.076 585.043 L479.044 568.075 L486.076 551.107 L503.044 544.075 L520.012 551.107 L527.044 568.075 L520.012 585.043 Z\\\" fill=\\\"#00a9ad\\\" fill-rule=\\\"evenodd\\\" fill-opacity=\\\"1\\\" stroke=\\\"#000000\\\" stroke-opacity=\\\"1\\\" stroke-width=\\\"3.2\\\"\\/>\\n<g clip-path=\\\"url(#clip0400)\\\">\\n<text style=\\\"fill:#000000; fill-opacity:1; font-family:Arial,Helvetica Neue,Helvetica,sans-serif; font-size:48px; text-anchor:start;\\\" transform=\\\"rotate(0, 587.044, 585.575)\\\" x=\\\"587.044\\\" y=\\\"585.575\\\">France<\\/text>\\n<\\/g>\\n<polyline clip-path=\\\"url(#clip0400)\\\" style=\\\"stroke:#ed5d92; stroke-width:4; stroke-opacity:1; fill:none\\\" points=\\\"\\n  419.044,628.555 563.044,628.555 \\n  \\\"\\/>\\n<path clip-path=\\\"url(#clip0400)\\\" d=\\\"M503.044 652.555 L486.076 645.523 L479.044 628.555 L486.076 611.587 L503.044 604.555 L520.012 611.587 L527.044 628.555 L520.012 645.523 Z\\\" fill=\\\"#ed5d92\\\" fill-rule=\\\"evenodd\\\" fill-opacity=\\\"1\\\" stroke=\\\"#000000\\\" stroke-opacity=\\\"1\\\" stroke-width=\\\"3.2\\\"\\/>\\n<g clip-path=\\\"url(#clip0400)\\\">\\n<text style=\\\"fill:#000000; fill-opacity:1; font-family:Arial,Helvetica Neue,Helvetica,sans-serif; font-size:48px; text-anchor:start;\\\" transform=\\\"rotate(0, 587.044, 646.055)\\\" x=\\\"587.044\\\" y=\\\"646.055\\\">US<\\/text>\\n<\\/g>\\n<\\/svg>\\n\"},\"nodeType\":\"DOM\",\"type\":\"node\",\"instanceArgs\":{\"namespace\":\"html\",\"tag\":\"div\"},\"children\":[]}]}}}},\"children\":[{\"props\":{},\"nodeType\":\"ObservableNode\",\"type\":\"node\",\"instanceArgs\":{\"id\":\"ob_06\",\"name\":\"obs-node\"},\"children\":[]}]}]},\n",
       "            window,\n",
       "        );\n",
       "    } else {\n",
       "        document\n",
       "            .querySelector('[data-webio-mountpoint=\"12913398597194751403\"]')\n",
       "            .innerHTML = (\n",
       "                '<div style=\"padding: 1em; background-color: #f8d6da; border: 1px solid #f5c6cb\">' +\n",
       "                '<p><strong>WebIO not detected.</strong></p>' +\n",
       "                '<p>Please read ' +\n",
       "                '<a href=\"https://juliagizmos.github.io/WebIO.jl/latest/troubleshooting/not-detected/\" target=\"_blank\">the troubleshooting guide</a> ' +\n",
       "                'for more information on how to resolve this issue.</p>' +\n",
       "                '<p><a href=\"https://juliagizmos.github.io/WebIO.jl/latest/troubleshooting/not-detected/\" target=\"_blank\">https://juliagizmos.github.io/WebIO.jl/latest/troubleshooting/not-detected/</a></p>' +\n",
       "                '</div>'\n",
       "            );\n",
       "    }\n",
       "    </script>\n",
       "</div>\n"
      ],
      "text/plain": [
       "Node{WebIO.DOM}(WebIO.DOM(:html, :div), Any[Node{WebIO.DOM}(WebIO.DOM(:html, :div), Any[Scope(Node{WebIO.DOM}(WebIO.DOM(:html, :div), Any[Node{WebIO.DOM}(WebIO.DOM(:html, :div), Any[Node{WebIO.DOM}(WebIO.DOM(:html, :label), Any[nothing], Dict{Symbol,Any}(:className => \"interact \",:style => Dict{Any,Any}(:padding => \"5px 10px 0px 10px\")))], Dict{Symbol,Any}(:className => \"interact-flex-row-left\")), Node{WebIO.DOM}(WebIO.DOM(:html, :div), Any[Node{WebIO.DOM}(WebIO.DOM(:html, :input), Any[], Dict{Symbol,Any}(:max => 79,:min => 1,:attributes => Dict{Any,Any}(:type => \"range\",Symbol(\"data-bind\") => \"numericValue: index, valueUpdate: 'input', event: {change: function (){this.changes(this.changes()+1)}}\",\"orient\" => \"horizontal\"),:step => 1,:className => \"slider slider is-fullwidth\",:style => Dict{Any,Any}()))], Dict{Symbol,Any}(:className => \"interact-flex-row-center\")), Node{WebIO.DOM}(WebIO.DOM(:html, :div), Any[Node{WebIO.DOM}(WebIO.DOM(:html, :p), Any[], Dict{Symbol,Any}(:attributes => Dict(\"data-bind\" => \"text: formatted_val\")))], Dict{Symbol,Any}(:className => \"interact-flex-row-right\"))], Dict{Symbol,Any}(:className => \"interact-flex-row interact-widget\")), Dict{String,Tuple{Observables.AbstractObservable,Union{Nothing, Bool}}}(\"changes\" => (Observable{Int64} with 1 listeners. Value:\n",
       "0, nothing),\"index\" => (Observable{Int64} with 2 listeners. Value:\n",
       "1, nothing)), Set(String[]), nothing, Asset[Asset(\"js\", \"knockout\", \"/Users/robertoberwa/.julia/packages/Knockout/IP1uR/src/../assets/knockout.js\"), Asset(\"js\", \"knockout_punches\", \"/Users/robertoberwa/.julia/packages/Knockout/IP1uR/src/../assets/knockout_punches.js\"), Asset(\"js\", nothing, \"/Users/robertoberwa/.julia/packages/InteractBase/9mFwe/src/../assets/all.js\"), Asset(\"css\", nothing, \"/Users/robertoberwa/.julia/packages/InteractBase/9mFwe/src/../assets/style.css\"), Asset(\"css\", nothing, \"/Users/robertoberwa/.julia/packages/Interact/SbgIk/src/../assets/bulma_confined.min.css\")], Dict{Any,Any}(\"changes\" => Any[WebIO.JSString(\"(function (val){return (val!=this.model[\\\"changes\\\"]()) ? (this.valueFromJulia[\\\"changes\\\"]=true, this.model[\\\"changes\\\"](val)) : undefined})\")],\"index\" => Any[WebIO.JSString(\"(function (val){return (val!=this.model[\\\"index\\\"]()) ? (this.valueFromJulia[\\\"index\\\"]=true, this.model[\\\"index\\\"](val)) : undefined})\")]), WebIO.ConnectionPool(Channel{Any}(sz_max:32,sz_curr:0), Set(AbstractConnection[]), Base.GenericCondition{Base.AlwaysLockedST}(Base.InvasiveLinkedList{Task}(Task (runnable) @0x00000001195f5f90, Task (runnable) @0x00000001195f5f90), Base.AlwaysLockedST(1))), WebIO.JSString[WebIO.JSString(\"function () {\\n    var handler = (function (ko, koPunches) {\\n    ko.punches.enableAll();\\n    ko.bindingHandlers.numericValue = {\\n        init: function(element, valueAccessor, allBindings, data, context) {\\n            var stringified = ko.observable(ko.unwrap(valueAccessor()));\\n            stringified.subscribe(function(value) {\\n                var val = parseFloat(value);\\n                if (!isNaN(val)) {\\n                    valueAccessor()(val);\\n                }\\n            });\\n            valueAccessor().subscribe(function(value) {\\n                var str = JSON.stringify(value);\\n                if ((str == \\\"0\\\") && ([\\\"-0\\\", \\\"-0.\\\"].indexOf(stringified()) >= 0))\\n                     return;\\n                 if ([\\\"null\\\", \\\"\\\"].indexOf(str) >= 0)\\n                     return;\\n                stringified(str);\\n            });\\n            ko.applyBindingsToNode(\\n                element,\\n                {\\n                    value: stringified,\\n                    valueUpdate: allBindings.get('valueUpdate'),\\n                },\\n                context,\\n            );\\n        }\\n    };\\n    var json_data = {\\\"formatted_vals\\\":[\\\"1\\\",\\\"2\\\",\\\"3\\\",\\\"4\\\",\\\"5\\\",\\\"6\\\",\\\"7\\\",\\\"8\\\",\\\"9\\\",\\\"10\\\",\\\"11\\\",\\\"12\\\",\\\"13\\\",\\\"14\\\",\\\"15\\\",\\\"16\\\",\\\"17\\\",\\\"18\\\",\\\"19\\\",\\\"20\\\",\\\"21\\\",\\\"22\\\",\\\"23\\\",\\\"24\\\",\\\"25\\\",\\\"26\\\",\\\"27\\\",\\\"28\\\",\\\"29\\\",\\\"30\\\",\\\"31\\\",\\\"32\\\",\\\"33\\\",\\\"34\\\",\\\"35\\\",\\\"36\\\",\\\"37\\\",\\\"38\\\",\\\"39\\\",\\\"40\\\",\\\"41\\\",\\\"42\\\",\\\"43\\\",\\\"44\\\",\\\"45\\\",\\\"46\\\",\\\"47\\\",\\\"48\\\",\\\"49\\\",\\\"50\\\",\\\"51\\\",\\\"52\\\",\\\"53\\\",\\\"54\\\",\\\"55\\\",\\\"56\\\",\\\"57\\\",\\\"58\\\",\\\"59\\\",\\\"60\\\",\\\"61\\\",\\\"62\\\",\\\"63\\\",\\\"64\\\",\\\"65\\\",\\\"66\\\",\\\"67\\\",\\\"68\\\",\\\"69\\\",\\\"70\\\",\\\"71\\\",\\\"72\\\",\\\"73\\\",\\\"74\\\",\\\"75\\\",\\\"76\\\",\\\"77\\\",\\\"78\\\",\\\"79\\\"],\\\"changes\\\":WebIO.getval({\\\"name\\\":\\\"changes\\\",\\\"scope\\\":\\\"18111164080246979917\\\",\\\"id\\\":\\\"ob_02\\\",\\\"type\\\":\\\"observable\\\"}),\\\"index\\\":WebIO.getval({\\\"name\\\":\\\"index\\\",\\\"scope\\\":\\\"18111164080246979917\\\",\\\"id\\\":\\\"ob_01\\\",\\\"type\\\":\\\"observable\\\"})};\\n    var self = this;\\n    function AppViewModel() {\\n        for (var key in json_data) {\\n            var el = json_data[key];\\n            this[key] = Array.isArray(el) ? ko.observableArray(el) : ko.observable(el);\\n        }\\n        \\n        [this[\\\"formatted_val\\\"]=ko.computed(    function(){\\n        return this.formatted_vals()[parseInt(this.index())-(1)];\\n    }\\n,this)]\\n        [this[\\\"changes\\\"].subscribe((function (val){!(this.valueFromJulia[\\\"changes\\\"]) ? (WebIO.setval({\\\"name\\\":\\\"changes\\\",\\\"scope\\\":\\\"18111164080246979917\\\",\\\"id\\\":\\\"ob_02\\\",\\\"type\\\":\\\"observable\\\"},val)) : undefined; return this.valueFromJulia[\\\"changes\\\"]=false}),self),this[\\\"index\\\"].subscribe((function (val){!(this.valueFromJulia[\\\"index\\\"]) ? (WebIO.setval({\\\"name\\\":\\\"index\\\",\\\"scope\\\":\\\"18111164080246979917\\\",\\\"id\\\":\\\"ob_01\\\",\\\"type\\\":\\\"observable\\\"},val)) : undefined; return this.valueFromJulia[\\\"index\\\"]=false}),self)]\\n        \\n    }\\n    self.model = new AppViewModel();\\n    self.valueFromJulia = {};\\n    for (var key in json_data) {\\n        self.valueFromJulia[key] = false;\\n    }\\n    ko.applyBindings(self.model, self.dom);\\n}\\n);\\n    (WebIO.importBlock({\\\"data\\\":[{\\\"name\\\":\\\"knockout\\\",\\\"type\\\":\\\"js\\\",\\\"url\\\":\\\"/assetserver/d8946d3abf581e5a833c85994d32d9051d9a2190-knockout.js\\\"},{\\\"name\\\":\\\"knockout_punches\\\",\\\"type\\\":\\\"js\\\",\\\"url\\\":\\\"/assetserver/f0105926ca82098bf0cc43c9f630d668299c2cd7-knockout_punches.js\\\"}],\\\"type\\\":\\\"async_block\\\"})).then((imports) => handler.apply(this, imports));\\n}\\n\")])], Dict{Symbol,Any}(:className => \"field interact-widget\")), Observable{Any} with 0 listeners. Value:\n",
       "Node{WebIO.DOM}(WebIO.DOM(:html, :div), Any[Plot{Plots.GRBackend() n=7}], Dict{Symbol,Any}(:className => \"interact-flex-row interact-widget\"))], Dict{Symbol,Any}())"
      ]
     },
     "execution_count": 10,
     "metadata": {
      "application/vnd.webio.node+json": {
       "kernelId": "3a12ebbf-bf7d-4c8c-ae9f-5b64a6326850"
      }
     },
     "output_type": "execute_result"
    }
   ],
   "source": [
    "@manipulate for day in slider(1:num_days, value=1)\n",
    "    p = plot(xlim=(0, num_days+5), ylim=(0,400000))\n",
    "    for country in keys(data_country_dict) \n",
    "    plot!(data_country_dict[country][1:day], label = country, leg=:topleft, m=:o) \n",
    "    end \n",
    "    xlabel!(\"days\")\n",
    "    ylabel!(\"Confirmed Cases\")\n",
    "    title!(\"Confirmed Cases around the world\") \n",
    "    p \n",
    "end"
   ]
  },
  {
   "cell_type": "markdown",
   "metadata": {},
   "source": [
    "##### Fig 1: Confirmed Cases around the world"
   ]
  },
  {
   "cell_type": "markdown",
   "metadata": {},
   "source": [
    "### Checking Exponential Growth"
   ]
  },
  {
   "cell_type": "code",
   "execution_count": 11,
   "metadata": {},
   "outputs": [
    {
     "data": {
      "image/svg+xml": [
       "<?xml version=\"1.0\" encoding=\"utf-8\"?>\n",
       "<svg xmlns=\"http://www.w3.org/2000/svg\" xmlns:xlink=\"http://www.w3.org/1999/xlink\" width=\"600\" height=\"400\" viewBox=\"0 0 2400 1600\">\n",
       "<defs>\n",
       "  <clipPath id=\"clip1200\">\n",
       "    <rect x=\"0\" y=\"0\" width=\"2400\" height=\"1600\"/>\n",
       "  </clipPath>\n",
       "</defs>\n",
       "<path clip-path=\"url(#clip1200)\" d=\"\n",
       "M0 1600 L2400 1600 L2400 0 L0 0  Z\n",
       "  \" fill=\"#ffffff\" fill-rule=\"evenodd\" fill-opacity=\"1\"/>\n",
       "<defs>\n",
       "  <clipPath id=\"clip1201\">\n",
       "    <rect x=\"480\" y=\"0\" width=\"1681\" height=\"1600\"/>\n",
       "  </clipPath>\n",
       "</defs>\n",
       "<path clip-path=\"url(#clip1200)\" d=\"\n",
       "M202.373 1425.62 L2352.76 1425.62 L2352.76 121.675 L202.373 121.675  Z\n",
       "  \" fill=\"#ffffff\" fill-rule=\"evenodd\" fill-opacity=\"1\"/>\n",
       "<defs>\n",
       "  <clipPath id=\"clip1202\">\n",
       "    <rect x=\"202\" y=\"121\" width=\"2151\" height=\"1305\"/>\n",
       "  </clipPath>\n",
       "</defs>\n",
       "<polyline clip-path=\"url(#clip1202)\" style=\"stroke:#000000; stroke-width:2; stroke-opacity:0.1; fill:none\" points=\"\n",
       "  202.373,1425.62 202.373,121.675 \n",
       "  \"/>\n",
       "<polyline clip-path=\"url(#clip1202)\" style=\"stroke:#000000; stroke-width:2; stroke-opacity:0.1; fill:none\" points=\"\n",
       "  746.774,1425.62 746.774,121.675 \n",
       "  \"/>\n",
       "<polyline clip-path=\"url(#clip1202)\" style=\"stroke:#000000; stroke-width:2; stroke-opacity:0.1; fill:none\" points=\"\n",
       "  1291.17,1425.62 1291.17,121.675 \n",
       "  \"/>\n",
       "<polyline clip-path=\"url(#clip1202)\" style=\"stroke:#000000; stroke-width:2; stroke-opacity:0.1; fill:none\" points=\"\n",
       "  1835.58,1425.62 1835.58,121.675 \n",
       "  \"/>\n",
       "<polyline clip-path=\"url(#clip1202)\" style=\"stroke:#000000; stroke-width:2; stroke-opacity:0.1; fill:none\" points=\"\n",
       "  202.373,1388.71 2352.76,1388.71 \n",
       "  \"/>\n",
       "<polyline clip-path=\"url(#clip1202)\" style=\"stroke:#000000; stroke-width:2; stroke-opacity:0.1; fill:none\" points=\"\n",
       "  202.373,1200.07 2352.76,1200.07 \n",
       "  \"/>\n",
       "<polyline clip-path=\"url(#clip1202)\" style=\"stroke:#000000; stroke-width:2; stroke-opacity:0.1; fill:none\" points=\"\n",
       "  202.373,1011.43 2352.76,1011.43 \n",
       "  \"/>\n",
       "<polyline clip-path=\"url(#clip1202)\" style=\"stroke:#000000; stroke-width:2; stroke-opacity:0.1; fill:none\" points=\"\n",
       "  202.373,822.793 2352.76,822.793 \n",
       "  \"/>\n",
       "<polyline clip-path=\"url(#clip1202)\" style=\"stroke:#000000; stroke-width:2; stroke-opacity:0.1; fill:none\" points=\"\n",
       "  202.373,634.152 2352.76,634.152 \n",
       "  \"/>\n",
       "<polyline clip-path=\"url(#clip1202)\" style=\"stroke:#000000; stroke-width:2; stroke-opacity:0.1; fill:none\" points=\"\n",
       "  202.373,445.511 2352.76,445.511 \n",
       "  \"/>\n",
       "<polyline clip-path=\"url(#clip1202)\" style=\"stroke:#000000; stroke-width:2; stroke-opacity:0.1; fill:none\" points=\"\n",
       "  202.373,445.511 2352.76,445.511 \n",
       "  \"/>\n",
       "<polyline clip-path=\"url(#clip1200)\" style=\"stroke:#000000; stroke-width:4; stroke-opacity:1; fill:none\" points=\"\n",
       "  202.373,1425.62 2352.76,1425.62 \n",
       "  \"/>\n",
       "<polyline clip-path=\"url(#clip1200)\" style=\"stroke:#000000; stroke-width:4; stroke-opacity:1; fill:none\" points=\"\n",
       "  202.373,1425.62 202.373,121.675 \n",
       "  \"/>\n",
       "<polyline clip-path=\"url(#clip1200)\" style=\"stroke:#000000; stroke-width:4; stroke-opacity:1; fill:none\" points=\"\n",
       "  202.373,1425.62 202.373,1409.97 \n",
       "  \"/>\n",
       "<polyline clip-path=\"url(#clip1200)\" style=\"stroke:#000000; stroke-width:4; stroke-opacity:1; fill:none\" points=\"\n",
       "  746.774,1425.62 746.774,1409.97 \n",
       "  \"/>\n",
       "<polyline clip-path=\"url(#clip1200)\" style=\"stroke:#000000; stroke-width:4; stroke-opacity:1; fill:none\" points=\"\n",
       "  1291.17,1425.62 1291.17,1409.97 \n",
       "  \"/>\n",
       "<polyline clip-path=\"url(#clip1200)\" style=\"stroke:#000000; stroke-width:4; stroke-opacity:1; fill:none\" points=\"\n",
       "  1835.58,1425.62 1835.58,1409.97 \n",
       "  \"/>\n",
       "<polyline clip-path=\"url(#clip1200)\" style=\"stroke:#000000; stroke-width:4; stroke-opacity:1; fill:none\" points=\"\n",
       "  202.373,1388.71 228.178,1388.71 \n",
       "  \"/>\n",
       "<polyline clip-path=\"url(#clip1200)\" style=\"stroke:#000000; stroke-width:4; stroke-opacity:1; fill:none\" points=\"\n",
       "  202.373,1200.07 228.178,1200.07 \n",
       "  \"/>\n",
       "<polyline clip-path=\"url(#clip1200)\" style=\"stroke:#000000; stroke-width:4; stroke-opacity:1; fill:none\" points=\"\n",
       "  202.373,1011.43 228.178,1011.43 \n",
       "  \"/>\n",
       "<polyline clip-path=\"url(#clip1200)\" style=\"stroke:#000000; stroke-width:4; stroke-opacity:1; fill:none\" points=\"\n",
       "  202.373,822.793 228.178,822.793 \n",
       "  \"/>\n",
       "<polyline clip-path=\"url(#clip1200)\" style=\"stroke:#000000; stroke-width:4; stroke-opacity:1; fill:none\" points=\"\n",
       "  202.373,634.152 228.178,634.152 \n",
       "  \"/>\n",
       "<polyline clip-path=\"url(#clip1200)\" style=\"stroke:#000000; stroke-width:4; stroke-opacity:1; fill:none\" points=\"\n",
       "  202.373,445.511 228.178,445.511 \n",
       "  \"/>\n",
       "<polyline clip-path=\"url(#clip1200)\" style=\"stroke:#000000; stroke-width:4; stroke-opacity:1; fill:none\" points=\"\n",
       "  202.373,445.511 228.178,445.511 \n",
       "  \"/>\n",
       "<g clip-path=\"url(#clip1200)\">\n",
       "<text style=\"fill:#000000; fill-opacity:1; font-family:Arial,Helvetica Neue,Helvetica,sans-serif; font-size:48px; text-anchor:middle;\" transform=\"rotate(0, 202.373, 1479.62)\" x=\"202.373\" y=\"1479.62\">0</text>\n",
       "</g>\n",
       "<g clip-path=\"url(#clip1200)\">\n",
       "<text style=\"fill:#000000; fill-opacity:1; font-family:Arial,Helvetica Neue,Helvetica,sans-serif; font-size:48px; text-anchor:middle;\" transform=\"rotate(0, 746.774, 1479.62)\" x=\"746.774\" y=\"1479.62\">20</text>\n",
       "</g>\n",
       "<g clip-path=\"url(#clip1200)\">\n",
       "<text style=\"fill:#000000; fill-opacity:1; font-family:Arial,Helvetica Neue,Helvetica,sans-serif; font-size:48px; text-anchor:middle;\" transform=\"rotate(0, 1291.17, 1479.62)\" x=\"1291.17\" y=\"1479.62\">40</text>\n",
       "</g>\n",
       "<g clip-path=\"url(#clip1200)\">\n",
       "<text style=\"fill:#000000; fill-opacity:1; font-family:Arial,Helvetica Neue,Helvetica,sans-serif; font-size:48px; text-anchor:middle;\" transform=\"rotate(0, 1835.58, 1479.62)\" x=\"1835.58\" y=\"1479.62\">60</text>\n",
       "</g>\n",
       "<g clip-path=\"url(#clip1200)\">\n",
       "<text style=\"fill:#000000; fill-opacity:1; font-family:Arial,Helvetica Neue,Helvetica,sans-serif; font-size:48px; text-anchor:end;\" transform=\"rotate(0, 178.373, 1406.21)\" x=\"178.373\" y=\"1406.21\">0</text>\n",
       "</g>\n",
       "<g clip-path=\"url(#clip1200)\">\n",
       "<text style=\"fill:#000000; fill-opacity:1; font-family:Arial,Helvetica Neue,Helvetica,sans-serif; font-size:48px; text-anchor:end;\" transform=\"rotate(0, 178.373, 1217.57)\" x=\"178.373\" y=\"1217.57\">2</text>\n",
       "</g>\n",
       "<g clip-path=\"url(#clip1200)\">\n",
       "<text style=\"fill:#000000; fill-opacity:1; font-family:Arial,Helvetica Neue,Helvetica,sans-serif; font-size:48px; text-anchor:end;\" transform=\"rotate(0, 178.373, 1028.93)\" x=\"178.373\" y=\"1028.93\">4</text>\n",
       "</g>\n",
       "<g clip-path=\"url(#clip1200)\">\n",
       "<text style=\"fill:#000000; fill-opacity:1; font-family:Arial,Helvetica Neue,Helvetica,sans-serif; font-size:48px; text-anchor:end;\" transform=\"rotate(0, 178.373, 840.293)\" x=\"178.373\" y=\"840.293\">6</text>\n",
       "</g>\n",
       "<g clip-path=\"url(#clip1200)\">\n",
       "<text style=\"fill:#000000; fill-opacity:1; font-family:Arial,Helvetica Neue,Helvetica,sans-serif; font-size:48px; text-anchor:end;\" transform=\"rotate(0, 178.373, 651.652)\" x=\"178.373\" y=\"651.652\">8</text>\n",
       "</g>\n",
       "<g clip-path=\"url(#clip1200)\">\n",
       "<text style=\"fill:#000000; fill-opacity:1; font-family:Arial,Helvetica Neue,Helvetica,sans-serif; font-size:48px; text-anchor:end;\" transform=\"rotate(0, 178.373, 463.011)\" x=\"178.373\" y=\"463.011\">10</text>\n",
       "</g>\n",
       "<g clip-path=\"url(#clip1200)\">\n",
       "<text style=\"fill:#000000; fill-opacity:1; font-family:Arial,Helvetica Neue,Helvetica,sans-serif; font-size:48px; text-anchor:end;\" transform=\"rotate(0, 178.373, 463.011)\" x=\"178.373\" y=\"463.011\">10</text>\n",
       "</g>\n",
       "<g clip-path=\"url(#clip1200)\">\n",
       "<text style=\"fill:#000000; fill-opacity:1; font-family:Arial,Helvetica Neue,Helvetica,sans-serif; font-size:84px; text-anchor:middle;\" transform=\"rotate(0, 1277.56, 73.2)\" x=\"1277.56\" y=\"73.2\">Confirmed Cases around the world</text>\n",
       "</g>\n",
       "<g clip-path=\"url(#clip1200)\">\n",
       "<text style=\"fill:#000000; fill-opacity:1; font-family:Arial,Helvetica Neue,Helvetica,sans-serif; font-size:66px; text-anchor:middle;\" transform=\"rotate(0, 1277.56, 1559.48)\" x=\"1277.56\" y=\"1559.48\">days</text>\n",
       "</g>\n",
       "<g clip-path=\"url(#clip1200)\">\n",
       "<text style=\"fill:#000000; fill-opacity:1; font-family:Arial,Helvetica Neue,Helvetica,sans-serif; font-size:66px; text-anchor:middle;\" transform=\"rotate(-90, 89.2861, 773.647)\" x=\"89.2861\" y=\"773.647\">log Confirmed Cases</text>\n",
       "</g>\n",
       "<polyline clip-path=\"url(#clip1202)\" style=\"stroke:#009af9; stroke-width:4; stroke-opacity:1; fill:none\" points=\"\n",
       "  365.693,1388.71 392.913,1257.96 420.133,1257.96 447.353,1257.96 474.573,1236.91 501.793,1192.58 529.013,1171.53 556.233,1154.34 583.453,1154.34 610.673,1154.34 \n",
       "  637.894,1154.34 665.114,1146.79 692.334,1146.79 719.554,1139.8 746.774,1139.8 773.994,1127.2 801.214,1127.2 828.434,1127.2 855.654,1127.2 882.874,1127.2 \n",
       "  910.094,1127.2 937.314,1127.2 964.534,1127.2 991.754,1127.2 1018.97,1127.2 1046.19,1127.2 1073.41,1127.2 1100.63,1127.2 1127.85,1127.2 1155.07,1121.48 \n",
       "  1182.29,1077.85 1209.51,1027.6 1236.73,1023.58 1263.95,976.587 1291.17,929.607 1318.39,910.614 1345.61,890.881 1372.83,863.506 1400.05,806.009 1427.27,774.946 \n",
       "  1454.49,758.338 1481.71,733.473 1508.93,721.882 1536.15,701.672 1563.37,676.237 1590.59,668.186 1617.81,614.41 1645.03,593.543 1672.25,571.452 1699.47,550.038 \n",
       "  1726.7,527.274 1753.92,500.26 1781.14,479.758 1808.36,455.334 1835.58,444.716 1862.8,434.048 1890.02,419.386 1917.24,407.421 1944.46,395.77 1971.68,380.38 \n",
       "  1998.9,366.56 2026.12,354.688 2053.34,347.756 2080.56,340.747 2107.78,334.048 2135,326.401 2162.22,318.369 2189.44,311.542 2216.66,306.572 2243.88,302.696 \n",
       "  2271.1,299.682 2298.32,295.847 2325.54,291.037 2352.76,287.056 \n",
       "  \"/>\n",
       "<polyline clip-path=\"url(#clip1202)\" style=\"stroke:#e26f46; stroke-width:4; stroke-opacity:1; fill:none\" points=\"\n",
       "  474.573,1323.34 501.793,1323.34 529.013,1323.34 556.233,1323.34 583.453,1323.34 610.673,1323.34 637.894,1323.34 665.114,1285.09 692.334,1285.09 719.554,1285.09 \n",
       "  746.774,1192.58 773.994,1192.58 801.214,1181.47 828.434,1181.47 855.654,1181.47 882.874,1181.47 910.094,1181.47 937.314,1181.47 964.534,1181.47 991.754,1181.47 \n",
       "  1018.97,1181.47 1046.19,1181.47 1073.41,1181.47 1100.63,1181.47 1127.85,1146.79 1155.07,1146.79 1182.29,1146.79 1209.51,1133.29 1236.73,1106.16 1263.95,1092.97 \n",
       "  1291.17,1050.72 1318.39,1040.78 1345.61,1017.86 1372.83,968.579 1400.05,940.354 1427.27,907.693 1454.49,885.731 1481.71,859.282 1508.93,844.057 1536.15,827.448 \n",
       "  1563.37,810.62 1590.59,810.62 1617.81,757.984 1645.03,724.484 1672.25,724.401 1699.47,695.776 1726.7,673.7 1753.92,645.537 1781.14,642.932 1808.36,606.087 \n",
       "  1835.58,584.115 1862.8,572.27 1890.02,557.4 1917.24,539.125 1944.46,523.45 1971.68,504.285 1998.9,483.366 2026.12,468.228 2053.34,455.658 2080.56,443.702 \n",
       "  2107.78,431.77 2135,416.796 2162.22,404.087 2189.44,392.38 2216.66,383.569 2243.88,371.187 2271.1,363.985 2298.32,357.586 2325.54,348.704 2352.76,342.186 \n",
       "  \n",
       "  \"/>\n",
       "<polyline clip-path=\"url(#clip1202)\" style=\"stroke:#3da44d; stroke-width:4; stroke-opacity:1; fill:none\" points=\"\n",
       "  229.593,793.905 256.813,778.826 284.033,745.037 311.253,705.033 338.473,668.323 365.693,637.5 392.913,576.226 420.133,566.816 447.353,539.391 474.573,521.878 \n",
       "  501.793,503.656 529.013,472.019 556.233,455.963 583.453,438.576 610.673,424.784 637.894,414.543 665.114,404.261 692.334,397.065 719.554,389.64 746.774,383.843 \n",
       "  773.994,379.423 801.214,378.634 828.434,351.158 855.654,341.493 882.874,338.616 910.094,335.765 937.314,333.229 964.534,330.943 991.754,330.426 1018.97,329.849 \n",
       "  1046.19,329.257 1073.41,327.462 1100.63,327.437 1127.85,327.169 1155.07,326.544 1182.29,326.046 1209.51,325.524 1236.73,325.131 1263.95,324.621 1291.17,323.939 \n",
       "  1318.39,323.698 1345.61,323.551 1372.83,323.405 1400.05,323.227 1427.27,323.048 1454.49,322.955 1481.71,322.893 1508.93,322.85 1536.15,322.818 1563.37,322.779 \n",
       "  1590.59,322.766 1617.81,322.751 1645.03,322.714 1672.25,322.683 1699.47,322.648 1726.7,322.619 1753.92,322.568 1781.14,322.505 1808.36,322.396 1835.58,322.332 \n",
       "  1862.8,322.182 1890.02,322.109 1917.24,322.001 1944.46,321.92 1971.68,321.781 1998.9,321.648 2026.12,321.531 2053.34,321.389 2080.56,321.302 2107.78,321.209 \n",
       "  2135,321.115 2162.22,321.034 2189.44,320.944 2216.66,320.907 2243.88,320.84 2271.1,320.768 2298.32,320.707 2325.54,320.604 2352.76,320.519 \n",
       "  \"/>\n",
       "<polyline clip-path=\"url(#clip1202)\" style=\"stroke:#c271d2; stroke-width:4; stroke-opacity:1; fill:none\" points=\"\n",
       "  229.593,1388.71 256.813,1388.71 284.033,1323.34 311.253,1323.34 338.473,1285.09 365.693,1257.96 392.913,1257.96 420.133,1257.96 447.353,1257.96 474.573,1162.54 \n",
       "  501.793,1154.34 529.013,1133.29 556.233,1133.29 583.453,1127.2 610.673,1110.99 637.894,1092.97 665.114,1088.96 692.334,1088.96 719.554,1085.11 746.774,1077.85 \n",
       "  773.994,1074.42 801.214,1074.42 828.434,1074.42 855.654,1074.42 882.874,1074.42 910.094,1071.11 937.314,1067.91 964.534,1064.82 991.754,1064.82 1018.97,950.654 \n",
       "  1046.19,887.108 1073.41,816.121 1100.63,785.04 1127.85,754.407 1155.07,739.367 1182.29,715.299 1209.51,683.531 1236.73,657.107 1263.95,628.949 1291.17,612.857 \n",
       "  1318.39,598.831 1345.61,581.925 1372.83,574.328 1400.05,566.8 1427.27,559.284 1454.49,553.083 1481.71,549.495 1508.93,547.403 1536.15,546.963 1563.37,543.973 \n",
       "  1590.59,542.596 1617.81,541.287 1645.03,540.031 1672.25,539.148 1699.47,538.297 1726.7,537.34 1753.92,536.291 1781.14,534.602 1808.36,533.649 1835.58,532.06 \n",
       "  1862.8,530.339 1890.02,530.339 1917.24,529.543 1944.46,528.505 1971.68,527.437 1998.9,526.513 2026.12,525.049 2053.34,524.01 2080.56,523.245 2107.78,522.033 \n",
       "  2135,521.064 2162.22,520.219 2189.44,519.409 2216.66,518.532 2243.88,517.783 2271.1,517.351 2298.32,516.921 2325.54,516.438 2352.76,516.084 \n",
       "  \"/>\n",
       "<polyline clip-path=\"url(#clip1202)\" style=\"stroke:#ac8d18; stroke-width:4; stroke-opacity:1; fill:none\" points=\"\n",
       "  229.593,1323.34 256.813,1323.34 284.033,1323.34 311.253,1323.34 338.473,1257.96 365.693,1257.96 392.913,1205.18 420.133,1205.18 447.353,1162.54 474.573,1133.29 \n",
       "  501.793,1106.16 529.013,1106.16 556.233,1106.16 583.453,1097.17 610.673,1097.17 637.894,1097.17 665.114,1085.11 692.334,1085.11 719.554,1081.41 746.774,1081.41 \n",
       "  773.994,1081.41 801.214,1074.42 828.434,1074.42 855.654,1071.11 882.874,1033.96 910.094,1004.12 937.314,993.545 964.534,982.754 991.754,970.798 1018.97,960.189 \n",
       "  1046.19,949.751 1073.41,935.598 1100.63,918.015 1127.85,910.614 1155.07,904.304 1182.29,894.311 1209.51,882.594 1236.73,876.617 1263.95,871.387 1291.17,865.692 \n",
       "  1318.39,859.282 1345.61,852.959 1372.83,841.457 1400.05,833.535 1427.27,818.996 1454.49,810.21 1481.71,802.174 1508.93,800.498 1536.15,788.389 1563.37,779.414 \n",
       "  1590.59,779.414 1617.81,770.68 1645.03,761.458 1672.25,753.73 1699.47,753.73 1726.7,749.445 1753.92,748.27 1781.14,744.628 1808.36,740.729 1835.58,736.515 \n",
       "  1862.8,728.097 1890.02,725.812 1917.24,720.528 1944.46,711.92 1971.68,706.316 1998.9,700.963 2026.12,687.513 2053.34,678.336 2080.56,678.336 2107.78,674.038 \n",
       "  2135,663.753 2162.22,650.937 2189.44,646.434 2216.66,629.279 2243.88,629.279 2271.1,614.95 2298.32,608.66 2325.54,600.544 2352.76,591.871 \n",
       "  \"/>\n",
       "<polyline clip-path=\"url(#clip1202)\" style=\"stroke:#00a9ad; stroke-width:4; stroke-opacity:1; fill:none\" points=\"\n",
       "  284.033,1323.34 311.253,1285.09 338.473,1285.09 365.693,1285.09 392.913,1257.96 420.133,1236.91 447.353,1236.91 474.573,1236.91 501.793,1219.72 529.013,1219.72 \n",
       "  556.233,1219.72 583.453,1219.72 610.673,1219.72 637.894,1219.72 665.114,1219.72 692.334,1162.54 719.554,1162.54 746.774,1162.54 773.994,1162.54 801.214,1162.54 \n",
       "  828.434,1162.54 855.654,1162.54 882.874,1154.34 910.094,1154.34 937.314,1154.34 964.534,1154.34 991.754,1154.34 1018.97,1154.34 1046.19,1154.34 1073.41,1154.34 \n",
       "  1100.63,1154.34 1127.85,1154.34 1155.07,1139.8 1182.29,1116.09 1209.51,1045.62 1236.73,1007.37 1263.95,954.353 1291.17,929.607 1318.39,893.318 1345.61,887.108 \n",
       "  1372.83,854.582 1400.05,828.436 1427.27,776.938 1454.49,741.121 1481.71,725.146 1508.93,718.494 1536.15,682.047 1563.37,658.9 1590.59,658.9 1617.81,614.256 \n",
       "  1645.03,595.392 1672.25,594.639 1699.47,558.005 1726.7,544.461 1753.92,528.639 1781.14,511.26 1808.36,497.018 1835.58,485.187 1862.8,474.24 1890.02,454.036 \n",
       "  1917.24,442.995 1944.46,431.33 1971.68,417.793 1998.9,406.239 2026.12,393.814 2053.34,387.582 2080.56,377.771 2107.78,363.002 2135,354.599 2162.22,351.104 \n",
       "  2189.44,343.15 2216.66,311.865 2243.88,308.876 2271.1,303.795 2298.32,293.766 2325.54,290.487 2352.76,286.578 \n",
       "  \"/>\n",
       "<polyline clip-path=\"url(#clip1202)\" style=\"stroke:#ed5d92; stroke-width:4; stroke-opacity:1; fill:none\" points=\"\n",
       "  229.593,1388.71 256.813,1388.71 284.033,1323.34 311.253,1323.34 338.473,1236.91 365.693,1236.91 392.913,1236.91 420.133,1236.91 447.353,1236.91 474.573,1205.18 \n",
       "  501.793,1192.58 529.013,1192.58 556.233,1162.54 583.453,1162.54 610.673,1162.54 637.894,1162.54 665.114,1162.54 692.334,1162.54 719.554,1162.54 746.774,1162.54 \n",
       "  773.994,1154.34 801.214,1154.34 828.434,1146.79 855.654,1146.79 882.874,1146.79 910.094,1146.79 937.314,1146.79 964.534,1146.79 991.754,1146.79 1018.97,1146.79 \n",
       "  1046.19,1133.29 1073.41,1133.29 1100.63,1133.29 1127.85,1017.86 1155.07,1017.86 1182.29,1007.37 1209.51,1005.73 1236.73,1002.53 1263.95,990.729 1291.17,982.754 \n",
       "  1318.39,956.259 1345.61,938.742 1372.83,916.741 1400.05,881.281 1427.27,863.506 1454.49,823.127 1481.71,799.215 1508.93,788.065 1536.15,741.121 1563.37,713.815 \n",
       "  1590.59,689.199 1617.81,663.71 1645.03,642.55 1672.25,619.039 1699.47,592.581 1726.7,561.777 1753.92,543.633 1781.14,489.976 1808.36,458.107 1835.58,431.33 \n",
       "  1862.8,406.595 1890.02,380.575 1917.24,361.386 1944.46,342.321 1971.68,319.441 1998.9,301.261 2026.12,284.47 2053.34,270.465 2080.56,257.407 2107.78,243.184 \n",
       "  2135,231.329 2162.22,218.77 2189.44,207.196 2216.66,196.447 2243.88,188.2 2271.1,180.263 2298.32,172.951 2325.54,165.443 2352.76,158.579 \n",
       "  \"/>\n",
       "<path clip-path=\"url(#clip1200)\" d=\"\n",
       "M1698.33 1281.62 L2280.76 1281.62 L2280.76 797.779 L1698.33 797.779  Z\n",
       "  \" fill=\"#ffffff\" fill-rule=\"evenodd\" fill-opacity=\"1\"/>\n",
       "<polyline clip-path=\"url(#clip1200)\" style=\"stroke:#000000; stroke-width:4; stroke-opacity:1; fill:none\" points=\"\n",
       "  1698.33,1281.62 2280.76,1281.62 2280.76,797.779 1698.33,797.779 1698.33,1281.62 \n",
       "  \"/>\n",
       "<polyline clip-path=\"url(#clip1200)\" style=\"stroke:#009af9; stroke-width:4; stroke-opacity:1; fill:none\" points=\"\n",
       "  1722.33,858.259 1866.33,858.259 \n",
       "  \"/>\n",
       "<g clip-path=\"url(#clip1200)\">\n",
       "<text style=\"fill:#000000; fill-opacity:1; font-family:Arial,Helvetica Neue,Helvetica,sans-serif; font-size:48px; text-anchor:start;\" transform=\"rotate(0, 1890.33, 875.759)\" x=\"1890.33\" y=\"875.759\">Germany</text>\n",
       "</g>\n",
       "<polyline clip-path=\"url(#clip1200)\" style=\"stroke:#e26f46; stroke-width:4; stroke-opacity:1; fill:none\" points=\"\n",
       "  1722.33,918.739 1866.33,918.739 \n",
       "  \"/>\n",
       "<g clip-path=\"url(#clip1200)\">\n",
       "<text style=\"fill:#000000; fill-opacity:1; font-family:Arial,Helvetica Neue,Helvetica,sans-serif; font-size:48px; text-anchor:start;\" transform=\"rotate(0, 1890.33, 936.239)\" x=\"1890.33\" y=\"936.239\">United Kingdom</text>\n",
       "</g>\n",
       "<polyline clip-path=\"url(#clip1200)\" style=\"stroke:#3da44d; stroke-width:4; stroke-opacity:1; fill:none\" points=\"\n",
       "  1722.33,979.219 1866.33,979.219 \n",
       "  \"/>\n",
       "<g clip-path=\"url(#clip1200)\">\n",
       "<text style=\"fill:#000000; fill-opacity:1; font-family:Arial,Helvetica Neue,Helvetica,sans-serif; font-size:48px; text-anchor:start;\" transform=\"rotate(0, 1890.33, 996.719)\" x=\"1890.33\" y=\"996.719\">China</text>\n",
       "</g>\n",
       "<polyline clip-path=\"url(#clip1200)\" style=\"stroke:#c271d2; stroke-width:4; stroke-opacity:1; fill:none\" points=\"\n",
       "  1722.33,1039.7 1866.33,1039.7 \n",
       "  \"/>\n",
       "<g clip-path=\"url(#clip1200)\">\n",
       "<text style=\"fill:#000000; fill-opacity:1; font-family:Arial,Helvetica Neue,Helvetica,sans-serif; font-size:48px; text-anchor:start;\" transform=\"rotate(0, 1890.33, 1057.2)\" x=\"1890.33\" y=\"1057.2\">Korea, South</text>\n",
       "</g>\n",
       "<polyline clip-path=\"url(#clip1200)\" style=\"stroke:#ac8d18; stroke-width:4; stroke-opacity:1; fill:none\" points=\"\n",
       "  1722.33,1100.18 1866.33,1100.18 \n",
       "  \"/>\n",
       "<g clip-path=\"url(#clip1200)\">\n",
       "<text style=\"fill:#000000; fill-opacity:1; font-family:Arial,Helvetica Neue,Helvetica,sans-serif; font-size:48px; text-anchor:start;\" transform=\"rotate(0, 1890.33, 1117.68)\" x=\"1890.33\" y=\"1117.68\">Japan</text>\n",
       "</g>\n",
       "<polyline clip-path=\"url(#clip1200)\" style=\"stroke:#00a9ad; stroke-width:4; stroke-opacity:1; fill:none\" points=\"\n",
       "  1722.33,1160.66 1866.33,1160.66 \n",
       "  \"/>\n",
       "<g clip-path=\"url(#clip1200)\">\n",
       "<text style=\"fill:#000000; fill-opacity:1; font-family:Arial,Helvetica Neue,Helvetica,sans-serif; font-size:48px; text-anchor:start;\" transform=\"rotate(0, 1890.33, 1178.16)\" x=\"1890.33\" y=\"1178.16\">France</text>\n",
       "</g>\n",
       "<polyline clip-path=\"url(#clip1200)\" style=\"stroke:#ed5d92; stroke-width:4; stroke-opacity:1; fill:none\" points=\"\n",
       "  1722.33,1221.14 1866.33,1221.14 \n",
       "  \"/>\n",
       "<g clip-path=\"url(#clip1200)\">\n",
       "<text style=\"fill:#000000; fill-opacity:1; font-family:Arial,Helvetica Neue,Helvetica,sans-serif; font-size:48px; text-anchor:start;\" transform=\"rotate(0, 1890.33, 1238.64)\" x=\"1890.33\" y=\"1238.64\">US</text>\n",
       "</g>\n",
       "</svg>\n"
      ]
     },
     "execution_count": 11,
     "metadata": {},
     "output_type": "execute_result"
    }
   ],
   "source": [
    "log_data_country_dict = Dict()\n",
    "for (key, value) in data_country_dict\n",
    "    value = convert(Array{Float64}, value)\n",
    "    value[value .== 0.0] .= NaN\n",
    "    log_data_country_dict[key] = log.(value)\n",
    "end\n",
    "\n",
    " plog = plot(xlim=(0, num_days))\n",
    "\n",
    "for country in keys(log_data_country_dict)\n",
    "    plot!(log_data_country_dict[country], label = country, leg=:bottomright)\n",
    "end\n",
    "xlabel!(\"days\")\n",
    "ylabel!(\"log Confirmed Cases\")\n",
    "title!(\"Confirmed Cases around the world\")\n",
    "plog"
   ]
  },
  {
   "cell_type": "markdown",
   "metadata": {},
   "source": [
    "###### Fig 2: log confirmed cases per day"
   ]
  },
  {
   "cell_type": "markdown",
   "metadata": {},
   "source": [
    "##### From this fig 2, all the seven countries experiences exponential growth."
   ]
  },
  {
   "cell_type": "markdown",
   "metadata": {},
   "source": [
    "# Visualizing changes"
   ]
  },
  {
   "cell_type": "code",
   "execution_count": 12,
   "metadata": {},
   "outputs": [
    {
     "data": {
      "text/plain": [
       "Dict{Any,Any} with 7 entries:\n",
       "  \"Germany\"        => Any[NaN, NaN, NaN, NaN, NaN, 1.0, 4.0, NaN, NaN, NaN  …  …\n",
       "  \"United Kingdom\" => Any[NaN, NaN, NaN, NaN, NaN, NaN, NaN, NaN, NaN, NaN  …  …\n",
       "  \"China\"          => Any[548.0, 643.0, 920.0, 1406.0, 2075.0, 2877.0, 5509.0, …\n",
       "  \"Korea, South\"   => Any[1.0, 1.0, 2.0, 2.0, 3.0, 4.0, 4.0, 3.0, 3.0, 9.0  …  …\n",
       "  \"Japan\"          => Any[2.0, 2.0, 2.0, 2.0, 4.0, 4.0, 7.0, 5.0, 9.0, 13.0  … …\n",
       "  \"France\"         => Any[NaN, NaN, 2.0, 3.0, 3.0, 3.0, 4.0, NaN, NaN, 3.0  …  …\n",
       "  \"US\"             => Any[1.0, 1.0, 2.0, 2.0, 5.0, 5.0, 5.0, 4.0, 4.0, 5.0  …  …"
      ]
     },
     "execution_count": 12,
     "metadata": {},
     "output_type": "execute_result"
    }
   ],
   "source": [
    "weekly_data = Dict()\n",
    "final = 0\n",
    "for country in countries\n",
    "    country_data = data_country_dict[country]\n",
    "    country_data = convert(Array{Float64}, country_data)\n",
    "    country_data[country_data .== 0.0] .= NaN\n",
    "    country_data_weekly = []\n",
    "    for i in num_days:-1:1 # Monday to Monday \n",
    "        if i <= 7\n",
    "            append!(country_data_weekly, country_data[i])\n",
    "        else\n",
    "            append!(country_data_weekly, [country_data[i] - country_data[i-7]]) #Format: Sunday to Sunday\n",
    "            end \n",
    "        end \n",
    "    weekly_data[country] = reverse(country_data_weekly)\n",
    "    end\n",
    "weekly_data"
   ]
  },
  {
   "cell_type": "code",
   "execution_count": 13,
   "metadata": {},
   "outputs": [
    {
     "data": {
      "application/vnd.webio.node+json": {
       "children": [
        {
         "children": [
          {
           "children": [
            {
             "children": [
              {
               "children": [
                {
                 "children": [
                  ""
                 ],
                 "instanceArgs": {
                  "namespace": "html",
                  "tag": "label"
                 },
                 "nodeType": "DOM",
                 "props": {
                  "className": "interact ",
                  "style": {
                   "padding": "5px 10px 0px 10px"
                  }
                 },
                 "type": "node"
                }
               ],
               "instanceArgs": {
                "namespace": "html",
                "tag": "div"
               },
               "nodeType": "DOM",
               "props": {
                "className": "interact-flex-row-left"
               },
               "type": "node"
              },
              {
               "children": [
                {
                 "children": [],
                 "instanceArgs": {
                  "namespace": "html",
                  "tag": "input"
                 },
                 "nodeType": "DOM",
                 "props": {
                  "attributes": {
                   "data-bind": "numericValue: index, valueUpdate: 'input', event: {change: function (){this.changes(this.changes()+1)}}",
                   "orient": "horizontal",
                   "type": "range"
                  },
                  "className": "slider slider is-fullwidth",
                  "max": 79,
                  "min": 1,
                  "step": 1,
                  "style": {}
                 },
                 "type": "node"
                }
               ],
               "instanceArgs": {
                "namespace": "html",
                "tag": "div"
               },
               "nodeType": "DOM",
               "props": {
                "className": "interact-flex-row-center"
               },
               "type": "node"
              },
              {
               "children": [
                {
                 "children": [],
                 "instanceArgs": {
                  "namespace": "html",
                  "tag": "p"
                 },
                 "nodeType": "DOM",
                 "props": {
                  "attributes": {
                   "data-bind": "text: formatted_val"
                  }
                 },
                 "type": "node"
                }
               ],
               "instanceArgs": {
                "namespace": "html",
                "tag": "div"
               },
               "nodeType": "DOM",
               "props": {
                "className": "interact-flex-row-right"
               },
               "type": "node"
              }
             ],
             "instanceArgs": {
              "namespace": "html",
              "tag": "div"
             },
             "nodeType": "DOM",
             "props": {
              "className": "interact-flex-row interact-widget"
             },
             "type": "node"
            }
           ],
           "instanceArgs": {
            "handlers": {
             "changes": [
              "(function (val){return (val!=this.model[\"changes\"]()) ? (this.valueFromJulia[\"changes\"]=true, this.model[\"changes\"](val)) : undefined})"
             ],
             "index": [
              "(function (val){return (val!=this.model[\"index\"]()) ? (this.valueFromJulia[\"index\"]=true, this.model[\"index\"](val)) : undefined})"
             ]
            },
            "id": "18205601446966364342",
            "imports": {
             "data": [
              {
               "name": "knockout",
               "type": "js",
               "url": "/assetserver/d8946d3abf581e5a833c85994d32d9051d9a2190-knockout.js"
              },
              {
               "name": "knockout_punches",
               "type": "js",
               "url": "/assetserver/f0105926ca82098bf0cc43c9f630d668299c2cd7-knockout_punches.js"
              },
              {
               "name": null,
               "type": "js",
               "url": "/assetserver/704e5d0cf77e2817714de26245cbbd0ed37344f1-all.js"
              },
              {
               "name": null,
               "type": "css",
               "url": "/assetserver/c20438aea7cddd6cb9a01e595cfcda275fddbf2a-style.css"
              },
              {
               "name": null,
               "type": "css",
               "url": "/assetserver/4980a02882c8523aafa0b412f0f004c9f340422a-bulma_confined.min.css"
              }
             ],
             "type": "async_block"
            },
            "mount_callbacks": [
             "function () {\n    var handler = (function (ko, koPunches) {\n    ko.punches.enableAll();\n    ko.bindingHandlers.numericValue = {\n        init: function(element, valueAccessor, allBindings, data, context) {\n            var stringified = ko.observable(ko.unwrap(valueAccessor()));\n            stringified.subscribe(function(value) {\n                var val = parseFloat(value);\n                if (!isNaN(val)) {\n                    valueAccessor()(val);\n                }\n            });\n            valueAccessor().subscribe(function(value) {\n                var str = JSON.stringify(value);\n                if ((str == \"0\") && ([\"-0\", \"-0.\"].indexOf(stringified()) >= 0))\n                     return;\n                 if ([\"null\", \"\"].indexOf(str) >= 0)\n                     return;\n                stringified(str);\n            });\n            ko.applyBindingsToNode(\n                element,\n                {\n                    value: stringified,\n                    valueUpdate: allBindings.get('valueUpdate'),\n                },\n                context,\n            );\n        }\n    };\n    var json_data = {\"formatted_vals\":[\"1\",\"2\",\"3\",\"4\",\"5\",\"6\",\"7\",\"8\",\"9\",\"10\",\"11\",\"12\",\"13\",\"14\",\"15\",\"16\",\"17\",\"18\",\"19\",\"20\",\"21\",\"22\",\"23\",\"24\",\"25\",\"26\",\"27\",\"28\",\"29\",\"30\",\"31\",\"32\",\"33\",\"34\",\"35\",\"36\",\"37\",\"38\",\"39\",\"40\",\"41\",\"42\",\"43\",\"44\",\"45\",\"46\",\"47\",\"48\",\"49\",\"50\",\"51\",\"52\",\"53\",\"54\",\"55\",\"56\",\"57\",\"58\",\"59\",\"60\",\"61\",\"62\",\"63\",\"64\",\"65\",\"66\",\"67\",\"68\",\"69\",\"70\",\"71\",\"72\",\"73\",\"74\",\"75\",\"76\",\"77\",\"78\",\"79\"],\"changes\":WebIO.getval({\"name\":\"changes\",\"scope\":\"18205601446966364342\",\"id\":\"ob_10\",\"type\":\"observable\"}),\"index\":WebIO.getval({\"name\":\"index\",\"scope\":\"18205601446966364342\",\"id\":\"ob_09\",\"type\":\"observable\"})};\n    var self = this;\n    function AppViewModel() {\n        for (var key in json_data) {\n            var el = json_data[key];\n            this[key] = Array.isArray(el) ? ko.observableArray(el) : ko.observable(el);\n        }\n        \n        [this[\"formatted_val\"]=ko.computed(    function(){\n        return this.formatted_vals()[parseInt(this.index())-(1)];\n    }\n,this)]\n        [this[\"changes\"].subscribe((function (val){!(this.valueFromJulia[\"changes\"]) ? (WebIO.setval({\"name\":\"changes\",\"scope\":\"18205601446966364342\",\"id\":\"ob_10\",\"type\":\"observable\"},val)) : undefined; return this.valueFromJulia[\"changes\"]=false}),self),this[\"index\"].subscribe((function (val){!(this.valueFromJulia[\"index\"]) ? (WebIO.setval({\"name\":\"index\",\"scope\":\"18205601446966364342\",\"id\":\"ob_09\",\"type\":\"observable\"},val)) : undefined; return this.valueFromJulia[\"index\"]=false}),self)]\n        \n    }\n    self.model = new AppViewModel();\n    self.valueFromJulia = {};\n    for (var key in json_data) {\n        self.valueFromJulia[key] = false;\n    }\n    ko.applyBindings(self.model, self.dom);\n}\n);\n    (WebIO.importBlock({\"data\":[{\"name\":\"knockout\",\"type\":\"js\",\"url\":\"/assetserver/d8946d3abf581e5a833c85994d32d9051d9a2190-knockout.js\"},{\"name\":\"knockout_punches\",\"type\":\"js\",\"url\":\"/assetserver/f0105926ca82098bf0cc43c9f630d668299c2cd7-knockout_punches.js\"}],\"type\":\"async_block\"})).then((imports) => handler.apply(this, imports));\n}\n"
            ],
            "observables": {
             "changes": {
              "id": "ob_10",
              "sync": false,
              "value": 0
             },
             "index": {
              "id": "ob_09",
              "sync": true,
              "value": 1
             }
            },
            "systemjs_options": null
           },
           "nodeType": "Scope",
           "props": {},
           "type": "node"
          }
         ],
         "instanceArgs": {
          "namespace": "html",
          "tag": "div"
         },
         "nodeType": "DOM",
         "props": {
          "className": "field interact-widget"
         },
         "type": "node"
        },
        {
         "children": [
          {
           "children": [],
           "instanceArgs": {
            "id": "ob_16",
            "name": "obs-node"
           },
           "nodeType": "ObservableNode",
           "props": {},
           "type": "node"
          }
         ],
         "instanceArgs": {
          "handlers": {},
          "id": "674675947894613427",
          "imports": {
           "data": [],
           "type": "async_block"
          },
          "mount_callbacks": [],
          "observables": {
           "obs-node": {
            "id": "ob_16",
            "sync": false,
            "value": {
             "children": [
              {
               "children": [],
               "instanceArgs": {
                "namespace": "html",
                "tag": "div"
               },
               "nodeType": "DOM",
               "props": {
                "setInnerHtml": "<?xml version=\"1.0\" encoding=\"utf-8\"?>\n<svg xmlns=\"http://www.w3.org/2000/svg\" xmlns:xlink=\"http://www.w3.org/1999/xlink\" width=\"600\" height=\"400\" viewBox=\"0 0 2400 1600\">\n<defs>\n  <clipPath id=\"clip2000\">\n    <rect x=\"0\" y=\"0\" width=\"2400\" height=\"1600\"/>\n  </clipPath>\n</defs>\n<path clip-path=\"url(#clip2000)\" d=\"\nM0 1600 L2400 1600 L2400 0 L0 0  Z\n  \" fill=\"#ffffff\" fill-rule=\"evenodd\" fill-opacity=\"1\"/>\n<defs>\n  <clipPath id=\"clip2001\">\n    <rect x=\"480\" y=\"0\" width=\"1681\" height=\"1600\"/>\n  </clipPath>\n</defs>\n<path clip-path=\"url(#clip2000)\" d=\"\nM202.373 1425.62 L2352.76 1425.62 L2352.76 121.675 L202.373 121.675  Z\n  \" fill=\"#ffffff\" fill-rule=\"evenodd\" fill-opacity=\"1\"/>\n<defs>\n  <clipPath id=\"clip2002\">\n    <rect x=\"202\" y=\"121\" width=\"2151\" height=\"1305\"/>\n  </clipPath>\n</defs>\n<polyline clip-path=\"url(#clip2002)\" style=\"stroke:#000000; stroke-width:2; stroke-opacity:0.1; fill:none\" points=\"\n  202.373,1425.62 202.373,121.675 \n  \"/>\n<polyline clip-path=\"url(#clip2002)\" style=\"stroke:#000000; stroke-width:2; stroke-opacity:0.1; fill:none\" points=\"\n  739.969,1425.62 739.969,121.675 \n  \"/>\n<polyline clip-path=\"url(#clip2002)\" style=\"stroke:#000000; stroke-width:2; stroke-opacity:0.1; fill:none\" points=\"\n  1277.56,1425.62 1277.56,121.675 \n  \"/>\n<polyline clip-path=\"url(#clip2002)\" style=\"stroke:#000000; stroke-width:2; stroke-opacity:0.1; fill:none\" points=\"\n  1815.16,1425.62 1815.16,121.675 \n  \"/>\n<polyline clip-path=\"url(#clip2002)\" style=\"stroke:#000000; stroke-width:2; stroke-opacity:0.1; fill:none\" points=\"\n  2352.76,1425.62 2352.76,121.675 \n  \"/>\n<polyline clip-path=\"url(#clip2002)\" style=\"stroke:#000000; stroke-width:2; stroke-opacity:0.1; fill:none\" points=\"\n  202.373,1425.62 2352.76,1425.62 \n  \"/>\n<polyline clip-path=\"url(#clip2002)\" style=\"stroke:#000000; stroke-width:2; stroke-opacity:0.1; fill:none\" points=\"\n  202.373,1099.63 2352.76,1099.63 \n  \"/>\n<polyline clip-path=\"url(#clip2002)\" style=\"stroke:#000000; stroke-width:2; stroke-opacity:0.1; fill:none\" points=\"\n  202.373,773.647 2352.76,773.647 \n  \"/>\n<polyline clip-path=\"url(#clip2002)\" style=\"stroke:#000000; stroke-width:2; stroke-opacity:0.1; fill:none\" points=\"\n  202.373,447.661 2352.76,447.661 \n  \"/>\n<polyline clip-path=\"url(#clip2002)\" style=\"stroke:#000000; stroke-width:2; stroke-opacity:0.1; fill:none\" points=\"\n  202.373,121.675 2352.76,121.675 \n  \"/>\n<polyline clip-path=\"url(#clip2000)\" style=\"stroke:#000000; stroke-width:4; stroke-opacity:1; fill:none\" points=\"\n  202.373,1425.62 2352.76,1425.62 \n  \"/>\n<polyline clip-path=\"url(#clip2000)\" style=\"stroke:#000000; stroke-width:4; stroke-opacity:1; fill:none\" points=\"\n  202.373,1425.62 202.373,121.675 \n  \"/>\n<polyline clip-path=\"url(#clip2000)\" style=\"stroke:#000000; stroke-width:4; stroke-opacity:1; fill:none\" points=\"\n  202.373,1425.62 202.373,1409.97 \n  \"/>\n<polyline clip-path=\"url(#clip2000)\" style=\"stroke:#000000; stroke-width:4; stroke-opacity:1; fill:none\" points=\"\n  739.969,1425.62 739.969,1409.97 \n  \"/>\n<polyline clip-path=\"url(#clip2000)\" style=\"stroke:#000000; stroke-width:4; stroke-opacity:1; fill:none\" points=\"\n  1277.56,1425.62 1277.56,1409.97 \n  \"/>\n<polyline clip-path=\"url(#clip2000)\" style=\"stroke:#000000; stroke-width:4; stroke-opacity:1; fill:none\" points=\"\n  1815.16,1425.62 1815.16,1409.97 \n  \"/>\n<polyline clip-path=\"url(#clip2000)\" style=\"stroke:#000000; stroke-width:4; stroke-opacity:1; fill:none\" points=\"\n  2352.76,1425.62 2352.76,1409.97 \n  \"/>\n<polyline clip-path=\"url(#clip2000)\" style=\"stroke:#000000; stroke-width:4; stroke-opacity:1; fill:none\" points=\"\n  202.373,1425.62 228.178,1425.62 \n  \"/>\n<polyline clip-path=\"url(#clip2000)\" style=\"stroke:#000000; stroke-width:4; stroke-opacity:1; fill:none\" points=\"\n  202.373,1099.63 228.178,1099.63 \n  \"/>\n<polyline clip-path=\"url(#clip2000)\" style=\"stroke:#000000; stroke-width:4; stroke-opacity:1; fill:none\" points=\"\n  202.373,773.647 228.178,773.647 \n  \"/>\n<polyline clip-path=\"url(#clip2000)\" style=\"stroke:#000000; stroke-width:4; stroke-opacity:1; fill:none\" points=\"\n  202.373,447.661 228.178,447.661 \n  \"/>\n<polyline clip-path=\"url(#clip2000)\" style=\"stroke:#000000; stroke-width:4; stroke-opacity:1; fill:none\" points=\"\n  202.373,121.675 228.178,121.675 \n  \"/>\n<g clip-path=\"url(#clip2000)\">\n<text style=\"fill:#000000; fill-opacity:1; font-family:Arial,Helvetica Neue,Helvetica,sans-serif; font-size:48px; text-anchor:middle;\" transform=\"rotate(0, 202.373, 1479.62)\" x=\"202.373\" y=\"1479.62\">0</text>\n</g>\n<g clip-path=\"url(#clip2000)\">\n<text style=\"fill:#000000; fill-opacity:1; font-family:Arial,Helvetica Neue,Helvetica,sans-serif; font-size:48px; text-anchor:middle;\" transform=\"rotate(0, 739.969, 1479.62)\" x=\"739.969\" y=\"1479.62\">5</text>\n</g>\n<g clip-path=\"url(#clip2000)\">\n<text style=\"fill:#000000; fill-opacity:1; font-family:Arial,Helvetica Neue,Helvetica,sans-serif; font-size:48px; text-anchor:middle;\" transform=\"rotate(0, 1277.56, 1479.62)\" x=\"1277.56\" y=\"1479.62\">10</text>\n</g>\n<g clip-path=\"url(#clip2000)\">\n<text style=\"fill:#000000; fill-opacity:1; font-family:Arial,Helvetica Neue,Helvetica,sans-serif; font-size:48px; text-anchor:middle;\" transform=\"rotate(0, 1815.16, 1479.62)\" x=\"1815.16\" y=\"1479.62\">15</text>\n</g>\n<g clip-path=\"url(#clip2000)\">\n<text style=\"fill:#000000; fill-opacity:1; font-family:Arial,Helvetica Neue,Helvetica,sans-serif; font-size:48px; text-anchor:middle;\" transform=\"rotate(0, 2352.76, 1479.62)\" x=\"2352.76\" y=\"1479.62\">20</text>\n</g>\n<g clip-path=\"url(#clip2000)\">\n<text style=\"fill:#000000; fill-opacity:1; font-family:Arial,Helvetica Neue,Helvetica,sans-serif; font-size:48px; text-anchor:end;\" transform=\"rotate(0, 178.373, 1443.12)\" x=\"178.373\" y=\"1443.12\">0</text>\n</g>\n<g clip-path=\"url(#clip2000)\">\n<text style=\"fill:#000000; fill-opacity:1; font-family:Arial,Helvetica Neue,Helvetica,sans-serif; font-size:48px; text-anchor:end;\" transform=\"rotate(0, 178.373, 1117.13)\" x=\"178.373\" y=\"1117.13\">5</text>\n</g>\n<g clip-path=\"url(#clip2000)\">\n<text style=\"fill:#000000; fill-opacity:1; font-family:Arial,Helvetica Neue,Helvetica,sans-serif; font-size:48px; text-anchor:end;\" transform=\"rotate(0, 178.373, 791.147)\" x=\"178.373\" y=\"791.147\">10</text>\n</g>\n<g clip-path=\"url(#clip2000)\">\n<text style=\"fill:#000000; fill-opacity:1; font-family:Arial,Helvetica Neue,Helvetica,sans-serif; font-size:48px; text-anchor:end;\" transform=\"rotate(0, 178.373, 465.161)\" x=\"178.373\" y=\"465.161\">15</text>\n</g>\n<g clip-path=\"url(#clip2000)\">\n<text style=\"fill:#000000; fill-opacity:1; font-family:Arial,Helvetica Neue,Helvetica,sans-serif; font-size:48px; text-anchor:end;\" transform=\"rotate(0, 178.373, 139.175)\" x=\"178.373\" y=\"139.175\">20</text>\n</g>\n<g clip-path=\"url(#clip2000)\">\n<text style=\"fill:#000000; fill-opacity:1; font-family:Arial,Helvetica Neue,Helvetica,sans-serif; font-size:84px; text-anchor:middle;\" transform=\"rotate(0, 1277.56, 73.2)\" x=\"1277.56\" y=\"73.2\">Confirmed Cases around the world</text>\n</g>\n<g clip-path=\"url(#clip2000)\">\n<text style=\"fill:#000000; fill-opacity:1; font-family:Arial,Helvetica Neue,Helvetica,sans-serif; font-size:66px; text-anchor:middle;\" transform=\"rotate(0, 1277.56, 1559.48)\" x=\"1277.56\" y=\"1559.48\">Total cases</text>\n</g>\n<g clip-path=\"url(#clip2000)\">\n<text style=\"fill:#000000; fill-opacity:1; font-family:Arial,Helvetica Neue,Helvetica,sans-serif; font-size:66px; text-anchor:middle;\" transform=\"rotate(-90, 89.2861, 773.647)\" x=\"89.2861\" y=\"773.647\">Recent cases</text>\n</g>\n<path clip-path=\"url(#clip2000)\" d=\"\nM274.373 689.035 L856.796 689.035 L856.796 205.195 L274.373 205.195  Z\n  \" fill=\"#ffffff\" fill-rule=\"evenodd\" fill-opacity=\"1\"/>\n<polyline clip-path=\"url(#clip2000)\" style=\"stroke:#000000; stroke-width:4; stroke-opacity:1; fill:none\" points=\"\n  274.373,689.035 856.796,689.035 856.796,205.195 274.373,205.195 274.373,689.035 \n  \"/>\n<polyline clip-path=\"url(#clip2000)\" style=\"stroke:#009af9; stroke-width:4; stroke-opacity:1; fill:none\" points=\"\n  298.373,265.675 442.373,265.675 \n  \"/>\n<g clip-path=\"url(#clip2000)\">\n<text style=\"fill:#000000; fill-opacity:1; font-family:Arial,Helvetica Neue,Helvetica,sans-serif; font-size:48px; text-anchor:start;\" transform=\"rotate(0, 466.373, 283.175)\" x=\"466.373\" y=\"283.175\">US</text>\n</g>\n<polyline clip-path=\"url(#clip2000)\" style=\"stroke:#e26f46; stroke-width:4; stroke-opacity:1; fill:none\" points=\"\n  298.373,326.155 442.373,326.155 \n  \"/>\n<g clip-path=\"url(#clip2000)\">\n<text style=\"fill:#000000; fill-opacity:1; font-family:Arial,Helvetica Neue,Helvetica,sans-serif; font-size:48px; text-anchor:start;\" transform=\"rotate(0, 466.373, 343.655)\" x=\"466.373\" y=\"343.655\">China</text>\n</g>\n<polyline clip-path=\"url(#clip2000)\" style=\"stroke:#3da44d; stroke-width:4; stroke-opacity:1; fill:none\" points=\"\n  298.373,386.635 442.373,386.635 \n  \"/>\n<g clip-path=\"url(#clip2000)\">\n<text style=\"fill:#000000; fill-opacity:1; font-family:Arial,Helvetica Neue,Helvetica,sans-serif; font-size:48px; text-anchor:start;\" transform=\"rotate(0, 466.373, 404.135)\" x=\"466.373\" y=\"404.135\">Japan</text>\n</g>\n<polyline clip-path=\"url(#clip2000)\" style=\"stroke:#c271d2; stroke-width:4; stroke-opacity:1; fill:none\" points=\"\n  298.373,447.115 442.373,447.115 \n  \"/>\n<g clip-path=\"url(#clip2000)\">\n<text style=\"fill:#000000; fill-opacity:1; font-family:Arial,Helvetica Neue,Helvetica,sans-serif; font-size:48px; text-anchor:start;\" transform=\"rotate(0, 466.373, 464.615)\" x=\"466.373\" y=\"464.615\">Korea, South</text>\n</g>\n<polyline clip-path=\"url(#clip2000)\" style=\"stroke:#ac8d18; stroke-width:4; stroke-opacity:1; fill:none\" points=\"\n  298.373,507.595 442.373,507.595 \n  \"/>\n<g clip-path=\"url(#clip2000)\">\n<text style=\"fill:#000000; fill-opacity:1; font-family:Arial,Helvetica Neue,Helvetica,sans-serif; font-size:48px; text-anchor:start;\" transform=\"rotate(0, 466.373, 525.095)\" x=\"466.373\" y=\"525.095\">United Kingdom</text>\n</g>\n<polyline clip-path=\"url(#clip2000)\" style=\"stroke:#00a9ad; stroke-width:4; stroke-opacity:1; fill:none\" points=\"\n  298.373,568.075 442.373,568.075 \n  \"/>\n<g clip-path=\"url(#clip2000)\">\n<text style=\"fill:#000000; fill-opacity:1; font-family:Arial,Helvetica Neue,Helvetica,sans-serif; font-size:48px; text-anchor:start;\" transform=\"rotate(0, 466.373, 585.575)\" x=\"466.373\" y=\"585.575\">France</text>\n</g>\n<polyline clip-path=\"url(#clip2000)\" style=\"stroke:#ed5d92; stroke-width:4; stroke-opacity:1; fill:none\" points=\"\n  298.373,628.555 442.373,628.555 \n  \"/>\n<g clip-path=\"url(#clip2000)\">\n<text style=\"fill:#000000; fill-opacity:1; font-family:Arial,Helvetica Neue,Helvetica,sans-serif; font-size:48px; text-anchor:start;\" transform=\"rotate(0, 466.373, 646.055)\" x=\"466.373\" y=\"646.055\">Germany</text>\n</g>\n<g clip-path=\"url(#clip2000)\">\n<text style=\"fill:#000000; fill-opacity:1; font-family:Arial,Helvetica Neue,Helvetica,sans-serif; font-size:59px; text-anchor:middle;\" transform=\"rotate(0, 202.373, 1447.12)\" x=\"202.373\" y=\"1447.12\">US</text>\n</g>\n<g clip-path=\"url(#clip2000)\">\n<text style=\"fill:#000000; fill-opacity:1; font-family:Arial,Helvetica Neue,Helvetica,sans-serif; font-size:59px; text-anchor:middle;\" transform=\"rotate(0, 880.418, 1035.97)\" x=\"880.418\" y=\"1035.97\">China</text>\n</g>\n<g clip-path=\"url(#clip2000)\">\n<text style=\"fill:#000000; fill-opacity:1; font-family:Arial,Helvetica Neue,Helvetica,sans-serif; font-size:59px; text-anchor:middle;\" transform=\"rotate(0, 276.9, 1401.93)\" x=\"276.9\" y=\"1401.93\">Japan</text>\n</g>\n<g clip-path=\"url(#clip2000)\">\n<text style=\"fill:#000000; fill-opacity:1; font-family:Arial,Helvetica Neue,Helvetica,sans-serif; font-size:59px; text-anchor:middle;\" transform=\"rotate(0, 202.373, 1447.12)\" x=\"202.373\" y=\"1447.12\">Korea, South</text>\n</g>\n<g clip-path=\"url(#clip2000)\">\n<text style=\"fill:#000000; fill-opacity:1; font-family:Arial,Helvetica Neue,Helvetica,sans-serif; font-size:59px; text-anchor:middle;\" transform=\"rotate(0, nan, nan)\" x=\"nan\" y=\"nan\">United Kingdom</text>\n</g>\n<g clip-path=\"url(#clip2000)\">\n<text style=\"fill:#000000; fill-opacity:1; font-family:Arial,Helvetica Neue,Helvetica,sans-serif; font-size:59px; text-anchor:middle;\" transform=\"rotate(0, nan, nan)\" x=\"nan\" y=\"nan\">France</text>\n</g>\n<g clip-path=\"url(#clip2000)\">\n<text style=\"fill:#000000; fill-opacity:1; font-family:Arial,Helvetica Neue,Helvetica,sans-serif; font-size:59px; text-anchor:middle;\" transform=\"rotate(0, nan, nan)\" x=\"nan\" y=\"nan\">Germany</text>\n</g>\n</svg>\n"
               },
               "type": "node"
              }
             ],
             "instanceArgs": {
              "namespace": "html",
              "tag": "div"
             },
             "nodeType": "DOM",
             "props": {
              "className": "interact-flex-row interact-widget"
             },
             "type": "node"
            }
           }
          },
          "systemjs_options": null
         },
         "nodeType": "Scope",
         "props": {},
         "type": "node"
        }
       ],
       "instanceArgs": {
        "namespace": "html",
        "tag": "div"
       },
       "nodeType": "DOM",
       "props": {},
       "type": "node"
      },
      "text/html": [
       "<div\n",
       "    class=\"webio-mountpoint\"\n",
       "    data-webio-mountpoint=\"3560271382870787574\"\n",
       ">\n",
       "    <script>\n",
       "    if (window.require && require.defined && require.defined(\"nbextensions/webio-jupyter-notebook\")) {\n",
       "        console.log(\"Jupyter WebIO extension detected, not mounting.\");\n",
       "    } else if (window.WebIO) {\n",
       "        WebIO.mount(\n",
       "            document.querySelector('[data-webio-mountpoint=\"3560271382870787574\"]'),\n",
       "            {\"props\":{},\"nodeType\":\"DOM\",\"type\":\"node\",\"instanceArgs\":{\"namespace\":\"html\",\"tag\":\"div\"},\"children\":[{\"props\":{\"className\":\"field interact-widget\"},\"nodeType\":\"DOM\",\"type\":\"node\",\"instanceArgs\":{\"namespace\":\"html\",\"tag\":\"div\"},\"children\":[{\"props\":{},\"nodeType\":\"Scope\",\"type\":\"node\",\"instanceArgs\":{\"imports\":{\"data\":[{\"name\":\"knockout\",\"type\":\"js\",\"url\":\"\\/assetserver\\/d8946d3abf581e5a833c85994d32d9051d9a2190-knockout.js\"},{\"name\":\"knockout_punches\",\"type\":\"js\",\"url\":\"\\/assetserver\\/f0105926ca82098bf0cc43c9f630d668299c2cd7-knockout_punches.js\"},{\"name\":null,\"type\":\"js\",\"url\":\"\\/assetserver\\/704e5d0cf77e2817714de26245cbbd0ed37344f1-all.js\"},{\"name\":null,\"type\":\"css\",\"url\":\"\\/assetserver\\/c20438aea7cddd6cb9a01e595cfcda275fddbf2a-style.css\"},{\"name\":null,\"type\":\"css\",\"url\":\"\\/assetserver\\/4980a02882c8523aafa0b412f0f004c9f340422a-bulma_confined.min.css\"}],\"type\":\"async_block\"},\"id\":\"18205601446966364342\",\"handlers\":{\"changes\":[\"(function (val){return (val!=this.model[\\\"changes\\\"]()) ? (this.valueFromJulia[\\\"changes\\\"]=true, this.model[\\\"changes\\\"](val)) : undefined})\"],\"index\":[\"(function (val){return (val!=this.model[\\\"index\\\"]()) ? (this.valueFromJulia[\\\"index\\\"]=true, this.model[\\\"index\\\"](val)) : undefined})\"]},\"systemjs_options\":null,\"mount_callbacks\":[\"function () {\\n    var handler = (function (ko, koPunches) {\\n    ko.punches.enableAll();\\n    ko.bindingHandlers.numericValue = {\\n        init: function(element, valueAccessor, allBindings, data, context) {\\n            var stringified = ko.observable(ko.unwrap(valueAccessor()));\\n            stringified.subscribe(function(value) {\\n                var val = parseFloat(value);\\n                if (!isNaN(val)) {\\n                    valueAccessor()(val);\\n                }\\n            });\\n            valueAccessor().subscribe(function(value) {\\n                var str = JSON.stringify(value);\\n                if ((str == \\\"0\\\") && ([\\\"-0\\\", \\\"-0.\\\"].indexOf(stringified()) >= 0))\\n                     return;\\n                 if ([\\\"null\\\", \\\"\\\"].indexOf(str) >= 0)\\n                     return;\\n                stringified(str);\\n            });\\n            ko.applyBindingsToNode(\\n                element,\\n                {\\n                    value: stringified,\\n                    valueUpdate: allBindings.get('valueUpdate'),\\n                },\\n                context,\\n            );\\n        }\\n    };\\n    var json_data = {\\\"formatted_vals\\\":[\\\"1\\\",\\\"2\\\",\\\"3\\\",\\\"4\\\",\\\"5\\\",\\\"6\\\",\\\"7\\\",\\\"8\\\",\\\"9\\\",\\\"10\\\",\\\"11\\\",\\\"12\\\",\\\"13\\\",\\\"14\\\",\\\"15\\\",\\\"16\\\",\\\"17\\\",\\\"18\\\",\\\"19\\\",\\\"20\\\",\\\"21\\\",\\\"22\\\",\\\"23\\\",\\\"24\\\",\\\"25\\\",\\\"26\\\",\\\"27\\\",\\\"28\\\",\\\"29\\\",\\\"30\\\",\\\"31\\\",\\\"32\\\",\\\"33\\\",\\\"34\\\",\\\"35\\\",\\\"36\\\",\\\"37\\\",\\\"38\\\",\\\"39\\\",\\\"40\\\",\\\"41\\\",\\\"42\\\",\\\"43\\\",\\\"44\\\",\\\"45\\\",\\\"46\\\",\\\"47\\\",\\\"48\\\",\\\"49\\\",\\\"50\\\",\\\"51\\\",\\\"52\\\",\\\"53\\\",\\\"54\\\",\\\"55\\\",\\\"56\\\",\\\"57\\\",\\\"58\\\",\\\"59\\\",\\\"60\\\",\\\"61\\\",\\\"62\\\",\\\"63\\\",\\\"64\\\",\\\"65\\\",\\\"66\\\",\\\"67\\\",\\\"68\\\",\\\"69\\\",\\\"70\\\",\\\"71\\\",\\\"72\\\",\\\"73\\\",\\\"74\\\",\\\"75\\\",\\\"76\\\",\\\"77\\\",\\\"78\\\",\\\"79\\\"],\\\"changes\\\":WebIO.getval({\\\"name\\\":\\\"changes\\\",\\\"scope\\\":\\\"18205601446966364342\\\",\\\"id\\\":\\\"ob_10\\\",\\\"type\\\":\\\"observable\\\"}),\\\"index\\\":WebIO.getval({\\\"name\\\":\\\"index\\\",\\\"scope\\\":\\\"18205601446966364342\\\",\\\"id\\\":\\\"ob_09\\\",\\\"type\\\":\\\"observable\\\"})};\\n    var self = this;\\n    function AppViewModel() {\\n        for (var key in json_data) {\\n            var el = json_data[key];\\n            this[key] = Array.isArray(el) ? ko.observableArray(el) : ko.observable(el);\\n        }\\n        \\n        [this[\\\"formatted_val\\\"]=ko.computed(    function(){\\n        return this.formatted_vals()[parseInt(this.index())-(1)];\\n    }\\n,this)]\\n        [this[\\\"changes\\\"].subscribe((function (val){!(this.valueFromJulia[\\\"changes\\\"]) ? (WebIO.setval({\\\"name\\\":\\\"changes\\\",\\\"scope\\\":\\\"18205601446966364342\\\",\\\"id\\\":\\\"ob_10\\\",\\\"type\\\":\\\"observable\\\"},val)) : undefined; return this.valueFromJulia[\\\"changes\\\"]=false}),self),this[\\\"index\\\"].subscribe((function (val){!(this.valueFromJulia[\\\"index\\\"]) ? (WebIO.setval({\\\"name\\\":\\\"index\\\",\\\"scope\\\":\\\"18205601446966364342\\\",\\\"id\\\":\\\"ob_09\\\",\\\"type\\\":\\\"observable\\\"},val)) : undefined; return this.valueFromJulia[\\\"index\\\"]=false}),self)]\\n        \\n    }\\n    self.model = new AppViewModel();\\n    self.valueFromJulia = {};\\n    for (var key in json_data) {\\n        self.valueFromJulia[key] = false;\\n    }\\n    ko.applyBindings(self.model, self.dom);\\n}\\n);\\n    (WebIO.importBlock({\\\"data\\\":[{\\\"name\\\":\\\"knockout\\\",\\\"type\\\":\\\"js\\\",\\\"url\\\":\\\"\\/assetserver\\/d8946d3abf581e5a833c85994d32d9051d9a2190-knockout.js\\\"},{\\\"name\\\":\\\"knockout_punches\\\",\\\"type\\\":\\\"js\\\",\\\"url\\\":\\\"\\/assetserver\\/f0105926ca82098bf0cc43c9f630d668299c2cd7-knockout_punches.js\\\"}],\\\"type\\\":\\\"async_block\\\"})).then((imports) => handler.apply(this, imports));\\n}\\n\"],\"observables\":{\"changes\":{\"sync\":false,\"id\":\"ob_10\",\"value\":0},\"index\":{\"sync\":true,\"id\":\"ob_09\",\"value\":1}}},\"children\":[{\"props\":{\"className\":\"interact-flex-row interact-widget\"},\"nodeType\":\"DOM\",\"type\":\"node\",\"instanceArgs\":{\"namespace\":\"html\",\"tag\":\"div\"},\"children\":[{\"props\":{\"className\":\"interact-flex-row-left\"},\"nodeType\":\"DOM\",\"type\":\"node\",\"instanceArgs\":{\"namespace\":\"html\",\"tag\":\"div\"},\"children\":[{\"props\":{\"className\":\"interact \",\"style\":{\"padding\":\"5px 10px 0px 10px\"}},\"nodeType\":\"DOM\",\"type\":\"node\",\"instanceArgs\":{\"namespace\":\"html\",\"tag\":\"label\"},\"children\":[\"\"]}]},{\"props\":{\"className\":\"interact-flex-row-center\"},\"nodeType\":\"DOM\",\"type\":\"node\",\"instanceArgs\":{\"namespace\":\"html\",\"tag\":\"div\"},\"children\":[{\"props\":{\"max\":79,\"min\":1,\"attributes\":{\"type\":\"range\",\"data-bind\":\"numericValue: index, valueUpdate: 'input', event: {change: function (){this.changes(this.changes()+1)}}\",\"orient\":\"horizontal\"},\"step\":1,\"className\":\"slider slider is-fullwidth\",\"style\":{}},\"nodeType\":\"DOM\",\"type\":\"node\",\"instanceArgs\":{\"namespace\":\"html\",\"tag\":\"input\"},\"children\":[]}]},{\"props\":{\"className\":\"interact-flex-row-right\"},\"nodeType\":\"DOM\",\"type\":\"node\",\"instanceArgs\":{\"namespace\":\"html\",\"tag\":\"div\"},\"children\":[{\"props\":{\"attributes\":{\"data-bind\":\"text: formatted_val\"}},\"nodeType\":\"DOM\",\"type\":\"node\",\"instanceArgs\":{\"namespace\":\"html\",\"tag\":\"p\"},\"children\":[]}]}]}]}]},{\"props\":{},\"nodeType\":\"Scope\",\"type\":\"node\",\"instanceArgs\":{\"imports\":{\"data\":[],\"type\":\"async_block\"},\"id\":\"13730020711463757769\",\"handlers\":{},\"systemjs_options\":null,\"mount_callbacks\":[],\"observables\":{\"obs-node\":{\"sync\":false,\"id\":\"ob_14\",\"value\":{\"props\":{\"className\":\"interact-flex-row interact-widget\"},\"nodeType\":\"DOM\",\"type\":\"node\",\"instanceArgs\":{\"namespace\":\"html\",\"tag\":\"div\"},\"children\":[{\"props\":{\"setInnerHtml\":\"<?xml version=\\\"1.0\\\" encoding=\\\"utf-8\\\"?>\\n<svg xmlns=\\\"http:\\/\\/www.w3.org\\/2000\\/svg\\\" xmlns:xlink=\\\"http:\\/\\/www.w3.org\\/1999\\/xlink\\\" width=\\\"600\\\" height=\\\"400\\\" viewBox=\\\"0 0 2400 1600\\\">\\n<defs>\\n  <clipPath id=\\\"clip1600\\\">\\n    <rect x=\\\"0\\\" y=\\\"0\\\" width=\\\"2400\\\" height=\\\"1600\\\"\\/>\\n  <\\/clipPath>\\n<\\/defs>\\n<path clip-path=\\\"url(#clip1600)\\\" d=\\\"\\nM0 1600 L2400 1600 L2400 0 L0 0  Z\\n  \\\" fill=\\\"#ffffff\\\" fill-rule=\\\"evenodd\\\" fill-opacity=\\\"1\\\"\\/>\\n<defs>\\n  <clipPath id=\\\"clip1601\\\">\\n    <rect x=\\\"480\\\" y=\\\"0\\\" width=\\\"1681\\\" height=\\\"1600\\\"\\/>\\n  <\\/clipPath>\\n<\\/defs>\\n<path clip-path=\\\"url(#clip1600)\\\" d=\\\"\\nM202.373 1425.62 L2352.76 1425.62 L2352.76 121.675 L202.373 121.675  Z\\n  \\\" fill=\\\"#ffffff\\\" fill-rule=\\\"evenodd\\\" fill-opacity=\\\"1\\\"\\/>\\n<defs>\\n  <clipPath id=\\\"clip1602\\\">\\n    <rect x=\\\"202\\\" y=\\\"121\\\" width=\\\"2151\\\" height=\\\"1305\\\"\\/>\\n  <\\/clipPath>\\n<\\/defs>\\n<polyline clip-path=\\\"url(#clip1602)\\\" style=\\\"stroke:#000000; stroke-width:2; stroke-opacity:0.1; fill:none\\\" points=\\\"\\n  202.373,1425.62 202.373,121.675 \\n  \\\"\\/>\\n<polyline clip-path=\\\"url(#clip1602)\\\" style=\\\"stroke:#000000; stroke-width:2; stroke-opacity:0.1; fill:none\\\" points=\\\"\\n  739.969,1425.62 739.969,121.675 \\n  \\\"\\/>\\n<polyline clip-path=\\\"url(#clip1602)\\\" style=\\\"stroke:#000000; stroke-width:2; stroke-opacity:0.1; fill:none\\\" points=\\\"\\n  1277.56,1425.62 1277.56,121.675 \\n  \\\"\\/>\\n<polyline clip-path=\\\"url(#clip1602)\\\" style=\\\"stroke:#000000; stroke-width:2; stroke-opacity:0.1; fill:none\\\" points=\\\"\\n  1815.16,1425.62 1815.16,121.675 \\n  \\\"\\/>\\n<polyline clip-path=\\\"url(#clip1602)\\\" style=\\\"stroke:#000000; stroke-width:2; stroke-opacity:0.1; fill:none\\\" points=\\\"\\n  2352.76,1425.62 2352.76,121.675 \\n  \\\"\\/>\\n<polyline clip-path=\\\"url(#clip1602)\\\" style=\\\"stroke:#000000; stroke-width:2; stroke-opacity:0.1; fill:none\\\" points=\\\"\\n  202.373,1425.62 2352.76,1425.62 \\n  \\\"\\/>\\n<polyline clip-path=\\\"url(#clip1602)\\\" style=\\\"stroke:#000000; stroke-width:2; stroke-opacity:0.1; fill:none\\\" points=\\\"\\n  202.373,1099.63 2352.76,1099.63 \\n  \\\"\\/>\\n<polyline clip-path=\\\"url(#clip1602)\\\" style=\\\"stroke:#000000; stroke-width:2; stroke-opacity:0.1; fill:none\\\" points=\\\"\\n  202.373,773.647 2352.76,773.647 \\n  \\\"\\/>\\n<polyline clip-path=\\\"url(#clip1602)\\\" style=\\\"stroke:#000000; stroke-width:2; stroke-opacity:0.1; fill:none\\\" points=\\\"\\n  202.373,447.661 2352.76,447.661 \\n  \\\"\\/>\\n<polyline clip-path=\\\"url(#clip1602)\\\" style=\\\"stroke:#000000; stroke-width:2; stroke-opacity:0.1; fill:none\\\" points=\\\"\\n  202.373,121.675 2352.76,121.675 \\n  \\\"\\/>\\n<polyline clip-path=\\\"url(#clip1600)\\\" style=\\\"stroke:#000000; stroke-width:4; stroke-opacity:1; fill:none\\\" points=\\\"\\n  202.373,1425.62 2352.76,1425.62 \\n  \\\"\\/>\\n<polyline clip-path=\\\"url(#clip1600)\\\" style=\\\"stroke:#000000; stroke-width:4; stroke-opacity:1; fill:none\\\" points=\\\"\\n  202.373,1425.62 202.373,121.675 \\n  \\\"\\/>\\n<polyline clip-path=\\\"url(#clip1600)\\\" style=\\\"stroke:#000000; stroke-width:4; stroke-opacity:1; fill:none\\\" points=\\\"\\n  202.373,1425.62 202.373,1409.97 \\n  \\\"\\/>\\n<polyline clip-path=\\\"url(#clip1600)\\\" style=\\\"stroke:#000000; stroke-width:4; stroke-opacity:1; fill:none\\\" points=\\\"\\n  739.969,1425.62 739.969,1409.97 \\n  \\\"\\/>\\n<polyline clip-path=\\\"url(#clip1600)\\\" style=\\\"stroke:#000000; stroke-width:4; stroke-opacity:1; fill:none\\\" points=\\\"\\n  1277.56,1425.62 1277.56,1409.97 \\n  \\\"\\/>\\n<polyline clip-path=\\\"url(#clip1600)\\\" style=\\\"stroke:#000000; stroke-width:4; stroke-opacity:1; fill:none\\\" points=\\\"\\n  1815.16,1425.62 1815.16,1409.97 \\n  \\\"\\/>\\n<polyline clip-path=\\\"url(#clip1600)\\\" style=\\\"stroke:#000000; stroke-width:4; stroke-opacity:1; fill:none\\\" points=\\\"\\n  2352.76,1425.62 2352.76,1409.97 \\n  \\\"\\/>\\n<polyline clip-path=\\\"url(#clip1600)\\\" style=\\\"stroke:#000000; stroke-width:4; stroke-opacity:1; fill:none\\\" points=\\\"\\n  202.373,1425.62 228.178,1425.62 \\n  \\\"\\/>\\n<polyline clip-path=\\\"url(#clip1600)\\\" style=\\\"stroke:#000000; stroke-width:4; stroke-opacity:1; fill:none\\\" points=\\\"\\n  202.373,1099.63 228.178,1099.63 \\n  \\\"\\/>\\n<polyline clip-path=\\\"url(#clip1600)\\\" style=\\\"stroke:#000000; stroke-width:4; stroke-opacity:1; fill:none\\\" points=\\\"\\n  202.373,773.647 228.178,773.647 \\n  \\\"\\/>\\n<polyline clip-path=\\\"url(#clip1600)\\\" style=\\\"stroke:#000000; stroke-width:4; stroke-opacity:1; fill:none\\\" points=\\\"\\n  202.373,447.661 228.178,447.661 \\n  \\\"\\/>\\n<polyline clip-path=\\\"url(#clip1600)\\\" style=\\\"stroke:#000000; stroke-width:4; stroke-opacity:1; fill:none\\\" points=\\\"\\n  202.373,121.675 228.178,121.675 \\n  \\\"\\/>\\n<g clip-path=\\\"url(#clip1600)\\\">\\n<text style=\\\"fill:#000000; fill-opacity:1; font-family:Arial,Helvetica Neue,Helvetica,sans-serif; font-size:48px; text-anchor:middle;\\\" transform=\\\"rotate(0, 202.373, 1479.62)\\\" x=\\\"202.373\\\" y=\\\"1479.62\\\">0<\\/text>\\n<\\/g>\\n<g clip-path=\\\"url(#clip1600)\\\">\\n<text style=\\\"fill:#000000; fill-opacity:1; font-family:Arial,Helvetica Neue,Helvetica,sans-serif; font-size:48px; text-anchor:middle;\\\" transform=\\\"rotate(0, 739.969, 1479.62)\\\" x=\\\"739.969\\\" y=\\\"1479.62\\\">5<\\/text>\\n<\\/g>\\n<g clip-path=\\\"url(#clip1600)\\\">\\n<text style=\\\"fill:#000000; fill-opacity:1; font-family:Arial,Helvetica Neue,Helvetica,sans-serif; font-size:48px; text-anchor:middle;\\\" transform=\\\"rotate(0, 1277.56, 1479.62)\\\" x=\\\"1277.56\\\" y=\\\"1479.62\\\">10<\\/text>\\n<\\/g>\\n<g clip-path=\\\"url(#clip1600)\\\">\\n<text style=\\\"fill:#000000; fill-opacity:1; font-family:Arial,Helvetica Neue,Helvetica,sans-serif; font-size:48px; text-anchor:middle;\\\" transform=\\\"rotate(0, 1815.16, 1479.62)\\\" x=\\\"1815.16\\\" y=\\\"1479.62\\\">15<\\/text>\\n<\\/g>\\n<g clip-path=\\\"url(#clip1600)\\\">\\n<text style=\\\"fill:#000000; fill-opacity:1; font-family:Arial,Helvetica Neue,Helvetica,sans-serif; font-size:48px; text-anchor:middle;\\\" transform=\\\"rotate(0, 2352.76, 1479.62)\\\" x=\\\"2352.76\\\" y=\\\"1479.62\\\">20<\\/text>\\n<\\/g>\\n<g clip-path=\\\"url(#clip1600)\\\">\\n<text style=\\\"fill:#000000; fill-opacity:1; font-family:Arial,Helvetica Neue,Helvetica,sans-serif; font-size:48px; text-anchor:end;\\\" transform=\\\"rotate(0, 178.373, 1443.12)\\\" x=\\\"178.373\\\" y=\\\"1443.12\\\">0<\\/text>\\n<\\/g>\\n<g clip-path=\\\"url(#clip1600)\\\">\\n<text style=\\\"fill:#000000; fill-opacity:1; font-family:Arial,Helvetica Neue,Helvetica,sans-serif; font-size:48px; text-anchor:end;\\\" transform=\\\"rotate(0, 178.373, 1117.13)\\\" x=\\\"178.373\\\" y=\\\"1117.13\\\">5<\\/text>\\n<\\/g>\\n<g clip-path=\\\"url(#clip1600)\\\">\\n<text style=\\\"fill:#000000; fill-opacity:1; font-family:Arial,Helvetica Neue,Helvetica,sans-serif; font-size:48px; text-anchor:end;\\\" transform=\\\"rotate(0, 178.373, 791.147)\\\" x=\\\"178.373\\\" y=\\\"791.147\\\">10<\\/text>\\n<\\/g>\\n<g clip-path=\\\"url(#clip1600)\\\">\\n<text style=\\\"fill:#000000; fill-opacity:1; font-family:Arial,Helvetica Neue,Helvetica,sans-serif; font-size:48px; text-anchor:end;\\\" transform=\\\"rotate(0, 178.373, 465.161)\\\" x=\\\"178.373\\\" y=\\\"465.161\\\">15<\\/text>\\n<\\/g>\\n<g clip-path=\\\"url(#clip1600)\\\">\\n<text style=\\\"fill:#000000; fill-opacity:1; font-family:Arial,Helvetica Neue,Helvetica,sans-serif; font-size:48px; text-anchor:end;\\\" transform=\\\"rotate(0, 178.373, 139.175)\\\" x=\\\"178.373\\\" y=\\\"139.175\\\">20<\\/text>\\n<\\/g>\\n<g clip-path=\\\"url(#clip1600)\\\">\\n<text style=\\\"fill:#000000; fill-opacity:1; font-family:Arial,Helvetica Neue,Helvetica,sans-serif; font-size:84px; text-anchor:middle;\\\" transform=\\\"rotate(0, 1277.56, 73.2)\\\" x=\\\"1277.56\\\" y=\\\"73.2\\\">Confirmed Cases around the world<\\/text>\\n<\\/g>\\n<g clip-path=\\\"url(#clip1600)\\\">\\n<text style=\\\"fill:#000000; fill-opacity:1; font-family:Arial,Helvetica Neue,Helvetica,sans-serif; font-size:66px; text-anchor:middle;\\\" transform=\\\"rotate(0, 1277.56, 1559.48)\\\" x=\\\"1277.56\\\" y=\\\"1559.48\\\">Total cases<\\/text>\\n<\\/g>\\n<g clip-path=\\\"url(#clip1600)\\\">\\n<text style=\\\"fill:#000000; fill-opacity:1; font-family:Arial,Helvetica Neue,Helvetica,sans-serif; font-size:66px; text-anchor:middle;\\\" transform=\\\"rotate(-90, 89.2861, 773.647)\\\" x=\\\"89.2861\\\" y=\\\"773.647\\\">Recent cases<\\/text>\\n<\\/g>\\n<path clip-path=\\\"url(#clip1600)\\\" d=\\\"\\nM274.373 689.035 L856.796 689.035 L856.796 205.195 L274.373 205.195  Z\\n  \\\" fill=\\\"#ffffff\\\" fill-rule=\\\"evenodd\\\" fill-opacity=\\\"1\\\"\\/>\\n<polyline clip-path=\\\"url(#clip1600)\\\" style=\\\"stroke:#000000; stroke-width:4; stroke-opacity:1; fill:none\\\" points=\\\"\\n  274.373,689.035 856.796,689.035 856.796,205.195 274.373,205.195 274.373,689.035 \\n  \\\"\\/>\\n<polyline clip-path=\\\"url(#clip1600)\\\" style=\\\"stroke:#009af9; stroke-width:4; stroke-opacity:1; fill:none\\\" points=\\\"\\n  298.373,265.675 442.373,265.675 \\n  \\\"\\/>\\n<g clip-path=\\\"url(#clip1600)\\\">\\n<text style=\\\"fill:#000000; fill-opacity:1; font-family:Arial,Helvetica Neue,Helvetica,sans-serif; font-size:48px; text-anchor:start;\\\" transform=\\\"rotate(0, 466.373, 283.175)\\\" x=\\\"466.373\\\" y=\\\"283.175\\\">US<\\/text>\\n<\\/g>\\n<polyline clip-path=\\\"url(#clip1600)\\\" style=\\\"stroke:#e26f46; stroke-width:4; stroke-opacity:1; fill:none\\\" points=\\\"\\n  298.373,326.155 442.373,326.155 \\n  \\\"\\/>\\n<g clip-path=\\\"url(#clip1600)\\\">\\n<text style=\\\"fill:#000000; fill-opacity:1; font-family:Arial,Helvetica Neue,Helvetica,sans-serif; font-size:48px; text-anchor:start;\\\" transform=\\\"rotate(0, 466.373, 343.655)\\\" x=\\\"466.373\\\" y=\\\"343.655\\\">China<\\/text>\\n<\\/g>\\n<polyline clip-path=\\\"url(#clip1600)\\\" style=\\\"stroke:#3da44d; stroke-width:4; stroke-opacity:1; fill:none\\\" points=\\\"\\n  298.373,386.635 442.373,386.635 \\n  \\\"\\/>\\n<g clip-path=\\\"url(#clip1600)\\\">\\n<text style=\\\"fill:#000000; fill-opacity:1; font-family:Arial,Helvetica Neue,Helvetica,sans-serif; font-size:48px; text-anchor:start;\\\" transform=\\\"rotate(0, 466.373, 404.135)\\\" x=\\\"466.373\\\" y=\\\"404.135\\\">Japan<\\/text>\\n<\\/g>\\n<polyline clip-path=\\\"url(#clip1600)\\\" style=\\\"stroke:#c271d2; stroke-width:4; stroke-opacity:1; fill:none\\\" points=\\\"\\n  298.373,447.115 442.373,447.115 \\n  \\\"\\/>\\n<g clip-path=\\\"url(#clip1600)\\\">\\n<text style=\\\"fill:#000000; fill-opacity:1; font-family:Arial,Helvetica Neue,Helvetica,sans-serif; font-size:48px; text-anchor:start;\\\" transform=\\\"rotate(0, 466.373, 464.615)\\\" x=\\\"466.373\\\" y=\\\"464.615\\\">Korea, South<\\/text>\\n<\\/g>\\n<polyline clip-path=\\\"url(#clip1600)\\\" style=\\\"stroke:#ac8d18; stroke-width:4; stroke-opacity:1; fill:none\\\" points=\\\"\\n  298.373,507.595 442.373,507.595 \\n  \\\"\\/>\\n<g clip-path=\\\"url(#clip1600)\\\">\\n<text style=\\\"fill:#000000; fill-opacity:1; font-family:Arial,Helvetica Neue,Helvetica,sans-serif; font-size:48px; text-anchor:start;\\\" transform=\\\"rotate(0, 466.373, 525.095)\\\" x=\\\"466.373\\\" y=\\\"525.095\\\">United Kingdom<\\/text>\\n<\\/g>\\n<polyline clip-path=\\\"url(#clip1600)\\\" style=\\\"stroke:#00a9ad; stroke-width:4; stroke-opacity:1; fill:none\\\" points=\\\"\\n  298.373,568.075 442.373,568.075 \\n  \\\"\\/>\\n<g clip-path=\\\"url(#clip1600)\\\">\\n<text style=\\\"fill:#000000; fill-opacity:1; font-family:Arial,Helvetica Neue,Helvetica,sans-serif; font-size:48px; text-anchor:start;\\\" transform=\\\"rotate(0, 466.373, 585.575)\\\" x=\\\"466.373\\\" y=\\\"585.575\\\">France<\\/text>\\n<\\/g>\\n<polyline clip-path=\\\"url(#clip1600)\\\" style=\\\"stroke:#ed5d92; stroke-width:4; stroke-opacity:1; fill:none\\\" points=\\\"\\n  298.373,628.555 442.373,628.555 \\n  \\\"\\/>\\n<g clip-path=\\\"url(#clip1600)\\\">\\n<text style=\\\"fill:#000000; fill-opacity:1; font-family:Arial,Helvetica Neue,Helvetica,sans-serif; font-size:48px; text-anchor:start;\\\" transform=\\\"rotate(0, 466.373, 646.055)\\\" x=\\\"466.373\\\" y=\\\"646.055\\\">Germany<\\/text>\\n<\\/g>\\n<g clip-path=\\\"url(#clip1600)\\\">\\n<text style=\\\"fill:#000000; fill-opacity:1; font-family:Arial,Helvetica Neue,Helvetica,sans-serif; font-size:59px; text-anchor:middle;\\\" transform=\\\"rotate(0, 202.373, 1447.12)\\\" x=\\\"202.373\\\" y=\\\"1447.12\\\">US<\\/text>\\n<\\/g>\\n<g clip-path=\\\"url(#clip1600)\\\">\\n<text style=\\\"fill:#000000; fill-opacity:1; font-family:Arial,Helvetica Neue,Helvetica,sans-serif; font-size:59px; text-anchor:middle;\\\" transform=\\\"rotate(0, 880.418, 1035.97)\\\" x=\\\"880.418\\\" y=\\\"1035.97\\\">China<\\/text>\\n<\\/g>\\n<g clip-path=\\\"url(#clip1600)\\\">\\n<text style=\\\"fill:#000000; fill-opacity:1; font-family:Arial,Helvetica Neue,Helvetica,sans-serif; font-size:59px; text-anchor:middle;\\\" transform=\\\"rotate(0, 276.9, 1401.93)\\\" x=\\\"276.9\\\" y=\\\"1401.93\\\">Japan<\\/text>\\n<\\/g>\\n<g clip-path=\\\"url(#clip1600)\\\">\\n<text style=\\\"fill:#000000; fill-opacity:1; font-family:Arial,Helvetica Neue,Helvetica,sans-serif; font-size:59px; text-anchor:middle;\\\" transform=\\\"rotate(0, 202.373, 1447.12)\\\" x=\\\"202.373\\\" y=\\\"1447.12\\\">Korea, South<\\/text>\\n<\\/g>\\n<g clip-path=\\\"url(#clip1600)\\\">\\n<text style=\\\"fill:#000000; fill-opacity:1; font-family:Arial,Helvetica Neue,Helvetica,sans-serif; font-size:59px; text-anchor:middle;\\\" transform=\\\"rotate(0, nan, nan)\\\" x=\\\"nan\\\" y=\\\"nan\\\">United Kingdom<\\/text>\\n<\\/g>\\n<g clip-path=\\\"url(#clip1600)\\\">\\n<text style=\\\"fill:#000000; fill-opacity:1; font-family:Arial,Helvetica Neue,Helvetica,sans-serif; font-size:59px; text-anchor:middle;\\\" transform=\\\"rotate(0, nan, nan)\\\" x=\\\"nan\\\" y=\\\"nan\\\">France<\\/text>\\n<\\/g>\\n<g clip-path=\\\"url(#clip1600)\\\">\\n<text style=\\\"fill:#000000; fill-opacity:1; font-family:Arial,Helvetica Neue,Helvetica,sans-serif; font-size:59px; text-anchor:middle;\\\" transform=\\\"rotate(0, nan, nan)\\\" x=\\\"nan\\\" y=\\\"nan\\\">Germany<\\/text>\\n<\\/g>\\n<\\/svg>\\n\"},\"nodeType\":\"DOM\",\"type\":\"node\",\"instanceArgs\":{\"namespace\":\"html\",\"tag\":\"div\"},\"children\":[]}]}}}},\"children\":[{\"props\":{},\"nodeType\":\"ObservableNode\",\"type\":\"node\",\"instanceArgs\":{\"id\":\"ob_14\",\"name\":\"obs-node\"},\"children\":[]}]}]},\n",
       "            window,\n",
       "        );\n",
       "    } else {\n",
       "        document\n",
       "            .querySelector('[data-webio-mountpoint=\"3560271382870787574\"]')\n",
       "            .innerHTML = (\n",
       "                '<div style=\"padding: 1em; background-color: #f8d6da; border: 1px solid #f5c6cb\">' +\n",
       "                '<p><strong>WebIO not detected.</strong></p>' +\n",
       "                '<p>Please read ' +\n",
       "                '<a href=\"https://juliagizmos.github.io/WebIO.jl/latest/troubleshooting/not-detected/\" target=\"_blank\">the troubleshooting guide</a> ' +\n",
       "                'for more information on how to resolve this issue.</p>' +\n",
       "                '<p><a href=\"https://juliagizmos.github.io/WebIO.jl/latest/troubleshooting/not-detected/\" target=\"_blank\">https://juliagizmos.github.io/WebIO.jl/latest/troubleshooting/not-detected/</a></p>' +\n",
       "                '</div>'\n",
       "            );\n",
       "    }\n",
       "    </script>\n",
       "</div>\n"
      ],
      "text/plain": [
       "Node{WebIO.DOM}(WebIO.DOM(:html, :div), Any[Node{WebIO.DOM}(WebIO.DOM(:html, :div), Any[Scope(Node{WebIO.DOM}(WebIO.DOM(:html, :div), Any[Node{WebIO.DOM}(WebIO.DOM(:html, :div), Any[Node{WebIO.DOM}(WebIO.DOM(:html, :label), Any[nothing], Dict{Symbol,Any}(:className => \"interact \",:style => Dict{Any,Any}(:padding => \"5px 10px 0px 10px\")))], Dict{Symbol,Any}(:className => \"interact-flex-row-left\")), Node{WebIO.DOM}(WebIO.DOM(:html, :div), Any[Node{WebIO.DOM}(WebIO.DOM(:html, :input), Any[], Dict{Symbol,Any}(:max => 79,:min => 1,:attributes => Dict{Any,Any}(:type => \"range\",Symbol(\"data-bind\") => \"numericValue: index, valueUpdate: 'input', event: {change: function (){this.changes(this.changes()+1)}}\",\"orient\" => \"horizontal\"),:step => 1,:className => \"slider slider is-fullwidth\",:style => Dict{Any,Any}()))], Dict{Symbol,Any}(:className => \"interact-flex-row-center\")), Node{WebIO.DOM}(WebIO.DOM(:html, :div), Any[Node{WebIO.DOM}(WebIO.DOM(:html, :p), Any[], Dict{Symbol,Any}(:attributes => Dict(\"data-bind\" => \"text: formatted_val\")))], Dict{Symbol,Any}(:className => \"interact-flex-row-right\"))], Dict{Symbol,Any}(:className => \"interact-flex-row interact-widget\")), Dict{String,Tuple{Observables.AbstractObservable,Union{Nothing, Bool}}}(\"changes\" => (Observable{Int64} with 1 listeners. Value:\n",
       "0, nothing),\"index\" => (Observable{Int64} with 2 listeners. Value:\n",
       "1, nothing)), Set(String[]), nothing, Asset[Asset(\"js\", \"knockout\", \"/Users/robertoberwa/.julia/packages/Knockout/IP1uR/src/../assets/knockout.js\"), Asset(\"js\", \"knockout_punches\", \"/Users/robertoberwa/.julia/packages/Knockout/IP1uR/src/../assets/knockout_punches.js\"), Asset(\"js\", nothing, \"/Users/robertoberwa/.julia/packages/InteractBase/9mFwe/src/../assets/all.js\"), Asset(\"css\", nothing, \"/Users/robertoberwa/.julia/packages/InteractBase/9mFwe/src/../assets/style.css\"), Asset(\"css\", nothing, \"/Users/robertoberwa/.julia/packages/Interact/SbgIk/src/../assets/bulma_confined.min.css\")], Dict{Any,Any}(\"changes\" => Any[WebIO.JSString(\"(function (val){return (val!=this.model[\\\"changes\\\"]()) ? (this.valueFromJulia[\\\"changes\\\"]=true, this.model[\\\"changes\\\"](val)) : undefined})\")],\"index\" => Any[WebIO.JSString(\"(function (val){return (val!=this.model[\\\"index\\\"]()) ? (this.valueFromJulia[\\\"index\\\"]=true, this.model[\\\"index\\\"](val)) : undefined})\")]), WebIO.ConnectionPool(Channel{Any}(sz_max:32,sz_curr:0), Set(AbstractConnection[]), Base.GenericCondition{Base.AlwaysLockedST}(Base.InvasiveLinkedList{Task}(Task (runnable) @0x0000000118080d90, Task (runnable) @0x0000000118080d90), Base.AlwaysLockedST(1))), WebIO.JSString[WebIO.JSString(\"function () {\\n    var handler = (function (ko, koPunches) {\\n    ko.punches.enableAll();\\n    ko.bindingHandlers.numericValue = {\\n        init: function(element, valueAccessor, allBindings, data, context) {\\n            var stringified = ko.observable(ko.unwrap(valueAccessor()));\\n            stringified.subscribe(function(value) {\\n                var val = parseFloat(value);\\n                if (!isNaN(val)) {\\n                    valueAccessor()(val);\\n                }\\n            });\\n            valueAccessor().subscribe(function(value) {\\n                var str = JSON.stringify(value);\\n                if ((str == \\\"0\\\") && ([\\\"-0\\\", \\\"-0.\\\"].indexOf(stringified()) >= 0))\\n                     return;\\n                 if ([\\\"null\\\", \\\"\\\"].indexOf(str) >= 0)\\n                     return;\\n                stringified(str);\\n            });\\n            ko.applyBindingsToNode(\\n                element,\\n                {\\n                    value: stringified,\\n                    valueUpdate: allBindings.get('valueUpdate'),\\n                },\\n                context,\\n            );\\n        }\\n    };\\n    var json_data = {\\\"formatted_vals\\\":[\\\"1\\\",\\\"2\\\",\\\"3\\\",\\\"4\\\",\\\"5\\\",\\\"6\\\",\\\"7\\\",\\\"8\\\",\\\"9\\\",\\\"10\\\",\\\"11\\\",\\\"12\\\",\\\"13\\\",\\\"14\\\",\\\"15\\\",\\\"16\\\",\\\"17\\\",\\\"18\\\",\\\"19\\\",\\\"20\\\",\\\"21\\\",\\\"22\\\",\\\"23\\\",\\\"24\\\",\\\"25\\\",\\\"26\\\",\\\"27\\\",\\\"28\\\",\\\"29\\\",\\\"30\\\",\\\"31\\\",\\\"32\\\",\\\"33\\\",\\\"34\\\",\\\"35\\\",\\\"36\\\",\\\"37\\\",\\\"38\\\",\\\"39\\\",\\\"40\\\",\\\"41\\\",\\\"42\\\",\\\"43\\\",\\\"44\\\",\\\"45\\\",\\\"46\\\",\\\"47\\\",\\\"48\\\",\\\"49\\\",\\\"50\\\",\\\"51\\\",\\\"52\\\",\\\"53\\\",\\\"54\\\",\\\"55\\\",\\\"56\\\",\\\"57\\\",\\\"58\\\",\\\"59\\\",\\\"60\\\",\\\"61\\\",\\\"62\\\",\\\"63\\\",\\\"64\\\",\\\"65\\\",\\\"66\\\",\\\"67\\\",\\\"68\\\",\\\"69\\\",\\\"70\\\",\\\"71\\\",\\\"72\\\",\\\"73\\\",\\\"74\\\",\\\"75\\\",\\\"76\\\",\\\"77\\\",\\\"78\\\",\\\"79\\\"],\\\"changes\\\":WebIO.getval({\\\"name\\\":\\\"changes\\\",\\\"scope\\\":\\\"18205601446966364342\\\",\\\"id\\\":\\\"ob_10\\\",\\\"type\\\":\\\"observable\\\"}),\\\"index\\\":WebIO.getval({\\\"name\\\":\\\"index\\\",\\\"scope\\\":\\\"18205601446966364342\\\",\\\"id\\\":\\\"ob_09\\\",\\\"type\\\":\\\"observable\\\"})};\\n    var self = this;\\n    function AppViewModel() {\\n        for (var key in json_data) {\\n            var el = json_data[key];\\n            this[key] = Array.isArray(el) ? ko.observableArray(el) : ko.observable(el);\\n        }\\n        \\n        [this[\\\"formatted_val\\\"]=ko.computed(    function(){\\n        return this.formatted_vals()[parseInt(this.index())-(1)];\\n    }\\n,this)]\\n        [this[\\\"changes\\\"].subscribe((function (val){!(this.valueFromJulia[\\\"changes\\\"]) ? (WebIO.setval({\\\"name\\\":\\\"changes\\\",\\\"scope\\\":\\\"18205601446966364342\\\",\\\"id\\\":\\\"ob_10\\\",\\\"type\\\":\\\"observable\\\"},val)) : undefined; return this.valueFromJulia[\\\"changes\\\"]=false}),self),this[\\\"index\\\"].subscribe((function (val){!(this.valueFromJulia[\\\"index\\\"]) ? (WebIO.setval({\\\"name\\\":\\\"index\\\",\\\"scope\\\":\\\"18205601446966364342\\\",\\\"id\\\":\\\"ob_09\\\",\\\"type\\\":\\\"observable\\\"},val)) : undefined; return this.valueFromJulia[\\\"index\\\"]=false}),self)]\\n        \\n    }\\n    self.model = new AppViewModel();\\n    self.valueFromJulia = {};\\n    for (var key in json_data) {\\n        self.valueFromJulia[key] = false;\\n    }\\n    ko.applyBindings(self.model, self.dom);\\n}\\n);\\n    (WebIO.importBlock({\\\"data\\\":[{\\\"name\\\":\\\"knockout\\\",\\\"type\\\":\\\"js\\\",\\\"url\\\":\\\"/assetserver/d8946d3abf581e5a833c85994d32d9051d9a2190-knockout.js\\\"},{\\\"name\\\":\\\"knockout_punches\\\",\\\"type\\\":\\\"js\\\",\\\"url\\\":\\\"/assetserver/f0105926ca82098bf0cc43c9f630d668299c2cd7-knockout_punches.js\\\"}],\\\"type\\\":\\\"async_block\\\"})).then((imports) => handler.apply(this, imports));\\n}\\n\")])], Dict{Symbol,Any}(:className => \"field interact-widget\")), Observable{Any} with 0 listeners. Value:\n",
       "Node{WebIO.DOM}(WebIO.DOM(:html, :div), Any[Plot{Plots.GRBackend() n=7}], Dict{Symbol,Any}(:className => \"interact-flex-row interact-widget\"))], Dict{Symbol,Any}())"
      ]
     },
     "execution_count": 13,
     "metadata": {
      "application/vnd.webio.node+json": {
       "kernelId": "3a12ebbf-bf7d-4c8c-ae9f-5b64a6326850"
      }
     },
     "output_type": "execute_result"
    }
   ],
   "source": [
    "@manipulate for day in slider(1:num_days, value=1)\n",
    "    s = plot(xlim = (0, 20), ylim = (0, 20))\n",
    "    for country in countries\n",
    "        y = log.(weekly_data[country][1:day])\n",
    "        x = log.(data_country_dict[country][1:day])\n",
    "        plot!(x, y, label = country, leg=:topleft)\n",
    "        #scatter!(x[day], y[day])\n",
    "        annotate!(x[day], y[day], text(country, 10, :black))\n",
    "        end\n",
    "    xlabel!(\"Total cases\")\n",
    "    ylabel!(\"Recent cases\")\n",
    "    title!(\"Confirmed Cases around the world\")\n",
    "    end   \n",
    "    "
   ]
  }
 ],
 "metadata": {
  "@webio": {
   "lastCommId": "a4fb4e20cb1f41af90a6d696235cbade",
   "lastKernelId": "3a12ebbf-bf7d-4c8c-ae9f-5b64a6326850"
  },
  "kernelspec": {
   "display_name": "Julia 1.3.1",
   "language": "julia",
   "name": "julia-1.3"
  },
  "language_info": {
   "file_extension": ".jl",
   "mimetype": "application/julia",
   "name": "julia",
   "version": "1.3.1"
  },
  "widgets": {
   "application/vnd.jupyter.widget-state+json": {
    "state": {},
    "version_major": 2,
    "version_minor": 0
   }
  }
 },
 "nbformat": 4,
 "nbformat_minor": 4
}
