{
 "cells": [
  {
   "cell_type": "markdown",
   "metadata": {},
   "source": [
    "#### Author : Roberto Berwa, MIT \n",
    "#### Topic : Covid-19 Analysis\n",
    "#### Lang : Julia\n",
    "#### Date : 04/08/2021\n",
    "\n",
    "# I. Setup"
   ]
  },
  {
   "cell_type": "code",
   "execution_count": 255,
   "metadata": {},
   "outputs": [],
   "source": [
    "using Plots\n",
    "using Dates \n",
    "using DataFrames\n",
    "using Interact\n",
    "using CSV"
   ]
  },
  {
   "cell_type": "code",
   "execution_count": 256,
   "metadata": {},
   "outputs": [],
   "source": [
    "url = \"https://raw.githubusercontent.com/CSSEGISandData/COVID-19/master/csse_covid_19_data/csse_covid_19_time_series/time_series_covid19_confirmed_global.csv\";"
   ]
  },
  {
   "cell_type": "code",
   "execution_count": 257,
   "metadata": {},
   "outputs": [
    {
     "data": {
      "text/plain": [
       "\"covid_data.csv\""
      ]
     },
     "execution_count": 257,
     "metadata": {},
     "output_type": "execute_result"
    }
   ],
   "source": [
    "download(url,\"covid_data.csv\")"
   ]
  },
  {
   "cell_type": "code",
   "execution_count": 258,
   "metadata": {},
   "outputs": [],
   "source": [
    "data = CSV.read(\"covid_data.csv\");"
   ]
  },
  {
   "cell_type": "markdown",
   "metadata": {},
   "source": [
    "# II. Data manipulation"
   ]
  },
  {
   "cell_type": "code",
   "execution_count": 259,
   "metadata": {},
   "outputs": [
    {
     "data": {
      "text/html": [
       "<table class=\"data-frame\"><thead><tr><th></th><th>Province</th><th>Country</th><th>Lat</th><th>Long</th><th>1/22/20</th></tr><tr><th></th><th>String⍰</th><th>String</th><th>Float64</th><th>Float64</th><th>Int64</th></tr></thead><tbody><p>263 rows × 82 columns (omitted printing of 77 columns)</p><tr><th>1</th><td>missing</td><td>Afghanistan</td><td>33.0</td><td>65.0</td><td>0</td></tr><tr><th>2</th><td>missing</td><td>Albania</td><td>41.1533</td><td>20.1683</td><td>0</td></tr><tr><th>3</th><td>missing</td><td>Algeria</td><td>28.0339</td><td>1.6596</td><td>0</td></tr><tr><th>4</th><td>missing</td><td>Andorra</td><td>42.5063</td><td>1.5218</td><td>0</td></tr><tr><th>5</th><td>missing</td><td>Angola</td><td>-11.2027</td><td>17.8739</td><td>0</td></tr><tr><th>6</th><td>missing</td><td>Antigua and Barbuda</td><td>17.0608</td><td>-61.7964</td><td>0</td></tr><tr><th>7</th><td>missing</td><td>Argentina</td><td>-38.4161</td><td>-63.6167</td><td>0</td></tr><tr><th>8</th><td>missing</td><td>Armenia</td><td>40.0691</td><td>45.0382</td><td>0</td></tr><tr><th>9</th><td>Australian Capital Territory</td><td>Australia</td><td>-35.4735</td><td>149.012</td><td>0</td></tr><tr><th>10</th><td>New South Wales</td><td>Australia</td><td>-33.8688</td><td>151.209</td><td>0</td></tr><tr><th>11</th><td>Northern Territory</td><td>Australia</td><td>-12.4634</td><td>130.846</td><td>0</td></tr><tr><th>12</th><td>Queensland</td><td>Australia</td><td>-28.0167</td><td>153.4</td><td>0</td></tr><tr><th>13</th><td>South Australia</td><td>Australia</td><td>-34.9285</td><td>138.601</td><td>0</td></tr><tr><th>14</th><td>Tasmania</td><td>Australia</td><td>-41.4545</td><td>145.971</td><td>0</td></tr><tr><th>15</th><td>Victoria</td><td>Australia</td><td>-37.8136</td><td>144.963</td><td>0</td></tr><tr><th>16</th><td>Western Australia</td><td>Australia</td><td>-31.9505</td><td>115.861</td><td>0</td></tr><tr><th>17</th><td>missing</td><td>Austria</td><td>47.5162</td><td>14.5501</td><td>0</td></tr><tr><th>18</th><td>missing</td><td>Azerbaijan</td><td>40.1431</td><td>47.5769</td><td>0</td></tr><tr><th>19</th><td>missing</td><td>Bahamas</td><td>25.0343</td><td>-77.3963</td><td>0</td></tr><tr><th>20</th><td>missing</td><td>Bahrain</td><td>26.0275</td><td>50.55</td><td>0</td></tr><tr><th>21</th><td>missing</td><td>Bangladesh</td><td>23.685</td><td>90.3563</td><td>0</td></tr><tr><th>22</th><td>missing</td><td>Barbados</td><td>13.1939</td><td>-59.5432</td><td>0</td></tr><tr><th>23</th><td>missing</td><td>Belarus</td><td>53.7098</td><td>27.9534</td><td>0</td></tr><tr><th>24</th><td>missing</td><td>Belgium</td><td>50.8333</td><td>4.0</td><td>0</td></tr><tr><th>25</th><td>missing</td><td>Benin</td><td>9.3077</td><td>2.3158</td><td>0</td></tr><tr><th>26</th><td>missing</td><td>Bhutan</td><td>27.5142</td><td>90.4336</td><td>0</td></tr><tr><th>27</th><td>missing</td><td>Bolivia</td><td>-16.2902</td><td>-63.5887</td><td>0</td></tr><tr><th>28</th><td>missing</td><td>Bosnia and Herzegovina</td><td>43.9159</td><td>17.6791</td><td>0</td></tr><tr><th>29</th><td>missing</td><td>Brazil</td><td>-14.235</td><td>-51.9253</td><td>0</td></tr><tr><th>30</th><td>missing</td><td>Brunei</td><td>4.5353</td><td>114.728</td><td>0</td></tr><tr><th>&vellip;</th><td>&vellip;</td><td>&vellip;</td><td>&vellip;</td><td>&vellip;</td><td>&vellip;</td></tr></tbody></table>"
      ],
      "text/latex": [
       "\\begin{tabular}{r|cccccc}\n",
       "\t& Province & Country & Lat & Long & 1/22/20 & \\\\\n",
       "\t\\hline\n",
       "\t& String⍰ & String & Float64 & Float64 & Int64 & \\\\\n",
       "\t\\hline\n",
       "\t1 &  & Afghanistan & 33.0 & 65.0 & 0 & $\\dots$ \\\\\n",
       "\t2 &  & Albania & 41.1533 & 20.1683 & 0 & $\\dots$ \\\\\n",
       "\t3 &  & Algeria & 28.0339 & 1.6596 & 0 & $\\dots$ \\\\\n",
       "\t4 &  & Andorra & 42.5063 & 1.5218 & 0 & $\\dots$ \\\\\n",
       "\t5 &  & Angola & -11.2027 & 17.8739 & 0 & $\\dots$ \\\\\n",
       "\t6 &  & Antigua and Barbuda & 17.0608 & -61.7964 & 0 & $\\dots$ \\\\\n",
       "\t7 &  & Argentina & -38.4161 & -63.6167 & 0 & $\\dots$ \\\\\n",
       "\t8 &  & Armenia & 40.0691 & 45.0382 & 0 & $\\dots$ \\\\\n",
       "\t9 & Australian Capital Territory & Australia & -35.4735 & 149.012 & 0 & $\\dots$ \\\\\n",
       "\t10 & New South Wales & Australia & -33.8688 & 151.209 & 0 & $\\dots$ \\\\\n",
       "\t11 & Northern Territory & Australia & -12.4634 & 130.846 & 0 & $\\dots$ \\\\\n",
       "\t12 & Queensland & Australia & -28.0167 & 153.4 & 0 & $\\dots$ \\\\\n",
       "\t13 & South Australia & Australia & -34.9285 & 138.601 & 0 & $\\dots$ \\\\\n",
       "\t14 & Tasmania & Australia & -41.4545 & 145.971 & 0 & $\\dots$ \\\\\n",
       "\t15 & Victoria & Australia & -37.8136 & 144.963 & 0 & $\\dots$ \\\\\n",
       "\t16 & Western Australia & Australia & -31.9505 & 115.861 & 0 & $\\dots$ \\\\\n",
       "\t17 &  & Austria & 47.5162 & 14.5501 & 0 & $\\dots$ \\\\\n",
       "\t18 &  & Azerbaijan & 40.1431 & 47.5769 & 0 & $\\dots$ \\\\\n",
       "\t19 &  & Bahamas & 25.0343 & -77.3963 & 0 & $\\dots$ \\\\\n",
       "\t20 &  & Bahrain & 26.0275 & 50.55 & 0 & $\\dots$ \\\\\n",
       "\t21 &  & Bangladesh & 23.685 & 90.3563 & 0 & $\\dots$ \\\\\n",
       "\t22 &  & Barbados & 13.1939 & -59.5432 & 0 & $\\dots$ \\\\\n",
       "\t23 &  & Belarus & 53.7098 & 27.9534 & 0 & $\\dots$ \\\\\n",
       "\t24 &  & Belgium & 50.8333 & 4.0 & 0 & $\\dots$ \\\\\n",
       "\t25 &  & Benin & 9.3077 & 2.3158 & 0 & $\\dots$ \\\\\n",
       "\t26 &  & Bhutan & 27.5142 & 90.4336 & 0 & $\\dots$ \\\\\n",
       "\t27 &  & Bolivia & -16.2902 & -63.5887 & 0 & $\\dots$ \\\\\n",
       "\t28 &  & Bosnia and Herzegovina & 43.9159 & 17.6791 & 0 & $\\dots$ \\\\\n",
       "\t29 &  & Brazil & -14.235 & -51.9253 & 0 & $\\dots$ \\\\\n",
       "\t30 &  & Brunei & 4.5353 & 114.728 & 0 & $\\dots$ \\\\\n",
       "\t$\\dots$ & $\\dots$ & $\\dots$ & $\\dots$ & $\\dots$ & $\\dots$ &  \\\\\n",
       "\\end{tabular}\n"
      ],
      "text/plain": [
       "263×82 DataFrame. Omitted printing of 79 columns\n",
       "│ Row │ Province                         │ Country               │ Lat      │\n",
       "│     │ \u001b[90mUnion{Missing, String}\u001b[39m           │ \u001b[90mString\u001b[39m                │ \u001b[90mFloat64\u001b[39m  │\n",
       "├─────┼──────────────────────────────────┼───────────────────────┼──────────┤\n",
       "│ 1   │ \u001b[90mmissing\u001b[39m                          │ Afghanistan           │ 33.0     │\n",
       "│ 2   │ \u001b[90mmissing\u001b[39m                          │ Albania               │ 41.1533  │\n",
       "│ 3   │ \u001b[90mmissing\u001b[39m                          │ Algeria               │ 28.0339  │\n",
       "│ 4   │ \u001b[90mmissing\u001b[39m                          │ Andorra               │ 42.5063  │\n",
       "│ 5   │ \u001b[90mmissing\u001b[39m                          │ Angola                │ -11.2027 │\n",
       "│ 6   │ \u001b[90mmissing\u001b[39m                          │ Antigua and Barbuda   │ 17.0608  │\n",
       "│ 7   │ \u001b[90mmissing\u001b[39m                          │ Argentina             │ -38.4161 │\n",
       "│ 8   │ \u001b[90mmissing\u001b[39m                          │ Armenia               │ 40.0691  │\n",
       "│ 9   │ Australian Capital Territory     │ Australia             │ -35.4735 │\n",
       "│ 10  │ New South Wales                  │ Australia             │ -33.8688 │\n",
       "⋮\n",
       "│ 253 │ \u001b[90mmissing\u001b[39m                          │ MS Zaandam            │ 0.0      │\n",
       "│ 254 │ \u001b[90mmissing\u001b[39m                          │ Botswana              │ -22.3285 │\n",
       "│ 255 │ \u001b[90mmissing\u001b[39m                          │ Burundi               │ -3.3731  │\n",
       "│ 256 │ \u001b[90mmissing\u001b[39m                          │ Sierra Leone          │ 8.46056  │\n",
       "│ 257 │ Bonaire, Sint Eustatius and Saba │ Netherlands           │ 12.1784  │\n",
       "│ 258 │ \u001b[90mmissing\u001b[39m                          │ Malawi                │ -13.2543 │\n",
       "│ 259 │ Falkland Islands (Malvinas)      │ United Kingdom        │ -51.7963 │\n",
       "│ 260 │ Saint Pierre and Miquelon        │ France                │ 46.8852  │\n",
       "│ 261 │ \u001b[90mmissing\u001b[39m                          │ South Sudan           │ 6.877    │\n",
       "│ 262 │ \u001b[90mmissing\u001b[39m                          │ Western Sahara        │ 24.2155  │\n",
       "│ 263 │ \u001b[90mmissing\u001b[39m                          │ Sao Tome and Principe │ 0.18636  │"
      ]
     },
     "execution_count": 259,
     "metadata": {},
     "output_type": "execute_result"
    }
   ],
   "source": [
    "data = rename(data, 1 =>\"Province\", 2 => \"Country\") # Renaming columns"
   ]
  },
  {
   "cell_type": "code",
   "execution_count": 260,
   "metadata": {},
   "outputs": [
    {
     "data": {
      "text/plain": [
       "184-element Array{String,1}:\n",
       " \"Afghanistan\"          \n",
       " \"Albania\"              \n",
       " \"Algeria\"              \n",
       " \"Andorra\"              \n",
       " \"Angola\"               \n",
       " \"Antigua and Barbuda\"  \n",
       " \"Argentina\"            \n",
       " \"Armenia\"              \n",
       " \"Australia\"            \n",
       " \"Austria\"              \n",
       " \"Azerbaijan\"           \n",
       " \"Bahamas\"              \n",
       " \"Bahrain\"              \n",
       " ⋮                      \n",
       " \"Mali\"                 \n",
       " \"Saint Kitts and Nevis\"\n",
       " \"Kosovo\"               \n",
       " \"Burma\"                \n",
       " \"MS Zaandam\"           \n",
       " \"Botswana\"             \n",
       " \"Burundi\"              \n",
       " \"Sierra Leone\"         \n",
       " \"Malawi\"               \n",
       " \"South Sudan\"          \n",
       " \"Western Sahara\"       \n",
       " \"Sao Tome and Principe\""
      ]
     },
     "execution_count": 260,
     "metadata": {},
     "output_type": "execute_result"
    }
   ],
   "source": [
    "all_countries = unique(data[1:end, 2])"
   ]
  },
  {
   "cell_type": "code",
   "execution_count": 261,
   "metadata": {},
   "outputs": [
    {
     "data": {
      "text/plain": [
       "7-element Array{String,1}:\n",
       " \"US\"            \n",
       " \"China\"         \n",
       " \"Japan\"         \n",
       " \"Korea, South\"  \n",
       " \"United Kingdom\"\n",
       " \"France\"        \n",
       " \"Germany\"       "
      ]
     },
     "execution_count": 261,
     "metadata": {},
     "output_type": "execute_result"
    }
   ],
   "source": [
    "countries = [\"US\", \"China\", \"Japan\", \"Korea, South\", \"United Kingdom\", \"France\", \"Germany\"] #country study focus"
   ]
  },
  {
   "cell_type": "code",
   "execution_count": 262,
   "metadata": {},
   "outputs": [
    {
     "data": {
      "text/plain": [
       "78"
      ]
     },
     "execution_count": 262,
     "metadata": {},
     "output_type": "execute_result"
    }
   ],
   "source": [
    "num_days = length(data[1, 5:end])"
   ]
  },
  {
   "cell_type": "code",
   "execution_count": 263,
   "metadata": {},
   "outputs": [],
   "source": [
    "data_country_dict = Dict()\n",
    "for i in 1:length(countries)\n",
    "    d = aggregate(data[data.Country .== countries[i], 5: end], sum)[1,:]\n",
    "    data_country_dict[countries[i]] = convert(Vector, d)\n",
    "end"
   ]
  },
  {
   "cell_type": "markdown",
   "metadata": {},
   "source": [
    "# III. Data Visualization "
   ]
  },
  {
   "cell_type": "markdown",
   "metadata": {},
   "source": [
    "#### Fig 1: Confirmed Cases around the world per day "
   ]
  },
  {
   "cell_type": "code",
   "execution_count": 264,
   "metadata": {},
   "outputs": [
    {
     "data": {
      "application/vnd.webio.node+json": {
       "children": [
        {
         "children": [
          {
           "children": [
            {
             "children": [
              {
               "children": [
                {
                 "children": [
                  ""
                 ],
                 "instanceArgs": {
                  "namespace": "html",
                  "tag": "label"
                 },
                 "nodeType": "DOM",
                 "props": {
                  "className": "interact ",
                  "style": {
                   "padding": "5px 10px 0px 10px"
                  }
                 },
                 "type": "node"
                }
               ],
               "instanceArgs": {
                "namespace": "html",
                "tag": "div"
               },
               "nodeType": "DOM",
               "props": {
                "className": "interact-flex-row-left"
               },
               "type": "node"
              },
              {
               "children": [
                {
                 "children": [],
                 "instanceArgs": {
                  "namespace": "html",
                  "tag": "input"
                 },
                 "nodeType": "DOM",
                 "props": {
                  "attributes": {
                   "data-bind": "numericValue: index, valueUpdate: 'input', event: {change: function (){this.changes(this.changes()+1)}}",
                   "orient": "horizontal",
                   "type": "range"
                  },
                  "className": "slider slider is-fullwidth",
                  "max": 78,
                  "min": 1,
                  "step": 1,
                  "style": {}
                 },
                 "type": "node"
                }
               ],
               "instanceArgs": {
                "namespace": "html",
                "tag": "div"
               },
               "nodeType": "DOM",
               "props": {
                "className": "interact-flex-row-center"
               },
               "type": "node"
              },
              {
               "children": [
                {
                 "children": [],
                 "instanceArgs": {
                  "namespace": "html",
                  "tag": "p"
                 },
                 "nodeType": "DOM",
                 "props": {
                  "attributes": {
                   "data-bind": "text: formatted_val"
                  }
                 },
                 "type": "node"
                }
               ],
               "instanceArgs": {
                "namespace": "html",
                "tag": "div"
               },
               "nodeType": "DOM",
               "props": {
                "className": "interact-flex-row-right"
               },
               "type": "node"
              }
             ],
             "instanceArgs": {
              "namespace": "html",
              "tag": "div"
             },
             "nodeType": "DOM",
             "props": {
              "className": "interact-flex-row interact-widget"
             },
             "type": "node"
            }
           ],
           "instanceArgs": {
            "handlers": {
             "changes": [
              "(function (val){return (val!=this.model[\"changes\"]()) ? (this.valueFromJulia[\"changes\"]=true, this.model[\"changes\"](val)) : undefined})"
             ],
             "index": [
              "(function (val){return (val!=this.model[\"index\"]()) ? (this.valueFromJulia[\"index\"]=true, this.model[\"index\"](val)) : undefined})"
             ]
            },
            "id": "9117436658152271209",
            "imports": {
             "data": [
              {
               "name": "knockout",
               "type": "js",
               "url": "/assetserver/d8946d3abf581e5a833c85994d32d9051d9a2190-knockout.js"
              },
              {
               "name": "knockout_punches",
               "type": "js",
               "url": "/assetserver/f0105926ca82098bf0cc43c9f630d668299c2cd7-knockout_punches.js"
              },
              {
               "name": null,
               "type": "js",
               "url": "/assetserver/704e5d0cf77e2817714de26245cbbd0ed37344f1-all.js"
              },
              {
               "name": null,
               "type": "css",
               "url": "/assetserver/c20438aea7cddd6cb9a01e595cfcda275fddbf2a-style.css"
              },
              {
               "name": null,
               "type": "css",
               "url": "/assetserver/4980a02882c8523aafa0b412f0f004c9f340422a-bulma_confined.min.css"
              }
             ],
             "type": "async_block"
            },
            "mount_callbacks": [
             "function () {\n    var handler = (function (ko, koPunches) {\n    ko.punches.enableAll();\n    ko.bindingHandlers.numericValue = {\n        init: function(element, valueAccessor, allBindings, data, context) {\n            var stringified = ko.observable(ko.unwrap(valueAccessor()));\n            stringified.subscribe(function(value) {\n                var val = parseFloat(value);\n                if (!isNaN(val)) {\n                    valueAccessor()(val);\n                }\n            });\n            valueAccessor().subscribe(function(value) {\n                var str = JSON.stringify(value);\n                if ((str == \"0\") && ([\"-0\", \"-0.\"].indexOf(stringified()) >= 0))\n                     return;\n                 if ([\"null\", \"\"].indexOf(str) >= 0)\n                     return;\n                stringified(str);\n            });\n            ko.applyBindingsToNode(\n                element,\n                {\n                    value: stringified,\n                    valueUpdate: allBindings.get('valueUpdate'),\n                },\n                context,\n            );\n        }\n    };\n    var json_data = {\"formatted_vals\":[\"1\",\"2\",\"3\",\"4\",\"5\",\"6\",\"7\",\"8\",\"9\",\"10\",\"11\",\"12\",\"13\",\"14\",\"15\",\"16\",\"17\",\"18\",\"19\",\"20\",\"21\",\"22\",\"23\",\"24\",\"25\",\"26\",\"27\",\"28\",\"29\",\"30\",\"31\",\"32\",\"33\",\"34\",\"35\",\"36\",\"37\",\"38\",\"39\",\"40\",\"41\",\"42\",\"43\",\"44\",\"45\",\"46\",\"47\",\"48\",\"49\",\"50\",\"51\",\"52\",\"53\",\"54\",\"55\",\"56\",\"57\",\"58\",\"59\",\"60\",\"61\",\"62\",\"63\",\"64\",\"65\",\"66\",\"67\",\"68\",\"69\",\"70\",\"71\",\"72\",\"73\",\"74\",\"75\",\"76\",\"77\",\"78\"],\"changes\":WebIO.getval({\"name\":\"changes\",\"scope\":\"9117436658152271209\",\"id\":\"ob_326\",\"type\":\"observable\"}),\"index\":WebIO.getval({\"name\":\"index\",\"scope\":\"9117436658152271209\",\"id\":\"ob_325\",\"type\":\"observable\"})};\n    var self = this;\n    function AppViewModel() {\n        for (var key in json_data) {\n            var el = json_data[key];\n            this[key] = Array.isArray(el) ? ko.observableArray(el) : ko.observable(el);\n        }\n        \n        [this[\"formatted_val\"]=ko.computed(    function(){\n        return this.formatted_vals()[parseInt(this.index())-(1)];\n    }\n,this)]\n        [this[\"changes\"].subscribe((function (val){!(this.valueFromJulia[\"changes\"]) ? (WebIO.setval({\"name\":\"changes\",\"scope\":\"9117436658152271209\",\"id\":\"ob_326\",\"type\":\"observable\"},val)) : undefined; return this.valueFromJulia[\"changes\"]=false}),self),this[\"index\"].subscribe((function (val){!(this.valueFromJulia[\"index\"]) ? (WebIO.setval({\"name\":\"index\",\"scope\":\"9117436658152271209\",\"id\":\"ob_325\",\"type\":\"observable\"},val)) : undefined; return this.valueFromJulia[\"index\"]=false}),self)]\n        \n    }\n    self.model = new AppViewModel();\n    self.valueFromJulia = {};\n    for (var key in json_data) {\n        self.valueFromJulia[key] = false;\n    }\n    ko.applyBindings(self.model, self.dom);\n}\n);\n    (WebIO.importBlock({\"data\":[{\"name\":\"knockout\",\"type\":\"js\",\"url\":\"/assetserver/d8946d3abf581e5a833c85994d32d9051d9a2190-knockout.js\"},{\"name\":\"knockout_punches\",\"type\":\"js\",\"url\":\"/assetserver/f0105926ca82098bf0cc43c9f630d668299c2cd7-knockout_punches.js\"}],\"type\":\"async_block\"})).then((imports) => handler.apply(this, imports));\n}\n"
            ],
            "observables": {
             "changes": {
              "id": "ob_326",
              "sync": false,
              "value": 0
             },
             "index": {
              "id": "ob_325",
              "sync": true,
              "value": 1
             }
            },
            "systemjs_options": null
           },
           "nodeType": "Scope",
           "props": {},
           "type": "node"
          }
         ],
         "instanceArgs": {
          "namespace": "html",
          "tag": "div"
         },
         "nodeType": "DOM",
         "props": {
          "className": "field interact-widget"
         },
         "type": "node"
        },
        {
         "children": [
          {
           "children": [],
           "instanceArgs": {
            "id": "ob_332",
            "name": "obs-node"
           },
           "nodeType": "ObservableNode",
           "props": {},
           "type": "node"
          }
         ],
         "instanceArgs": {
          "handlers": {},
          "id": "10696044336762263625",
          "imports": {
           "data": [],
           "type": "async_block"
          },
          "mount_callbacks": [],
          "observables": {
           "obs-node": {
            "id": "ob_332",
            "sync": false,
            "value": {
             "children": [
              {
               "children": [],
               "instanceArgs": {
                "namespace": "html",
                "tag": "div"
               },
               "nodeType": "DOM",
               "props": {
                "setInnerHtml": "<?xml version=\"1.0\" encoding=\"utf-8\"?>\n<svg xmlns=\"http://www.w3.org/2000/svg\" xmlns:xlink=\"http://www.w3.org/1999/xlink\" width=\"600\" height=\"400\" viewBox=\"0 0 2400 1600\">\n<defs>\n  <clipPath id=\"clip5500\">\n    <rect x=\"0\" y=\"0\" width=\"2400\" height=\"1600\"/>\n  </clipPath>\n</defs>\n<path clip-path=\"url(#clip5500)\" d=\"\nM0 1600 L2400 1600 L2400 0 L0 0  Z\n  \" fill=\"#ffffff\" fill-rule=\"evenodd\" fill-opacity=\"1\"/>\n<defs>\n  <clipPath id=\"clip5501\">\n    <rect x=\"480\" y=\"0\" width=\"1681\" height=\"1600\"/>\n  </clipPath>\n</defs>\n<path clip-path=\"url(#clip5500)\" d=\"\nM323.044 1425.62 L2352.76 1425.62 L2352.76 121.675 L323.044 121.675  Z\n  \" fill=\"#ffffff\" fill-rule=\"evenodd\" fill-opacity=\"1\"/>\n<defs>\n  <clipPath id=\"clip5502\">\n    <rect x=\"323\" y=\"121\" width=\"2031\" height=\"1305\"/>\n  </clipPath>\n</defs>\n<polyline clip-path=\"url(#clip5502)\" style=\"stroke:#000000; stroke-width:2; stroke-opacity:0.1; fill:none\" points=\"\n  323.044,1425.62 323.044,121.675 \n  \"/>\n<polyline clip-path=\"url(#clip5502)\" style=\"stroke:#000000; stroke-width:2; stroke-opacity:0.1; fill:none\" points=\"\n  812.131,1425.62 812.131,121.675 \n  \"/>\n<polyline clip-path=\"url(#clip5502)\" style=\"stroke:#000000; stroke-width:2; stroke-opacity:0.1; fill:none\" points=\"\n  1301.22,1425.62 1301.22,121.675 \n  \"/>\n<polyline clip-path=\"url(#clip5502)\" style=\"stroke:#000000; stroke-width:2; stroke-opacity:0.1; fill:none\" points=\"\n  1790.31,1425.62 1790.31,121.675 \n  \"/>\n<polyline clip-path=\"url(#clip5502)\" style=\"stroke:#000000; stroke-width:2; stroke-opacity:0.1; fill:none\" points=\"\n  2279.39,1425.62 2279.39,121.675 \n  \"/>\n<polyline clip-path=\"url(#clip5502)\" style=\"stroke:#000000; stroke-width:2; stroke-opacity:0.1; fill:none\" points=\"\n  323.044,1425.62 2352.76,1425.62 \n  \"/>\n<polyline clip-path=\"url(#clip5502)\" style=\"stroke:#000000; stroke-width:2; stroke-opacity:0.1; fill:none\" points=\"\n  323.044,1099.63 2352.76,1099.63 \n  \"/>\n<polyline clip-path=\"url(#clip5502)\" style=\"stroke:#000000; stroke-width:2; stroke-opacity:0.1; fill:none\" points=\"\n  323.044,773.647 2352.76,773.647 \n  \"/>\n<polyline clip-path=\"url(#clip5502)\" style=\"stroke:#000000; stroke-width:2; stroke-opacity:0.1; fill:none\" points=\"\n  323.044,447.661 2352.76,447.661 \n  \"/>\n<polyline clip-path=\"url(#clip5502)\" style=\"stroke:#000000; stroke-width:2; stroke-opacity:0.1; fill:none\" points=\"\n  323.044,121.675 2352.76,121.675 \n  \"/>\n<polyline clip-path=\"url(#clip5500)\" style=\"stroke:#000000; stroke-width:4; stroke-opacity:1; fill:none\" points=\"\n  323.044,1425.62 2352.76,1425.62 \n  \"/>\n<polyline clip-path=\"url(#clip5500)\" style=\"stroke:#000000; stroke-width:4; stroke-opacity:1; fill:none\" points=\"\n  323.044,1425.62 323.044,121.675 \n  \"/>\n<polyline clip-path=\"url(#clip5500)\" style=\"stroke:#000000; stroke-width:4; stroke-opacity:1; fill:none\" points=\"\n  323.044,1425.62 323.044,1409.97 \n  \"/>\n<polyline clip-path=\"url(#clip5500)\" style=\"stroke:#000000; stroke-width:4; stroke-opacity:1; fill:none\" points=\"\n  812.131,1425.62 812.131,1409.97 \n  \"/>\n<polyline clip-path=\"url(#clip5500)\" style=\"stroke:#000000; stroke-width:4; stroke-opacity:1; fill:none\" points=\"\n  1301.22,1425.62 1301.22,1409.97 \n  \"/>\n<polyline clip-path=\"url(#clip5500)\" style=\"stroke:#000000; stroke-width:4; stroke-opacity:1; fill:none\" points=\"\n  1790.31,1425.62 1790.31,1409.97 \n  \"/>\n<polyline clip-path=\"url(#clip5500)\" style=\"stroke:#000000; stroke-width:4; stroke-opacity:1; fill:none\" points=\"\n  2279.39,1425.62 2279.39,1409.97 \n  \"/>\n<polyline clip-path=\"url(#clip5500)\" style=\"stroke:#000000; stroke-width:4; stroke-opacity:1; fill:none\" points=\"\n  323.044,1425.62 347.401,1425.62 \n  \"/>\n<polyline clip-path=\"url(#clip5500)\" style=\"stroke:#000000; stroke-width:4; stroke-opacity:1; fill:none\" points=\"\n  323.044,1099.63 347.401,1099.63 \n  \"/>\n<polyline clip-path=\"url(#clip5500)\" style=\"stroke:#000000; stroke-width:4; stroke-opacity:1; fill:none\" points=\"\n  323.044,773.647 347.401,773.647 \n  \"/>\n<polyline clip-path=\"url(#clip5500)\" style=\"stroke:#000000; stroke-width:4; stroke-opacity:1; fill:none\" points=\"\n  323.044,447.661 347.401,447.661 \n  \"/>\n<polyline clip-path=\"url(#clip5500)\" style=\"stroke:#000000; stroke-width:4; stroke-opacity:1; fill:none\" points=\"\n  323.044,121.675 347.401,121.675 \n  \"/>\n<g clip-path=\"url(#clip5500)\">\n<text style=\"fill:#000000; fill-opacity:1; font-family:Arial,Helvetica Neue,Helvetica,sans-serif; font-size:48px; text-anchor:middle;\" transform=\"rotate(0, 323.044, 1479.62)\" x=\"323.044\" y=\"1479.62\">0</text>\n</g>\n<g clip-path=\"url(#clip5500)\">\n<text style=\"fill:#000000; fill-opacity:1; font-family:Arial,Helvetica Neue,Helvetica,sans-serif; font-size:48px; text-anchor:middle;\" transform=\"rotate(0, 812.131, 1479.62)\" x=\"812.131\" y=\"1479.62\">20</text>\n</g>\n<g clip-path=\"url(#clip5500)\">\n<text style=\"fill:#000000; fill-opacity:1; font-family:Arial,Helvetica Neue,Helvetica,sans-serif; font-size:48px; text-anchor:middle;\" transform=\"rotate(0, 1301.22, 1479.62)\" x=\"1301.22\" y=\"1479.62\">40</text>\n</g>\n<g clip-path=\"url(#clip5500)\">\n<text style=\"fill:#000000; fill-opacity:1; font-family:Arial,Helvetica Neue,Helvetica,sans-serif; font-size:48px; text-anchor:middle;\" transform=\"rotate(0, 1790.31, 1479.62)\" x=\"1790.31\" y=\"1479.62\">60</text>\n</g>\n<g clip-path=\"url(#clip5500)\">\n<text style=\"fill:#000000; fill-opacity:1; font-family:Arial,Helvetica Neue,Helvetica,sans-serif; font-size:48px; text-anchor:middle;\" transform=\"rotate(0, 2279.39, 1479.62)\" x=\"2279.39\" y=\"1479.62\">80</text>\n</g>\n<g clip-path=\"url(#clip5500)\">\n<text style=\"fill:#000000; fill-opacity:1; font-family:Arial,Helvetica Neue,Helvetica,sans-serif; font-size:48px; text-anchor:end;\" transform=\"rotate(0, 299.044, 1443.12)\" x=\"299.044\" y=\"1443.12\">0</text>\n</g>\n<g clip-path=\"url(#clip5500)\">\n<text style=\"fill:#000000; fill-opacity:1; font-family:Arial,Helvetica Neue,Helvetica,sans-serif; font-size:48px; text-anchor:start;\" transform=\"rotate(0, 168.903, 1123.36)\" x=\"168.903\" y=\"1123.36\">1×10</text>\n</g>\n<g clip-path=\"url(#clip5500)\">\n<text style=\"fill:#000000; fill-opacity:1; font-family:Arial,Helvetica Neue,Helvetica,sans-serif; font-size:38px; text-anchor:start;\" transform=\"rotate(0, 277.3, 1095.95)\" x=\"277.3\" y=\"1095.95\">5</text>\n</g>\n<g clip-path=\"url(#clip5500)\">\n<text style=\"fill:#000000; fill-opacity:1; font-family:Arial,Helvetica Neue,Helvetica,sans-serif; font-size:48px; text-anchor:start;\" transform=\"rotate(0, 168.903, 797.374)\" x=\"168.903\" y=\"797.374\">2×10</text>\n</g>\n<g clip-path=\"url(#clip5500)\">\n<text style=\"fill:#000000; fill-opacity:1; font-family:Arial,Helvetica Neue,Helvetica,sans-serif; font-size:38px; text-anchor:start;\" transform=\"rotate(0, 277.3, 769.964)\" x=\"277.3\" y=\"769.964\">5</text>\n</g>\n<g clip-path=\"url(#clip5500)\">\n<text style=\"fill:#000000; fill-opacity:1; font-family:Arial,Helvetica Neue,Helvetica,sans-serif; font-size:48px; text-anchor:start;\" transform=\"rotate(0, 168.903, 471.389)\" x=\"168.903\" y=\"471.389\">3×10</text>\n</g>\n<g clip-path=\"url(#clip5500)\">\n<text style=\"fill:#000000; fill-opacity:1; font-family:Arial,Helvetica Neue,Helvetica,sans-serif; font-size:38px; text-anchor:start;\" transform=\"rotate(0, 277.3, 443.978)\" x=\"277.3\" y=\"443.978\">5</text>\n</g>\n<g clip-path=\"url(#clip5500)\">\n<text style=\"fill:#000000; fill-opacity:1; font-family:Arial,Helvetica Neue,Helvetica,sans-serif; font-size:48px; text-anchor:start;\" transform=\"rotate(0, 168.903, 145.403)\" x=\"168.903\" y=\"145.403\">4×10</text>\n</g>\n<g clip-path=\"url(#clip5500)\">\n<text style=\"fill:#000000; fill-opacity:1; font-family:Arial,Helvetica Neue,Helvetica,sans-serif; font-size:38px; text-anchor:start;\" transform=\"rotate(0, 277.3, 117.992)\" x=\"277.3\" y=\"117.992\">5</text>\n</g>\n<g clip-path=\"url(#clip5500)\">\n<text style=\"fill:#000000; fill-opacity:1; font-family:Arial,Helvetica Neue,Helvetica,sans-serif; font-size:84px; text-anchor:middle;\" transform=\"rotate(0, 1337.9, 73.2)\" x=\"1337.9\" y=\"73.2\">Confirmed Cases around the world</text>\n</g>\n<g clip-path=\"url(#clip5500)\">\n<text style=\"fill:#000000; fill-opacity:1; font-family:Arial,Helvetica Neue,Helvetica,sans-serif; font-size:66px; text-anchor:middle;\" transform=\"rotate(0, 1337.9, 1559.48)\" x=\"1337.9\" y=\"1559.48\">days</text>\n</g>\n<g clip-path=\"url(#clip5500)\">\n<text style=\"fill:#000000; fill-opacity:1; font-family:Arial,Helvetica Neue,Helvetica,sans-serif; font-size:66px; text-anchor:middle;\" transform=\"rotate(-90, 89.2861, 773.647)\" x=\"89.2861\" y=\"773.647\">Confirmed Cases</text>\n</g>\n<path clip-path=\"url(#clip5502)\" d=\"M347.498 1441.62 L336.186 1436.93 L331.498 1425.62 L336.186 1414.31 L347.498 1409.62 L358.81 1414.31 L363.498 1425.62 L358.81 1436.93 Z\" fill=\"#009af9\" fill-rule=\"evenodd\" fill-opacity=\"1\" stroke=\"#000000\" stroke-opacity=\"1\" stroke-width=\"3.2\"/>\n<path clip-path=\"url(#clip5502)\" d=\"M347.498 1441.62 L336.186 1436.93 L331.498 1425.62 L336.186 1414.31 L347.498 1409.62 L358.81 1414.31 L363.498 1425.62 L358.81 1436.93 Z\" fill=\"#e26f46\" fill-rule=\"evenodd\" fill-opacity=\"1\" stroke=\"#000000\" stroke-opacity=\"1\" stroke-width=\"3.2\"/>\n<path clip-path=\"url(#clip5502)\" d=\"M347.498 1439.83 L336.186 1435.14 L331.498 1423.83 L336.186 1412.52 L347.498 1407.83 L358.81 1412.52 L363.498 1423.83 L358.81 1435.14 Z\" fill=\"#3da44d\" fill-rule=\"evenodd\" fill-opacity=\"1\" stroke=\"#000000\" stroke-opacity=\"1\" stroke-width=\"3.2\"/>\n<path clip-path=\"url(#clip5502)\" d=\"M347.498 1441.62 L336.186 1436.93 L331.498 1425.62 L336.186 1414.3 L347.498 1409.62 L358.81 1414.3 L363.498 1425.62 L358.81 1436.93 Z\" fill=\"#c271d2\" fill-rule=\"evenodd\" fill-opacity=\"1\" stroke=\"#000000\" stroke-opacity=\"1\" stroke-width=\"3.2\"/>\n<path clip-path=\"url(#clip5502)\" d=\"M347.498 1441.61 L336.186 1436.92 L331.498 1425.61 L336.186 1414.3 L347.498 1409.61 L358.81 1414.3 L363.498 1425.61 L358.81 1436.92 Z\" fill=\"#ac8d18\" fill-rule=\"evenodd\" fill-opacity=\"1\" stroke=\"#000000\" stroke-opacity=\"1\" stroke-width=\"3.2\"/>\n<path clip-path=\"url(#clip5502)\" d=\"M347.498 1441.62 L336.186 1436.93 L331.498 1425.62 L336.186 1414.31 L347.498 1409.62 L358.81 1414.31 L363.498 1425.62 L358.81 1436.93 Z\" fill=\"#00a9ad\" fill-rule=\"evenodd\" fill-opacity=\"1\" stroke=\"#000000\" stroke-opacity=\"1\" stroke-width=\"3.2\"/>\n<path clip-path=\"url(#clip5502)\" d=\"M347.498 1441.62 L336.186 1436.93 L331.498 1425.62 L336.186 1414.3 L347.498 1409.62 L358.81 1414.3 L363.498 1425.62 L358.81 1436.93 Z\" fill=\"#ed5d92\" fill-rule=\"evenodd\" fill-opacity=\"1\" stroke=\"#000000\" stroke-opacity=\"1\" stroke-width=\"3.2\"/>\n<path clip-path=\"url(#clip5500)\" d=\"\nM395.044 689.035 L977.467 689.035 L977.467 205.195 L395.044 205.195  Z\n  \" fill=\"#ffffff\" fill-rule=\"evenodd\" fill-opacity=\"1\"/>\n<polyline clip-path=\"url(#clip5500)\" style=\"stroke:#000000; stroke-width:4; stroke-opacity:1; fill:none\" points=\"\n  395.044,689.035 977.467,689.035 977.467,205.195 395.044,205.195 395.044,689.035 \n  \"/>\n<polyline clip-path=\"url(#clip5500)\" style=\"stroke:#009af9; stroke-width:4; stroke-opacity:1; fill:none\" points=\"\n  419.044,265.675 563.044,265.675 \n  \"/>\n<path clip-path=\"url(#clip5500)\" d=\"M503.044 289.675 L486.076 282.643 L479.044 265.675 L486.076 248.707 L503.044 241.675 L520.012 248.707 L527.044 265.675 L520.012 282.643 Z\" fill=\"#009af9\" fill-rule=\"evenodd\" fill-opacity=\"1\" stroke=\"#000000\" stroke-opacity=\"1\" stroke-width=\"3.2\"/>\n<g clip-path=\"url(#clip5500)\">\n<text style=\"fill:#000000; fill-opacity:1; font-family:Arial,Helvetica Neue,Helvetica,sans-serif; font-size:48px; text-anchor:start;\" transform=\"rotate(0, 587.044, 283.175)\" x=\"587.044\" y=\"283.175\">Germany</text>\n</g>\n<polyline clip-path=\"url(#clip5500)\" style=\"stroke:#e26f46; stroke-width:4; stroke-opacity:1; fill:none\" points=\"\n  419.044,326.155 563.044,326.155 \n  \"/>\n<path clip-path=\"url(#clip5500)\" d=\"M503.044 350.155 L486.076 343.123 L479.044 326.155 L486.076 309.187 L503.044 302.155 L520.012 309.187 L527.044 326.155 L520.012 343.123 Z\" fill=\"#e26f46\" fill-rule=\"evenodd\" fill-opacity=\"1\" stroke=\"#000000\" stroke-opacity=\"1\" stroke-width=\"3.2\"/>\n<g clip-path=\"url(#clip5500)\">\n<text style=\"fill:#000000; fill-opacity:1; font-family:Arial,Helvetica Neue,Helvetica,sans-serif; font-size:48px; text-anchor:start;\" transform=\"rotate(0, 587.044, 343.655)\" x=\"587.044\" y=\"343.655\">United Kingdom</text>\n</g>\n<polyline clip-path=\"url(#clip5500)\" style=\"stroke:#3da44d; stroke-width:4; stroke-opacity:1; fill:none\" points=\"\n  419.044,386.635 563.044,386.635 \n  \"/>\n<path clip-path=\"url(#clip5500)\" d=\"M503.044 410.635 L486.076 403.603 L479.044 386.635 L486.076 369.667 L503.044 362.635 L520.012 369.667 L527.044 386.635 L520.012 403.603 Z\" fill=\"#3da44d\" fill-rule=\"evenodd\" fill-opacity=\"1\" stroke=\"#000000\" stroke-opacity=\"1\" stroke-width=\"3.2\"/>\n<g clip-path=\"url(#clip5500)\">\n<text style=\"fill:#000000; fill-opacity:1; font-family:Arial,Helvetica Neue,Helvetica,sans-serif; font-size:48px; text-anchor:start;\" transform=\"rotate(0, 587.044, 404.135)\" x=\"587.044\" y=\"404.135\">China</text>\n</g>\n<polyline clip-path=\"url(#clip5500)\" style=\"stroke:#c271d2; stroke-width:4; stroke-opacity:1; fill:none\" points=\"\n  419.044,447.115 563.044,447.115 \n  \"/>\n<path clip-path=\"url(#clip5500)\" d=\"M503.044 471.115 L486.076 464.083 L479.044 447.115 L486.076 430.147 L503.044 423.115 L520.012 430.147 L527.044 447.115 L520.012 464.083 Z\" fill=\"#c271d2\" fill-rule=\"evenodd\" fill-opacity=\"1\" stroke=\"#000000\" stroke-opacity=\"1\" stroke-width=\"3.2\"/>\n<g clip-path=\"url(#clip5500)\">\n<text style=\"fill:#000000; fill-opacity:1; font-family:Arial,Helvetica Neue,Helvetica,sans-serif; font-size:48px; text-anchor:start;\" transform=\"rotate(0, 587.044, 464.615)\" x=\"587.044\" y=\"464.615\">Korea, South</text>\n</g>\n<polyline clip-path=\"url(#clip5500)\" style=\"stroke:#ac8d18; stroke-width:4; stroke-opacity:1; fill:none\" points=\"\n  419.044,507.595 563.044,507.595 \n  \"/>\n<path clip-path=\"url(#clip5500)\" d=\"M503.044 531.595 L486.076 524.563 L479.044 507.595 L486.076 490.627 L503.044 483.595 L520.012 490.627 L527.044 507.595 L520.012 524.563 Z\" fill=\"#ac8d18\" fill-rule=\"evenodd\" fill-opacity=\"1\" stroke=\"#000000\" stroke-opacity=\"1\" stroke-width=\"3.2\"/>\n<g clip-path=\"url(#clip5500)\">\n<text style=\"fill:#000000; fill-opacity:1; font-family:Arial,Helvetica Neue,Helvetica,sans-serif; font-size:48px; text-anchor:start;\" transform=\"rotate(0, 587.044, 525.095)\" x=\"587.044\" y=\"525.095\">Japan</text>\n</g>\n<polyline clip-path=\"url(#clip5500)\" style=\"stroke:#00a9ad; stroke-width:4; stroke-opacity:1; fill:none\" points=\"\n  419.044,568.075 563.044,568.075 \n  \"/>\n<path clip-path=\"url(#clip5500)\" d=\"M503.044 592.075 L486.076 585.043 L479.044 568.075 L486.076 551.107 L503.044 544.075 L520.012 551.107 L527.044 568.075 L520.012 585.043 Z\" fill=\"#00a9ad\" fill-rule=\"evenodd\" fill-opacity=\"1\" stroke=\"#000000\" stroke-opacity=\"1\" stroke-width=\"3.2\"/>\n<g clip-path=\"url(#clip5500)\">\n<text style=\"fill:#000000; fill-opacity:1; font-family:Arial,Helvetica Neue,Helvetica,sans-serif; font-size:48px; text-anchor:start;\" transform=\"rotate(0, 587.044, 585.575)\" x=\"587.044\" y=\"585.575\">France</text>\n</g>\n<polyline clip-path=\"url(#clip5500)\" style=\"stroke:#ed5d92; stroke-width:4; stroke-opacity:1; fill:none\" points=\"\n  419.044,628.555 563.044,628.555 \n  \"/>\n<path clip-path=\"url(#clip5500)\" d=\"M503.044 652.555 L486.076 645.523 L479.044 628.555 L486.076 611.587 L503.044 604.555 L520.012 611.587 L527.044 628.555 L520.012 645.523 Z\" fill=\"#ed5d92\" fill-rule=\"evenodd\" fill-opacity=\"1\" stroke=\"#000000\" stroke-opacity=\"1\" stroke-width=\"3.2\"/>\n<g clip-path=\"url(#clip5500)\">\n<text style=\"fill:#000000; fill-opacity:1; font-family:Arial,Helvetica Neue,Helvetica,sans-serif; font-size:48px; text-anchor:start;\" transform=\"rotate(0, 587.044, 646.055)\" x=\"587.044\" y=\"646.055\">US</text>\n</g>\n</svg>\n"
               },
               "type": "node"
              }
             ],
             "instanceArgs": {
              "namespace": "html",
              "tag": "div"
             },
             "nodeType": "DOM",
             "props": {
              "className": "interact-flex-row interact-widget"
             },
             "type": "node"
            }
           }
          },
          "systemjs_options": null
         },
         "nodeType": "Scope",
         "props": {},
         "type": "node"
        }
       ],
       "instanceArgs": {
        "namespace": "html",
        "tag": "div"
       },
       "nodeType": "DOM",
       "props": {},
       "type": "node"
      },
      "text/html": [
       "<div\n",
       "    class=\"webio-mountpoint\"\n",
       "    data-webio-mountpoint=\"8894894501109478792\"\n",
       ">\n",
       "    <script>\n",
       "    if (window.require && require.defined && require.defined(\"nbextensions/webio-jupyter-notebook\")) {\n",
       "        console.log(\"Jupyter WebIO extension detected, not mounting.\");\n",
       "    } else if (window.WebIO) {\n",
       "        WebIO.mount(\n",
       "            document.querySelector('[data-webio-mountpoint=\"8894894501109478792\"]'),\n",
       "            {\"props\":{},\"nodeType\":\"DOM\",\"type\":\"node\",\"instanceArgs\":{\"namespace\":\"html\",\"tag\":\"div\"},\"children\":[{\"props\":{\"className\":\"field interact-widget\"},\"nodeType\":\"DOM\",\"type\":\"node\",\"instanceArgs\":{\"namespace\":\"html\",\"tag\":\"div\"},\"children\":[{\"props\":{},\"nodeType\":\"Scope\",\"type\":\"node\",\"instanceArgs\":{\"imports\":{\"data\":[{\"name\":\"knockout\",\"type\":\"js\",\"url\":\"\\/assetserver\\/d8946d3abf581e5a833c85994d32d9051d9a2190-knockout.js\"},{\"name\":\"knockout_punches\",\"type\":\"js\",\"url\":\"\\/assetserver\\/f0105926ca82098bf0cc43c9f630d668299c2cd7-knockout_punches.js\"},{\"name\":null,\"type\":\"js\",\"url\":\"\\/assetserver\\/704e5d0cf77e2817714de26245cbbd0ed37344f1-all.js\"},{\"name\":null,\"type\":\"css\",\"url\":\"\\/assetserver\\/c20438aea7cddd6cb9a01e595cfcda275fddbf2a-style.css\"},{\"name\":null,\"type\":\"css\",\"url\":\"\\/assetserver\\/4980a02882c8523aafa0b412f0f004c9f340422a-bulma_confined.min.css\"}],\"type\":\"async_block\"},\"id\":\"9117436658152271209\",\"handlers\":{\"changes\":[\"(function (val){return (val!=this.model[\\\"changes\\\"]()) ? (this.valueFromJulia[\\\"changes\\\"]=true, this.model[\\\"changes\\\"](val)) : undefined})\"],\"index\":[\"(function (val){return (val!=this.model[\\\"index\\\"]()) ? (this.valueFromJulia[\\\"index\\\"]=true, this.model[\\\"index\\\"](val)) : undefined})\"]},\"systemjs_options\":null,\"mount_callbacks\":[\"function () {\\n    var handler = (function (ko, koPunches) {\\n    ko.punches.enableAll();\\n    ko.bindingHandlers.numericValue = {\\n        init: function(element, valueAccessor, allBindings, data, context) {\\n            var stringified = ko.observable(ko.unwrap(valueAccessor()));\\n            stringified.subscribe(function(value) {\\n                var val = parseFloat(value);\\n                if (!isNaN(val)) {\\n                    valueAccessor()(val);\\n                }\\n            });\\n            valueAccessor().subscribe(function(value) {\\n                var str = JSON.stringify(value);\\n                if ((str == \\\"0\\\") && ([\\\"-0\\\", \\\"-0.\\\"].indexOf(stringified()) >= 0))\\n                     return;\\n                 if ([\\\"null\\\", \\\"\\\"].indexOf(str) >= 0)\\n                     return;\\n                stringified(str);\\n            });\\n            ko.applyBindingsToNode(\\n                element,\\n                {\\n                    value: stringified,\\n                    valueUpdate: allBindings.get('valueUpdate'),\\n                },\\n                context,\\n            );\\n        }\\n    };\\n    var json_data = {\\\"formatted_vals\\\":[\\\"1\\\",\\\"2\\\",\\\"3\\\",\\\"4\\\",\\\"5\\\",\\\"6\\\",\\\"7\\\",\\\"8\\\",\\\"9\\\",\\\"10\\\",\\\"11\\\",\\\"12\\\",\\\"13\\\",\\\"14\\\",\\\"15\\\",\\\"16\\\",\\\"17\\\",\\\"18\\\",\\\"19\\\",\\\"20\\\",\\\"21\\\",\\\"22\\\",\\\"23\\\",\\\"24\\\",\\\"25\\\",\\\"26\\\",\\\"27\\\",\\\"28\\\",\\\"29\\\",\\\"30\\\",\\\"31\\\",\\\"32\\\",\\\"33\\\",\\\"34\\\",\\\"35\\\",\\\"36\\\",\\\"37\\\",\\\"38\\\",\\\"39\\\",\\\"40\\\",\\\"41\\\",\\\"42\\\",\\\"43\\\",\\\"44\\\",\\\"45\\\",\\\"46\\\",\\\"47\\\",\\\"48\\\",\\\"49\\\",\\\"50\\\",\\\"51\\\",\\\"52\\\",\\\"53\\\",\\\"54\\\",\\\"55\\\",\\\"56\\\",\\\"57\\\",\\\"58\\\",\\\"59\\\",\\\"60\\\",\\\"61\\\",\\\"62\\\",\\\"63\\\",\\\"64\\\",\\\"65\\\",\\\"66\\\",\\\"67\\\",\\\"68\\\",\\\"69\\\",\\\"70\\\",\\\"71\\\",\\\"72\\\",\\\"73\\\",\\\"74\\\",\\\"75\\\",\\\"76\\\",\\\"77\\\",\\\"78\\\"],\\\"changes\\\":WebIO.getval({\\\"name\\\":\\\"changes\\\",\\\"scope\\\":\\\"9117436658152271209\\\",\\\"id\\\":\\\"ob_326\\\",\\\"type\\\":\\\"observable\\\"}),\\\"index\\\":WebIO.getval({\\\"name\\\":\\\"index\\\",\\\"scope\\\":\\\"9117436658152271209\\\",\\\"id\\\":\\\"ob_325\\\",\\\"type\\\":\\\"observable\\\"})};\\n    var self = this;\\n    function AppViewModel() {\\n        for (var key in json_data) {\\n            var el = json_data[key];\\n            this[key] = Array.isArray(el) ? ko.observableArray(el) : ko.observable(el);\\n        }\\n        \\n        [this[\\\"formatted_val\\\"]=ko.computed(    function(){\\n        return this.formatted_vals()[parseInt(this.index())-(1)];\\n    }\\n,this)]\\n        [this[\\\"changes\\\"].subscribe((function (val){!(this.valueFromJulia[\\\"changes\\\"]) ? (WebIO.setval({\\\"name\\\":\\\"changes\\\",\\\"scope\\\":\\\"9117436658152271209\\\",\\\"id\\\":\\\"ob_326\\\",\\\"type\\\":\\\"observable\\\"},val)) : undefined; return this.valueFromJulia[\\\"changes\\\"]=false}),self),this[\\\"index\\\"].subscribe((function (val){!(this.valueFromJulia[\\\"index\\\"]) ? (WebIO.setval({\\\"name\\\":\\\"index\\\",\\\"scope\\\":\\\"9117436658152271209\\\",\\\"id\\\":\\\"ob_325\\\",\\\"type\\\":\\\"observable\\\"},val)) : undefined; return this.valueFromJulia[\\\"index\\\"]=false}),self)]\\n        \\n    }\\n    self.model = new AppViewModel();\\n    self.valueFromJulia = {};\\n    for (var key in json_data) {\\n        self.valueFromJulia[key] = false;\\n    }\\n    ko.applyBindings(self.model, self.dom);\\n}\\n);\\n    (WebIO.importBlock({\\\"data\\\":[{\\\"name\\\":\\\"knockout\\\",\\\"type\\\":\\\"js\\\",\\\"url\\\":\\\"\\/assetserver\\/d8946d3abf581e5a833c85994d32d9051d9a2190-knockout.js\\\"},{\\\"name\\\":\\\"knockout_punches\\\",\\\"type\\\":\\\"js\\\",\\\"url\\\":\\\"\\/assetserver\\/f0105926ca82098bf0cc43c9f630d668299c2cd7-knockout_punches.js\\\"}],\\\"type\\\":\\\"async_block\\\"})).then((imports) => handler.apply(this, imports));\\n}\\n\"],\"observables\":{\"changes\":{\"sync\":false,\"id\":\"ob_326\",\"value\":0},\"index\":{\"sync\":true,\"id\":\"ob_325\",\"value\":1}}},\"children\":[{\"props\":{\"className\":\"interact-flex-row interact-widget\"},\"nodeType\":\"DOM\",\"type\":\"node\",\"instanceArgs\":{\"namespace\":\"html\",\"tag\":\"div\"},\"children\":[{\"props\":{\"className\":\"interact-flex-row-left\"},\"nodeType\":\"DOM\",\"type\":\"node\",\"instanceArgs\":{\"namespace\":\"html\",\"tag\":\"div\"},\"children\":[{\"props\":{\"className\":\"interact \",\"style\":{\"padding\":\"5px 10px 0px 10px\"}},\"nodeType\":\"DOM\",\"type\":\"node\",\"instanceArgs\":{\"namespace\":\"html\",\"tag\":\"label\"},\"children\":[\"\"]}]},{\"props\":{\"className\":\"interact-flex-row-center\"},\"nodeType\":\"DOM\",\"type\":\"node\",\"instanceArgs\":{\"namespace\":\"html\",\"tag\":\"div\"},\"children\":[{\"props\":{\"max\":78,\"min\":1,\"attributes\":{\"type\":\"range\",\"data-bind\":\"numericValue: index, valueUpdate: 'input', event: {change: function (){this.changes(this.changes()+1)}}\",\"orient\":\"horizontal\"},\"step\":1,\"className\":\"slider slider is-fullwidth\",\"style\":{}},\"nodeType\":\"DOM\",\"type\":\"node\",\"instanceArgs\":{\"namespace\":\"html\",\"tag\":\"input\"},\"children\":[]}]},{\"props\":{\"className\":\"interact-flex-row-right\"},\"nodeType\":\"DOM\",\"type\":\"node\",\"instanceArgs\":{\"namespace\":\"html\",\"tag\":\"div\"},\"children\":[{\"props\":{\"attributes\":{\"data-bind\":\"text: formatted_val\"}},\"nodeType\":\"DOM\",\"type\":\"node\",\"instanceArgs\":{\"namespace\":\"html\",\"tag\":\"p\"},\"children\":[]}]}]}]}]},{\"props\":{},\"nodeType\":\"Scope\",\"type\":\"node\",\"instanceArgs\":{\"imports\":{\"data\":[],\"type\":\"async_block\"},\"id\":\"4985555604468154240\",\"handlers\":{},\"systemjs_options\":null,\"mount_callbacks\":[],\"observables\":{\"obs-node\":{\"sync\":false,\"id\":\"ob_330\",\"value\":{\"props\":{\"className\":\"interact-flex-row interact-widget\"},\"nodeType\":\"DOM\",\"type\":\"node\",\"instanceArgs\":{\"namespace\":\"html\",\"tag\":\"div\"},\"children\":[{\"props\":{\"setInnerHtml\":\"<?xml version=\\\"1.0\\\" encoding=\\\"utf-8\\\"?>\\n<svg xmlns=\\\"http:\\/\\/www.w3.org\\/2000\\/svg\\\" xmlns:xlink=\\\"http:\\/\\/www.w3.org\\/1999\\/xlink\\\" width=\\\"600\\\" height=\\\"400\\\" viewBox=\\\"0 0 2400 1600\\\">\\n<defs>\\n  <clipPath id=\\\"clip5100\\\">\\n    <rect x=\\\"0\\\" y=\\\"0\\\" width=\\\"2400\\\" height=\\\"1600\\\"\\/>\\n  <\\/clipPath>\\n<\\/defs>\\n<path clip-path=\\\"url(#clip5100)\\\" d=\\\"\\nM0 1600 L2400 1600 L2400 0 L0 0  Z\\n  \\\" fill=\\\"#ffffff\\\" fill-rule=\\\"evenodd\\\" fill-opacity=\\\"1\\\"\\/>\\n<defs>\\n  <clipPath id=\\\"clip5101\\\">\\n    <rect x=\\\"480\\\" y=\\\"0\\\" width=\\\"1681\\\" height=\\\"1600\\\"\\/>\\n  <\\/clipPath>\\n<\\/defs>\\n<path clip-path=\\\"url(#clip5100)\\\" d=\\\"\\nM323.044 1425.62 L2352.76 1425.62 L2352.76 121.675 L323.044 121.675  Z\\n  \\\" fill=\\\"#ffffff\\\" fill-rule=\\\"evenodd\\\" fill-opacity=\\\"1\\\"\\/>\\n<defs>\\n  <clipPath id=\\\"clip5102\\\">\\n    <rect x=\\\"323\\\" y=\\\"121\\\" width=\\\"2031\\\" height=\\\"1305\\\"\\/>\\n  <\\/clipPath>\\n<\\/defs>\\n<polyline clip-path=\\\"url(#clip5102)\\\" style=\\\"stroke:#000000; stroke-width:2; stroke-opacity:0.1; fill:none\\\" points=\\\"\\n  323.044,1425.62 323.044,121.675 \\n  \\\"\\/>\\n<polyline clip-path=\\\"url(#clip5102)\\\" style=\\\"stroke:#000000; stroke-width:2; stroke-opacity:0.1; fill:none\\\" points=\\\"\\n  812.131,1425.62 812.131,121.675 \\n  \\\"\\/>\\n<polyline clip-path=\\\"url(#clip5102)\\\" style=\\\"stroke:#000000; stroke-width:2; stroke-opacity:0.1; fill:none\\\" points=\\\"\\n  1301.22,1425.62 1301.22,121.675 \\n  \\\"\\/>\\n<polyline clip-path=\\\"url(#clip5102)\\\" style=\\\"stroke:#000000; stroke-width:2; stroke-opacity:0.1; fill:none\\\" points=\\\"\\n  1790.31,1425.62 1790.31,121.675 \\n  \\\"\\/>\\n<polyline clip-path=\\\"url(#clip5102)\\\" style=\\\"stroke:#000000; stroke-width:2; stroke-opacity:0.1; fill:none\\\" points=\\\"\\n  2279.39,1425.62 2279.39,121.675 \\n  \\\"\\/>\\n<polyline clip-path=\\\"url(#clip5102)\\\" style=\\\"stroke:#000000; stroke-width:2; stroke-opacity:0.1; fill:none\\\" points=\\\"\\n  323.044,1425.62 2352.76,1425.62 \\n  \\\"\\/>\\n<polyline clip-path=\\\"url(#clip5102)\\\" style=\\\"stroke:#000000; stroke-width:2; stroke-opacity:0.1; fill:none\\\" points=\\\"\\n  323.044,1099.63 2352.76,1099.63 \\n  \\\"\\/>\\n<polyline clip-path=\\\"url(#clip5102)\\\" style=\\\"stroke:#000000; stroke-width:2; stroke-opacity:0.1; fill:none\\\" points=\\\"\\n  323.044,773.647 2352.76,773.647 \\n  \\\"\\/>\\n<polyline clip-path=\\\"url(#clip5102)\\\" style=\\\"stroke:#000000; stroke-width:2; stroke-opacity:0.1; fill:none\\\" points=\\\"\\n  323.044,447.661 2352.76,447.661 \\n  \\\"\\/>\\n<polyline clip-path=\\\"url(#clip5102)\\\" style=\\\"stroke:#000000; stroke-width:2; stroke-opacity:0.1; fill:none\\\" points=\\\"\\n  323.044,121.675 2352.76,121.675 \\n  \\\"\\/>\\n<polyline clip-path=\\\"url(#clip5100)\\\" style=\\\"stroke:#000000; stroke-width:4; stroke-opacity:1; fill:none\\\" points=\\\"\\n  323.044,1425.62 2352.76,1425.62 \\n  \\\"\\/>\\n<polyline clip-path=\\\"url(#clip5100)\\\" style=\\\"stroke:#000000; stroke-width:4; stroke-opacity:1; fill:none\\\" points=\\\"\\n  323.044,1425.62 323.044,121.675 \\n  \\\"\\/>\\n<polyline clip-path=\\\"url(#clip5100)\\\" style=\\\"stroke:#000000; stroke-width:4; stroke-opacity:1; fill:none\\\" points=\\\"\\n  323.044,1425.62 323.044,1409.97 \\n  \\\"\\/>\\n<polyline clip-path=\\\"url(#clip5100)\\\" style=\\\"stroke:#000000; stroke-width:4; stroke-opacity:1; fill:none\\\" points=\\\"\\n  812.131,1425.62 812.131,1409.97 \\n  \\\"\\/>\\n<polyline clip-path=\\\"url(#clip5100)\\\" style=\\\"stroke:#000000; stroke-width:4; stroke-opacity:1; fill:none\\\" points=\\\"\\n  1301.22,1425.62 1301.22,1409.97 \\n  \\\"\\/>\\n<polyline clip-path=\\\"url(#clip5100)\\\" style=\\\"stroke:#000000; stroke-width:4; stroke-opacity:1; fill:none\\\" points=\\\"\\n  1790.31,1425.62 1790.31,1409.97 \\n  \\\"\\/>\\n<polyline clip-path=\\\"url(#clip5100)\\\" style=\\\"stroke:#000000; stroke-width:4; stroke-opacity:1; fill:none\\\" points=\\\"\\n  2279.39,1425.62 2279.39,1409.97 \\n  \\\"\\/>\\n<polyline clip-path=\\\"url(#clip5100)\\\" style=\\\"stroke:#000000; stroke-width:4; stroke-opacity:1; fill:none\\\" points=\\\"\\n  323.044,1425.62 347.401,1425.62 \\n  \\\"\\/>\\n<polyline clip-path=\\\"url(#clip5100)\\\" style=\\\"stroke:#000000; stroke-width:4; stroke-opacity:1; fill:none\\\" points=\\\"\\n  323.044,1099.63 347.401,1099.63 \\n  \\\"\\/>\\n<polyline clip-path=\\\"url(#clip5100)\\\" style=\\\"stroke:#000000; stroke-width:4; stroke-opacity:1; fill:none\\\" points=\\\"\\n  323.044,773.647 347.401,773.647 \\n  \\\"\\/>\\n<polyline clip-path=\\\"url(#clip5100)\\\" style=\\\"stroke:#000000; stroke-width:4; stroke-opacity:1; fill:none\\\" points=\\\"\\n  323.044,447.661 347.401,447.661 \\n  \\\"\\/>\\n<polyline clip-path=\\\"url(#clip5100)\\\" style=\\\"stroke:#000000; stroke-width:4; stroke-opacity:1; fill:none\\\" points=\\\"\\n  323.044,121.675 347.401,121.675 \\n  \\\"\\/>\\n<g clip-path=\\\"url(#clip5100)\\\">\\n<text style=\\\"fill:#000000; fill-opacity:1; font-family:Arial,Helvetica Neue,Helvetica,sans-serif; font-size:48px; text-anchor:middle;\\\" transform=\\\"rotate(0, 323.044, 1479.62)\\\" x=\\\"323.044\\\" y=\\\"1479.62\\\">0<\\/text>\\n<\\/g>\\n<g clip-path=\\\"url(#clip5100)\\\">\\n<text style=\\\"fill:#000000; fill-opacity:1; font-family:Arial,Helvetica Neue,Helvetica,sans-serif; font-size:48px; text-anchor:middle;\\\" transform=\\\"rotate(0, 812.131, 1479.62)\\\" x=\\\"812.131\\\" y=\\\"1479.62\\\">20<\\/text>\\n<\\/g>\\n<g clip-path=\\\"url(#clip5100)\\\">\\n<text style=\\\"fill:#000000; fill-opacity:1; font-family:Arial,Helvetica Neue,Helvetica,sans-serif; font-size:48px; text-anchor:middle;\\\" transform=\\\"rotate(0, 1301.22, 1479.62)\\\" x=\\\"1301.22\\\" y=\\\"1479.62\\\">40<\\/text>\\n<\\/g>\\n<g clip-path=\\\"url(#clip5100)\\\">\\n<text style=\\\"fill:#000000; fill-opacity:1; font-family:Arial,Helvetica Neue,Helvetica,sans-serif; font-size:48px; text-anchor:middle;\\\" transform=\\\"rotate(0, 1790.31, 1479.62)\\\" x=\\\"1790.31\\\" y=\\\"1479.62\\\">60<\\/text>\\n<\\/g>\\n<g clip-path=\\\"url(#clip5100)\\\">\\n<text style=\\\"fill:#000000; fill-opacity:1; font-family:Arial,Helvetica Neue,Helvetica,sans-serif; font-size:48px; text-anchor:middle;\\\" transform=\\\"rotate(0, 2279.39, 1479.62)\\\" x=\\\"2279.39\\\" y=\\\"1479.62\\\">80<\\/text>\\n<\\/g>\\n<g clip-path=\\\"url(#clip5100)\\\">\\n<text style=\\\"fill:#000000; fill-opacity:1; font-family:Arial,Helvetica Neue,Helvetica,sans-serif; font-size:48px; text-anchor:end;\\\" transform=\\\"rotate(0, 299.044, 1443.12)\\\" x=\\\"299.044\\\" y=\\\"1443.12\\\">0<\\/text>\\n<\\/g>\\n<g clip-path=\\\"url(#clip5100)\\\">\\n<text style=\\\"fill:#000000; fill-opacity:1; font-family:Arial,Helvetica Neue,Helvetica,sans-serif; font-size:48px; text-anchor:start;\\\" transform=\\\"rotate(0, 168.903, 1123.36)\\\" x=\\\"168.903\\\" y=\\\"1123.36\\\">1×10<\\/text>\\n<\\/g>\\n<g clip-path=\\\"url(#clip5100)\\\">\\n<text style=\\\"fill:#000000; fill-opacity:1; font-family:Arial,Helvetica Neue,Helvetica,sans-serif; font-size:38px; text-anchor:start;\\\" transform=\\\"rotate(0, 277.3, 1095.95)\\\" x=\\\"277.3\\\" y=\\\"1095.95\\\">5<\\/text>\\n<\\/g>\\n<g clip-path=\\\"url(#clip5100)\\\">\\n<text style=\\\"fill:#000000; fill-opacity:1; font-family:Arial,Helvetica Neue,Helvetica,sans-serif; font-size:48px; text-anchor:start;\\\" transform=\\\"rotate(0, 168.903, 797.374)\\\" x=\\\"168.903\\\" y=\\\"797.374\\\">2×10<\\/text>\\n<\\/g>\\n<g clip-path=\\\"url(#clip5100)\\\">\\n<text style=\\\"fill:#000000; fill-opacity:1; font-family:Arial,Helvetica Neue,Helvetica,sans-serif; font-size:38px; text-anchor:start;\\\" transform=\\\"rotate(0, 277.3, 769.964)\\\" x=\\\"277.3\\\" y=\\\"769.964\\\">5<\\/text>\\n<\\/g>\\n<g clip-path=\\\"url(#clip5100)\\\">\\n<text style=\\\"fill:#000000; fill-opacity:1; font-family:Arial,Helvetica Neue,Helvetica,sans-serif; font-size:48px; text-anchor:start;\\\" transform=\\\"rotate(0, 168.903, 471.389)\\\" x=\\\"168.903\\\" y=\\\"471.389\\\">3×10<\\/text>\\n<\\/g>\\n<g clip-path=\\\"url(#clip5100)\\\">\\n<text style=\\\"fill:#000000; fill-opacity:1; font-family:Arial,Helvetica Neue,Helvetica,sans-serif; font-size:38px; text-anchor:start;\\\" transform=\\\"rotate(0, 277.3, 443.978)\\\" x=\\\"277.3\\\" y=\\\"443.978\\\">5<\\/text>\\n<\\/g>\\n<g clip-path=\\\"url(#clip5100)\\\">\\n<text style=\\\"fill:#000000; fill-opacity:1; font-family:Arial,Helvetica Neue,Helvetica,sans-serif; font-size:48px; text-anchor:start;\\\" transform=\\\"rotate(0, 168.903, 145.403)\\\" x=\\\"168.903\\\" y=\\\"145.403\\\">4×10<\\/text>\\n<\\/g>\\n<g clip-path=\\\"url(#clip5100)\\\">\\n<text style=\\\"fill:#000000; fill-opacity:1; font-family:Arial,Helvetica Neue,Helvetica,sans-serif; font-size:38px; text-anchor:start;\\\" transform=\\\"rotate(0, 277.3, 117.992)\\\" x=\\\"277.3\\\" y=\\\"117.992\\\">5<\\/text>\\n<\\/g>\\n<g clip-path=\\\"url(#clip5100)\\\">\\n<text style=\\\"fill:#000000; fill-opacity:1; font-family:Arial,Helvetica Neue,Helvetica,sans-serif; font-size:84px; text-anchor:middle;\\\" transform=\\\"rotate(0, 1337.9, 73.2)\\\" x=\\\"1337.9\\\" y=\\\"73.2\\\">Confirmed Cases around the world<\\/text>\\n<\\/g>\\n<g clip-path=\\\"url(#clip5100)\\\">\\n<text style=\\\"fill:#000000; fill-opacity:1; font-family:Arial,Helvetica Neue,Helvetica,sans-serif; font-size:66px; text-anchor:middle;\\\" transform=\\\"rotate(0, 1337.9, 1559.48)\\\" x=\\\"1337.9\\\" y=\\\"1559.48\\\">days<\\/text>\\n<\\/g>\\n<g clip-path=\\\"url(#clip5100)\\\">\\n<text style=\\\"fill:#000000; fill-opacity:1; font-family:Arial,Helvetica Neue,Helvetica,sans-serif; font-size:66px; text-anchor:middle;\\\" transform=\\\"rotate(-90, 89.2861, 773.647)\\\" x=\\\"89.2861\\\" y=\\\"773.647\\\">Confirmed Cases<\\/text>\\n<\\/g>\\n<path clip-path=\\\"url(#clip5102)\\\" d=\\\"M347.498 1441.62 L336.186 1436.93 L331.498 1425.62 L336.186 1414.31 L347.498 1409.62 L358.81 1414.31 L363.498 1425.62 L358.81 1436.93 Z\\\" fill=\\\"#009af9\\\" fill-rule=\\\"evenodd\\\" fill-opacity=\\\"1\\\" stroke=\\\"#000000\\\" stroke-opacity=\\\"1\\\" stroke-width=\\\"3.2\\\"\\/>\\n<path clip-path=\\\"url(#clip5102)\\\" d=\\\"M347.498 1441.62 L336.186 1436.93 L331.498 1425.62 L336.186 1414.31 L347.498 1409.62 L358.81 1414.31 L363.498 1425.62 L358.81 1436.93 Z\\\" fill=\\\"#e26f46\\\" fill-rule=\\\"evenodd\\\" fill-opacity=\\\"1\\\" stroke=\\\"#000000\\\" stroke-opacity=\\\"1\\\" stroke-width=\\\"3.2\\\"\\/>\\n<path clip-path=\\\"url(#clip5102)\\\" d=\\\"M347.498 1439.83 L336.186 1435.14 L331.498 1423.83 L336.186 1412.52 L347.498 1407.83 L358.81 1412.52 L363.498 1423.83 L358.81 1435.14 Z\\\" fill=\\\"#3da44d\\\" fill-rule=\\\"evenodd\\\" fill-opacity=\\\"1\\\" stroke=\\\"#000000\\\" stroke-opacity=\\\"1\\\" stroke-width=\\\"3.2\\\"\\/>\\n<path clip-path=\\\"url(#clip5102)\\\" d=\\\"M347.498 1441.62 L336.186 1436.93 L331.498 1425.62 L336.186 1414.3 L347.498 1409.62 L358.81 1414.3 L363.498 1425.62 L358.81 1436.93 Z\\\" fill=\\\"#c271d2\\\" fill-rule=\\\"evenodd\\\" fill-opacity=\\\"1\\\" stroke=\\\"#000000\\\" stroke-opacity=\\\"1\\\" stroke-width=\\\"3.2\\\"\\/>\\n<path clip-path=\\\"url(#clip5102)\\\" d=\\\"M347.498 1441.61 L336.186 1436.92 L331.498 1425.61 L336.186 1414.3 L347.498 1409.61 L358.81 1414.3 L363.498 1425.61 L358.81 1436.92 Z\\\" fill=\\\"#ac8d18\\\" fill-rule=\\\"evenodd\\\" fill-opacity=\\\"1\\\" stroke=\\\"#000000\\\" stroke-opacity=\\\"1\\\" stroke-width=\\\"3.2\\\"\\/>\\n<path clip-path=\\\"url(#clip5102)\\\" d=\\\"M347.498 1441.62 L336.186 1436.93 L331.498 1425.62 L336.186 1414.31 L347.498 1409.62 L358.81 1414.31 L363.498 1425.62 L358.81 1436.93 Z\\\" fill=\\\"#00a9ad\\\" fill-rule=\\\"evenodd\\\" fill-opacity=\\\"1\\\" stroke=\\\"#000000\\\" stroke-opacity=\\\"1\\\" stroke-width=\\\"3.2\\\"\\/>\\n<path clip-path=\\\"url(#clip5102)\\\" d=\\\"M347.498 1441.62 L336.186 1436.93 L331.498 1425.62 L336.186 1414.3 L347.498 1409.62 L358.81 1414.3 L363.498 1425.62 L358.81 1436.93 Z\\\" fill=\\\"#ed5d92\\\" fill-rule=\\\"evenodd\\\" fill-opacity=\\\"1\\\" stroke=\\\"#000000\\\" stroke-opacity=\\\"1\\\" stroke-width=\\\"3.2\\\"\\/>\\n<path clip-path=\\\"url(#clip5100)\\\" d=\\\"\\nM395.044 689.035 L977.467 689.035 L977.467 205.195 L395.044 205.195  Z\\n  \\\" fill=\\\"#ffffff\\\" fill-rule=\\\"evenodd\\\" fill-opacity=\\\"1\\\"\\/>\\n<polyline clip-path=\\\"url(#clip5100)\\\" style=\\\"stroke:#000000; stroke-width:4; stroke-opacity:1; fill:none\\\" points=\\\"\\n  395.044,689.035 977.467,689.035 977.467,205.195 395.044,205.195 395.044,689.035 \\n  \\\"\\/>\\n<polyline clip-path=\\\"url(#clip5100)\\\" style=\\\"stroke:#009af9; stroke-width:4; stroke-opacity:1; fill:none\\\" points=\\\"\\n  419.044,265.675 563.044,265.675 \\n  \\\"\\/>\\n<path clip-path=\\\"url(#clip5100)\\\" d=\\\"M503.044 289.675 L486.076 282.643 L479.044 265.675 L486.076 248.707 L503.044 241.675 L520.012 248.707 L527.044 265.675 L520.012 282.643 Z\\\" fill=\\\"#009af9\\\" fill-rule=\\\"evenodd\\\" fill-opacity=\\\"1\\\" stroke=\\\"#000000\\\" stroke-opacity=\\\"1\\\" stroke-width=\\\"3.2\\\"\\/>\\n<g clip-path=\\\"url(#clip5100)\\\">\\n<text style=\\\"fill:#000000; fill-opacity:1; font-family:Arial,Helvetica Neue,Helvetica,sans-serif; font-size:48px; text-anchor:start;\\\" transform=\\\"rotate(0, 587.044, 283.175)\\\" x=\\\"587.044\\\" y=\\\"283.175\\\">Germany<\\/text>\\n<\\/g>\\n<polyline clip-path=\\\"url(#clip5100)\\\" style=\\\"stroke:#e26f46; stroke-width:4; stroke-opacity:1; fill:none\\\" points=\\\"\\n  419.044,326.155 563.044,326.155 \\n  \\\"\\/>\\n<path clip-path=\\\"url(#clip5100)\\\" d=\\\"M503.044 350.155 L486.076 343.123 L479.044 326.155 L486.076 309.187 L503.044 302.155 L520.012 309.187 L527.044 326.155 L520.012 343.123 Z\\\" fill=\\\"#e26f46\\\" fill-rule=\\\"evenodd\\\" fill-opacity=\\\"1\\\" stroke=\\\"#000000\\\" stroke-opacity=\\\"1\\\" stroke-width=\\\"3.2\\\"\\/>\\n<g clip-path=\\\"url(#clip5100)\\\">\\n<text style=\\\"fill:#000000; fill-opacity:1; font-family:Arial,Helvetica Neue,Helvetica,sans-serif; font-size:48px; text-anchor:start;\\\" transform=\\\"rotate(0, 587.044, 343.655)\\\" x=\\\"587.044\\\" y=\\\"343.655\\\">United Kingdom<\\/text>\\n<\\/g>\\n<polyline clip-path=\\\"url(#clip5100)\\\" style=\\\"stroke:#3da44d; stroke-width:4; stroke-opacity:1; fill:none\\\" points=\\\"\\n  419.044,386.635 563.044,386.635 \\n  \\\"\\/>\\n<path clip-path=\\\"url(#clip5100)\\\" d=\\\"M503.044 410.635 L486.076 403.603 L479.044 386.635 L486.076 369.667 L503.044 362.635 L520.012 369.667 L527.044 386.635 L520.012 403.603 Z\\\" fill=\\\"#3da44d\\\" fill-rule=\\\"evenodd\\\" fill-opacity=\\\"1\\\" stroke=\\\"#000000\\\" stroke-opacity=\\\"1\\\" stroke-width=\\\"3.2\\\"\\/>\\n<g clip-path=\\\"url(#clip5100)\\\">\\n<text style=\\\"fill:#000000; fill-opacity:1; font-family:Arial,Helvetica Neue,Helvetica,sans-serif; font-size:48px; text-anchor:start;\\\" transform=\\\"rotate(0, 587.044, 404.135)\\\" x=\\\"587.044\\\" y=\\\"404.135\\\">China<\\/text>\\n<\\/g>\\n<polyline clip-path=\\\"url(#clip5100)\\\" style=\\\"stroke:#c271d2; stroke-width:4; stroke-opacity:1; fill:none\\\" points=\\\"\\n  419.044,447.115 563.044,447.115 \\n  \\\"\\/>\\n<path clip-path=\\\"url(#clip5100)\\\" d=\\\"M503.044 471.115 L486.076 464.083 L479.044 447.115 L486.076 430.147 L503.044 423.115 L520.012 430.147 L527.044 447.115 L520.012 464.083 Z\\\" fill=\\\"#c271d2\\\" fill-rule=\\\"evenodd\\\" fill-opacity=\\\"1\\\" stroke=\\\"#000000\\\" stroke-opacity=\\\"1\\\" stroke-width=\\\"3.2\\\"\\/>\\n<g clip-path=\\\"url(#clip5100)\\\">\\n<text style=\\\"fill:#000000; fill-opacity:1; font-family:Arial,Helvetica Neue,Helvetica,sans-serif; font-size:48px; text-anchor:start;\\\" transform=\\\"rotate(0, 587.044, 464.615)\\\" x=\\\"587.044\\\" y=\\\"464.615\\\">Korea, South<\\/text>\\n<\\/g>\\n<polyline clip-path=\\\"url(#clip5100)\\\" style=\\\"stroke:#ac8d18; stroke-width:4; stroke-opacity:1; fill:none\\\" points=\\\"\\n  419.044,507.595 563.044,507.595 \\n  \\\"\\/>\\n<path clip-path=\\\"url(#clip5100)\\\" d=\\\"M503.044 531.595 L486.076 524.563 L479.044 507.595 L486.076 490.627 L503.044 483.595 L520.012 490.627 L527.044 507.595 L520.012 524.563 Z\\\" fill=\\\"#ac8d18\\\" fill-rule=\\\"evenodd\\\" fill-opacity=\\\"1\\\" stroke=\\\"#000000\\\" stroke-opacity=\\\"1\\\" stroke-width=\\\"3.2\\\"\\/>\\n<g clip-path=\\\"url(#clip5100)\\\">\\n<text style=\\\"fill:#000000; fill-opacity:1; font-family:Arial,Helvetica Neue,Helvetica,sans-serif; font-size:48px; text-anchor:start;\\\" transform=\\\"rotate(0, 587.044, 525.095)\\\" x=\\\"587.044\\\" y=\\\"525.095\\\">Japan<\\/text>\\n<\\/g>\\n<polyline clip-path=\\\"url(#clip5100)\\\" style=\\\"stroke:#00a9ad; stroke-width:4; stroke-opacity:1; fill:none\\\" points=\\\"\\n  419.044,568.075 563.044,568.075 \\n  \\\"\\/>\\n<path clip-path=\\\"url(#clip5100)\\\" d=\\\"M503.044 592.075 L486.076 585.043 L479.044 568.075 L486.076 551.107 L503.044 544.075 L520.012 551.107 L527.044 568.075 L520.012 585.043 Z\\\" fill=\\\"#00a9ad\\\" fill-rule=\\\"evenodd\\\" fill-opacity=\\\"1\\\" stroke=\\\"#000000\\\" stroke-opacity=\\\"1\\\" stroke-width=\\\"3.2\\\"\\/>\\n<g clip-path=\\\"url(#clip5100)\\\">\\n<text style=\\\"fill:#000000; fill-opacity:1; font-family:Arial,Helvetica Neue,Helvetica,sans-serif; font-size:48px; text-anchor:start;\\\" transform=\\\"rotate(0, 587.044, 585.575)\\\" x=\\\"587.044\\\" y=\\\"585.575\\\">France<\\/text>\\n<\\/g>\\n<polyline clip-path=\\\"url(#clip5100)\\\" style=\\\"stroke:#ed5d92; stroke-width:4; stroke-opacity:1; fill:none\\\" points=\\\"\\n  419.044,628.555 563.044,628.555 \\n  \\\"\\/>\\n<path clip-path=\\\"url(#clip5100)\\\" d=\\\"M503.044 652.555 L486.076 645.523 L479.044 628.555 L486.076 611.587 L503.044 604.555 L520.012 611.587 L527.044 628.555 L520.012 645.523 Z\\\" fill=\\\"#ed5d92\\\" fill-rule=\\\"evenodd\\\" fill-opacity=\\\"1\\\" stroke=\\\"#000000\\\" stroke-opacity=\\\"1\\\" stroke-width=\\\"3.2\\\"\\/>\\n<g clip-path=\\\"url(#clip5100)\\\">\\n<text style=\\\"fill:#000000; fill-opacity:1; font-family:Arial,Helvetica Neue,Helvetica,sans-serif; font-size:48px; text-anchor:start;\\\" transform=\\\"rotate(0, 587.044, 646.055)\\\" x=\\\"587.044\\\" y=\\\"646.055\\\">US<\\/text>\\n<\\/g>\\n<\\/svg>\\n\"},\"nodeType\":\"DOM\",\"type\":\"node\",\"instanceArgs\":{\"namespace\":\"html\",\"tag\":\"div\"},\"children\":[]}]}}}},\"children\":[{\"props\":{},\"nodeType\":\"ObservableNode\",\"type\":\"node\",\"instanceArgs\":{\"id\":\"ob_330\",\"name\":\"obs-node\"},\"children\":[]}]}]},\n",
       "            window,\n",
       "        );\n",
       "    } else {\n",
       "        document\n",
       "            .querySelector('[data-webio-mountpoint=\"8894894501109478792\"]')\n",
       "            .innerHTML = (\n",
       "                '<div style=\"padding: 1em; background-color: #f8d6da; border: 1px solid #f5c6cb\">' +\n",
       "                '<p><strong>WebIO not detected.</strong></p>' +\n",
       "                '<p>Please read ' +\n",
       "                '<a href=\"https://juliagizmos.github.io/WebIO.jl/latest/troubleshooting/not-detected/\" target=\"_blank\">the troubleshooting guide</a> ' +\n",
       "                'for more information on how to resolve this issue.</p>' +\n",
       "                '<p><a href=\"https://juliagizmos.github.io/WebIO.jl/latest/troubleshooting/not-detected/\" target=\"_blank\">https://juliagizmos.github.io/WebIO.jl/latest/troubleshooting/not-detected/</a></p>' +\n",
       "                '</div>'\n",
       "            );\n",
       "    }\n",
       "    </script>\n",
       "</div>\n"
      ],
      "text/plain": [
       "Node{WebIO.DOM}(WebIO.DOM(:html, :div), Any[Node{WebIO.DOM}(WebIO.DOM(:html, :div), Any[Scope(Node{WebIO.DOM}(WebIO.DOM(:html, :div), Any[Node{WebIO.DOM}(WebIO.DOM(:html, :div), Any[Node{WebIO.DOM}(WebIO.DOM(:html, :label), Any[nothing], Dict{Symbol,Any}(:className => \"interact \",:style => Dict{Any,Any}(:padding => \"5px 10px 0px 10px\")))], Dict{Symbol,Any}(:className => \"interact-flex-row-left\")), Node{WebIO.DOM}(WebIO.DOM(:html, :div), Any[Node{WebIO.DOM}(WebIO.DOM(:html, :input), Any[], Dict{Symbol,Any}(:max => 78,:min => 1,:attributes => Dict{Any,Any}(:type => \"range\",Symbol(\"data-bind\") => \"numericValue: index, valueUpdate: 'input', event: {change: function (){this.changes(this.changes()+1)}}\",\"orient\" => \"horizontal\"),:step => 1,:className => \"slider slider is-fullwidth\",:style => Dict{Any,Any}()))], Dict{Symbol,Any}(:className => \"interact-flex-row-center\")), Node{WebIO.DOM}(WebIO.DOM(:html, :div), Any[Node{WebIO.DOM}(WebIO.DOM(:html, :p), Any[], Dict{Symbol,Any}(:attributes => Dict(\"data-bind\" => \"text: formatted_val\")))], Dict{Symbol,Any}(:className => \"interact-flex-row-right\"))], Dict{Symbol,Any}(:className => \"interact-flex-row interact-widget\")), Dict{String,Tuple{Observables.AbstractObservable,Union{Nothing, Bool}}}(\"changes\" => (Observable{Int64} with 1 listeners. Value:\n",
       "0, nothing),\"index\" => (Observable{Int64} with 2 listeners. Value:\n",
       "1, nothing)), Set(String[]), nothing, Asset[Asset(\"js\", \"knockout\", \"/Users/robertoberwa/.julia/packages/Knockout/IP1uR/src/../assets/knockout.js\"), Asset(\"js\", \"knockout_punches\", \"/Users/robertoberwa/.julia/packages/Knockout/IP1uR/src/../assets/knockout_punches.js\"), Asset(\"js\", nothing, \"/Users/robertoberwa/.julia/packages/InteractBase/9mFwe/src/../assets/all.js\"), Asset(\"css\", nothing, \"/Users/robertoberwa/.julia/packages/InteractBase/9mFwe/src/../assets/style.css\"), Asset(\"css\", nothing, \"/Users/robertoberwa/.julia/packages/Interact/SbgIk/src/../assets/bulma_confined.min.css\")], Dict{Any,Any}(\"changes\" => Any[WebIO.JSString(\"(function (val){return (val!=this.model[\\\"changes\\\"]()) ? (this.valueFromJulia[\\\"changes\\\"]=true, this.model[\\\"changes\\\"](val)) : undefined})\")],\"index\" => Any[WebIO.JSString(\"(function (val){return (val!=this.model[\\\"index\\\"]()) ? (this.valueFromJulia[\\\"index\\\"]=true, this.model[\\\"index\\\"](val)) : undefined})\")]), WebIO.ConnectionPool(Channel{Any}(sz_max:32,sz_curr:0), Set(AbstractConnection[]), Base.GenericCondition{Base.AlwaysLockedST}(Base.InvasiveLinkedList{Task}(Task (runnable) @0x0000000113ab9b10, Task (runnable) @0x0000000113ab9b10), Base.AlwaysLockedST(1))), WebIO.JSString[WebIO.JSString(\"function () {\\n    var handler = (function (ko, koPunches) {\\n    ko.punches.enableAll();\\n    ko.bindingHandlers.numericValue = {\\n        init: function(element, valueAccessor, allBindings, data, context) {\\n            var stringified = ko.observable(ko.unwrap(valueAccessor()));\\n            stringified.subscribe(function(value) {\\n                var val = parseFloat(value);\\n                if (!isNaN(val)) {\\n                    valueAccessor()(val);\\n                }\\n            });\\n            valueAccessor().subscribe(function(value) {\\n                var str = JSON.stringify(value);\\n                if ((str == \\\"0\\\") && ([\\\"-0\\\", \\\"-0.\\\"].indexOf(stringified()) >= 0))\\n                     return;\\n                 if ([\\\"null\\\", \\\"\\\"].indexOf(str) >= 0)\\n                     return;\\n                stringified(str);\\n            });\\n            ko.applyBindingsToNode(\\n                element,\\n                {\\n                    value: stringified,\\n                    valueUpdate: allBindings.get('valueUpdate'),\\n                },\\n                context,\\n            );\\n        }\\n    };\\n    var json_data = {\\\"formatted_vals\\\":[\\\"1\\\",\\\"2\\\",\\\"3\\\",\\\"4\\\",\\\"5\\\",\\\"6\\\",\\\"7\\\",\\\"8\\\",\\\"9\\\",\\\"10\\\",\\\"11\\\",\\\"12\\\",\\\"13\\\",\\\"14\\\",\\\"15\\\",\\\"16\\\",\\\"17\\\",\\\"18\\\",\\\"19\\\",\\\"20\\\",\\\"21\\\",\\\"22\\\",\\\"23\\\",\\\"24\\\",\\\"25\\\",\\\"26\\\",\\\"27\\\",\\\"28\\\",\\\"29\\\",\\\"30\\\",\\\"31\\\",\\\"32\\\",\\\"33\\\",\\\"34\\\",\\\"35\\\",\\\"36\\\",\\\"37\\\",\\\"38\\\",\\\"39\\\",\\\"40\\\",\\\"41\\\",\\\"42\\\",\\\"43\\\",\\\"44\\\",\\\"45\\\",\\\"46\\\",\\\"47\\\",\\\"48\\\",\\\"49\\\",\\\"50\\\",\\\"51\\\",\\\"52\\\",\\\"53\\\",\\\"54\\\",\\\"55\\\",\\\"56\\\",\\\"57\\\",\\\"58\\\",\\\"59\\\",\\\"60\\\",\\\"61\\\",\\\"62\\\",\\\"63\\\",\\\"64\\\",\\\"65\\\",\\\"66\\\",\\\"67\\\",\\\"68\\\",\\\"69\\\",\\\"70\\\",\\\"71\\\",\\\"72\\\",\\\"73\\\",\\\"74\\\",\\\"75\\\",\\\"76\\\",\\\"77\\\",\\\"78\\\"],\\\"changes\\\":WebIO.getval({\\\"name\\\":\\\"changes\\\",\\\"scope\\\":\\\"9117436658152271209\\\",\\\"id\\\":\\\"ob_326\\\",\\\"type\\\":\\\"observable\\\"}),\\\"index\\\":WebIO.getval({\\\"name\\\":\\\"index\\\",\\\"scope\\\":\\\"9117436658152271209\\\",\\\"id\\\":\\\"ob_325\\\",\\\"type\\\":\\\"observable\\\"})};\\n    var self = this;\\n    function AppViewModel() {\\n        for (var key in json_data) {\\n            var el = json_data[key];\\n            this[key] = Array.isArray(el) ? ko.observableArray(el) : ko.observable(el);\\n        }\\n        \\n        [this[\\\"formatted_val\\\"]=ko.computed(    function(){\\n        return this.formatted_vals()[parseInt(this.index())-(1)];\\n    }\\n,this)]\\n        [this[\\\"changes\\\"].subscribe((function (val){!(this.valueFromJulia[\\\"changes\\\"]) ? (WebIO.setval({\\\"name\\\":\\\"changes\\\",\\\"scope\\\":\\\"9117436658152271209\\\",\\\"id\\\":\\\"ob_326\\\",\\\"type\\\":\\\"observable\\\"},val)) : undefined; return this.valueFromJulia[\\\"changes\\\"]=false}),self),this[\\\"index\\\"].subscribe((function (val){!(this.valueFromJulia[\\\"index\\\"]) ? (WebIO.setval({\\\"name\\\":\\\"index\\\",\\\"scope\\\":\\\"9117436658152271209\\\",\\\"id\\\":\\\"ob_325\\\",\\\"type\\\":\\\"observable\\\"},val)) : undefined; return this.valueFromJulia[\\\"index\\\"]=false}),self)]\\n        \\n    }\\n    self.model = new AppViewModel();\\n    self.valueFromJulia = {};\\n    for (var key in json_data) {\\n        self.valueFromJulia[key] = false;\\n    }\\n    ko.applyBindings(self.model, self.dom);\\n}\\n);\\n    (WebIO.importBlock({\\\"data\\\":[{\\\"name\\\":\\\"knockout\\\",\\\"type\\\":\\\"js\\\",\\\"url\\\":\\\"/assetserver/d8946d3abf581e5a833c85994d32d9051d9a2190-knockout.js\\\"},{\\\"name\\\":\\\"knockout_punches\\\",\\\"type\\\":\\\"js\\\",\\\"url\\\":\\\"/assetserver/f0105926ca82098bf0cc43c9f630d668299c2cd7-knockout_punches.js\\\"}],\\\"type\\\":\\\"async_block\\\"})).then((imports) => handler.apply(this, imports));\\n}\\n\")])], Dict{Symbol,Any}(:className => \"field interact-widget\")), Observable{Any} with 0 listeners. Value:\n",
       "Node{WebIO.DOM}(WebIO.DOM(:html, :div), Any[Plot{Plots.GRBackend() n=7}], Dict{Symbol,Any}(:className => \"interact-flex-row interact-widget\"))], Dict{Symbol,Any}())"
      ]
     },
     "execution_count": 264,
     "metadata": {
      "application/vnd.webio.node+json": {
       "kernelId": "abeef8b8-3610-41d2-b33c-f9cf45963acb"
      }
     },
     "output_type": "execute_result"
    }
   ],
   "source": [
    "@manipulate for day in slider(1:num_days, value=1)\n",
    "    p = plot(xlim=(0, num_days+5), ylim=(0,400000))\n",
    "    for country in keys(data_country_dict) \n",
    "    plot!(data_country_dict[country][1:day], label = country, leg=:topleft, m=:o) \n",
    "    end \n",
    "    xlabel!(\"days\")\n",
    "    ylabel!(\"Confirmed Cases\")\n",
    "    title!(\"Confirmed Cases around the world\") \n",
    "    p \n",
    "end"
   ]
  },
  {
   "cell_type": "markdown",
   "metadata": {},
   "source": [
    "##### Fig 1: Confirmed Cases around the world"
   ]
  },
  {
   "cell_type": "markdown",
   "metadata": {},
   "source": [
    "### Checking Exponential Growth"
   ]
  },
  {
   "cell_type": "code",
   "execution_count": 265,
   "metadata": {},
   "outputs": [
    {
     "data": {
      "image/svg+xml": [
       "<?xml version=\"1.0\" encoding=\"utf-8\"?>\n",
       "<svg xmlns=\"http://www.w3.org/2000/svg\" xmlns:xlink=\"http://www.w3.org/1999/xlink\" width=\"600\" height=\"400\" viewBox=\"0 0 2400 1600\">\n",
       "<defs>\n",
       "  <clipPath id=\"clip5900\">\n",
       "    <rect x=\"0\" y=\"0\" width=\"2400\" height=\"1600\"/>\n",
       "  </clipPath>\n",
       "</defs>\n",
       "<path clip-path=\"url(#clip5900)\" d=\"\n",
       "M0 1600 L2400 1600 L2400 0 L0 0  Z\n",
       "  \" fill=\"#ffffff\" fill-rule=\"evenodd\" fill-opacity=\"1\"/>\n",
       "<defs>\n",
       "  <clipPath id=\"clip5901\">\n",
       "    <rect x=\"480\" y=\"0\" width=\"1681\" height=\"1600\"/>\n",
       "  </clipPath>\n",
       "</defs>\n",
       "<path clip-path=\"url(#clip5900)\" d=\"\n",
       "M202.373 1425.62 L2352.76 1425.62 L2352.76 121.675 L202.373 121.675  Z\n",
       "  \" fill=\"#ffffff\" fill-rule=\"evenodd\" fill-opacity=\"1\"/>\n",
       "<defs>\n",
       "  <clipPath id=\"clip5902\">\n",
       "    <rect x=\"202\" y=\"121\" width=\"2151\" height=\"1305\"/>\n",
       "  </clipPath>\n",
       "</defs>\n",
       "<polyline clip-path=\"url(#clip5902)\" style=\"stroke:#000000; stroke-width:2; stroke-opacity:0.1; fill:none\" points=\"\n",
       "  202.373,1425.62 202.373,121.675 \n",
       "  \"/>\n",
       "<polyline clip-path=\"url(#clip5902)\" style=\"stroke:#000000; stroke-width:2; stroke-opacity:0.1; fill:none\" points=\"\n",
       "  753.753,1425.62 753.753,121.675 \n",
       "  \"/>\n",
       "<polyline clip-path=\"url(#clip5902)\" style=\"stroke:#000000; stroke-width:2; stroke-opacity:0.1; fill:none\" points=\"\n",
       "  1305.13,1425.62 1305.13,121.675 \n",
       "  \"/>\n",
       "<polyline clip-path=\"url(#clip5902)\" style=\"stroke:#000000; stroke-width:2; stroke-opacity:0.1; fill:none\" points=\"\n",
       "  1856.51,1425.62 1856.51,121.675 \n",
       "  \"/>\n",
       "<polyline clip-path=\"url(#clip5902)\" style=\"stroke:#000000; stroke-width:2; stroke-opacity:0.1; fill:none\" points=\"\n",
       "  202.373,1388.71 2352.76,1388.71 \n",
       "  \"/>\n",
       "<polyline clip-path=\"url(#clip5902)\" style=\"stroke:#000000; stroke-width:2; stroke-opacity:0.1; fill:none\" points=\"\n",
       "  202.373,1199.02 2352.76,1199.02 \n",
       "  \"/>\n",
       "<polyline clip-path=\"url(#clip5902)\" style=\"stroke:#000000; stroke-width:2; stroke-opacity:0.1; fill:none\" points=\"\n",
       "  202.373,1009.32 2352.76,1009.32 \n",
       "  \"/>\n",
       "<polyline clip-path=\"url(#clip5902)\" style=\"stroke:#000000; stroke-width:2; stroke-opacity:0.1; fill:none\" points=\"\n",
       "  202.373,819.617 2352.76,819.617 \n",
       "  \"/>\n",
       "<polyline clip-path=\"url(#clip5902)\" style=\"stroke:#000000; stroke-width:2; stroke-opacity:0.1; fill:none\" points=\"\n",
       "  202.373,629.918 2352.76,629.918 \n",
       "  \"/>\n",
       "<polyline clip-path=\"url(#clip5902)\" style=\"stroke:#000000; stroke-width:2; stroke-opacity:0.1; fill:none\" points=\"\n",
       "  202.373,440.219 2352.76,440.219 \n",
       "  \"/>\n",
       "<polyline clip-path=\"url(#clip5902)\" style=\"stroke:#000000; stroke-width:2; stroke-opacity:0.1; fill:none\" points=\"\n",
       "  202.373,440.219 2352.76,440.219 \n",
       "  \"/>\n",
       "<polyline clip-path=\"url(#clip5900)\" style=\"stroke:#000000; stroke-width:4; stroke-opacity:1; fill:none\" points=\"\n",
       "  202.373,1425.62 2352.76,1425.62 \n",
       "  \"/>\n",
       "<polyline clip-path=\"url(#clip5900)\" style=\"stroke:#000000; stroke-width:4; stroke-opacity:1; fill:none\" points=\"\n",
       "  202.373,1425.62 202.373,121.675 \n",
       "  \"/>\n",
       "<polyline clip-path=\"url(#clip5900)\" style=\"stroke:#000000; stroke-width:4; stroke-opacity:1; fill:none\" points=\"\n",
       "  202.373,1425.62 202.373,1409.97 \n",
       "  \"/>\n",
       "<polyline clip-path=\"url(#clip5900)\" style=\"stroke:#000000; stroke-width:4; stroke-opacity:1; fill:none\" points=\"\n",
       "  753.753,1425.62 753.753,1409.97 \n",
       "  \"/>\n",
       "<polyline clip-path=\"url(#clip5900)\" style=\"stroke:#000000; stroke-width:4; stroke-opacity:1; fill:none\" points=\"\n",
       "  1305.13,1425.62 1305.13,1409.97 \n",
       "  \"/>\n",
       "<polyline clip-path=\"url(#clip5900)\" style=\"stroke:#000000; stroke-width:4; stroke-opacity:1; fill:none\" points=\"\n",
       "  1856.51,1425.62 1856.51,1409.97 \n",
       "  \"/>\n",
       "<polyline clip-path=\"url(#clip5900)\" style=\"stroke:#000000; stroke-width:4; stroke-opacity:1; fill:none\" points=\"\n",
       "  202.373,1388.71 228.178,1388.71 \n",
       "  \"/>\n",
       "<polyline clip-path=\"url(#clip5900)\" style=\"stroke:#000000; stroke-width:4; stroke-opacity:1; fill:none\" points=\"\n",
       "  202.373,1199.02 228.178,1199.02 \n",
       "  \"/>\n",
       "<polyline clip-path=\"url(#clip5900)\" style=\"stroke:#000000; stroke-width:4; stroke-opacity:1; fill:none\" points=\"\n",
       "  202.373,1009.32 228.178,1009.32 \n",
       "  \"/>\n",
       "<polyline clip-path=\"url(#clip5900)\" style=\"stroke:#000000; stroke-width:4; stroke-opacity:1; fill:none\" points=\"\n",
       "  202.373,819.617 228.178,819.617 \n",
       "  \"/>\n",
       "<polyline clip-path=\"url(#clip5900)\" style=\"stroke:#000000; stroke-width:4; stroke-opacity:1; fill:none\" points=\"\n",
       "  202.373,629.918 228.178,629.918 \n",
       "  \"/>\n",
       "<polyline clip-path=\"url(#clip5900)\" style=\"stroke:#000000; stroke-width:4; stroke-opacity:1; fill:none\" points=\"\n",
       "  202.373,440.219 228.178,440.219 \n",
       "  \"/>\n",
       "<polyline clip-path=\"url(#clip5900)\" style=\"stroke:#000000; stroke-width:4; stroke-opacity:1; fill:none\" points=\"\n",
       "  202.373,440.219 228.178,440.219 \n",
       "  \"/>\n",
       "<g clip-path=\"url(#clip5900)\">\n",
       "<text style=\"fill:#000000; fill-opacity:1; font-family:Arial,Helvetica Neue,Helvetica,sans-serif; font-size:48px; text-anchor:middle;\" transform=\"rotate(0, 202.373, 1479.62)\" x=\"202.373\" y=\"1479.62\">0</text>\n",
       "</g>\n",
       "<g clip-path=\"url(#clip5900)\">\n",
       "<text style=\"fill:#000000; fill-opacity:1; font-family:Arial,Helvetica Neue,Helvetica,sans-serif; font-size:48px; text-anchor:middle;\" transform=\"rotate(0, 753.753, 1479.62)\" x=\"753.753\" y=\"1479.62\">20</text>\n",
       "</g>\n",
       "<g clip-path=\"url(#clip5900)\">\n",
       "<text style=\"fill:#000000; fill-opacity:1; font-family:Arial,Helvetica Neue,Helvetica,sans-serif; font-size:48px; text-anchor:middle;\" transform=\"rotate(0, 1305.13, 1479.62)\" x=\"1305.13\" y=\"1479.62\">40</text>\n",
       "</g>\n",
       "<g clip-path=\"url(#clip5900)\">\n",
       "<text style=\"fill:#000000; fill-opacity:1; font-family:Arial,Helvetica Neue,Helvetica,sans-serif; font-size:48px; text-anchor:middle;\" transform=\"rotate(0, 1856.51, 1479.62)\" x=\"1856.51\" y=\"1479.62\">60</text>\n",
       "</g>\n",
       "<g clip-path=\"url(#clip5900)\">\n",
       "<text style=\"fill:#000000; fill-opacity:1; font-family:Arial,Helvetica Neue,Helvetica,sans-serif; font-size:48px; text-anchor:end;\" transform=\"rotate(0, 178.373, 1406.21)\" x=\"178.373\" y=\"1406.21\">0</text>\n",
       "</g>\n",
       "<g clip-path=\"url(#clip5900)\">\n",
       "<text style=\"fill:#000000; fill-opacity:1; font-family:Arial,Helvetica Neue,Helvetica,sans-serif; font-size:48px; text-anchor:end;\" transform=\"rotate(0, 178.373, 1216.52)\" x=\"178.373\" y=\"1216.52\">2</text>\n",
       "</g>\n",
       "<g clip-path=\"url(#clip5900)\">\n",
       "<text style=\"fill:#000000; fill-opacity:1; font-family:Arial,Helvetica Neue,Helvetica,sans-serif; font-size:48px; text-anchor:end;\" transform=\"rotate(0, 178.373, 1026.82)\" x=\"178.373\" y=\"1026.82\">4</text>\n",
       "</g>\n",
       "<g clip-path=\"url(#clip5900)\">\n",
       "<text style=\"fill:#000000; fill-opacity:1; font-family:Arial,Helvetica Neue,Helvetica,sans-serif; font-size:48px; text-anchor:end;\" transform=\"rotate(0, 178.373, 837.117)\" x=\"178.373\" y=\"837.117\">6</text>\n",
       "</g>\n",
       "<g clip-path=\"url(#clip5900)\">\n",
       "<text style=\"fill:#000000; fill-opacity:1; font-family:Arial,Helvetica Neue,Helvetica,sans-serif; font-size:48px; text-anchor:end;\" transform=\"rotate(0, 178.373, 647.418)\" x=\"178.373\" y=\"647.418\">8</text>\n",
       "</g>\n",
       "<g clip-path=\"url(#clip5900)\">\n",
       "<text style=\"fill:#000000; fill-opacity:1; font-family:Arial,Helvetica Neue,Helvetica,sans-serif; font-size:48px; text-anchor:end;\" transform=\"rotate(0, 178.373, 457.719)\" x=\"178.373\" y=\"457.719\">10</text>\n",
       "</g>\n",
       "<g clip-path=\"url(#clip5900)\">\n",
       "<text style=\"fill:#000000; fill-opacity:1; font-family:Arial,Helvetica Neue,Helvetica,sans-serif; font-size:48px; text-anchor:end;\" transform=\"rotate(0, 178.373, 457.719)\" x=\"178.373\" y=\"457.719\">10</text>\n",
       "</g>\n",
       "<g clip-path=\"url(#clip5900)\">\n",
       "<text style=\"fill:#000000; fill-opacity:1; font-family:Arial,Helvetica Neue,Helvetica,sans-serif; font-size:84px; text-anchor:middle;\" transform=\"rotate(0, 1277.56, 73.2)\" x=\"1277.56\" y=\"73.2\">Confirmed Cases around the world</text>\n",
       "</g>\n",
       "<g clip-path=\"url(#clip5900)\">\n",
       "<text style=\"fill:#000000; fill-opacity:1; font-family:Arial,Helvetica Neue,Helvetica,sans-serif; font-size:66px; text-anchor:middle;\" transform=\"rotate(0, 1277.56, 1559.48)\" x=\"1277.56\" y=\"1559.48\">days</text>\n",
       "</g>\n",
       "<g clip-path=\"url(#clip5900)\">\n",
       "<text style=\"fill:#000000; fill-opacity:1; font-family:Arial,Helvetica Neue,Helvetica,sans-serif; font-size:66px; text-anchor:middle;\" transform=\"rotate(-90, 89.2861, 773.647)\" x=\"89.2861\" y=\"773.647\">log Confirmed Cases</text>\n",
       "</g>\n",
       "<polyline clip-path=\"url(#clip5902)\" style=\"stroke:#009af9; stroke-width:4; stroke-opacity:1; fill:none\" points=\"\n",
       "  367.787,1388.71 395.356,1257.23 422.925,1257.23 450.494,1257.23 478.063,1236.06 505.632,1191.48 533.201,1170.32 560.77,1153.02 588.339,1153.02 615.908,1153.02 \n",
       "  643.477,1153.02 671.046,1145.43 698.615,1145.43 726.184,1138.4 753.753,1138.4 781.322,1125.74 808.891,1125.74 836.46,1125.74 864.029,1125.74 891.598,1125.74 \n",
       "  919.167,1125.74 946.736,1125.74 974.305,1125.74 1001.87,1125.74 1029.44,1125.74 1057.01,1125.74 1084.58,1125.74 1112.15,1125.74 1139.72,1125.74 1167.29,1119.99 \n",
       "  1194.86,1076.11 1222.43,1025.57 1250,1021.53 1277.56,974.274 1305.13,927.031 1332.7,907.931 1360.27,888.088 1387.84,860.56 1415.41,802.739 1442.98,771.502 \n",
       "  1470.55,754.801 1498.12,729.797 1525.69,718.14 1553.25,697.818 1580.82,672.239 1608.39,664.144 1635.96,610.065 1663.53,589.081 1691.1,566.867 1718.67,545.333 \n",
       "  1746.24,522.441 1773.81,495.275 1801.38,474.658 1828.94,450.097 1856.51,439.419 1884.08,428.691 1911.65,413.948 1939.22,401.915 1966.79,390.199 1994.36,374.722 \n",
       "  2021.93,360.825 2049.5,348.886 2077.07,341.915 2104.63,334.867 2132.2,328.131 2159.77,320.441 2187.34,312.364 2214.91,305.499 2242.48,300.5 2270.05,296.602 \n",
       "  2297.62,293.571 2325.19,289.716 2352.76,284.878 \n",
       "  \"/>\n",
       "<polyline clip-path=\"url(#clip5902)\" style=\"stroke:#e26f46; stroke-width:4; stroke-opacity:1; fill:none\" points=\"\n",
       "  478.063,1322.97 505.632,1322.97 533.201,1322.97 560.77,1322.97 588.339,1322.97 615.908,1322.97 643.477,1322.97 671.046,1284.51 698.615,1284.51 726.184,1284.51 \n",
       "  753.753,1191.48 781.322,1191.48 808.891,1180.31 836.46,1180.31 864.029,1180.31 891.598,1180.31 919.167,1180.31 946.736,1180.31 974.305,1180.31 1001.87,1180.31 \n",
       "  1029.44,1180.31 1057.01,1180.31 1084.58,1180.31 1112.15,1180.31 1139.72,1145.43 1167.29,1145.43 1194.86,1145.43 1222.43,1131.86 1250,1104.57 1277.56,1091.31 \n",
       "  1305.13,1048.82 1332.7,1038.83 1360.27,1015.78 1387.84,966.222 1415.41,937.839 1442.98,904.995 1470.55,882.909 1498.12,856.312 1525.69,841.001 1553.25,824.299 \n",
       "  1580.82,807.377 1608.39,807.377 1635.96,754.445 1663.53,720.757 1691.1,720.674 1718.67,691.888 1746.24,669.689 1773.81,641.367 1801.38,638.747 1828.94,601.696 \n",
       "  1856.51,579.6 1884.08,567.689 1911.65,552.736 1939.22,534.358 1966.79,518.596 1994.36,499.323 2021.93,478.286 2049.5,463.063 2077.07,450.422 2104.63,438.4 \n",
       "  2132.2,426.401 2159.77,411.343 2187.34,398.562 2214.91,386.789 2242.48,377.93 2270.05,365.478 2297.62,358.236 2325.19,351.801 2352.76,342.868 \n",
       "  \"/>\n",
       "<polyline clip-path=\"url(#clip5902)\" style=\"stroke:#3da44d; stroke-width:4; stroke-opacity:1; fill:none\" points=\"\n",
       "  229.942,790.567 257.511,775.404 285.08,741.426 312.649,701.197 340.218,664.281 367.787,633.285 395.356,571.667 422.925,562.204 450.494,534.626 478.063,517.015 \n",
       "  505.632,498.69 533.201,466.875 560.77,450.73 588.339,433.245 615.908,419.375 643.477,409.077 671.046,398.737 698.615,391.501 726.184,384.035 753.753,378.205 \n",
       "  781.322,373.76 808.891,372.966 836.46,345.337 864.029,335.617 891.598,332.724 919.167,329.857 946.736,327.307 974.305,325.008 1001.87,324.488 1029.44,323.908 \n",
       "  1057.01,323.312 1084.58,321.508 1112.15,321.482 1139.72,321.213 1167.29,320.585 1194.86,320.084 1222.43,319.558 1250,319.163 1277.56,318.651 1305.13,317.965 \n",
       "  1332.7,317.723 1360.27,317.575 1387.84,317.427 1415.41,317.249 1442.98,317.069 1470.55,316.975 1498.12,316.913 1525.69,316.87 1553.25,316.838 1580.82,316.798 \n",
       "  1608.39,316.785 1635.96,316.77 1663.53,316.733 1691.1,316.702 1718.67,316.667 1746.24,316.638 1773.81,316.586 1801.38,316.523 1828.94,316.413 1856.51,316.349 \n",
       "  1884.08,316.198 1911.65,316.124 1939.22,316.016 1966.79,315.935 1994.36,315.794 2021.93,315.661 2049.5,315.543 2077.07,315.401 2104.63,315.313 2132.2,315.22 \n",
       "  2159.77,315.125 2187.34,315.043 2214.91,314.953 2242.48,314.916 2270.05,314.848 2297.62,314.776 2325.19,314.715 2352.76,314.611 \n",
       "  \"/>\n",
       "<polyline clip-path=\"url(#clip5902)\" style=\"stroke:#c271d2; stroke-width:4; stroke-opacity:1; fill:none\" points=\"\n",
       "  229.942,1388.71 257.511,1388.71 285.08,1322.97 312.649,1322.97 340.218,1284.51 367.787,1257.23 395.356,1257.23 422.925,1257.23 450.494,1257.23 478.063,1161.28 \n",
       "  505.632,1153.02 533.201,1131.86 560.77,1131.86 588.339,1125.74 615.908,1109.44 643.477,1091.31 671.046,1087.28 698.615,1087.28 726.184,1083.41 753.753,1076.11 \n",
       "  781.322,1072.66 808.891,1072.66 836.46,1072.66 864.029,1072.66 891.598,1072.66 919.167,1069.33 946.736,1066.11 974.305,1063 1001.87,1063 1029.44,948.196 \n",
       "  1057.01,884.293 1084.58,812.908 1112.15,781.653 1139.72,750.848 1167.29,735.724 1194.86,711.521 1222.43,679.575 1250,653.002 1277.56,624.687 1305.13,608.504 \n",
       "  1332.7,594.399 1360.27,577.398 1387.84,569.758 1415.41,562.189 1442.98,554.63 1470.55,548.394 1498.12,544.786 1525.69,542.683 1553.25,542.24 1580.82,539.233 \n",
       "  1608.39,537.849 1635.96,536.532 1663.53,535.269 1691.1,534.382 1718.67,533.525 1746.24,532.563 1773.81,531.509 1801.38,529.81 1828.94,528.852 1856.51,527.254 \n",
       "  1884.08,525.523 1911.65,525.523 1939.22,524.722 1966.79,523.678 1994.36,522.605 2021.93,521.675 2049.5,520.203 2077.07,519.158 2104.63,518.389 2132.2,517.17 \n",
       "  2159.77,516.196 2187.34,515.346 2214.91,514.532 2242.48,513.65 2270.05,512.896 2297.62,512.462 2325.19,512.029 2352.76,511.544 \n",
       "  \"/>\n",
       "<polyline clip-path=\"url(#clip5902)\" style=\"stroke:#ac8d18; stroke-width:4; stroke-opacity:1; fill:none\" points=\"\n",
       "  229.942,1322.97 257.511,1322.97 285.08,1322.97 312.649,1322.97 340.218,1257.23 367.787,1257.23 395.356,1204.15 422.925,1204.15 450.494,1161.28 478.063,1131.86 \n",
       "  505.632,1104.57 533.201,1104.57 560.77,1104.57 588.339,1095.53 615.908,1095.53 643.477,1095.53 671.046,1083.41 698.615,1083.41 726.184,1079.69 753.753,1079.69 \n",
       "  781.322,1079.69 808.891,1072.66 836.46,1072.66 864.029,1069.33 891.598,1031.97 919.167,1001.96 946.736,991.328 974.305,980.476 1001.87,968.454 1029.44,957.785 \n",
       "  1057.01,947.289 1084.58,933.055 1112.15,915.374 1139.72,907.931 1167.29,901.586 1194.86,891.537 1222.43,879.754 1250,873.744 1277.56,868.484 1305.13,862.757 \n",
       "  1332.7,856.312 1360.27,849.953 1387.84,838.386 1415.41,830.42 1442.98,815.799 1470.55,806.965 1498.12,798.883 1525.69,797.198 1553.25,785.021 1580.82,775.996 \n",
       "  1608.39,775.996 1635.96,767.212 1663.53,757.939 1691.1,750.167 1718.67,750.167 1746.24,745.858 1773.81,744.677 1801.38,741.014 1828.94,737.093 1856.51,732.855 \n",
       "  1884.08,724.391 1911.65,722.093 1939.22,716.779 1966.79,708.123 1994.36,702.488 2021.93,697.104 2049.5,683.579 2077.07,674.35 2104.63,674.35 2132.2,670.028 \n",
       "  2159.77,659.686 2187.34,646.797 2214.91,642.269 2242.48,625.018 2270.05,625.018 2297.62,610.609 2325.19,604.283 2352.76,596.121 \n",
       "  \"/>\n",
       "<polyline clip-path=\"url(#clip5902)\" style=\"stroke:#00a9ad; stroke-width:4; stroke-opacity:1; fill:none\" points=\"\n",
       "  285.08,1322.97 312.649,1284.51 340.218,1284.51 367.787,1284.51 395.356,1257.23 422.925,1236.06 450.494,1236.06 478.063,1236.06 505.632,1218.77 533.201,1218.77 \n",
       "  560.77,1218.77 588.339,1218.77 615.908,1218.77 643.477,1218.77 671.046,1218.77 698.615,1161.28 726.184,1161.28 753.753,1161.28 781.322,1161.28 808.891,1161.28 \n",
       "  836.46,1161.28 864.029,1161.28 891.598,1153.02 919.167,1153.02 946.736,1153.02 974.305,1153.02 1001.87,1153.02 1029.44,1153.02 1057.01,1153.02 1084.58,1153.02 \n",
       "  1112.15,1153.02 1139.72,1153.02 1167.29,1138.4 1194.86,1114.56 1222.43,1043.69 1250,1005.23 1277.56,951.916 1305.13,927.031 1332.7,890.539 1360.27,884.293 \n",
       "  1387.84,851.585 1415.41,825.292 1442.98,773.505 1470.55,737.488 1498.12,721.423 1525.69,714.734 1553.25,678.083 1580.82,654.805 1608.39,654.805 1635.96,609.911 \n",
       "  1663.53,590.94 1691.1,590.184 1718.67,553.344 1746.24,539.724 1773.81,523.813 1801.38,506.337 1828.94,492.015 1856.51,480.118 1884.08,469.109 1911.65,448.792 \n",
       "  1939.22,437.689 1966.79,425.959 1994.36,412.345 2021.93,400.727 2049.5,388.232 2077.07,381.964 2104.63,372.099 2132.2,357.247 2159.77,348.797 2187.34,345.283 \n",
       "  2214.91,337.284 2242.48,305.823 2270.05,302.817 2297.62,297.708 2325.19,287.623 2352.76,284.325 \n",
       "  \"/>\n",
       "<polyline clip-path=\"url(#clip5902)\" style=\"stroke:#ed5d92; stroke-width:4; stroke-opacity:1; fill:none\" points=\"\n",
       "  229.942,1388.71 257.511,1388.71 285.08,1322.97 312.649,1322.97 340.218,1236.06 367.787,1236.06 395.356,1236.06 422.925,1236.06 450.494,1236.06 478.063,1204.15 \n",
       "  505.632,1191.48 533.201,1191.48 560.77,1161.28 588.339,1161.28 615.908,1161.28 643.477,1161.28 671.046,1161.28 698.615,1161.28 726.184,1161.28 753.753,1161.28 \n",
       "  781.322,1153.02 808.891,1153.02 836.46,1145.43 864.029,1145.43 891.598,1145.43 919.167,1145.43 946.736,1145.43 974.305,1145.43 1001.87,1145.43 1029.44,1145.43 \n",
       "  1057.01,1131.86 1084.58,1131.86 1112.15,1131.86 1139.72,1015.78 1167.29,1015.78 1194.86,1005.23 1222.43,1003.58 1250,1000.37 1277.56,988.496 1305.13,980.476 \n",
       "  1332.7,953.832 1360.27,936.217 1387.84,914.093 1415.41,878.434 1442.98,860.56 1470.55,819.954 1498.12,795.907 1525.69,784.695 1553.25,737.488 1580.82,710.028 \n",
       "  1608.39,685.274 1635.96,659.642 1663.53,638.364 1691.1,614.72 1718.67,588.114 1746.24,557.137 1773.81,538.891 1801.38,484.933 1828.94,452.885 1856.51,425.959 \n",
       "  1884.08,401.085 1911.65,374.919 1939.22,355.622 1966.79,336.45 1994.36,313.442 2021.93,295.16 2049.5,278.265 2077.07,264.191 2104.63,251.056 2132.2,236.756 \n",
       "  2159.77,224.835 2187.34,212.263 2214.91,200.567 2242.48,189.758 2270.05,181.465 2297.62,173.482 2325.19,166.129 2352.76,158.579 \n",
       "  \"/>\n",
       "<path clip-path=\"url(#clip5900)\" d=\"\n",
       "M1698.33 1281.62 L2280.76 1281.62 L2280.76 797.779 L1698.33 797.779  Z\n",
       "  \" fill=\"#ffffff\" fill-rule=\"evenodd\" fill-opacity=\"1\"/>\n",
       "<polyline clip-path=\"url(#clip5900)\" style=\"stroke:#000000; stroke-width:4; stroke-opacity:1; fill:none\" points=\"\n",
       "  1698.33,1281.62 2280.76,1281.62 2280.76,797.779 1698.33,797.779 1698.33,1281.62 \n",
       "  \"/>\n",
       "<polyline clip-path=\"url(#clip5900)\" style=\"stroke:#009af9; stroke-width:4; stroke-opacity:1; fill:none\" points=\"\n",
       "  1722.33,858.259 1866.33,858.259 \n",
       "  \"/>\n",
       "<g clip-path=\"url(#clip5900)\">\n",
       "<text style=\"fill:#000000; fill-opacity:1; font-family:Arial,Helvetica Neue,Helvetica,sans-serif; font-size:48px; text-anchor:start;\" transform=\"rotate(0, 1890.33, 875.759)\" x=\"1890.33\" y=\"875.759\">Germany</text>\n",
       "</g>\n",
       "<polyline clip-path=\"url(#clip5900)\" style=\"stroke:#e26f46; stroke-width:4; stroke-opacity:1; fill:none\" points=\"\n",
       "  1722.33,918.739 1866.33,918.739 \n",
       "  \"/>\n",
       "<g clip-path=\"url(#clip5900)\">\n",
       "<text style=\"fill:#000000; fill-opacity:1; font-family:Arial,Helvetica Neue,Helvetica,sans-serif; font-size:48px; text-anchor:start;\" transform=\"rotate(0, 1890.33, 936.239)\" x=\"1890.33\" y=\"936.239\">United Kingdom</text>\n",
       "</g>\n",
       "<polyline clip-path=\"url(#clip5900)\" style=\"stroke:#3da44d; stroke-width:4; stroke-opacity:1; fill:none\" points=\"\n",
       "  1722.33,979.219 1866.33,979.219 \n",
       "  \"/>\n",
       "<g clip-path=\"url(#clip5900)\">\n",
       "<text style=\"fill:#000000; fill-opacity:1; font-family:Arial,Helvetica Neue,Helvetica,sans-serif; font-size:48px; text-anchor:start;\" transform=\"rotate(0, 1890.33, 996.719)\" x=\"1890.33\" y=\"996.719\">China</text>\n",
       "</g>\n",
       "<polyline clip-path=\"url(#clip5900)\" style=\"stroke:#c271d2; stroke-width:4; stroke-opacity:1; fill:none\" points=\"\n",
       "  1722.33,1039.7 1866.33,1039.7 \n",
       "  \"/>\n",
       "<g clip-path=\"url(#clip5900)\">\n",
       "<text style=\"fill:#000000; fill-opacity:1; font-family:Arial,Helvetica Neue,Helvetica,sans-serif; font-size:48px; text-anchor:start;\" transform=\"rotate(0, 1890.33, 1057.2)\" x=\"1890.33\" y=\"1057.2\">Korea, South</text>\n",
       "</g>\n",
       "<polyline clip-path=\"url(#clip5900)\" style=\"stroke:#ac8d18; stroke-width:4; stroke-opacity:1; fill:none\" points=\"\n",
       "  1722.33,1100.18 1866.33,1100.18 \n",
       "  \"/>\n",
       "<g clip-path=\"url(#clip5900)\">\n",
       "<text style=\"fill:#000000; fill-opacity:1; font-family:Arial,Helvetica Neue,Helvetica,sans-serif; font-size:48px; text-anchor:start;\" transform=\"rotate(0, 1890.33, 1117.68)\" x=\"1890.33\" y=\"1117.68\">Japan</text>\n",
       "</g>\n",
       "<polyline clip-path=\"url(#clip5900)\" style=\"stroke:#00a9ad; stroke-width:4; stroke-opacity:1; fill:none\" points=\"\n",
       "  1722.33,1160.66 1866.33,1160.66 \n",
       "  \"/>\n",
       "<g clip-path=\"url(#clip5900)\">\n",
       "<text style=\"fill:#000000; fill-opacity:1; font-family:Arial,Helvetica Neue,Helvetica,sans-serif; font-size:48px; text-anchor:start;\" transform=\"rotate(0, 1890.33, 1178.16)\" x=\"1890.33\" y=\"1178.16\">France</text>\n",
       "</g>\n",
       "<polyline clip-path=\"url(#clip5900)\" style=\"stroke:#ed5d92; stroke-width:4; stroke-opacity:1; fill:none\" points=\"\n",
       "  1722.33,1221.14 1866.33,1221.14 \n",
       "  \"/>\n",
       "<g clip-path=\"url(#clip5900)\">\n",
       "<text style=\"fill:#000000; fill-opacity:1; font-family:Arial,Helvetica Neue,Helvetica,sans-serif; font-size:48px; text-anchor:start;\" transform=\"rotate(0, 1890.33, 1238.64)\" x=\"1890.33\" y=\"1238.64\">US</text>\n",
       "</g>\n",
       "</svg>\n"
      ]
     },
     "execution_count": 265,
     "metadata": {},
     "output_type": "execute_result"
    }
   ],
   "source": [
    "log_data_country_dict = Dict()\n",
    "for (key, value) in data_country_dict\n",
    "    value = convert(Array{Float64}, value)\n",
    "    value[value .== 0.0] .= NaN\n",
    "    log_data_country_dict[key] = log.(value)\n",
    "end\n",
    "\n",
    " plog = plot(xlim=(0, num_days))\n",
    "\n",
    "for country in keys(log_data_country_dict)\n",
    "    plot!(log_data_country_dict[country], label = country, leg=:bottomright)\n",
    "end\n",
    "xlabel!(\"days\")\n",
    "ylabel!(\"log Confirmed Cases\")\n",
    "title!(\"Confirmed Cases around the world\")\n",
    "plog"
   ]
  },
  {
   "cell_type": "markdown",
   "metadata": {},
   "source": [
    "###### Fig 2: log confirmed cases per day"
   ]
  },
  {
   "cell_type": "markdown",
   "metadata": {},
   "source": [
    "##### From this fig 2, all the seven countries experiences exponential growth."
   ]
  },
  {
   "cell_type": "markdown",
   "metadata": {},
   "source": [
    "# Visualizing changes"
   ]
  },
  {
   "cell_type": "code",
   "execution_count": 266,
   "metadata": {},
   "outputs": [
    {
     "data": {
      "text/plain": [
       "Dict{Any,Any} with 7 entries:\n",
       "  \"Germany\"        => Any[NaN, NaN, NaN, NaN, NaN, 1.0, 4.0, NaN, NaN, NaN  …  …\n",
       "  \"United Kingdom\" => Any[NaN, NaN, NaN, NaN, NaN, NaN, NaN, NaN, NaN, NaN  …  …\n",
       "  \"China\"          => Any[548.0, 643.0, 920.0, 1406.0, 2075.0, 2877.0, 5509.0, …\n",
       "  \"Korea, South\"   => Any[1.0, 1.0, 2.0, 2.0, 3.0, 4.0, 4.0, 3.0, 3.0, 9.0  …  …\n",
       "  \"Japan\"          => Any[2.0, 2.0, 2.0, 2.0, 4.0, 4.0, 7.0, 5.0, 9.0, 13.0  … …\n",
       "  \"France\"         => Any[NaN, NaN, 2.0, 3.0, 3.0, 3.0, 4.0, NaN, NaN, 3.0  …  …\n",
       "  \"US\"             => Any[1.0, 1.0, 2.0, 2.0, 5.0, 5.0, 5.0, 4.0, 4.0, 5.0  …  …"
      ]
     },
     "execution_count": 266,
     "metadata": {},
     "output_type": "execute_result"
    }
   ],
   "source": [
    "weekly_data = Dict()\n",
    "final = 0\n",
    "for country in countries\n",
    "    country_data = data_country_dict[country]\n",
    "    country_data = convert(Array{Float64}, country_data)\n",
    "    country_data[country_data .== 0.0] .= NaN\n",
    "    country_data_weekly = []\n",
    "    for i in num_days:-1:1 # Monday to Monday \n",
    "        if i <= 7\n",
    "            append!(country_data_weekly, country_data[i])\n",
    "        else\n",
    "            append!(country_data_weekly, [country_data[i] - country_data[i-7]]) #Format: Sunday to Sunday\n",
    "            end \n",
    "        end \n",
    "    weekly_data[country] = reverse(country_data_weekly)\n",
    "    end\n",
    "weekly_data"
   ]
  },
  {
   "cell_type": "code",
   "execution_count": 273,
   "metadata": {},
   "outputs": [
    {
     "data": {
      "application/vnd.webio.node+json": {
       "children": [
        {
         "children": [
          {
           "children": [
            {
             "children": [
              {
               "children": [
                {
                 "children": [
                  ""
                 ],
                 "instanceArgs": {
                  "namespace": "html",
                  "tag": "label"
                 },
                 "nodeType": "DOM",
                 "props": {
                  "className": "interact ",
                  "style": {
                   "padding": "5px 10px 0px 10px"
                  }
                 },
                 "type": "node"
                }
               ],
               "instanceArgs": {
                "namespace": "html",
                "tag": "div"
               },
               "nodeType": "DOM",
               "props": {
                "className": "interact-flex-row-left"
               },
               "type": "node"
              },
              {
               "children": [
                {
                 "children": [],
                 "instanceArgs": {
                  "namespace": "html",
                  "tag": "input"
                 },
                 "nodeType": "DOM",
                 "props": {
                  "attributes": {
                   "data-bind": "numericValue: index, valueUpdate: 'input', event: {change: function (){this.changes(this.changes()+1)}}",
                   "orient": "horizontal",
                   "type": "range"
                  },
                  "className": "slider slider is-fullwidth",
                  "max": 78,
                  "min": 1,
                  "step": 1,
                  "style": {}
                 },
                 "type": "node"
                }
               ],
               "instanceArgs": {
                "namespace": "html",
                "tag": "div"
               },
               "nodeType": "DOM",
               "props": {
                "className": "interact-flex-row-center"
               },
               "type": "node"
              },
              {
               "children": [
                {
                 "children": [],
                 "instanceArgs": {
                  "namespace": "html",
                  "tag": "p"
                 },
                 "nodeType": "DOM",
                 "props": {
                  "attributes": {
                   "data-bind": "text: formatted_val"
                  }
                 },
                 "type": "node"
                }
               ],
               "instanceArgs": {
                "namespace": "html",
                "tag": "div"
               },
               "nodeType": "DOM",
               "props": {
                "className": "interact-flex-row-right"
               },
               "type": "node"
              }
             ],
             "instanceArgs": {
              "namespace": "html",
              "tag": "div"
             },
             "nodeType": "DOM",
             "props": {
              "className": "interact-flex-row interact-widget"
             },
             "type": "node"
            }
           ],
           "instanceArgs": {
            "handlers": {
             "changes": [
              "(function (val){return (val!=this.model[\"changes\"]()) ? (this.valueFromJulia[\"changes\"]=true, this.model[\"changes\"](val)) : undefined})"
             ],
             "index": [
              "(function (val){return (val!=this.model[\"index\"]()) ? (this.valueFromJulia[\"index\"]=true, this.model[\"index\"](val)) : undefined})"
             ]
            },
            "id": "10132800997425537046",
            "imports": {
             "data": [
              {
               "name": "knockout",
               "type": "js",
               "url": "/assetserver/d8946d3abf581e5a833c85994d32d9051d9a2190-knockout.js"
              },
              {
               "name": "knockout_punches",
               "type": "js",
               "url": "/assetserver/f0105926ca82098bf0cc43c9f630d668299c2cd7-knockout_punches.js"
              },
              {
               "name": null,
               "type": "js",
               "url": "/assetserver/704e5d0cf77e2817714de26245cbbd0ed37344f1-all.js"
              },
              {
               "name": null,
               "type": "css",
               "url": "/assetserver/c20438aea7cddd6cb9a01e595cfcda275fddbf2a-style.css"
              },
              {
               "name": null,
               "type": "css",
               "url": "/assetserver/4980a02882c8523aafa0b412f0f004c9f340422a-bulma_confined.min.css"
              }
             ],
             "type": "async_block"
            },
            "mount_callbacks": [
             "function () {\n    var handler = (function (ko, koPunches) {\n    ko.punches.enableAll();\n    ko.bindingHandlers.numericValue = {\n        init: function(element, valueAccessor, allBindings, data, context) {\n            var stringified = ko.observable(ko.unwrap(valueAccessor()));\n            stringified.subscribe(function(value) {\n                var val = parseFloat(value);\n                if (!isNaN(val)) {\n                    valueAccessor()(val);\n                }\n            });\n            valueAccessor().subscribe(function(value) {\n                var str = JSON.stringify(value);\n                if ((str == \"0\") && ([\"-0\", \"-0.\"].indexOf(stringified()) >= 0))\n                     return;\n                 if ([\"null\", \"\"].indexOf(str) >= 0)\n                     return;\n                stringified(str);\n            });\n            ko.applyBindingsToNode(\n                element,\n                {\n                    value: stringified,\n                    valueUpdate: allBindings.get('valueUpdate'),\n                },\n                context,\n            );\n        }\n    };\n    var json_data = {\"formatted_vals\":[\"1\",\"2\",\"3\",\"4\",\"5\",\"6\",\"7\",\"8\",\"9\",\"10\",\"11\",\"12\",\"13\",\"14\",\"15\",\"16\",\"17\",\"18\",\"19\",\"20\",\"21\",\"22\",\"23\",\"24\",\"25\",\"26\",\"27\",\"28\",\"29\",\"30\",\"31\",\"32\",\"33\",\"34\",\"35\",\"36\",\"37\",\"38\",\"39\",\"40\",\"41\",\"42\",\"43\",\"44\",\"45\",\"46\",\"47\",\"48\",\"49\",\"50\",\"51\",\"52\",\"53\",\"54\",\"55\",\"56\",\"57\",\"58\",\"59\",\"60\",\"61\",\"62\",\"63\",\"64\",\"65\",\"66\",\"67\",\"68\",\"69\",\"70\",\"71\",\"72\",\"73\",\"74\",\"75\",\"76\",\"77\",\"78\"],\"changes\":WebIO.getval({\"name\":\"changes\",\"scope\":\"10132800997425537046\",\"id\":\"ob_370\",\"type\":\"observable\"}),\"index\":WebIO.getval({\"name\":\"index\",\"scope\":\"10132800997425537046\",\"id\":\"ob_369\",\"type\":\"observable\"})};\n    var self = this;\n    function AppViewModel() {\n        for (var key in json_data) {\n            var el = json_data[key];\n            this[key] = Array.isArray(el) ? ko.observableArray(el) : ko.observable(el);\n        }\n        \n        [this[\"formatted_val\"]=ko.computed(    function(){\n        return this.formatted_vals()[parseInt(this.index())-(1)];\n    }\n,this)]\n        [this[\"changes\"].subscribe((function (val){!(this.valueFromJulia[\"changes\"]) ? (WebIO.setval({\"name\":\"changes\",\"scope\":\"10132800997425537046\",\"id\":\"ob_370\",\"type\":\"observable\"},val)) : undefined; return this.valueFromJulia[\"changes\"]=false}),self),this[\"index\"].subscribe((function (val){!(this.valueFromJulia[\"index\"]) ? (WebIO.setval({\"name\":\"index\",\"scope\":\"10132800997425537046\",\"id\":\"ob_369\",\"type\":\"observable\"},val)) : undefined; return this.valueFromJulia[\"index\"]=false}),self)]\n        \n    }\n    self.model = new AppViewModel();\n    self.valueFromJulia = {};\n    for (var key in json_data) {\n        self.valueFromJulia[key] = false;\n    }\n    ko.applyBindings(self.model, self.dom);\n}\n);\n    (WebIO.importBlock({\"data\":[{\"name\":\"knockout\",\"type\":\"js\",\"url\":\"/assetserver/d8946d3abf581e5a833c85994d32d9051d9a2190-knockout.js\"},{\"name\":\"knockout_punches\",\"type\":\"js\",\"url\":\"/assetserver/f0105926ca82098bf0cc43c9f630d668299c2cd7-knockout_punches.js\"}],\"type\":\"async_block\"})).then((imports) => handler.apply(this, imports));\n}\n"
            ],
            "observables": {
             "changes": {
              "id": "ob_370",
              "sync": false,
              "value": 0
             },
             "index": {
              "id": "ob_369",
              "sync": true,
              "value": 1
             }
            },
            "systemjs_options": null
           },
           "nodeType": "Scope",
           "props": {},
           "type": "node"
          }
         ],
         "instanceArgs": {
          "namespace": "html",
          "tag": "div"
         },
         "nodeType": "DOM",
         "props": {
          "className": "field interact-widget"
         },
         "type": "node"
        },
        {
         "children": [
          {
           "children": [],
           "instanceArgs": {
            "id": "ob_376",
            "name": "obs-node"
           },
           "nodeType": "ObservableNode",
           "props": {},
           "type": "node"
          }
         ],
         "instanceArgs": {
          "handlers": {},
          "id": "1174081858231859261",
          "imports": {
           "data": [],
           "type": "async_block"
          },
          "mount_callbacks": [],
          "observables": {
           "obs-node": {
            "id": "ob_376",
            "sync": false,
            "value": {
             "children": [
              {
               "children": [],
               "instanceArgs": {
                "namespace": "html",
                "tag": "div"
               },
               "nodeType": "DOM",
               "props": {
                "setInnerHtml": "<?xml version=\"1.0\" encoding=\"utf-8\"?>\n<svg xmlns=\"http://www.w3.org/2000/svg\" xmlns:xlink=\"http://www.w3.org/1999/xlink\" width=\"600\" height=\"400\" viewBox=\"0 0 2400 1600\">\n<defs>\n  <clipPath id=\"clip7500\">\n    <rect x=\"0\" y=\"0\" width=\"2400\" height=\"1600\"/>\n  </clipPath>\n</defs>\n<path clip-path=\"url(#clip7500)\" d=\"\nM0 1600 L2400 1600 L2400 0 L0 0  Z\n  \" fill=\"#ffffff\" fill-rule=\"evenodd\" fill-opacity=\"1\"/>\n<defs>\n  <clipPath id=\"clip7501\">\n    <rect x=\"480\" y=\"0\" width=\"1681\" height=\"1600\"/>\n  </clipPath>\n</defs>\n<path clip-path=\"url(#clip7500)\" d=\"\nM202.373 1425.62 L2352.76 1425.62 L2352.76 121.675 L202.373 121.675  Z\n  \" fill=\"#ffffff\" fill-rule=\"evenodd\" fill-opacity=\"1\"/>\n<defs>\n  <clipPath id=\"clip7502\">\n    <rect x=\"202\" y=\"121\" width=\"2151\" height=\"1305\"/>\n  </clipPath>\n</defs>\n<polyline clip-path=\"url(#clip7502)\" style=\"stroke:#000000; stroke-width:2; stroke-opacity:0.1; fill:none\" points=\"\n  202.373,1425.62 202.373,121.675 \n  \"/>\n<polyline clip-path=\"url(#clip7502)\" style=\"stroke:#000000; stroke-width:2; stroke-opacity:0.1; fill:none\" points=\"\n  739.969,1425.62 739.969,121.675 \n  \"/>\n<polyline clip-path=\"url(#clip7502)\" style=\"stroke:#000000; stroke-width:2; stroke-opacity:0.1; fill:none\" points=\"\n  1277.56,1425.62 1277.56,121.675 \n  \"/>\n<polyline clip-path=\"url(#clip7502)\" style=\"stroke:#000000; stroke-width:2; stroke-opacity:0.1; fill:none\" points=\"\n  1815.16,1425.62 1815.16,121.675 \n  \"/>\n<polyline clip-path=\"url(#clip7502)\" style=\"stroke:#000000; stroke-width:2; stroke-opacity:0.1; fill:none\" points=\"\n  2352.76,1425.62 2352.76,121.675 \n  \"/>\n<polyline clip-path=\"url(#clip7502)\" style=\"stroke:#000000; stroke-width:2; stroke-opacity:0.1; fill:none\" points=\"\n  202.373,1425.62 2352.76,1425.62 \n  \"/>\n<polyline clip-path=\"url(#clip7502)\" style=\"stroke:#000000; stroke-width:2; stroke-opacity:0.1; fill:none\" points=\"\n  202.373,1099.63 2352.76,1099.63 \n  \"/>\n<polyline clip-path=\"url(#clip7502)\" style=\"stroke:#000000; stroke-width:2; stroke-opacity:0.1; fill:none\" points=\"\n  202.373,773.647 2352.76,773.647 \n  \"/>\n<polyline clip-path=\"url(#clip7502)\" style=\"stroke:#000000; stroke-width:2; stroke-opacity:0.1; fill:none\" points=\"\n  202.373,447.661 2352.76,447.661 \n  \"/>\n<polyline clip-path=\"url(#clip7502)\" style=\"stroke:#000000; stroke-width:2; stroke-opacity:0.1; fill:none\" points=\"\n  202.373,121.675 2352.76,121.675 \n  \"/>\n<polyline clip-path=\"url(#clip7500)\" style=\"stroke:#000000; stroke-width:4; stroke-opacity:1; fill:none\" points=\"\n  202.373,1425.62 2352.76,1425.62 \n  \"/>\n<polyline clip-path=\"url(#clip7500)\" style=\"stroke:#000000; stroke-width:4; stroke-opacity:1; fill:none\" points=\"\n  202.373,1425.62 202.373,121.675 \n  \"/>\n<polyline clip-path=\"url(#clip7500)\" style=\"stroke:#000000; stroke-width:4; stroke-opacity:1; fill:none\" points=\"\n  202.373,1425.62 202.373,1409.97 \n  \"/>\n<polyline clip-path=\"url(#clip7500)\" style=\"stroke:#000000; stroke-width:4; stroke-opacity:1; fill:none\" points=\"\n  739.969,1425.62 739.969,1409.97 \n  \"/>\n<polyline clip-path=\"url(#clip7500)\" style=\"stroke:#000000; stroke-width:4; stroke-opacity:1; fill:none\" points=\"\n  1277.56,1425.62 1277.56,1409.97 \n  \"/>\n<polyline clip-path=\"url(#clip7500)\" style=\"stroke:#000000; stroke-width:4; stroke-opacity:1; fill:none\" points=\"\n  1815.16,1425.62 1815.16,1409.97 \n  \"/>\n<polyline clip-path=\"url(#clip7500)\" style=\"stroke:#000000; stroke-width:4; stroke-opacity:1; fill:none\" points=\"\n  2352.76,1425.62 2352.76,1409.97 \n  \"/>\n<polyline clip-path=\"url(#clip7500)\" style=\"stroke:#000000; stroke-width:4; stroke-opacity:1; fill:none\" points=\"\n  202.373,1425.62 228.178,1425.62 \n  \"/>\n<polyline clip-path=\"url(#clip7500)\" style=\"stroke:#000000; stroke-width:4; stroke-opacity:1; fill:none\" points=\"\n  202.373,1099.63 228.178,1099.63 \n  \"/>\n<polyline clip-path=\"url(#clip7500)\" style=\"stroke:#000000; stroke-width:4; stroke-opacity:1; fill:none\" points=\"\n  202.373,773.647 228.178,773.647 \n  \"/>\n<polyline clip-path=\"url(#clip7500)\" style=\"stroke:#000000; stroke-width:4; stroke-opacity:1; fill:none\" points=\"\n  202.373,447.661 228.178,447.661 \n  \"/>\n<polyline clip-path=\"url(#clip7500)\" style=\"stroke:#000000; stroke-width:4; stroke-opacity:1; fill:none\" points=\"\n  202.373,121.675 228.178,121.675 \n  \"/>\n<g clip-path=\"url(#clip7500)\">\n<text style=\"fill:#000000; fill-opacity:1; font-family:Arial,Helvetica Neue,Helvetica,sans-serif; font-size:48px; text-anchor:middle;\" transform=\"rotate(0, 202.373, 1479.62)\" x=\"202.373\" y=\"1479.62\">0</text>\n</g>\n<g clip-path=\"url(#clip7500)\">\n<text style=\"fill:#000000; fill-opacity:1; font-family:Arial,Helvetica Neue,Helvetica,sans-serif; font-size:48px; text-anchor:middle;\" transform=\"rotate(0, 739.969, 1479.62)\" x=\"739.969\" y=\"1479.62\">5</text>\n</g>\n<g clip-path=\"url(#clip7500)\">\n<text style=\"fill:#000000; fill-opacity:1; font-family:Arial,Helvetica Neue,Helvetica,sans-serif; font-size:48px; text-anchor:middle;\" transform=\"rotate(0, 1277.56, 1479.62)\" x=\"1277.56\" y=\"1479.62\">10</text>\n</g>\n<g clip-path=\"url(#clip7500)\">\n<text style=\"fill:#000000; fill-opacity:1; font-family:Arial,Helvetica Neue,Helvetica,sans-serif; font-size:48px; text-anchor:middle;\" transform=\"rotate(0, 1815.16, 1479.62)\" x=\"1815.16\" y=\"1479.62\">15</text>\n</g>\n<g clip-path=\"url(#clip7500)\">\n<text style=\"fill:#000000; fill-opacity:1; font-family:Arial,Helvetica Neue,Helvetica,sans-serif; font-size:48px; text-anchor:middle;\" transform=\"rotate(0, 2352.76, 1479.62)\" x=\"2352.76\" y=\"1479.62\">20</text>\n</g>\n<g clip-path=\"url(#clip7500)\">\n<text style=\"fill:#000000; fill-opacity:1; font-family:Arial,Helvetica Neue,Helvetica,sans-serif; font-size:48px; text-anchor:end;\" transform=\"rotate(0, 178.373, 1443.12)\" x=\"178.373\" y=\"1443.12\">0</text>\n</g>\n<g clip-path=\"url(#clip7500)\">\n<text style=\"fill:#000000; fill-opacity:1; font-family:Arial,Helvetica Neue,Helvetica,sans-serif; font-size:48px; text-anchor:end;\" transform=\"rotate(0, 178.373, 1117.13)\" x=\"178.373\" y=\"1117.13\">5</text>\n</g>\n<g clip-path=\"url(#clip7500)\">\n<text style=\"fill:#000000; fill-opacity:1; font-family:Arial,Helvetica Neue,Helvetica,sans-serif; font-size:48px; text-anchor:end;\" transform=\"rotate(0, 178.373, 791.147)\" x=\"178.373\" y=\"791.147\">10</text>\n</g>\n<g clip-path=\"url(#clip7500)\">\n<text style=\"fill:#000000; fill-opacity:1; font-family:Arial,Helvetica Neue,Helvetica,sans-serif; font-size:48px; text-anchor:end;\" transform=\"rotate(0, 178.373, 465.161)\" x=\"178.373\" y=\"465.161\">15</text>\n</g>\n<g clip-path=\"url(#clip7500)\">\n<text style=\"fill:#000000; fill-opacity:1; font-family:Arial,Helvetica Neue,Helvetica,sans-serif; font-size:48px; text-anchor:end;\" transform=\"rotate(0, 178.373, 139.175)\" x=\"178.373\" y=\"139.175\">20</text>\n</g>\n<g clip-path=\"url(#clip7500)\">\n<text style=\"fill:#000000; fill-opacity:1; font-family:Arial,Helvetica Neue,Helvetica,sans-serif; font-size:84px; text-anchor:middle;\" transform=\"rotate(0, 1277.56, 73.2)\" x=\"1277.56\" y=\"73.2\">Confirmed Cases around the world</text>\n</g>\n<g clip-path=\"url(#clip7500)\">\n<text style=\"fill:#000000; fill-opacity:1; font-family:Arial,Helvetica Neue,Helvetica,sans-serif; font-size:66px; text-anchor:middle;\" transform=\"rotate(0, 1277.56, 1559.48)\" x=\"1277.56\" y=\"1559.48\">Total cases</text>\n</g>\n<g clip-path=\"url(#clip7500)\">\n<text style=\"fill:#000000; fill-opacity:1; font-family:Arial,Helvetica Neue,Helvetica,sans-serif; font-size:66px; text-anchor:middle;\" transform=\"rotate(-90, 89.2861, 773.647)\" x=\"89.2861\" y=\"773.647\">Recent cases</text>\n</g>\n<path clip-path=\"url(#clip7500)\" d=\"\nM274.373 689.035 L856.796 689.035 L856.796 205.195 L274.373 205.195  Z\n  \" fill=\"#ffffff\" fill-rule=\"evenodd\" fill-opacity=\"1\"/>\n<polyline clip-path=\"url(#clip7500)\" style=\"stroke:#000000; stroke-width:4; stroke-opacity:1; fill:none\" points=\"\n  274.373,689.035 856.796,689.035 856.796,205.195 274.373,205.195 274.373,689.035 \n  \"/>\n<polyline clip-path=\"url(#clip7500)\" style=\"stroke:#009af9; stroke-width:4; stroke-opacity:1; fill:none\" points=\"\n  298.373,265.675 442.373,265.675 \n  \"/>\n<g clip-path=\"url(#clip7500)\">\n<text style=\"fill:#000000; fill-opacity:1; font-family:Arial,Helvetica Neue,Helvetica,sans-serif; font-size:48px; text-anchor:start;\" transform=\"rotate(0, 466.373, 283.175)\" x=\"466.373\" y=\"283.175\">US</text>\n</g>\n<polyline clip-path=\"url(#clip7500)\" style=\"stroke:#e26f46; stroke-width:4; stroke-opacity:1; fill:none\" points=\"\n  298.373,326.155 442.373,326.155 \n  \"/>\n<g clip-path=\"url(#clip7500)\">\n<text style=\"fill:#000000; fill-opacity:1; font-family:Arial,Helvetica Neue,Helvetica,sans-serif; font-size:48px; text-anchor:start;\" transform=\"rotate(0, 466.373, 343.655)\" x=\"466.373\" y=\"343.655\">China</text>\n</g>\n<polyline clip-path=\"url(#clip7500)\" style=\"stroke:#3da44d; stroke-width:4; stroke-opacity:1; fill:none\" points=\"\n  298.373,386.635 442.373,386.635 \n  \"/>\n<g clip-path=\"url(#clip7500)\">\n<text style=\"fill:#000000; fill-opacity:1; font-family:Arial,Helvetica Neue,Helvetica,sans-serif; font-size:48px; text-anchor:start;\" transform=\"rotate(0, 466.373, 404.135)\" x=\"466.373\" y=\"404.135\">Japan</text>\n</g>\n<polyline clip-path=\"url(#clip7500)\" style=\"stroke:#c271d2; stroke-width:4; stroke-opacity:1; fill:none\" points=\"\n  298.373,447.115 442.373,447.115 \n  \"/>\n<g clip-path=\"url(#clip7500)\">\n<text style=\"fill:#000000; fill-opacity:1; font-family:Arial,Helvetica Neue,Helvetica,sans-serif; font-size:48px; text-anchor:start;\" transform=\"rotate(0, 466.373, 464.615)\" x=\"466.373\" y=\"464.615\">Korea, South</text>\n</g>\n<polyline clip-path=\"url(#clip7500)\" style=\"stroke:#ac8d18; stroke-width:4; stroke-opacity:1; fill:none\" points=\"\n  298.373,507.595 442.373,507.595 \n  \"/>\n<g clip-path=\"url(#clip7500)\">\n<text style=\"fill:#000000; fill-opacity:1; font-family:Arial,Helvetica Neue,Helvetica,sans-serif; font-size:48px; text-anchor:start;\" transform=\"rotate(0, 466.373, 525.095)\" x=\"466.373\" y=\"525.095\">United Kingdom</text>\n</g>\n<polyline clip-path=\"url(#clip7500)\" style=\"stroke:#00a9ad; stroke-width:4; stroke-opacity:1; fill:none\" points=\"\n  298.373,568.075 442.373,568.075 \n  \"/>\n<g clip-path=\"url(#clip7500)\">\n<text style=\"fill:#000000; fill-opacity:1; font-family:Arial,Helvetica Neue,Helvetica,sans-serif; font-size:48px; text-anchor:start;\" transform=\"rotate(0, 466.373, 585.575)\" x=\"466.373\" y=\"585.575\">France</text>\n</g>\n<polyline clip-path=\"url(#clip7500)\" style=\"stroke:#ed5d92; stroke-width:4; stroke-opacity:1; fill:none\" points=\"\n  298.373,628.555 442.373,628.555 \n  \"/>\n<g clip-path=\"url(#clip7500)\">\n<text style=\"fill:#000000; fill-opacity:1; font-family:Arial,Helvetica Neue,Helvetica,sans-serif; font-size:48px; text-anchor:start;\" transform=\"rotate(0, 466.373, 646.055)\" x=\"466.373\" y=\"646.055\">Germany</text>\n</g>\n<g clip-path=\"url(#clip7500)\">\n<text style=\"fill:#000000; fill-opacity:1; font-family:Arial,Helvetica Neue,Helvetica,sans-serif; font-size:59px; text-anchor:middle;\" transform=\"rotate(0, 202.373, 1447.12)\" x=\"202.373\" y=\"1447.12\">US</text>\n</g>\n<g clip-path=\"url(#clip7500)\">\n<text style=\"fill:#000000; fill-opacity:1; font-family:Arial,Helvetica Neue,Helvetica,sans-serif; font-size:59px; text-anchor:middle;\" transform=\"rotate(0, 880.418, 1035.97)\" x=\"880.418\" y=\"1035.97\">China</text>\n</g>\n<g clip-path=\"url(#clip7500)\">\n<text style=\"fill:#000000; fill-opacity:1; font-family:Arial,Helvetica Neue,Helvetica,sans-serif; font-size:59px; text-anchor:middle;\" transform=\"rotate(0, 276.9, 1401.93)\" x=\"276.9\" y=\"1401.93\">Japan</text>\n</g>\n<g clip-path=\"url(#clip7500)\">\n<text style=\"fill:#000000; fill-opacity:1; font-family:Arial,Helvetica Neue,Helvetica,sans-serif; font-size:59px; text-anchor:middle;\" transform=\"rotate(0, 202.373, 1447.12)\" x=\"202.373\" y=\"1447.12\">Korea, South</text>\n</g>\n<g clip-path=\"url(#clip7500)\">\n<text style=\"fill:#000000; fill-opacity:1; font-family:Arial,Helvetica Neue,Helvetica,sans-serif; font-size:59px; text-anchor:middle;\" transform=\"rotate(0, nan, nan)\" x=\"nan\" y=\"nan\">United Kingdom</text>\n</g>\n<g clip-path=\"url(#clip7500)\">\n<text style=\"fill:#000000; fill-opacity:1; font-family:Arial,Helvetica Neue,Helvetica,sans-serif; font-size:59px; text-anchor:middle;\" transform=\"rotate(0, nan, nan)\" x=\"nan\" y=\"nan\">France</text>\n</g>\n<g clip-path=\"url(#clip7500)\">\n<text style=\"fill:#000000; fill-opacity:1; font-family:Arial,Helvetica Neue,Helvetica,sans-serif; font-size:59px; text-anchor:middle;\" transform=\"rotate(0, nan, nan)\" x=\"nan\" y=\"nan\">Germany</text>\n</g>\n</svg>\n"
               },
               "type": "node"
              }
             ],
             "instanceArgs": {
              "namespace": "html",
              "tag": "div"
             },
             "nodeType": "DOM",
             "props": {
              "className": "interact-flex-row interact-widget"
             },
             "type": "node"
            }
           }
          },
          "systemjs_options": null
         },
         "nodeType": "Scope",
         "props": {},
         "type": "node"
        }
       ],
       "instanceArgs": {
        "namespace": "html",
        "tag": "div"
       },
       "nodeType": "DOM",
       "props": {},
       "type": "node"
      },
      "text/html": [
       "<div\n",
       "    class=\"webio-mountpoint\"\n",
       "    data-webio-mountpoint=\"11265506191141132499\"\n",
       ">\n",
       "    <script>\n",
       "    if (window.require && require.defined && require.defined(\"nbextensions/webio-jupyter-notebook\")) {\n",
       "        console.log(\"Jupyter WebIO extension detected, not mounting.\");\n",
       "    } else if (window.WebIO) {\n",
       "        WebIO.mount(\n",
       "            document.querySelector('[data-webio-mountpoint=\"11265506191141132499\"]'),\n",
       "            {\"props\":{},\"nodeType\":\"DOM\",\"type\":\"node\",\"instanceArgs\":{\"namespace\":\"html\",\"tag\":\"div\"},\"children\":[{\"props\":{\"className\":\"field interact-widget\"},\"nodeType\":\"DOM\",\"type\":\"node\",\"instanceArgs\":{\"namespace\":\"html\",\"tag\":\"div\"},\"children\":[{\"props\":{},\"nodeType\":\"Scope\",\"type\":\"node\",\"instanceArgs\":{\"imports\":{\"data\":[{\"name\":\"knockout\",\"type\":\"js\",\"url\":\"\\/assetserver\\/d8946d3abf581e5a833c85994d32d9051d9a2190-knockout.js\"},{\"name\":\"knockout_punches\",\"type\":\"js\",\"url\":\"\\/assetserver\\/f0105926ca82098bf0cc43c9f630d668299c2cd7-knockout_punches.js\"},{\"name\":null,\"type\":\"js\",\"url\":\"\\/assetserver\\/704e5d0cf77e2817714de26245cbbd0ed37344f1-all.js\"},{\"name\":null,\"type\":\"css\",\"url\":\"\\/assetserver\\/c20438aea7cddd6cb9a01e595cfcda275fddbf2a-style.css\"},{\"name\":null,\"type\":\"css\",\"url\":\"\\/assetserver\\/4980a02882c8523aafa0b412f0f004c9f340422a-bulma_confined.min.css\"}],\"type\":\"async_block\"},\"id\":\"10132800997425537046\",\"handlers\":{\"changes\":[\"(function (val){return (val!=this.model[\\\"changes\\\"]()) ? (this.valueFromJulia[\\\"changes\\\"]=true, this.model[\\\"changes\\\"](val)) : undefined})\"],\"index\":[\"(function (val){return (val!=this.model[\\\"index\\\"]()) ? (this.valueFromJulia[\\\"index\\\"]=true, this.model[\\\"index\\\"](val)) : undefined})\"]},\"systemjs_options\":null,\"mount_callbacks\":[\"function () {\\n    var handler = (function (ko, koPunches) {\\n    ko.punches.enableAll();\\n    ko.bindingHandlers.numericValue = {\\n        init: function(element, valueAccessor, allBindings, data, context) {\\n            var stringified = ko.observable(ko.unwrap(valueAccessor()));\\n            stringified.subscribe(function(value) {\\n                var val = parseFloat(value);\\n                if (!isNaN(val)) {\\n                    valueAccessor()(val);\\n                }\\n            });\\n            valueAccessor().subscribe(function(value) {\\n                var str = JSON.stringify(value);\\n                if ((str == \\\"0\\\") && ([\\\"-0\\\", \\\"-0.\\\"].indexOf(stringified()) >= 0))\\n                     return;\\n                 if ([\\\"null\\\", \\\"\\\"].indexOf(str) >= 0)\\n                     return;\\n                stringified(str);\\n            });\\n            ko.applyBindingsToNode(\\n                element,\\n                {\\n                    value: stringified,\\n                    valueUpdate: allBindings.get('valueUpdate'),\\n                },\\n                context,\\n            );\\n        }\\n    };\\n    var json_data = {\\\"formatted_vals\\\":[\\\"1\\\",\\\"2\\\",\\\"3\\\",\\\"4\\\",\\\"5\\\",\\\"6\\\",\\\"7\\\",\\\"8\\\",\\\"9\\\",\\\"10\\\",\\\"11\\\",\\\"12\\\",\\\"13\\\",\\\"14\\\",\\\"15\\\",\\\"16\\\",\\\"17\\\",\\\"18\\\",\\\"19\\\",\\\"20\\\",\\\"21\\\",\\\"22\\\",\\\"23\\\",\\\"24\\\",\\\"25\\\",\\\"26\\\",\\\"27\\\",\\\"28\\\",\\\"29\\\",\\\"30\\\",\\\"31\\\",\\\"32\\\",\\\"33\\\",\\\"34\\\",\\\"35\\\",\\\"36\\\",\\\"37\\\",\\\"38\\\",\\\"39\\\",\\\"40\\\",\\\"41\\\",\\\"42\\\",\\\"43\\\",\\\"44\\\",\\\"45\\\",\\\"46\\\",\\\"47\\\",\\\"48\\\",\\\"49\\\",\\\"50\\\",\\\"51\\\",\\\"52\\\",\\\"53\\\",\\\"54\\\",\\\"55\\\",\\\"56\\\",\\\"57\\\",\\\"58\\\",\\\"59\\\",\\\"60\\\",\\\"61\\\",\\\"62\\\",\\\"63\\\",\\\"64\\\",\\\"65\\\",\\\"66\\\",\\\"67\\\",\\\"68\\\",\\\"69\\\",\\\"70\\\",\\\"71\\\",\\\"72\\\",\\\"73\\\",\\\"74\\\",\\\"75\\\",\\\"76\\\",\\\"77\\\",\\\"78\\\"],\\\"changes\\\":WebIO.getval({\\\"name\\\":\\\"changes\\\",\\\"scope\\\":\\\"10132800997425537046\\\",\\\"id\\\":\\\"ob_370\\\",\\\"type\\\":\\\"observable\\\"}),\\\"index\\\":WebIO.getval({\\\"name\\\":\\\"index\\\",\\\"scope\\\":\\\"10132800997425537046\\\",\\\"id\\\":\\\"ob_369\\\",\\\"type\\\":\\\"observable\\\"})};\\n    var self = this;\\n    function AppViewModel() {\\n        for (var key in json_data) {\\n            var el = json_data[key];\\n            this[key] = Array.isArray(el) ? ko.observableArray(el) : ko.observable(el);\\n        }\\n        \\n        [this[\\\"formatted_val\\\"]=ko.computed(    function(){\\n        return this.formatted_vals()[parseInt(this.index())-(1)];\\n    }\\n,this)]\\n        [this[\\\"changes\\\"].subscribe((function (val){!(this.valueFromJulia[\\\"changes\\\"]) ? (WebIO.setval({\\\"name\\\":\\\"changes\\\",\\\"scope\\\":\\\"10132800997425537046\\\",\\\"id\\\":\\\"ob_370\\\",\\\"type\\\":\\\"observable\\\"},val)) : undefined; return this.valueFromJulia[\\\"changes\\\"]=false}),self),this[\\\"index\\\"].subscribe((function (val){!(this.valueFromJulia[\\\"index\\\"]) ? (WebIO.setval({\\\"name\\\":\\\"index\\\",\\\"scope\\\":\\\"10132800997425537046\\\",\\\"id\\\":\\\"ob_369\\\",\\\"type\\\":\\\"observable\\\"},val)) : undefined; return this.valueFromJulia[\\\"index\\\"]=false}),self)]\\n        \\n    }\\n    self.model = new AppViewModel();\\n    self.valueFromJulia = {};\\n    for (var key in json_data) {\\n        self.valueFromJulia[key] = false;\\n    }\\n    ko.applyBindings(self.model, self.dom);\\n}\\n);\\n    (WebIO.importBlock({\\\"data\\\":[{\\\"name\\\":\\\"knockout\\\",\\\"type\\\":\\\"js\\\",\\\"url\\\":\\\"\\/assetserver\\/d8946d3abf581e5a833c85994d32d9051d9a2190-knockout.js\\\"},{\\\"name\\\":\\\"knockout_punches\\\",\\\"type\\\":\\\"js\\\",\\\"url\\\":\\\"\\/assetserver\\/f0105926ca82098bf0cc43c9f630d668299c2cd7-knockout_punches.js\\\"}],\\\"type\\\":\\\"async_block\\\"})).then((imports) => handler.apply(this, imports));\\n}\\n\"],\"observables\":{\"changes\":{\"sync\":false,\"id\":\"ob_370\",\"value\":0},\"index\":{\"sync\":true,\"id\":\"ob_369\",\"value\":1}}},\"children\":[{\"props\":{\"className\":\"interact-flex-row interact-widget\"},\"nodeType\":\"DOM\",\"type\":\"node\",\"instanceArgs\":{\"namespace\":\"html\",\"tag\":\"div\"},\"children\":[{\"props\":{\"className\":\"interact-flex-row-left\"},\"nodeType\":\"DOM\",\"type\":\"node\",\"instanceArgs\":{\"namespace\":\"html\",\"tag\":\"div\"},\"children\":[{\"props\":{\"className\":\"interact \",\"style\":{\"padding\":\"5px 10px 0px 10px\"}},\"nodeType\":\"DOM\",\"type\":\"node\",\"instanceArgs\":{\"namespace\":\"html\",\"tag\":\"label\"},\"children\":[\"\"]}]},{\"props\":{\"className\":\"interact-flex-row-center\"},\"nodeType\":\"DOM\",\"type\":\"node\",\"instanceArgs\":{\"namespace\":\"html\",\"tag\":\"div\"},\"children\":[{\"props\":{\"max\":78,\"min\":1,\"attributes\":{\"type\":\"range\",\"data-bind\":\"numericValue: index, valueUpdate: 'input', event: {change: function (){this.changes(this.changes()+1)}}\",\"orient\":\"horizontal\"},\"step\":1,\"className\":\"slider slider is-fullwidth\",\"style\":{}},\"nodeType\":\"DOM\",\"type\":\"node\",\"instanceArgs\":{\"namespace\":\"html\",\"tag\":\"input\"},\"children\":[]}]},{\"props\":{\"className\":\"interact-flex-row-right\"},\"nodeType\":\"DOM\",\"type\":\"node\",\"instanceArgs\":{\"namespace\":\"html\",\"tag\":\"div\"},\"children\":[{\"props\":{\"attributes\":{\"data-bind\":\"text: formatted_val\"}},\"nodeType\":\"DOM\",\"type\":\"node\",\"instanceArgs\":{\"namespace\":\"html\",\"tag\":\"p\"},\"children\":[]}]}]}]}]},{\"props\":{},\"nodeType\":\"Scope\",\"type\":\"node\",\"instanceArgs\":{\"imports\":{\"data\":[],\"type\":\"async_block\"},\"id\":\"17252878291538043579\",\"handlers\":{},\"systemjs_options\":null,\"mount_callbacks\":[],\"observables\":{\"obs-node\":{\"sync\":false,\"id\":\"ob_374\",\"value\":{\"props\":{\"className\":\"interact-flex-row interact-widget\"},\"nodeType\":\"DOM\",\"type\":\"node\",\"instanceArgs\":{\"namespace\":\"html\",\"tag\":\"div\"},\"children\":[{\"props\":{\"setInnerHtml\":\"<?xml version=\\\"1.0\\\" encoding=\\\"utf-8\\\"?>\\n<svg xmlns=\\\"http:\\/\\/www.w3.org\\/2000\\/svg\\\" xmlns:xlink=\\\"http:\\/\\/www.w3.org\\/1999\\/xlink\\\" width=\\\"600\\\" height=\\\"400\\\" viewBox=\\\"0 0 2400 1600\\\">\\n<defs>\\n  <clipPath id=\\\"clip7100\\\">\\n    <rect x=\\\"0\\\" y=\\\"0\\\" width=\\\"2400\\\" height=\\\"1600\\\"\\/>\\n  <\\/clipPath>\\n<\\/defs>\\n<path clip-path=\\\"url(#clip7100)\\\" d=\\\"\\nM0 1600 L2400 1600 L2400 0 L0 0  Z\\n  \\\" fill=\\\"#ffffff\\\" fill-rule=\\\"evenodd\\\" fill-opacity=\\\"1\\\"\\/>\\n<defs>\\n  <clipPath id=\\\"clip7101\\\">\\n    <rect x=\\\"480\\\" y=\\\"0\\\" width=\\\"1681\\\" height=\\\"1600\\\"\\/>\\n  <\\/clipPath>\\n<\\/defs>\\n<path clip-path=\\\"url(#clip7100)\\\" d=\\\"\\nM202.373 1425.62 L2352.76 1425.62 L2352.76 121.675 L202.373 121.675  Z\\n  \\\" fill=\\\"#ffffff\\\" fill-rule=\\\"evenodd\\\" fill-opacity=\\\"1\\\"\\/>\\n<defs>\\n  <clipPath id=\\\"clip7102\\\">\\n    <rect x=\\\"202\\\" y=\\\"121\\\" width=\\\"2151\\\" height=\\\"1305\\\"\\/>\\n  <\\/clipPath>\\n<\\/defs>\\n<polyline clip-path=\\\"url(#clip7102)\\\" style=\\\"stroke:#000000; stroke-width:2; stroke-opacity:0.1; fill:none\\\" points=\\\"\\n  202.373,1425.62 202.373,121.675 \\n  \\\"\\/>\\n<polyline clip-path=\\\"url(#clip7102)\\\" style=\\\"stroke:#000000; stroke-width:2; stroke-opacity:0.1; fill:none\\\" points=\\\"\\n  739.969,1425.62 739.969,121.675 \\n  \\\"\\/>\\n<polyline clip-path=\\\"url(#clip7102)\\\" style=\\\"stroke:#000000; stroke-width:2; stroke-opacity:0.1; fill:none\\\" points=\\\"\\n  1277.56,1425.62 1277.56,121.675 \\n  \\\"\\/>\\n<polyline clip-path=\\\"url(#clip7102)\\\" style=\\\"stroke:#000000; stroke-width:2; stroke-opacity:0.1; fill:none\\\" points=\\\"\\n  1815.16,1425.62 1815.16,121.675 \\n  \\\"\\/>\\n<polyline clip-path=\\\"url(#clip7102)\\\" style=\\\"stroke:#000000; stroke-width:2; stroke-opacity:0.1; fill:none\\\" points=\\\"\\n  2352.76,1425.62 2352.76,121.675 \\n  \\\"\\/>\\n<polyline clip-path=\\\"url(#clip7102)\\\" style=\\\"stroke:#000000; stroke-width:2; stroke-opacity:0.1; fill:none\\\" points=\\\"\\n  202.373,1425.62 2352.76,1425.62 \\n  \\\"\\/>\\n<polyline clip-path=\\\"url(#clip7102)\\\" style=\\\"stroke:#000000; stroke-width:2; stroke-opacity:0.1; fill:none\\\" points=\\\"\\n  202.373,1099.63 2352.76,1099.63 \\n  \\\"\\/>\\n<polyline clip-path=\\\"url(#clip7102)\\\" style=\\\"stroke:#000000; stroke-width:2; stroke-opacity:0.1; fill:none\\\" points=\\\"\\n  202.373,773.647 2352.76,773.647 \\n  \\\"\\/>\\n<polyline clip-path=\\\"url(#clip7102)\\\" style=\\\"stroke:#000000; stroke-width:2; stroke-opacity:0.1; fill:none\\\" points=\\\"\\n  202.373,447.661 2352.76,447.661 \\n  \\\"\\/>\\n<polyline clip-path=\\\"url(#clip7102)\\\" style=\\\"stroke:#000000; stroke-width:2; stroke-opacity:0.1; fill:none\\\" points=\\\"\\n  202.373,121.675 2352.76,121.675 \\n  \\\"\\/>\\n<polyline clip-path=\\\"url(#clip7100)\\\" style=\\\"stroke:#000000; stroke-width:4; stroke-opacity:1; fill:none\\\" points=\\\"\\n  202.373,1425.62 2352.76,1425.62 \\n  \\\"\\/>\\n<polyline clip-path=\\\"url(#clip7100)\\\" style=\\\"stroke:#000000; stroke-width:4; stroke-opacity:1; fill:none\\\" points=\\\"\\n  202.373,1425.62 202.373,121.675 \\n  \\\"\\/>\\n<polyline clip-path=\\\"url(#clip7100)\\\" style=\\\"stroke:#000000; stroke-width:4; stroke-opacity:1; fill:none\\\" points=\\\"\\n  202.373,1425.62 202.373,1409.97 \\n  \\\"\\/>\\n<polyline clip-path=\\\"url(#clip7100)\\\" style=\\\"stroke:#000000; stroke-width:4; stroke-opacity:1; fill:none\\\" points=\\\"\\n  739.969,1425.62 739.969,1409.97 \\n  \\\"\\/>\\n<polyline clip-path=\\\"url(#clip7100)\\\" style=\\\"stroke:#000000; stroke-width:4; stroke-opacity:1; fill:none\\\" points=\\\"\\n  1277.56,1425.62 1277.56,1409.97 \\n  \\\"\\/>\\n<polyline clip-path=\\\"url(#clip7100)\\\" style=\\\"stroke:#000000; stroke-width:4; stroke-opacity:1; fill:none\\\" points=\\\"\\n  1815.16,1425.62 1815.16,1409.97 \\n  \\\"\\/>\\n<polyline clip-path=\\\"url(#clip7100)\\\" style=\\\"stroke:#000000; stroke-width:4; stroke-opacity:1; fill:none\\\" points=\\\"\\n  2352.76,1425.62 2352.76,1409.97 \\n  \\\"\\/>\\n<polyline clip-path=\\\"url(#clip7100)\\\" style=\\\"stroke:#000000; stroke-width:4; stroke-opacity:1; fill:none\\\" points=\\\"\\n  202.373,1425.62 228.178,1425.62 \\n  \\\"\\/>\\n<polyline clip-path=\\\"url(#clip7100)\\\" style=\\\"stroke:#000000; stroke-width:4; stroke-opacity:1; fill:none\\\" points=\\\"\\n  202.373,1099.63 228.178,1099.63 \\n  \\\"\\/>\\n<polyline clip-path=\\\"url(#clip7100)\\\" style=\\\"stroke:#000000; stroke-width:4; stroke-opacity:1; fill:none\\\" points=\\\"\\n  202.373,773.647 228.178,773.647 \\n  \\\"\\/>\\n<polyline clip-path=\\\"url(#clip7100)\\\" style=\\\"stroke:#000000; stroke-width:4; stroke-opacity:1; fill:none\\\" points=\\\"\\n  202.373,447.661 228.178,447.661 \\n  \\\"\\/>\\n<polyline clip-path=\\\"url(#clip7100)\\\" style=\\\"stroke:#000000; stroke-width:4; stroke-opacity:1; fill:none\\\" points=\\\"\\n  202.373,121.675 228.178,121.675 \\n  \\\"\\/>\\n<g clip-path=\\\"url(#clip7100)\\\">\\n<text style=\\\"fill:#000000; fill-opacity:1; font-family:Arial,Helvetica Neue,Helvetica,sans-serif; font-size:48px; text-anchor:middle;\\\" transform=\\\"rotate(0, 202.373, 1479.62)\\\" x=\\\"202.373\\\" y=\\\"1479.62\\\">0<\\/text>\\n<\\/g>\\n<g clip-path=\\\"url(#clip7100)\\\">\\n<text style=\\\"fill:#000000; fill-opacity:1; font-family:Arial,Helvetica Neue,Helvetica,sans-serif; font-size:48px; text-anchor:middle;\\\" transform=\\\"rotate(0, 739.969, 1479.62)\\\" x=\\\"739.969\\\" y=\\\"1479.62\\\">5<\\/text>\\n<\\/g>\\n<g clip-path=\\\"url(#clip7100)\\\">\\n<text style=\\\"fill:#000000; fill-opacity:1; font-family:Arial,Helvetica Neue,Helvetica,sans-serif; font-size:48px; text-anchor:middle;\\\" transform=\\\"rotate(0, 1277.56, 1479.62)\\\" x=\\\"1277.56\\\" y=\\\"1479.62\\\">10<\\/text>\\n<\\/g>\\n<g clip-path=\\\"url(#clip7100)\\\">\\n<text style=\\\"fill:#000000; fill-opacity:1; font-family:Arial,Helvetica Neue,Helvetica,sans-serif; font-size:48px; text-anchor:middle;\\\" transform=\\\"rotate(0, 1815.16, 1479.62)\\\" x=\\\"1815.16\\\" y=\\\"1479.62\\\">15<\\/text>\\n<\\/g>\\n<g clip-path=\\\"url(#clip7100)\\\">\\n<text style=\\\"fill:#000000; fill-opacity:1; font-family:Arial,Helvetica Neue,Helvetica,sans-serif; font-size:48px; text-anchor:middle;\\\" transform=\\\"rotate(0, 2352.76, 1479.62)\\\" x=\\\"2352.76\\\" y=\\\"1479.62\\\">20<\\/text>\\n<\\/g>\\n<g clip-path=\\\"url(#clip7100)\\\">\\n<text style=\\\"fill:#000000; fill-opacity:1; font-family:Arial,Helvetica Neue,Helvetica,sans-serif; font-size:48px; text-anchor:end;\\\" transform=\\\"rotate(0, 178.373, 1443.12)\\\" x=\\\"178.373\\\" y=\\\"1443.12\\\">0<\\/text>\\n<\\/g>\\n<g clip-path=\\\"url(#clip7100)\\\">\\n<text style=\\\"fill:#000000; fill-opacity:1; font-family:Arial,Helvetica Neue,Helvetica,sans-serif; font-size:48px; text-anchor:end;\\\" transform=\\\"rotate(0, 178.373, 1117.13)\\\" x=\\\"178.373\\\" y=\\\"1117.13\\\">5<\\/text>\\n<\\/g>\\n<g clip-path=\\\"url(#clip7100)\\\">\\n<text style=\\\"fill:#000000; fill-opacity:1; font-family:Arial,Helvetica Neue,Helvetica,sans-serif; font-size:48px; text-anchor:end;\\\" transform=\\\"rotate(0, 178.373, 791.147)\\\" x=\\\"178.373\\\" y=\\\"791.147\\\">10<\\/text>\\n<\\/g>\\n<g clip-path=\\\"url(#clip7100)\\\">\\n<text style=\\\"fill:#000000; fill-opacity:1; font-family:Arial,Helvetica Neue,Helvetica,sans-serif; font-size:48px; text-anchor:end;\\\" transform=\\\"rotate(0, 178.373, 465.161)\\\" x=\\\"178.373\\\" y=\\\"465.161\\\">15<\\/text>\\n<\\/g>\\n<g clip-path=\\\"url(#clip7100)\\\">\\n<text style=\\\"fill:#000000; fill-opacity:1; font-family:Arial,Helvetica Neue,Helvetica,sans-serif; font-size:48px; text-anchor:end;\\\" transform=\\\"rotate(0, 178.373, 139.175)\\\" x=\\\"178.373\\\" y=\\\"139.175\\\">20<\\/text>\\n<\\/g>\\n<g clip-path=\\\"url(#clip7100)\\\">\\n<text style=\\\"fill:#000000; fill-opacity:1; font-family:Arial,Helvetica Neue,Helvetica,sans-serif; font-size:84px; text-anchor:middle;\\\" transform=\\\"rotate(0, 1277.56, 73.2)\\\" x=\\\"1277.56\\\" y=\\\"73.2\\\">Confirmed Cases around the world<\\/text>\\n<\\/g>\\n<g clip-path=\\\"url(#clip7100)\\\">\\n<text style=\\\"fill:#000000; fill-opacity:1; font-family:Arial,Helvetica Neue,Helvetica,sans-serif; font-size:66px; text-anchor:middle;\\\" transform=\\\"rotate(0, 1277.56, 1559.48)\\\" x=\\\"1277.56\\\" y=\\\"1559.48\\\">Total cases<\\/text>\\n<\\/g>\\n<g clip-path=\\\"url(#clip7100)\\\">\\n<text style=\\\"fill:#000000; fill-opacity:1; font-family:Arial,Helvetica Neue,Helvetica,sans-serif; font-size:66px; text-anchor:middle;\\\" transform=\\\"rotate(-90, 89.2861, 773.647)\\\" x=\\\"89.2861\\\" y=\\\"773.647\\\">Recent cases<\\/text>\\n<\\/g>\\n<path clip-path=\\\"url(#clip7100)\\\" d=\\\"\\nM274.373 689.035 L856.796 689.035 L856.796 205.195 L274.373 205.195  Z\\n  \\\" fill=\\\"#ffffff\\\" fill-rule=\\\"evenodd\\\" fill-opacity=\\\"1\\\"\\/>\\n<polyline clip-path=\\\"url(#clip7100)\\\" style=\\\"stroke:#000000; stroke-width:4; stroke-opacity:1; fill:none\\\" points=\\\"\\n  274.373,689.035 856.796,689.035 856.796,205.195 274.373,205.195 274.373,689.035 \\n  \\\"\\/>\\n<polyline clip-path=\\\"url(#clip7100)\\\" style=\\\"stroke:#009af9; stroke-width:4; stroke-opacity:1; fill:none\\\" points=\\\"\\n  298.373,265.675 442.373,265.675 \\n  \\\"\\/>\\n<g clip-path=\\\"url(#clip7100)\\\">\\n<text style=\\\"fill:#000000; fill-opacity:1; font-family:Arial,Helvetica Neue,Helvetica,sans-serif; font-size:48px; text-anchor:start;\\\" transform=\\\"rotate(0, 466.373, 283.175)\\\" x=\\\"466.373\\\" y=\\\"283.175\\\">US<\\/text>\\n<\\/g>\\n<polyline clip-path=\\\"url(#clip7100)\\\" style=\\\"stroke:#e26f46; stroke-width:4; stroke-opacity:1; fill:none\\\" points=\\\"\\n  298.373,326.155 442.373,326.155 \\n  \\\"\\/>\\n<g clip-path=\\\"url(#clip7100)\\\">\\n<text style=\\\"fill:#000000; fill-opacity:1; font-family:Arial,Helvetica Neue,Helvetica,sans-serif; font-size:48px; text-anchor:start;\\\" transform=\\\"rotate(0, 466.373, 343.655)\\\" x=\\\"466.373\\\" y=\\\"343.655\\\">China<\\/text>\\n<\\/g>\\n<polyline clip-path=\\\"url(#clip7100)\\\" style=\\\"stroke:#3da44d; stroke-width:4; stroke-opacity:1; fill:none\\\" points=\\\"\\n  298.373,386.635 442.373,386.635 \\n  \\\"\\/>\\n<g clip-path=\\\"url(#clip7100)\\\">\\n<text style=\\\"fill:#000000; fill-opacity:1; font-family:Arial,Helvetica Neue,Helvetica,sans-serif; font-size:48px; text-anchor:start;\\\" transform=\\\"rotate(0, 466.373, 404.135)\\\" x=\\\"466.373\\\" y=\\\"404.135\\\">Japan<\\/text>\\n<\\/g>\\n<polyline clip-path=\\\"url(#clip7100)\\\" style=\\\"stroke:#c271d2; stroke-width:4; stroke-opacity:1; fill:none\\\" points=\\\"\\n  298.373,447.115 442.373,447.115 \\n  \\\"\\/>\\n<g clip-path=\\\"url(#clip7100)\\\">\\n<text style=\\\"fill:#000000; fill-opacity:1; font-family:Arial,Helvetica Neue,Helvetica,sans-serif; font-size:48px; text-anchor:start;\\\" transform=\\\"rotate(0, 466.373, 464.615)\\\" x=\\\"466.373\\\" y=\\\"464.615\\\">Korea, South<\\/text>\\n<\\/g>\\n<polyline clip-path=\\\"url(#clip7100)\\\" style=\\\"stroke:#ac8d18; stroke-width:4; stroke-opacity:1; fill:none\\\" points=\\\"\\n  298.373,507.595 442.373,507.595 \\n  \\\"\\/>\\n<g clip-path=\\\"url(#clip7100)\\\">\\n<text style=\\\"fill:#000000; fill-opacity:1; font-family:Arial,Helvetica Neue,Helvetica,sans-serif; font-size:48px; text-anchor:start;\\\" transform=\\\"rotate(0, 466.373, 525.095)\\\" x=\\\"466.373\\\" y=\\\"525.095\\\">United Kingdom<\\/text>\\n<\\/g>\\n<polyline clip-path=\\\"url(#clip7100)\\\" style=\\\"stroke:#00a9ad; stroke-width:4; stroke-opacity:1; fill:none\\\" points=\\\"\\n  298.373,568.075 442.373,568.075 \\n  \\\"\\/>\\n<g clip-path=\\\"url(#clip7100)\\\">\\n<text style=\\\"fill:#000000; fill-opacity:1; font-family:Arial,Helvetica Neue,Helvetica,sans-serif; font-size:48px; text-anchor:start;\\\" transform=\\\"rotate(0, 466.373, 585.575)\\\" x=\\\"466.373\\\" y=\\\"585.575\\\">France<\\/text>\\n<\\/g>\\n<polyline clip-path=\\\"url(#clip7100)\\\" style=\\\"stroke:#ed5d92; stroke-width:4; stroke-opacity:1; fill:none\\\" points=\\\"\\n  298.373,628.555 442.373,628.555 \\n  \\\"\\/>\\n<g clip-path=\\\"url(#clip7100)\\\">\\n<text style=\\\"fill:#000000; fill-opacity:1; font-family:Arial,Helvetica Neue,Helvetica,sans-serif; font-size:48px; text-anchor:start;\\\" transform=\\\"rotate(0, 466.373, 646.055)\\\" x=\\\"466.373\\\" y=\\\"646.055\\\">Germany<\\/text>\\n<\\/g>\\n<g clip-path=\\\"url(#clip7100)\\\">\\n<text style=\\\"fill:#000000; fill-opacity:1; font-family:Arial,Helvetica Neue,Helvetica,sans-serif; font-size:59px; text-anchor:middle;\\\" transform=\\\"rotate(0, 202.373, 1447.12)\\\" x=\\\"202.373\\\" y=\\\"1447.12\\\">US<\\/text>\\n<\\/g>\\n<g clip-path=\\\"url(#clip7100)\\\">\\n<text style=\\\"fill:#000000; fill-opacity:1; font-family:Arial,Helvetica Neue,Helvetica,sans-serif; font-size:59px; text-anchor:middle;\\\" transform=\\\"rotate(0, 880.418, 1035.97)\\\" x=\\\"880.418\\\" y=\\\"1035.97\\\">China<\\/text>\\n<\\/g>\\n<g clip-path=\\\"url(#clip7100)\\\">\\n<text style=\\\"fill:#000000; fill-opacity:1; font-family:Arial,Helvetica Neue,Helvetica,sans-serif; font-size:59px; text-anchor:middle;\\\" transform=\\\"rotate(0, 276.9, 1401.93)\\\" x=\\\"276.9\\\" y=\\\"1401.93\\\">Japan<\\/text>\\n<\\/g>\\n<g clip-path=\\\"url(#clip7100)\\\">\\n<text style=\\\"fill:#000000; fill-opacity:1; font-family:Arial,Helvetica Neue,Helvetica,sans-serif; font-size:59px; text-anchor:middle;\\\" transform=\\\"rotate(0, 202.373, 1447.12)\\\" x=\\\"202.373\\\" y=\\\"1447.12\\\">Korea, South<\\/text>\\n<\\/g>\\n<g clip-path=\\\"url(#clip7100)\\\">\\n<text style=\\\"fill:#000000; fill-opacity:1; font-family:Arial,Helvetica Neue,Helvetica,sans-serif; font-size:59px; text-anchor:middle;\\\" transform=\\\"rotate(0, nan, nan)\\\" x=\\\"nan\\\" y=\\\"nan\\\">United Kingdom<\\/text>\\n<\\/g>\\n<g clip-path=\\\"url(#clip7100)\\\">\\n<text style=\\\"fill:#000000; fill-opacity:1; font-family:Arial,Helvetica Neue,Helvetica,sans-serif; font-size:59px; text-anchor:middle;\\\" transform=\\\"rotate(0, nan, nan)\\\" x=\\\"nan\\\" y=\\\"nan\\\">France<\\/text>\\n<\\/g>\\n<g clip-path=\\\"url(#clip7100)\\\">\\n<text style=\\\"fill:#000000; fill-opacity:1; font-family:Arial,Helvetica Neue,Helvetica,sans-serif; font-size:59px; text-anchor:middle;\\\" transform=\\\"rotate(0, nan, nan)\\\" x=\\\"nan\\\" y=\\\"nan\\\">Germany<\\/text>\\n<\\/g>\\n<\\/svg>\\n\"},\"nodeType\":\"DOM\",\"type\":\"node\",\"instanceArgs\":{\"namespace\":\"html\",\"tag\":\"div\"},\"children\":[]}]}}}},\"children\":[{\"props\":{},\"nodeType\":\"ObservableNode\",\"type\":\"node\",\"instanceArgs\":{\"id\":\"ob_374\",\"name\":\"obs-node\"},\"children\":[]}]}]},\n",
       "            window,\n",
       "        );\n",
       "    } else {\n",
       "        document\n",
       "            .querySelector('[data-webio-mountpoint=\"11265506191141132499\"]')\n",
       "            .innerHTML = (\n",
       "                '<div style=\"padding: 1em; background-color: #f8d6da; border: 1px solid #f5c6cb\">' +\n",
       "                '<p><strong>WebIO not detected.</strong></p>' +\n",
       "                '<p>Please read ' +\n",
       "                '<a href=\"https://juliagizmos.github.io/WebIO.jl/latest/troubleshooting/not-detected/\" target=\"_blank\">the troubleshooting guide</a> ' +\n",
       "                'for more information on how to resolve this issue.</p>' +\n",
       "                '<p><a href=\"https://juliagizmos.github.io/WebIO.jl/latest/troubleshooting/not-detected/\" target=\"_blank\">https://juliagizmos.github.io/WebIO.jl/latest/troubleshooting/not-detected/</a></p>' +\n",
       "                '</div>'\n",
       "            );\n",
       "    }\n",
       "    </script>\n",
       "</div>\n"
      ],
      "text/plain": [
       "Node{WebIO.DOM}(WebIO.DOM(:html, :div), Any[Node{WebIO.DOM}(WebIO.DOM(:html, :div), Any[Scope(Node{WebIO.DOM}(WebIO.DOM(:html, :div), Any[Node{WebIO.DOM}(WebIO.DOM(:html, :div), Any[Node{WebIO.DOM}(WebIO.DOM(:html, :label), Any[nothing], Dict{Symbol,Any}(:className => \"interact \",:style => Dict{Any,Any}(:padding => \"5px 10px 0px 10px\")))], Dict{Symbol,Any}(:className => \"interact-flex-row-left\")), Node{WebIO.DOM}(WebIO.DOM(:html, :div), Any[Node{WebIO.DOM}(WebIO.DOM(:html, :input), Any[], Dict{Symbol,Any}(:max => 78,:min => 1,:attributes => Dict{Any,Any}(:type => \"range\",Symbol(\"data-bind\") => \"numericValue: index, valueUpdate: 'input', event: {change: function (){this.changes(this.changes()+1)}}\",\"orient\" => \"horizontal\"),:step => 1,:className => \"slider slider is-fullwidth\",:style => Dict{Any,Any}()))], Dict{Symbol,Any}(:className => \"interact-flex-row-center\")), Node{WebIO.DOM}(WebIO.DOM(:html, :div), Any[Node{WebIO.DOM}(WebIO.DOM(:html, :p), Any[], Dict{Symbol,Any}(:attributes => Dict(\"data-bind\" => \"text: formatted_val\")))], Dict{Symbol,Any}(:className => \"interact-flex-row-right\"))], Dict{Symbol,Any}(:className => \"interact-flex-row interact-widget\")), Dict{String,Tuple{Observables.AbstractObservable,Union{Nothing, Bool}}}(\"changes\" => (Observable{Int64} with 1 listeners. Value:\n",
       "0, nothing),\"index\" => (Observable{Int64} with 2 listeners. Value:\n",
       "1, nothing)), Set(String[]), nothing, Asset[Asset(\"js\", \"knockout\", \"/Users/robertoberwa/.julia/packages/Knockout/IP1uR/src/../assets/knockout.js\"), Asset(\"js\", \"knockout_punches\", \"/Users/robertoberwa/.julia/packages/Knockout/IP1uR/src/../assets/knockout_punches.js\"), Asset(\"js\", nothing, \"/Users/robertoberwa/.julia/packages/InteractBase/9mFwe/src/../assets/all.js\"), Asset(\"css\", nothing, \"/Users/robertoberwa/.julia/packages/InteractBase/9mFwe/src/../assets/style.css\"), Asset(\"css\", nothing, \"/Users/robertoberwa/.julia/packages/Interact/SbgIk/src/../assets/bulma_confined.min.css\")], Dict{Any,Any}(\"changes\" => Any[WebIO.JSString(\"(function (val){return (val!=this.model[\\\"changes\\\"]()) ? (this.valueFromJulia[\\\"changes\\\"]=true, this.model[\\\"changes\\\"](val)) : undefined})\")],\"index\" => Any[WebIO.JSString(\"(function (val){return (val!=this.model[\\\"index\\\"]()) ? (this.valueFromJulia[\\\"index\\\"]=true, this.model[\\\"index\\\"](val)) : undefined})\")]), WebIO.ConnectionPool(Channel{Any}(sz_max:32,sz_curr:0), Set(AbstractConnection[]), Base.GenericCondition{Base.AlwaysLockedST}(Base.InvasiveLinkedList{Task}(Task (runnable) @0x0000000113abbcd0, Task (runnable) @0x0000000113abbcd0), Base.AlwaysLockedST(1))), WebIO.JSString[WebIO.JSString(\"function () {\\n    var handler = (function (ko, koPunches) {\\n    ko.punches.enableAll();\\n    ko.bindingHandlers.numericValue = {\\n        init: function(element, valueAccessor, allBindings, data, context) {\\n            var stringified = ko.observable(ko.unwrap(valueAccessor()));\\n            stringified.subscribe(function(value) {\\n                var val = parseFloat(value);\\n                if (!isNaN(val)) {\\n                    valueAccessor()(val);\\n                }\\n            });\\n            valueAccessor().subscribe(function(value) {\\n                var str = JSON.stringify(value);\\n                if ((str == \\\"0\\\") && ([\\\"-0\\\", \\\"-0.\\\"].indexOf(stringified()) >= 0))\\n                     return;\\n                 if ([\\\"null\\\", \\\"\\\"].indexOf(str) >= 0)\\n                     return;\\n                stringified(str);\\n            });\\n            ko.applyBindingsToNode(\\n                element,\\n                {\\n                    value: stringified,\\n                    valueUpdate: allBindings.get('valueUpdate'),\\n                },\\n                context,\\n            );\\n        }\\n    };\\n    var json_data = {\\\"formatted_vals\\\":[\\\"1\\\",\\\"2\\\",\\\"3\\\",\\\"4\\\",\\\"5\\\",\\\"6\\\",\\\"7\\\",\\\"8\\\",\\\"9\\\",\\\"10\\\",\\\"11\\\",\\\"12\\\",\\\"13\\\",\\\"14\\\",\\\"15\\\",\\\"16\\\",\\\"17\\\",\\\"18\\\",\\\"19\\\",\\\"20\\\",\\\"21\\\",\\\"22\\\",\\\"23\\\",\\\"24\\\",\\\"25\\\",\\\"26\\\",\\\"27\\\",\\\"28\\\",\\\"29\\\",\\\"30\\\",\\\"31\\\",\\\"32\\\",\\\"33\\\",\\\"34\\\",\\\"35\\\",\\\"36\\\",\\\"37\\\",\\\"38\\\",\\\"39\\\",\\\"40\\\",\\\"41\\\",\\\"42\\\",\\\"43\\\",\\\"44\\\",\\\"45\\\",\\\"46\\\",\\\"47\\\",\\\"48\\\",\\\"49\\\",\\\"50\\\",\\\"51\\\",\\\"52\\\",\\\"53\\\",\\\"54\\\",\\\"55\\\",\\\"56\\\",\\\"57\\\",\\\"58\\\",\\\"59\\\",\\\"60\\\",\\\"61\\\",\\\"62\\\",\\\"63\\\",\\\"64\\\",\\\"65\\\",\\\"66\\\",\\\"67\\\",\\\"68\\\",\\\"69\\\",\\\"70\\\",\\\"71\\\",\\\"72\\\",\\\"73\\\",\\\"74\\\",\\\"75\\\",\\\"76\\\",\\\"77\\\",\\\"78\\\"],\\\"changes\\\":WebIO.getval({\\\"name\\\":\\\"changes\\\",\\\"scope\\\":\\\"10132800997425537046\\\",\\\"id\\\":\\\"ob_370\\\",\\\"type\\\":\\\"observable\\\"}),\\\"index\\\":WebIO.getval({\\\"name\\\":\\\"index\\\",\\\"scope\\\":\\\"10132800997425537046\\\",\\\"id\\\":\\\"ob_369\\\",\\\"type\\\":\\\"observable\\\"})};\\n    var self = this;\\n    function AppViewModel() {\\n        for (var key in json_data) {\\n            var el = json_data[key];\\n            this[key] = Array.isArray(el) ? ko.observableArray(el) : ko.observable(el);\\n        }\\n        \\n        [this[\\\"formatted_val\\\"]=ko.computed(    function(){\\n        return this.formatted_vals()[parseInt(this.index())-(1)];\\n    }\\n,this)]\\n        [this[\\\"changes\\\"].subscribe((function (val){!(this.valueFromJulia[\\\"changes\\\"]) ? (WebIO.setval({\\\"name\\\":\\\"changes\\\",\\\"scope\\\":\\\"10132800997425537046\\\",\\\"id\\\":\\\"ob_370\\\",\\\"type\\\":\\\"observable\\\"},val)) : undefined; return this.valueFromJulia[\\\"changes\\\"]=false}),self),this[\\\"index\\\"].subscribe((function (val){!(this.valueFromJulia[\\\"index\\\"]) ? (WebIO.setval({\\\"name\\\":\\\"index\\\",\\\"scope\\\":\\\"10132800997425537046\\\",\\\"id\\\":\\\"ob_369\\\",\\\"type\\\":\\\"observable\\\"},val)) : undefined; return this.valueFromJulia[\\\"index\\\"]=false}),self)]\\n        \\n    }\\n    self.model = new AppViewModel();\\n    self.valueFromJulia = {};\\n    for (var key in json_data) {\\n        self.valueFromJulia[key] = false;\\n    }\\n    ko.applyBindings(self.model, self.dom);\\n}\\n);\\n    (WebIO.importBlock({\\\"data\\\":[{\\\"name\\\":\\\"knockout\\\",\\\"type\\\":\\\"js\\\",\\\"url\\\":\\\"/assetserver/d8946d3abf581e5a833c85994d32d9051d9a2190-knockout.js\\\"},{\\\"name\\\":\\\"knockout_punches\\\",\\\"type\\\":\\\"js\\\",\\\"url\\\":\\\"/assetserver/f0105926ca82098bf0cc43c9f630d668299c2cd7-knockout_punches.js\\\"}],\\\"type\\\":\\\"async_block\\\"})).then((imports) => handler.apply(this, imports));\\n}\\n\")])], Dict{Symbol,Any}(:className => \"field interact-widget\")), Observable{Any} with 0 listeners. Value:\n",
       "Node{WebIO.DOM}(WebIO.DOM(:html, :div), Any[Plot{Plots.GRBackend() n=7}], Dict{Symbol,Any}(:className => \"interact-flex-row interact-widget\"))], Dict{Symbol,Any}())"
      ]
     },
     "execution_count": 273,
     "metadata": {
      "application/vnd.webio.node+json": {
       "kernelId": "abeef8b8-3610-41d2-b33c-f9cf45963acb"
      }
     },
     "output_type": "execute_result"
    }
   ],
   "source": [
    "@manipulate for day in slider(1:num_days, value=1)\n",
    "    s = plot(xlim = (0, 20), ylim = (0, 20))\n",
    "    for country in countries\n",
    "        y = log.(weekly_data[country][1:day])\n",
    "        x = log.(data_country_dict[country][1:day])\n",
    "        plot!(x, y, label = country, leg=:topleft)\n",
    "        #scatter!(x[day], y[day])\n",
    "        annotate!(x[day], y[day], text(country, 10, :black))\n",
    "        end\n",
    "    xlabel!(\"Total cases\")\n",
    "    ylabel!(\"Recent cases\")\n",
    "    title!(\"Confirmed Cases around the world\")\n",
    "    end   \n",
    "    "
   ]
  },
  {
   "cell_type": "code",
   "execution_count": null,
   "metadata": {},
   "outputs": [],
   "source": []
  },
  {
   "cell_type": "code",
   "execution_count": null,
   "metadata": {},
   "outputs": [],
   "source": []
  },
  {
   "cell_type": "code",
   "execution_count": null,
   "metadata": {},
   "outputs": [],
   "source": []
  }
 ],
 "metadata": {
  "@webio": {
   "lastCommId": "2d328c29d14546d19754ec169ef3bd39",
   "lastKernelId": "abeef8b8-3610-41d2-b33c-f9cf45963acb"
  },
  "kernelspec": {
   "display_name": "Julia 1.3.1",
   "language": "julia",
   "name": "julia-1.3"
  },
  "language_info": {
   "file_extension": ".jl",
   "mimetype": "application/julia",
   "name": "julia",
   "version": "1.3.1"
  },
  "widgets": {
   "application/vnd.jupyter.widget-state+json": {
    "state": {},
    "version_major": 2,
    "version_minor": 0
   }
  }
 },
 "nbformat": 4,
 "nbformat_minor": 4
}
